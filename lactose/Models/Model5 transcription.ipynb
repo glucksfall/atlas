{
 "cells": [
  {
   "cell_type": "code",
   "execution_count": 1,
   "metadata": {},
   "outputs": [
    {
     "name": "stderr",
     "output_type": "stream",
     "text": [
      "/usr/lib/python3/dist-packages/h5py/__init__.py:36: FutureWarning: Conversion of the second argument of issubdtype from `float` to `np.floating` is deprecated. In future, it will be treated as `np.float64 == np.dtype(float).type`.\n",
      "  from ._conv import register_converters as _register_converters\n"
     ]
    }
   ],
   "source": [
    "from pysb import *\n",
    "from pysb.export import export\n",
    "from pysb.bng import generate_network, generate_equations\n",
    "from pysb.pathfinder import set_path\n",
    "from pysb.simulator import ScipyOdeSimulator, BngSimulator\n",
    "from pylab import linspace, plot, xlabel, ylabel, show\n",
    "\n",
    "import seaborn\n",
    "import matplotlib.pyplot as plt\n",
    "\n",
    "palette = seaborn.color_palette('colorblind')\n",
    "\n",
    "set_path('bng', '/shared/D1/opt/git-repositories/bionetgen.RuleWorld/bng2/')\n",
    "# set_path('bng', '/opt/git-repositories/bionetgen.RuleWorld/bng2/')"
   ]
  },
  {
   "cell_type": "code",
   "execution_count": 2,
   "metadata": {},
   "outputs": [
    {
     "data": {
      "text/plain": [
       "<Model '_interactive_' (monomers: 0, rules: 0, parameters: 0, expressions: 0, compartments: 0) at 0x7f2fd062cba8>"
      ]
     },
     "execution_count": 2,
     "metadata": {},
     "output_type": "execute_result"
    }
   ],
   "source": [
    "Model()"
   ]
  },
  {
   "cell_type": "code",
   "execution_count": 3,
   "metadata": {},
   "outputs": [
    {
     "data": {
      "text/plain": [
       "Monomer('rna', ['name', 'type'], {'name': ['lacZ', 'lacY', 'lacA'], 'type': ['pro1', 'pro2', 'pro3', 'pro4', 'rbs', 'cds', 'ter1', 'ter2']})"
      ]
     },
     "execution_count": 3,
     "metadata": {},
     "output_type": "execute_result"
    }
   ],
   "source": [
    "Monomer('cplx', ['name', 'dna'], { 'name' : ['RNAP']})\n",
    "Monomer('dna', ['name', 'type', 'prot'], \n",
    "        { 'name' : ['lacZ', 'lacY', 'lacA'], \n",
    "          'type' : ['pro1', 'pro2', 'pro3', 'pro4', 'rbs', 'cds', 'ter1', 'ter2']})\n",
    "Monomer('rna', ['name', 'type'], \n",
    "        { 'name' : ['lacZ', 'lacY', 'lacA'], \n",
    "          'type' : ['pro1', 'pro2', 'pro3', 'pro4', 'rbs', 'cds', 'ter1', 'ter2']})"
   ]
  },
  {
   "cell_type": "code",
   "execution_count": 4,
   "metadata": {},
   "outputs": [
    {
     "data": {
      "text/plain": [
       "Rule('falloff_lacA_ter2', cplx(name='RNAP', dna=1) % dna(name='lacA', type='ter2', prot=1) >> cplx(name='RNAP', dna=None) + dna(name='lacA', type='ter2', prot=None), fwd_falloff_lacA_ter2)"
      ]
     },
     "execution_count": 4,
     "metadata": {},
     "output_type": "execute_result"
    }
   ],
   "source": [
    "Rule('docking_lacZ_pro4', cplx(name = 'RNAP', dna = None) + dna(name = 'lacZ', type = 'pro4', prot = None) | cplx(name = 'RNAP', dna = 1) % dna(name = 'lacZ', type = 'pro4', prot = 1), Parameter('fwd_docking_lacZ_pro4', 1), Parameter('rvs_docking_lacZ_pro4', 0))\n",
    "Rule('docking_lacZ_pro3', cplx(name = 'RNAP', dna = None) + dna(name = 'lacZ', type = 'pro3', prot = None) | cplx(name = 'RNAP', dna = 1) % dna(name = 'lacZ', type = 'pro3', prot = 1), Parameter('fwd_docking_lacZ_pro3', 1), Parameter('rvs_docking_lacZ_pro3', 0))\n",
    "Rule('docking_lacZ_pro2', cplx(name = 'RNAP', dna = None) + dna(name = 'lacZ', type = 'pro2', prot = None) | cplx(name = 'RNAP', dna = 1) % dna(name = 'lacZ', type = 'pro2', prot = 1), Parameter('fwd_docking_lacZ_pro2', 1), Parameter('rvs_docking_lacZ_pro2', 0))\n",
    "Rule('docking_lacZ_pro1', cplx(name = 'RNAP', dna = None) + dna(name = 'lacZ', type = 'pro1', prot = None) | cplx(name = 'RNAP', dna = 1) % dna(name = 'lacZ', type = 'pro1', prot = 1), Parameter('fwd_docking_lacZ_pro1', 1), Parameter('rvs_docking_lacZ_pro1', 0))\n",
    "Rule('falloff_lacA_ter1', cplx(name = 'RNAP', dna = 1) % dna(name = 'lacA', type = 'ter1', prot = 1) >> cplx(name = 'RNAP', dna = None) + dna(name = 'lacA', type = 'ter1', prot = None), Parameter('fwd_falloff_lacA_ter1', 1))\n",
    "Rule('falloff_lacA_ter2', cplx(name = 'RNAP', dna = 1) % dna(name = 'lacA', type = 'ter2', prot = 1) >> cplx(name = 'RNAP', dna = None) + dna(name = 'lacA', type = 'ter2', prot = None), Parameter('fwd_falloff_lacA_ter2', 1))\n"
   ]
  },
  {
   "cell_type": "code",
   "execution_count": 5,
   "metadata": {},
   "outputs": [
    {
     "data": {
      "text/plain": [
       "Rule('sliding_lacA_ter1', cplx(name='RNAP', dna=1) % dna(name='lacA', type='ter1', prot=1) + None + dna(name='lacA', type='ter2', prot=None) >> cplx(name='RNAP', dna=1) % dna(name='lacA', type='ter2', prot=1) + rna(name='lacA', type='ter2') + dna(name='lacA', type='ter1', prot=None), fwd_sliding_lacA_ter1)"
      ]
     },
     "execution_count": 5,
     "metadata": {},
     "output_type": "execute_result"
    }
   ],
   "source": [
    "Rule('sliding_lacZ_pro4', cplx(name = 'RNAP', dna = 1) % dna(name = 'lacZ', type = 'pro4', prot = 1) + None + dna(name = 'lacZ', type = 'pro3', prot = None) >> cplx(name = 'RNAP', dna = 1) % dna(name = 'lacZ', type = 'pro3', prot = 1) + rna(name = 'lacZ', type = 'pro3') + dna(name = 'lacZ', type = 'pro4', prot = None), Parameter('fwd_sliding_lacZ_pro4', 1))\n",
    "Rule('sliding_lacZ_pro3', cplx(name = 'RNAP', dna = 1) % dna(name = 'lacZ', type = 'pro3', prot = 1) + None + dna(name = 'lacZ', type = 'pro2', prot = None) >> cplx(name = 'RNAP', dna = 1) % dna(name = 'lacZ', type = 'pro2', prot = 1) + rna(name = 'lacZ', type = 'pro2') + dna(name = 'lacZ', type = 'pro3', prot = None), Parameter('fwd_sliding_lacZ_pro3', 1))\n",
    "Rule('sliding_lacZ_pro2', cplx(name = 'RNAP', dna = 1) % dna(name = 'lacZ', type = 'pro2', prot = 1) + None + dna(name = 'lacZ', type = 'pro1', prot = None) >> cplx(name = 'RNAP', dna = 1) % dna(name = 'lacZ', type = 'pro1', prot = 1) + rna(name = 'lacZ', type = 'pro1') + dna(name = 'lacZ', type = 'pro2', prot = None), Parameter('fwd_sliding_lacZ_pro2', 1))\n",
    "Rule('sliding_lacZ_pro1', cplx(name = 'RNAP', dna = 1) % dna(name = 'lacZ', type = 'pro1', prot = 1) + None + dna(name = 'lacZ', type = 'rbs', prot = None) >> cplx(name = 'RNAP', dna = 1) % dna(name = 'lacZ', type = 'rbs', prot = 1) + rna(name = 'lacZ', type = 'rbs') + dna(name = 'lacZ', type = 'pro1', prot = None), Parameter('fwd_sliding_lacZ_pro1', 1))\n",
    "Rule('sliding_lacZ_rbs', cplx(name = 'RNAP', dna = 1) % dna(name = 'lacZ', type = 'rbs', prot = 1) + None + dna(name = 'lacZ', type = 'cds', prot = None) >> cplx(name = 'RNAP', dna = 1) % dna(name = 'lacZ', type = 'cds', prot = 1) + rna(name = 'lacZ', type = 'cds') + dna(name = 'lacZ', type = 'rbs', prot = None), Parameter('fwd_sliding_lacZ_rbs', 1))\n",
    "Rule('sliding_lacZ_cds', cplx(name = 'RNAP', dna = 1) % dna(name = 'lacZ', type = 'cds', prot = 1) + None + dna(name = 'lacY', type = 'rbs', prot = None) >> cplx(name = 'RNAP', dna = 1) % dna(name = 'lacY', type = 'rbs', prot = 1) + rna(name = 'lacY', type = 'rbs') + dna(name = 'lacZ', type = 'cds', prot = None), Parameter('fwd_sliding_lacZ_cds', 1))\n",
    "Rule('sliding_lacY_rbs', cplx(name = 'RNAP', dna = 1) % dna(name = 'lacY', type = 'rbs', prot = 1) + None + dna(name = 'lacY', type = 'cds', prot = None) >> cplx(name = 'RNAP', dna = 1) % dna(name = 'lacY', type = 'cds', prot = 1) + rna(name = 'lacY', type = 'cds') + dna(name = 'lacY', type = 'rbs', prot = None), Parameter('fwd_sliding_lacY_rbs', 1))\n",
    "Rule('sliding_lacY_cds', cplx(name = 'RNAP', dna = 1) % dna(name = 'lacY', type = 'cds', prot = 1) + None + dna(name = 'lacA', type = 'rbs', prot = None) >> cplx(name = 'RNAP', dna = 1) % dna(name = 'lacA', type = 'rbs', prot = 1) + rna(name = 'lacA', type = 'rbs') + dna(name = 'lacY', type = 'cds', prot = None), Parameter('fwd_sliding_lacY_cds', 1))\n",
    "Rule('sliding_lacA_rbs', cplx(name = 'RNAP', dna = 1) % dna(name = 'lacA', type = 'rbs', prot = 1) + None + dna(name = 'lacA', type = 'cds', prot = None) >> cplx(name = 'RNAP', dna = 1) % dna(name = 'lacA', type = 'cds', prot = 1) + rna(name = 'lacA', type = 'cds') + dna(name = 'lacA', type = 'rbs', prot = None), Parameter('fwd_sliding_lacA_rbs', 1))\n",
    "Rule('sliding_lacA_cds', cplx(name = 'RNAP', dna = 1) % dna(name = 'lacA', type = 'cds', prot = 1) + None + dna(name = 'lacA', type = 'ter1', prot = None) >> cplx(name = 'RNAP', dna = 1) % dna(name = 'lacA', type = 'ter1', prot = 1) + rna(name = 'lacA', type = 'ter1') + dna(name = 'lacA', type = 'cds', prot = None), Parameter('fwd_sliding_lacA_cds', 1))\n",
    "Rule('sliding_lacA_ter1', cplx(name = 'RNAP', dna = 1) % dna(name = 'lacA', type = 'ter1', prot = 1) + None + dna(name = 'lacA', type = 'ter2', prot = None) >> cplx(name = 'RNAP', dna = 1) % dna(name = 'lacA', type = 'ter2', prot = 1) + rna(name = 'lacA', type = 'ter2') + dna(name = 'lacA', type = 'ter1', prot = None), Parameter('fwd_sliding_lacA_ter1', 1))"
   ]
  },
  {
   "cell_type": "code",
   "execution_count": 6,
   "metadata": {},
   "outputs": [
    {
     "data": {
      "text/plain": [
       "Initial(cplx(name='RNAP', dna=None), t0_RNAP)"
      ]
     },
     "execution_count": 6,
     "metadata": {},
     "output_type": "execute_result"
    }
   ],
   "source": [
    "Initial(cplx(name = 'RNAP', dna = None), Parameter('t0_RNAP', 1))"
   ]
  },
  {
   "cell_type": "code",
   "execution_count": 7,
   "metadata": {},
   "outputs": [
    {
     "data": {
      "text/plain": [
       "Initial(dna(name='lacA', type='ter2', prot=None), t0_dna_laca_ter2)"
      ]
     },
     "execution_count": 7,
     "metadata": {},
     "output_type": "execute_result"
    }
   ],
   "source": [
    "Initial(dna(name = 'lacZ', type = 'pro4', prot = None), Parameter('t0_dna_lacz_pro4', 1))\n",
    "Initial(dna(name = 'lacZ', type = 'pro3', prot = None), Parameter('t0_dna_lacz_pro3', 1))\n",
    "Initial(dna(name = 'lacZ', type = 'pro2', prot = None), Parameter('t0_dna_lacz_pro2', 1))\n",
    "Initial(dna(name = 'lacZ', type = 'pro1', prot = None), Parameter('t0_dna_lacz_pro1', 1))\n",
    "Initial(dna(name = 'lacZ', type = 'rbs', prot = None), Parameter('t0_dna_lacz_rbs', 1))\n",
    "Initial(dna(name = 'lacZ', type = 'cds', prot = None), Parameter('t0_dna_lacz_cds', 1))\n",
    "\n",
    "Initial(dna(name = 'lacY', type = 'rbs', prot = None), Parameter('t0_dna_lacy_rbs', 1))\n",
    "Initial(dna(name = 'lacY', type = 'cds', prot = None), Parameter('t0_dna_lacy_cds', 1))\n",
    "\n",
    "Initial(dna(name = 'lacA', type = 'rbs', prot = None), Parameter('t0_dna_laca_rbs', 1))\n",
    "Initial(dna(name = 'lacA', type = 'cds', prot = None), Parameter('t0_dna_laca_cds', 1))\n",
    "Initial(dna(name = 'lacA', type = 'ter1', prot = None), Parameter('t0_dna_laca_ter1', 1))\n",
    "Initial(dna(name = 'lacA', type = 'ter2', prot = None), Parameter('t0_dna_laca_ter2', 1))"
   ]
  },
  {
   "cell_type": "code",
   "execution_count": 8,
   "metadata": {},
   "outputs": [
    {
     "data": {
      "text/plain": [
       "Observable('obs_rna_laca_cds', rna(name='lacA', type='cds'))"
      ]
     },
     "execution_count": 8,
     "metadata": {},
     "output_type": "execute_result"
    }
   ],
   "source": [
    "Observable('obs_lacz_pro4', dna(name = 'lacZ', type = 'pro4', prot = None))\n",
    "Observable('obs_lacz_pro3', dna(name = 'lacZ', type = 'pro3', prot = None))\n",
    "Observable('obs_lacz_pro2', dna(name = 'lacZ', type = 'pro2', prot = None))\n",
    "Observable('obs_lacz_pro1', dna(name = 'lacZ', type = 'pro1', prot = None))\n",
    "Observable('obs_lacz_rbs', dna(name = 'lacZ', type = 'rbs', prot = None))\n",
    "Observable('obs_lacz_cds', dna(name = 'lacZ', type = 'cds', prot = None))\n",
    "Observable('obs_lacy_rbs', dna(name = 'lacY', type = 'rbs', prot = None))\n",
    "Observable('obs_lacy_cds', dna(name = 'lacY', type = 'cds', prot = None))\n",
    "Observable('obs_laca_rbs', dna(name = 'lacA', type = 'rbs', prot = None))\n",
    "Observable('obs_laca_cds', dna(name = 'lacA', type = 'cds', prot = None))\n",
    "Observable('obs_laca_ter1', dna(name = 'lacA', type = 'ter1', prot = None))\n",
    "Observable('obs_laca_ter2', dna(name = 'lacA', type = 'ter2', prot = None))\n",
    "\n",
    "Observable('obs_rna_lacz_cds', rna(name = 'lacZ', type = 'cds'))\n",
    "Observable('obs_rna_lacy_cds', rna(name = 'lacY', type = 'cds'))\n",
    "Observable('obs_rna_laca_cds', rna(name = 'lacA', type = 'cds'))"
   ]
  },
  {
   "cell_type": "code",
   "execution_count": 9,
   "metadata": {},
   "outputs": [],
   "source": [
    "generate_network(model)\n",
    "generate_equations(model)"
   ]
  },
  {
   "cell_type": "code",
   "execution_count": 10,
   "metadata": {},
   "outputs": [],
   "source": [
    "with open('Model5 - lactose_gene_expression.kappa', 'w') as outfile:\n",
    "    outfile.write(export(model, 'kappa'))"
   ]
  },
  {
   "cell_type": "code",
   "execution_count": 11,
   "metadata": {},
   "outputs": [],
   "source": [
    "runs = 20\n",
    "# data1 = ScipyOdeSimulator(model, linspace(0, 100, 200)).run().dataframe\n",
    "data1 = BngSimulator(model, linspace(0, 50, 201)).run(method = 'ode').dataframe\n",
    "data2 = BngSimulator(model, linspace(0, 50, 201)).run(method = 'ssa', n_runs = runs).dataframe\n",
    "\n",
    "data = []\n",
    "for i in range(0,runs):\n",
    "    data.append(data2.xs(i))\n",
    "\n",
    "avrg = 0\n",
    "for i in range(0,runs):\n",
    "    avrg += data[i]\n",
    "avrg = avrg / runs\n",
    "\n",
    "stdv = []\n",
    "for i in range(0,runs):\n",
    "    stdv = (data[i] - avrg)**2\n",
    "stdv = (stdv / (runs-1))**0.5\n",
    "\n",
    "data2 = data[0]"
   ]
  },
  {
   "cell_type": "code",
   "execution_count": 12,
   "metadata": {
    "scrolled": false
   },
   "outputs": [
    {
     "data": {
      "image/png": "[encoded data removed]",
      "text/plain": [
       "<Figure size 400x300 with 1 Axes>"
      ]
     },
     "metadata": {
      "needs_background": "light"
     },
     "output_type": "display_data"
    }
   ],
   "source": [
    "# for subdata in data1.columns[25:]:\n",
    "#     print(str(subdata))\n",
    "#     fig, ax = plt.subplots(1, 1, figsize = (4*1, 3*1), dpi = 100)\n",
    "#     ax.plot(data1.index, data1.loc[:, subdata], label = None)\n",
    "#     ax.plot(data2.index, data2.loc[:, subdata], label = None)\n",
    "#     ax.set_ylim(bottom = 0)\n",
    "\n",
    "#     seaborn.despine()\n",
    "#     plt.show()\n",
    "    \n",
    "fig, ax = plt.subplots(1, 1, figsize = (4*1, 3*1), dpi = 100)\n",
    "ax.plot(data1.index, data1.loc[:, 'obs_lacz_cds'], label = None, color = palette[0])\n",
    "ax.plot(data2.index, data2.loc[:, 'obs_lacz_cds'], label = None, color = palette[1])\n",
    "ax.set_ylim(bottom = 0)\n",
    "ax.set_xlabel('Time (A.U.)')\n",
    "ax.set_ylabel('Free lacZ CDS')\n",
    "\n",
    "seaborn.despine()\n",
    "# plt.savefig('Model_lacZYA_transcription.png', format = 'png', bbox_inches = 'tight', dpi = 300)\n",
    "plt.show()"
   ]
  },
  {
   "cell_type": "code",
   "execution_count": 13,
   "metadata": {},
   "outputs": [
    {
     "data": {
      "image/png": "[encoded data removed]",
      "text/plain": [
       "<Figure size 1200x300 with 3 Axes>"
      ]
     },
     "metadata": {
      "needs_background": "light"
     },
     "output_type": "display_data"
    }
   ],
   "source": [
    "fig, ax = plt.subplots(1, 3, figsize = (4*3, 3*1), dpi = 100)\n",
    "\n",
    "for obs, ax in zip(['obs_rna_lacz_cds', 'obs_rna_lacy_cds', 'obs_rna_laca_cds'], ax.ravel()):\n",
    "    ax.plot(data1.index, data1.loc[:, obs], label = None, color = palette[0])\n",
    "    ax.plot(data2.index, data2.loc[:, obs], label = None, color = palette[1])\n",
    "    ax.set_ylim(bottom = 0)\n",
    "    ax.set_xlabel('Time (A.U.)')\n",
    "    ax.set_ylabel('Free lacZ CDS')\n",
    "\n",
    "seaborn.despine()\n",
    "# plt.savefig('Model_lacZYA_transcription.png', format = 'png', bbox_inches = 'tight', dpi = 300)\n",
    "plt.show()"
   ]
  },
  {
   "cell_type": "code",
   "execution_count": null,
   "metadata": {},
   "outputs": [],
   "source": []
  }
 ],
 "metadata": {
  "kernelspec": {
   "display_name": "Python 3",
   "language": "python",
   "name": "python3"
  },
  "language_info": {
   "codemirror_mode": {
    "name": "ipython",
    "version": 3
   },
   "file_extension": ".py",
   "mimetype": "text/x-python",
   "name": "python",
   "nbconvert_exporter": "python",
   "pygments_lexer": "ipython3",
   "version": "3.6.9"
  }
 },
 "nbformat": 4,
 "nbformat_minor": 2
}
