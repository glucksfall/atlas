{
 "cells": [
  {
   "cell_type": "code",
   "execution_count": 1,
   "metadata": {},
   "outputs": [
    {
     "data": {
      "text/html": [
       "<style>.container { width: 95% !important; }</style>"
      ],
      "text/plain": [
       "<IPython.core.display.HTML object>"
      ]
     },
     "metadata": {},
     "output_type": "display_data"
    }
   ],
   "source": [
    "# expand cells to the 95% of the display width\n",
    "from IPython.core.display import display, HTML\n",
    "display(HTML(\"<style>.container { width: 95% !important; }</style>\"))"
   ]
  },
  {
   "cell_type": "markdown",
   "metadata": {},
   "source": [
    "# Tutorial: Automatic rule-based modeling of the *Escherichia coli* lactose metabolism, including protein-protein interactions and regulation of gene expression employing *Atlas*"
   ]
  },
  {
   "cell_type": "markdown",
   "metadata": {},
   "source": [
    "Authors: Rodrigo Santibáñez[1,2], Daniel Garrido[2], and Alberto Martín[1]\n",
    "\n",
    "Date: August 2020\n",
    "\n",
    "Affiliations:\n",
    "1. Centro de Genómica y Bioinformática, Facultad de Ciencias, Universidad Mayor, Santiago, 8580745, Chile.\n",
    "2. Department of Chemical and Bioprocess Engineering, School of Engineering, Pontificia Universidad Católica de Chile, Santiago, 7820436, Chile\n",
    "\n",
    "Notes: This tutorial was created for the manuscript \"*Atlas*: Automatic modeling of regulation of bacterial gene expression and metabolism using rule-based languages\", first submitted for peer-review to Bioinformatics on May, 2020."
   ]
  },
  {
   "cell_type": "markdown",
   "metadata": {},
   "source": [
    "## Prerequisites"
   ]
  },
  {
   "cell_type": "markdown",
   "metadata": {},
   "source": [
    "0. The tutorial was prepared and executed on Ubuntu 20.04, PathwayTools version 24, and docker engine version 19.03.8.<br/><br/>\n",
    "\n",
    "1. PathwayTools must be installed and running to obtain data from the EcoCyc database. Please, run ```pathway-tools -lisp -python-local-only``` before to obtain any data.<br/>\n",
    "   (Optional) The PathwayTools software could be executed in the background, with help of ```nohup pathway-tools -lisp -python-local-only > /dev/null 2> /dev/null &```.<br/>\n",
    "   Please follow instructions at http://pathwaytools.org/ to obtain a licensed copy of the software from https://biocyc.org/download-bundle.shtml. However, data could be manually formatted using a text-based editor or a spreadsheet software.\n",
    "   \n",
    "   Note: If you ran into the ```pathway-tools/aic-export/pathway-tools/ptools/22.5/exe/aclssl.so: undefined symbol: CRYPTO_set_locking_callback``` error, please follow instructions here: https://github.com/glucksfall/atlas/tree/master/PTools. Instructions will guide you to install a docker image that is able to run pathway tools, but does not include it, so you still need to obtain the software with a valid license.<br/><br/>\n",
    "   \n",
    "2. (Highly recommended) Install Docker. Please follow instructions for a supported Operating System https://docs.docker.com/engine/install/:<br/>\n",
    "   On Ubuntu, install it with ```apt-get install docker.io```.<br/>\n",
    "   On Win10, install Docker Desktop with WSL2 support https://docs.docker.com/docker-for-windows/wsl/.<br/>\n",
    "   On MacOS, install Docker Desktop https://docs.docker.com/docker-for-mac/install/.<br/><br/>\n",
    "   The Docker ```networkbiolab/pleiades```installs the python packages, the jupyter server, and the stochastic simulators.<br/><br/>\n",
    "\n",
    "3. (Recommended) Jupyter notebook. We recommend the use of Anaconda3 https://www.anaconda.com/products/individual because of the easier installation of the stochastic simulators from https://anaconda.org/alubbock.<br/><br/>\n",
    "\n",
    "4. (Optional) A stochastic simulator, supported by the pySB python package ([BNG2](https://github.com/RuleWorld/bionetgen), [NFsim](https://github.com/ruleworld/nfsim/tree/9178d44455f6e27a81f398074eeaafb2a1a4b4bd), [KaSim](https://github.com/Kappa-Dev/KappaTools) or [Stochkit](https://github.com/StochSS/StochKit)). pySB requires BNG2 to simulate models with NFsim.<br/><br/>\n",
    "\n",
    "5. (Optional) Cytoscape to visualize metabolic networks and others."
   ]
  },
  {
   "cell_type": "markdown",
   "metadata": {},
   "source": [
    "## Preamble: load *Atlas*"
   ]
  },
  {
   "cell_type": "code",
   "execution_count": 2,
   "metadata": {},
   "outputs": [],
   "source": [
    "# testing source code\n",
    "import sys\n",
    "sys.path.append(\"..\") # If installed from GitHub and this notebooks is executed from the tutorial directory.\n",
    "\n",
    "import atlas_rbm.atlas as atlas\n",
    "import atlas_rbm.utils as utils\n",
    "import atlas_rbm.export as export\n",
    "import atlas_rbm.simulation as simulation"
   ]
  },
  {
   "cell_type": "markdown",
   "metadata": {},
   "source": [
    "## Modeling transcription and translation"
   ]
  },
  {
   "cell_type": "markdown",
   "metadata": {},
   "source": [
    "Here, we will model a representation of transcription and translation in addition to the activity of transcription factors. We employed the Kappa BioBrick Framework (KBF, https://core.ac.uk/download/pdf/82069591.pdf) and automated the modeling of rules describing bacterial transcription and translation. Especially in the case of mRNA, the synthesis and degradation of any mRNA is affected by the genome architecture. The transcription from the lactose operon is initiated at four promoters and terminated by two Rho-independent terminators. Moreover, we modeled an internal promoter that drives transcription from the lacYA operon, although its importance *in vivo* is not clear.\n",
    "\n",
    "The following image (https://ecocyc.org/gene?orgid=ECOLI&id=EG10527#tab=TU) shows the organization of the three genes and the many promoters and terminators of the *Escherichia coli* lactose operons:\n",
    "\n",
    "<img src=\"lactose-operon.png\" alt=\"drawing\"/>\n",
    "\n",
    "**Note**: An operon is defined as the protomer-CDS-terminator unit. Therefor, we refer to the lactose *operon* as the organization of 10 overlapped operons."
   ]
  },
  {
   "cell_type": "code",
   "execution_count": 3,
   "metadata": {
    "scrolled": false
   },
   "outputs": [
    {
     "name": "stdout",
     "output_type": "stream",
     "text": [
      "CPU times: user 850 ms, sys: 51.1 ms, total: 901 ms\n",
      "Wall time: 898 ms\n"
     ]
    },
    {
     "data": {
      "text/plain": [
       "<Model 'atlas_rbm.construct_model_from_genome_graph' (monomers: 4, rules: 31, parameters: 53, expressions: 0, compartments: 0) at 0x7fe9c7634b50>"
      ]
     },
     "execution_count": 3,
     "metadata": {},
     "output_type": "execute_result"
    }
   ],
   "source": [
    "%time model1 = atlas.construct_model_from_genome_graph('network-lac-operon-arq.tsv', additionalProteins = ['lacI'])\n",
    "# lacI operon is not modeled, but we required to add into the Monomer list\n",
    "model1"
   ]
  },
  {
   "cell_type": "code",
   "execution_count": 4,
   "metadata": {},
   "outputs": [],
   "source": [
    "model1 = atlas.modify_rules(\n",
    "    model1, \n",
    "    oldString = \"prot(name='lacY', loc='cyt', dna=None, met=None, prot=None, rna=None, up=None, dw=None)\",\n",
    "    newString = \"prot(name='lacY', loc='imem', dna=None, met=None, prot=None, rna=None, up=None, dw=None)\",\n",
    "    names = ['sr_lacY_rbs'])"
   ]
  },
  {
   "cell_type": "markdown",
   "metadata": {},
   "source": [
    "**Note**: *Atlas* creates rules for the synthesis of cytoplasmic proteins."
   ]
  },
  {
   "cell_type": "markdown",
   "metadata": {},
   "source": [
    "## Modeling regulation of gene expression"
   ]
  },
  {
   "cell_type": "markdown",
   "metadata": {},
   "source": [
    "A model of the lactose metabolism is completed with a representation of transcriptional control. To model gene regulation, we extended the interaction network with LacI-DNA complexes. In the case of LacI, each dimer binds in tandem to one operator sequence, and two dimers could dimerize, forming a DNA loop that impedes to the RNAP-$\\sigma$ bind the promoters or initiates transcription."
   ]
  },
  {
   "cell_type": "code",
   "execution_count": 5,
   "metadata": {
    "scrolled": true
   },
   "outputs": [
    {
     "data": {
      "text/html": [
       "<div>\n",
       "<style scoped>\n",
       "    .dataframe tbody tr th:only-of-type {\n",
       "        vertical-align: middle;\n",
       "    }\n",
       "\n",
       "    .dataframe tbody tr th {\n",
       "        vertical-align: top;\n",
       "    }\n",
       "\n",
       "    .dataframe thead th {\n",
       "        text-align: right;\n",
       "    }\n",
       "</style>\n",
       "<table border=\"1\" class=\"dataframe\">\n",
       "  <thead>\n",
       "    <tr style=\"text-align: right;\">\n",
       "      <th></th>\n",
       "      <th>SOURCE</th>\n",
       "      <th>TARGET</th>\n",
       "      <th>FWD_RATE</th>\n",
       "      <th>RVS_RATE</th>\n",
       "      <th>LOCATION</th>\n",
       "    </tr>\n",
       "  </thead>\n",
       "  <tbody>\n",
       "    <tr>\n",
       "      <th>0</th>\n",
       "      <td>[lacI,lacI]</td>\n",
       "      <td>BS-lacI-422-402</td>\n",
       "      <td>1.0</td>\n",
       "      <td>0.001</td>\n",
       "      <td>cytosol</td>\n",
       "    </tr>\n",
       "    <tr>\n",
       "      <th>1</th>\n",
       "      <td>[lacI,lacI]</td>\n",
       "      <td>BS-lacI-21-1</td>\n",
       "      <td>1.0</td>\n",
       "      <td>0.001</td>\n",
       "      <td>cytosol</td>\n",
       "    </tr>\n",
       "    <tr>\n",
       "      <th>2</th>\n",
       "      <td>[lacI,lacI]</td>\n",
       "      <td>BS-lacI-72-92</td>\n",
       "      <td>1.0</td>\n",
       "      <td>0.001</td>\n",
       "      <td>cytosol</td>\n",
       "    </tr>\n",
       "  </tbody>\n",
       "</table>\n",
       "</div>"
      ],
      "text/plain": [
       "        SOURCE           TARGET  FWD_RATE  RVS_RATE LOCATION\n",
       "0  [lacI,lacI]  BS-lacI-422-402       1.0     0.001  cytosol\n",
       "1  [lacI,lacI]     BS-lacI-21-1       1.0     0.001  cytosol\n",
       "2  [lacI,lacI]    BS-lacI-72-92       1.0     0.001  cytosol"
      ]
     },
     "execution_count": 5,
     "metadata": {},
     "output_type": "execute_result"
    }
   ],
   "source": [
    "utils.read_network('network-lac-TFs+DNA.tsv')"
   ]
  },
  {
   "cell_type": "markdown",
   "metadata": {},
   "source": [
    "However, the incorporation of interactions between a transcription factor and its DNA binding site is not enough. We must carefully modify the rules that model gene expression to consider the presence or absence of the complex as condition for gene synthesis. In the case of LacI, the promoters must be free to be able to bind the RNAP-$\\sigma$ and activate transcription:"
   ]
  },
  {
   "cell_type": "code",
   "execution_count": 6,
   "metadata": {},
   "outputs": [
    {
     "name": "stdout",
     "output_type": "stream",
     "text": [
      "Rule('docking_lacZ_pro1_regulated_by_lacI', \n",
      "\tdna(name = 'lacI_21_1', type = 'BS', loc = 'cyt', prot = None, up = WILD, dw = WILD) +\n",
      "\tcplx(name='RNAP_CPLX', loc='cyt', dna=None) + dna(name='lacZ', type='pro1', loc='cyt', prot=None) |\n",
      "\tdna(name = 'lacI_21_1', type = 'BS', loc = 'cyt', prot = None, up = WILD, dw = WILD) +\n",
      "\tcplx(name='RNAP_CPLX', loc='cyt', dna=1) % dna(name='lacZ', type='pro1', loc='cyt', prot=1), \n",
      "\tParameter('fwd_docking_lacZ_pro1_regulated_by_lacI', 0), \n",
      "\tParameter('rvs_docking_lacZ_pro1_regulated_by_lacI', 0))\n"
     ]
    },
    {
     "data": {
      "text/plain": [
       "<Model 'atlas_rbm.construct_model_from_genome_graph' (monomers: 4, rules: 31, parameters: 55, expressions: 0, compartments: 0) at 0x7fe9c7634b50>"
      ]
     },
     "execution_count": 6,
     "metadata": {},
     "output_type": "execute_result"
    }
   ],
   "source": [
    "model1 = atlas.add_regulation(model1, name = 'docking_lacZ_pro1', conditions = ['BS-lacI-21-1'], replace = True, verbose = True)\n",
    "model1 = simulation.set_parameter(model1, 'fwd_docking_lacZ_pro1_regulated_by_lacI', 1)\n",
    "model1 = simulation.set_parameter(model1, 'rvs_docking_lacZ_pro1_regulated_by_lacI', 1)\n",
    "model1"
   ]
  },
  {
   "cell_type": "markdown",
   "metadata": {},
   "source": [
    "**Note**: To activate transcription, the `lacI-21-1` binding site must be free. Also, we must delete the expression rule because it could be triggered even in the situation the binding site is occupied."
   ]
  },
  {
   "cell_type": "markdown",
   "metadata": {},
   "source": [
    "To inactivate LacI, free proteins bind allolactose that seems to impede the binding of LacI-allolactose complexes to DNA binding sites:"
   ]
  },
  {
   "cell_type": "code",
   "execution_count": 7,
   "metadata": {
    "scrolled": true
   },
   "outputs": [
    {
     "data": {
      "text/html": [
       "<div>\n",
       "<style scoped>\n",
       "    .dataframe tbody tr th:only-of-type {\n",
       "        vertical-align: middle;\n",
       "    }\n",
       "\n",
       "    .dataframe tbody tr th {\n",
       "        vertical-align: top;\n",
       "    }\n",
       "\n",
       "    .dataframe thead th {\n",
       "        text-align: right;\n",
       "    }\n",
       "</style>\n",
       "<table border=\"1\" class=\"dataframe\">\n",
       "  <thead>\n",
       "    <tr style=\"text-align: right;\">\n",
       "      <th></th>\n",
       "      <th>SOURCE</th>\n",
       "      <th>TARGET</th>\n",
       "      <th>FWD_RATE</th>\n",
       "      <th>RVS_RATE</th>\n",
       "      <th>LOCATION</th>\n",
       "    </tr>\n",
       "  </thead>\n",
       "  <tbody>\n",
       "    <tr>\n",
       "      <th>0</th>\n",
       "      <td>[lacI,lacI]</td>\n",
       "      <td>SMALL-alpha-ALLOLACTOSE</td>\n",
       "      <td>10.0</td>\n",
       "      <td>0.01</td>\n",
       "      <td>cytosol</td>\n",
       "    </tr>\n",
       "    <tr>\n",
       "      <th>1</th>\n",
       "      <td>[lacI,lacI,SMALL-alpha-ALLOLACTOSE]</td>\n",
       "      <td>SMALL-beta-ALLOLACTOSE</td>\n",
       "      <td>10.0</td>\n",
       "      <td>0.01</td>\n",
       "      <td>cytosol</td>\n",
       "    </tr>\n",
       "    <tr>\n",
       "      <th>2</th>\n",
       "      <td>[lacI,lacI]</td>\n",
       "      <td>SMALL-beta-ALLOLACTOSE</td>\n",
       "      <td>10.0</td>\n",
       "      <td>0.01</td>\n",
       "      <td>cytosol</td>\n",
       "    </tr>\n",
       "    <tr>\n",
       "      <th>3</th>\n",
       "      <td>[lacI,lacI,SMALL-beta-ALLOLACTOSE]</td>\n",
       "      <td>SMALL-beta-ALLOLACTOSE</td>\n",
       "      <td>10.0</td>\n",
       "      <td>0.01</td>\n",
       "      <td>cytosol</td>\n",
       "    </tr>\n",
       "  </tbody>\n",
       "</table>\n",
       "</div>"
      ],
      "text/plain": [
       "                                SOURCE                   TARGET  FWD_RATE  \\\n",
       "0                          [lacI,lacI]  SMALL-alpha-ALLOLACTOSE      10.0   \n",
       "1  [lacI,lacI,SMALL-alpha-ALLOLACTOSE]   SMALL-beta-ALLOLACTOSE      10.0   \n",
       "2                          [lacI,lacI]   SMALL-beta-ALLOLACTOSE      10.0   \n",
       "3   [lacI,lacI,SMALL-beta-ALLOLACTOSE]   SMALL-beta-ALLOLACTOSE      10.0   \n",
       "\n",
       "   RVS_RATE LOCATION  \n",
       "0      0.01  cytosol  \n",
       "1      0.01  cytosol  \n",
       "2      0.01  cytosol  \n",
       "3      0.01  cytosol  "
      ]
     },
     "execution_count": 7,
     "metadata": {},
     "output_type": "execute_result"
    }
   ],
   "source": [
    "utils.read_network('network-lac-ProtMet.tsv')"
   ]
  },
  {
   "cell_type": "markdown",
   "metadata": {},
   "source": [
    "Because *Atlas* enumerates the physical interactions, we must concatenate the networks prior its modeling:"
   ]
  },
  {
   "cell_type": "code",
   "execution_count": 8,
   "metadata": {},
   "outputs": [
    {
     "name": "stdout",
     "output_type": "stream",
     "text": [
      "CPU times: user 9.8 ms, sys: 481 µs, total: 10.3 ms\n",
      "Wall time: 9.37 ms\n"
     ]
    },
    {
     "data": {
      "text/html": [
       "<div>\n",
       "<style scoped>\n",
       "    .dataframe tbody tr th:only-of-type {\n",
       "        vertical-align: middle;\n",
       "    }\n",
       "\n",
       "    .dataframe tbody tr th {\n",
       "        vertical-align: top;\n",
       "    }\n",
       "\n",
       "    .dataframe thead th {\n",
       "        text-align: right;\n",
       "    }\n",
       "</style>\n",
       "<table border=\"1\" class=\"dataframe\">\n",
       "  <thead>\n",
       "    <tr style=\"text-align: right;\">\n",
       "      <th></th>\n",
       "      <th>SOURCE</th>\n",
       "      <th>TARGET</th>\n",
       "      <th>FWD_RATE</th>\n",
       "      <th>RVS_RATE</th>\n",
       "      <th>LOCATION</th>\n",
       "    </tr>\n",
       "  </thead>\n",
       "  <tbody>\n",
       "    <tr>\n",
       "      <th>0</th>\n",
       "      <td>lacZ</td>\n",
       "      <td>lacZ</td>\n",
       "      <td>1.0</td>\n",
       "      <td>0.000</td>\n",
       "      <td>cytosol</td>\n",
       "    </tr>\n",
       "    <tr>\n",
       "      <th>1</th>\n",
       "      <td>[lacZ,lacZ]</td>\n",
       "      <td>[lacZ,lacZ]</td>\n",
       "      <td>1.0</td>\n",
       "      <td>0.000</td>\n",
       "      <td>cytosol</td>\n",
       "    </tr>\n",
       "    <tr>\n",
       "      <th>2</th>\n",
       "      <td>lacA</td>\n",
       "      <td>lacA</td>\n",
       "      <td>1.0</td>\n",
       "      <td>0.000</td>\n",
       "      <td>cytosol</td>\n",
       "    </tr>\n",
       "    <tr>\n",
       "      <th>3</th>\n",
       "      <td>lacA</td>\n",
       "      <td>[lacA,lacA]</td>\n",
       "      <td>1.0</td>\n",
       "      <td>0.000</td>\n",
       "      <td>cytosol</td>\n",
       "    </tr>\n",
       "    <tr>\n",
       "      <th>4</th>\n",
       "      <td>lacI</td>\n",
       "      <td>lacI</td>\n",
       "      <td>1.0</td>\n",
       "      <td>0.000</td>\n",
       "      <td>cytosol</td>\n",
       "    </tr>\n",
       "    <tr>\n",
       "      <th>5</th>\n",
       "      <td>[lacI,lacI]</td>\n",
       "      <td>BS-lacI-422-402</td>\n",
       "      <td>1.0</td>\n",
       "      <td>0.001</td>\n",
       "      <td>cytosol</td>\n",
       "    </tr>\n",
       "    <tr>\n",
       "      <th>6</th>\n",
       "      <td>[lacI,lacI]</td>\n",
       "      <td>BS-lacI-21-1</td>\n",
       "      <td>1.0</td>\n",
       "      <td>0.001</td>\n",
       "      <td>cytosol</td>\n",
       "    </tr>\n",
       "    <tr>\n",
       "      <th>7</th>\n",
       "      <td>[lacI,lacI]</td>\n",
       "      <td>BS-lacI-72-92</td>\n",
       "      <td>1.0</td>\n",
       "      <td>0.001</td>\n",
       "      <td>cytosol</td>\n",
       "    </tr>\n",
       "    <tr>\n",
       "      <th>8</th>\n",
       "      <td>[lacI,lacI]</td>\n",
       "      <td>SMALL-alpha-ALLOLACTOSE</td>\n",
       "      <td>10.0</td>\n",
       "      <td>0.010</td>\n",
       "      <td>cytosol</td>\n",
       "    </tr>\n",
       "    <tr>\n",
       "      <th>9</th>\n",
       "      <td>[lacI,lacI,SMALL-alpha-ALLOLACTOSE]</td>\n",
       "      <td>SMALL-beta-ALLOLACTOSE</td>\n",
       "      <td>10.0</td>\n",
       "      <td>0.010</td>\n",
       "      <td>cytosol</td>\n",
       "    </tr>\n",
       "    <tr>\n",
       "      <th>10</th>\n",
       "      <td>[lacI,lacI]</td>\n",
       "      <td>SMALL-beta-ALLOLACTOSE</td>\n",
       "      <td>10.0</td>\n",
       "      <td>0.010</td>\n",
       "      <td>cytosol</td>\n",
       "    </tr>\n",
       "    <tr>\n",
       "      <th>11</th>\n",
       "      <td>[lacI,lacI,SMALL-beta-ALLOLACTOSE]</td>\n",
       "      <td>SMALL-beta-ALLOLACTOSE</td>\n",
       "      <td>10.0</td>\n",
       "      <td>0.010</td>\n",
       "      <td>cytosol</td>\n",
       "    </tr>\n",
       "  </tbody>\n",
       "</table>\n",
       "</div>"
      ],
      "text/plain": [
       "                                 SOURCE                   TARGET  FWD_RATE  \\\n",
       "0                                  lacZ                     lacZ       1.0   \n",
       "1                           [lacZ,lacZ]              [lacZ,lacZ]       1.0   \n",
       "2                                  lacA                     lacA       1.0   \n",
       "3                                  lacA              [lacA,lacA]       1.0   \n",
       "4                                  lacI                     lacI       1.0   \n",
       "5                           [lacI,lacI]          BS-lacI-422-402       1.0   \n",
       "6                           [lacI,lacI]             BS-lacI-21-1       1.0   \n",
       "7                           [lacI,lacI]            BS-lacI-72-92       1.0   \n",
       "8                           [lacI,lacI]  SMALL-alpha-ALLOLACTOSE      10.0   \n",
       "9   [lacI,lacI,SMALL-alpha-ALLOLACTOSE]   SMALL-beta-ALLOLACTOSE      10.0   \n",
       "10                          [lacI,lacI]   SMALL-beta-ALLOLACTOSE      10.0   \n",
       "11   [lacI,lacI,SMALL-beta-ALLOLACTOSE]   SMALL-beta-ALLOLACTOSE      10.0   \n",
       "\n",
       "    RVS_RATE LOCATION  \n",
       "0      0.000  cytosol  \n",
       "1      0.000  cytosol  \n",
       "2      0.000  cytosol  \n",
       "3      0.000  cytosol  \n",
       "4      0.000  cytosol  \n",
       "5      0.001  cytosol  \n",
       "6      0.001  cytosol  \n",
       "7      0.001  cytosol  \n",
       "8      0.010  cytosol  \n",
       "9      0.010  cytosol  \n",
       "10     0.010  cytosol  \n",
       "11     0.010  cytosol  "
      ]
     },
     "execution_count": 8,
     "metadata": {},
     "output_type": "execute_result"
    }
   ],
   "source": [
    "import pandas\n",
    "%time network = pandas.concat([utils.read_network('network-lac-ProtProt.tsv'), utils.read_network('network-lac-TFs+DNA.tsv'), utils.read_network('network-lac-ProtMet.tsv')])\n",
    "network.reset_index(drop = True) # reset_index() is optional; Also, you could use a spreadsheet software or text editor to copy and paste data into a single file."
   ]
  },
  {
   "cell_type": "markdown",
   "metadata": {},
   "source": [
    "**Note**: *Atlas* interprets an interaction network as a protein-protein interaction network. To define metabolites, please prefix names with `SMALL-` and DNA binding sites as `BS-` followed by a name and two coordinates."
   ]
  },
  {
   "cell_type": "code",
   "execution_count": 9,
   "metadata": {},
   "outputs": [
    {
     "name": "stdout",
     "output_type": "stream",
     "text": [
      "CPU times: user 495 ms, sys: 4.22 ms, total: 499 ms\n",
      "Wall time: 498 ms\n"
     ]
    },
    {
     "data": {
      "text/plain": [
       "<Model 'atlas_rbm.construct_model_from_interaction_network' (monomers: 3, rules: 12, parameters: 38, expressions: 0, compartments: 0) at 0x7fea2875e040>"
      ]
     },
     "execution_count": 9,
     "metadata": {},
     "output_type": "execute_result"
    }
   ],
   "source": [
    "%time model2 = atlas.construct_model_from_interaction_network(network)\n",
    "model2 = simulation.set_parameter(model2, 'fwd_PhysicalInteractionRule_09', 0)\n",
    "model2 = simulation.set_parameter(model2, 'fwd_PhysicalInteractionRule_10', 0)\n",
    "model2 = simulation.set_parameter(model2, 'rvs_PhysicalInteractionRule_09', 0)\n",
    "model2 = simulation.set_parameter(model2, 'rvs_PhysicalInteractionRule_10', 0)\n",
    "model2"
   ]
  },
  {
   "cell_type": "code",
   "execution_count": 10,
   "metadata": {},
   "outputs": [],
   "source": [
    "new_rule = \"Rule('PhysicalInteractionRule_02', \"\\\n",
    "            \"prot(name='lacZ', loc='cyt', dna=None, met=None, prot=None, rna=None, up=None, dw=2) % \"\\\n",
    "            \"prot(name='lacZ', loc='cyt', dna=None, met=None, prot=None, rna=None, up=2, dw=None) + \"\\\n",
    "            \"prot(name='lacZ', loc='cyt', dna=None, met=None, prot=None, rna=None, up=None, dw=1) % \"\\\n",
    "            \"prot(name='lacZ', loc='cyt', dna=None, met=None, prot=None, rna=None, up=1, dw=None) | \"\\\n",
    "            \"prot(name='lacZ', loc='cyt', dna=None, met=None, prot=None, rna=None, up=4, dw=1) % \"\\\n",
    "            \"prot(name='lacZ', loc='cyt', dna=None, met=None, prot=None, rna=None, up=1, dw=2) % \"\\\n",
    "            \"prot(name='lacZ', loc='cyt', dna=None, met=None, prot=None, rna=None, up=2, dw=3) % \"\\\n",
    "            \"prot(name='lacZ', loc='cyt', dna=None, met=None, prot=None, rna=None, up=3, dw=4), \"\\\n",
    "            \"fwd_PhysicalInteractionRule_02, rvs_PhysicalInteractionRule_02)\"\n",
    "\n",
    "model2 = atlas.replace_rule(model2, 'PhysicalInteractionRule_02', new_rule)"
   ]
  },
  {
   "cell_type": "code",
   "execution_count": 11,
   "metadata": {},
   "outputs": [],
   "source": [
    "new_rule = \"Rule('PhysicalInteractionRule_04', \"\\\n",
    "            \"prot(name='lacA', loc='cyt', dna=None, met=None, prot=None, rna=None, up=None, dw=None) + \"\\\n",
    "            \"prot(name='lacA', loc='cyt', dna=None, met=None, prot=None, rna=None, up=None, dw=1) % \"\\\n",
    "            \"prot(name='lacA', loc='cyt', dna=None, met=None, prot=None, rna=None, up=1, dw=None) | \"\\\n",
    "            \"prot(name='lacA', loc='cyt', dna=None, met=None, prot=None, rna=None, up=3, dw=1) % \"\\\n",
    "            \"prot(name='lacA', loc='cyt', dna=None, met=None, prot=None, rna=None, up=1, dw=2) % \"\\\n",
    "            \"prot(name='lacA', loc='cyt', dna=None, met=None, prot=None, rna=None, up=2, dw=3), \"\\\n",
    "            \"fwd_PhysicalInteractionRule_04, rvs_PhysicalInteractionRule_04)\"\n",
    "\n",
    "model2 = atlas.replace_rule(model2, 'PhysicalInteractionRule_04', new_rule)"
   ]
  },
  {
   "cell_type": "markdown",
   "metadata": {},
   "source": [
    "Finally, we build the metabolic network:"
   ]
  },
  {
   "cell_type": "code",
   "execution_count": 12,
   "metadata": {},
   "outputs": [
    {
     "name": "stdout",
     "output_type": "stream",
     "text": [
      "CPU times: user 686 ms, sys: 3.05 ms, total: 690 ms\n",
      "Wall time: 688 ms\n"
     ]
    },
    {
     "data": {
      "text/plain": [
       "<Model 'atlas_rbm.construct_model_from_metabolic_network' (monomers: 2, rules: 18, parameters: 61, expressions: 0, compartments: 0) at 0x7fe9c4334910>"
      ]
     },
     "execution_count": 12,
     "metadata": {},
     "output_type": "execute_result"
    }
   ],
   "source": [
    "%time model3 = atlas.construct_model_from_metabolic_network('network-lac-metabolism-complex-new-parameters.tsv')\n",
    "model3"
   ]
  },
  {
   "cell_type": "code",
   "execution_count": 13,
   "metadata": {},
   "outputs": [],
   "source": [
    "model3 = atlas.modify_rules(\n",
    "    model3, \n",
    "    oldString = \"prot(name='lacZ', loc='cyt', dna=None, met=None, prot=None, rna=None, up=None, dw=1) % \" \\\n",
    "                \"prot(name='lacZ', loc='cyt', dna=None, met=None, prot=None, rna=None, up=1, dw=2) % \" \\\n",
    "                \"prot(name='lacZ', loc='cyt', dna=None, met=None, prot=None, rna=None, up=2, dw=3) % \" \\\n",
    "                \"prot(name='lacZ', loc='cyt', dna=None, met=None, prot=None, rna=None, up=3, dw=None)\",\n",
    "    \n",
    "    newString = \"prot(name='lacZ', loc='cyt', dna=None, met=None, prot=None, rna=None, up = ANY, dw = ANY)\",\n",
    "    names = [\n",
    "        'BETAGALACTOSID_RXN',\n",
    "        'BETAGALACTOSID_RXN_alpha', \n",
    "        'RXN0_5363', \n",
    "        'RXN0_5363_beta', \n",
    "        'ALLOLACTOSE_DEG_alpha', \n",
    "        'ALLOLACTOSE_DEG_beta', \n",
    "        'RXN_17726', \n",
    "        'RXN0_7219'])"
   ]
  },
  {
   "cell_type": "code",
   "execution_count": 14,
   "metadata": {},
   "outputs": [],
   "source": [
    "model3 = atlas.modify_rules(\n",
    "    model3, \n",
    "    oldString = \"prot(name='lacA', loc='cyt', dna=None, met=None, prot=None, rna=None, up=None, dw=1) % \" \\\n",
    "                \"prot(name='lacA', loc='cyt', dna=None, met=None, prot=None, rna=None, up=1, dw=2) % \" \\\n",
    "                \"prot(name='lacA', loc='cyt', dna=None, met=None, prot=None, rna=None, up=2, dw=None)\",\n",
    "    \n",
    "    newString = \"prot(name='lacA', loc='cyt', dna=None, met=None, prot=None, rna=None, up = ANY, dw = ANY)\",\n",
    "    names = ['GALACTOACETYLTRAN_RXN_galactose'])"
   ]
  },
  {
   "cell_type": "code",
   "execution_count": 15,
   "metadata": {},
   "outputs": [
    {
     "name": "stdout",
     "output_type": "stream",
     "text": [
      "CPU times: user 2.92 s, sys: 22.9 ms, total: 2.94 s\n",
      "Wall time: 2.94 s\n"
     ]
    },
    {
     "data": {
      "text/plain": [
       "<Model 'atlas_rbm.atlas' (monomers: 5, rules: 61, parameters: 145, expressions: 0, compartments: 0) at 0x7fe9c4232460>"
      ]
     },
     "execution_count": 15,
     "metadata": {},
     "output_type": "execute_result"
    }
   ],
   "source": [
    "%time combined = atlas.combine_models([model1, model2, model3])\n",
    "combined"
   ]
  },
  {
   "cell_type": "code",
   "execution_count": 16,
   "metadata": {},
   "outputs": [
    {
     "name": "stdout",
     "output_type": "stream",
     "text": [
      "Initial t0_met_beta_lactose not found. Creating Initial t0_met_beta_lactose...\n",
      "Initial t0_met_PROTON not found. Creating Initial t0_met_PROTON...\n",
      "Initial t0_prot_lacY not found. Creating Initial t0_prot_lacY...\n",
      "Initial t0_cplx_RNAP_CPLX not found. Creating Initial t0_cplx_RNAP_CPLX...\n",
      "Initial t0_cplx_RIBOSOME_CPLX not found. Creating Initial t0_cplx_RIBOSOME_CPLX...\n",
      "CPU times: user 1.33 s, sys: 87.8 ms, total: 1.42 s\n",
      "Wall time: 5.19 s\n"
     ]
    }
   ],
   "source": [
    "# initial condition\n",
    "# for metabolites (set again doesn't hurt)\n",
    "simulation.set_initial.met(combined, 'beta_lactose', 'per', 100)\n",
    "simulation.set_initial.met(combined, 'PROTON', 'per', 100) # required for lactose transport\n",
    "simulation.set_initial.met(combined, 'WATER', 'cyt', 100) # required for lactose hydrolysis\n",
    "simulation.set_initial.met(combined, 'beta_ALLOLACTOSE', 'cyt', 2)\n",
    "\n",
    "# for proteins. We set to zero to simulate gene expression as a requisite for metabolic activity\n",
    "simulation.set_initial.prot(combined, 'lacY', 'imem', 0)\n",
    "simulation.set_initial.prot(combined, 'lacZ', 'cyt', 0)\n",
    "simulation.set_initial.prot(combined, 'lacA', 'cyt', 0)\n",
    "\n",
    "# except lacI\n",
    "simulation.set_initial.prot(combined, 'lacI', 'cyt', 6)\n",
    "\n",
    "# for complexes. We set to zero to simulate complex assembly as a requisite for metabolic activity\n",
    "simulation.set_initial.cplx(combined, 'lacAx3', 'cyt', 0) # the codename for complexes is the monomer names times the stoichiometry\n",
    "simulation.set_initial.cplx(combined, 'lacZx4', 'cyt', 0)\n",
    "simulation.set_initial.cplx(combined, 'RNAP_CPLX', 'cyt', 5)\n",
    "simulation.set_initial.cplx(combined, 'RIBOSOME_CPLX', 'cyt', 1)\n",
    "\n",
    "# and DNA\n",
    "simulation.set_initial.dna(combined, 'lacZlacYlacA', 1)\n",
    "\n",
    "# simulation\n",
    "bng = '/opt/git-repositories/bionetgen.RuleWorld/bng2/'\n",
    "kasim = '/opt/git-repositories/KaSim4.Kappa-Dev/'\n",
    "\n",
    "# %time data1 = simulation.scipy(combined, start = 0, finish = 10, points = 500) # +15h calculating the ODEs...\n",
    "%time data2 = simulation.kasim(combined, start = 0, finish = 1000, points = 1000, n_runs = 10, path = kasim)"
   ]
  },
  {
   "cell_type": "code",
   "execution_count": 17,
   "metadata": {},
   "outputs": [],
   "source": [
    "import seaborn\n",
    "import matplotlib.pyplot as plt\n",
    "\n",
    "for key in [\n",
    "#     'figure.titlesize',\n",
    "    'font.size',\n",
    "#     'legend.fontsize',\n",
    "#     'legend.title_fontsize',\n",
    "    'font.size', \n",
    "#     'xtick.labelsize',\n",
    "    'xtick.major.size',\n",
    "    'xtick.minor.size',\n",
    "#     'ytick.labelsize',\n",
    "    'ytick.major.size',\n",
    "    'ytick.minor.size']:\n",
    "    plt.rcParams[key] = plt.rcParams[key] * 1.1\n",
    "\n",
    "palette = seaborn.color_palette('colorblind')"
   ]
  },
  {
   "cell_type": "code",
   "execution_count": 18,
   "metadata": {},
   "outputs": [
    {
     "data": {
      "image/png": "[encoded data removed]",
      "text/plain": [
       "<Figure size 2400x600 with 3 Axes>"
      ]
     },
     "metadata": {
      "needs_background": "light"
     },
     "output_type": "display_data"
    }
   ],
   "source": [
    "kind = 'fill_between'\n",
    "fig, ax = plt.subplots(1, 3, figsize = (4*3, 3*1), dpi = 200)\n",
    "\n",
    "# first plot, lactose concentration\n",
    "simulation.plot.metabolite(data2['avrg'], 'alpha-glucose', 'cyt', ax = ax[0], plt_kws = {'label' : r'$\\alpha$-glucose'})\n",
    "simulation.plot.metabolite(data2['avrg'], 'beta-glucose', 'cyt', ax = ax[0], plt_kws = {'label' : r'$\\beta$-glucose'})\n",
    "\n",
    "simulation.plot.metabolite(\n",
    "    data2, 'alpha-glucose', 'cyt', ax = ax[0], **{'kind' : kind, 'weight' : 0.5}, \n",
    "    plt_kws = {'s' : 2, 'color' : palette[0], 'alpha' : .5})\n",
    "\n",
    "simulation.plot.metabolite(\n",
    "    data2, 'beta-glucose', 'cyt', ax = ax[0], **{'kind' : kind, 'weight' : 0.5}, \n",
    "    plt_kws = {'s' : 2, 'color' : palette[1], 'alpha' : .5})\n",
    "\n",
    "# second plot, galactose concentration\n",
    "simulation.plot.metabolite(data2['avrg'], 'alpha-GALACTOSE', 'cyt', ax = ax[1], plt_kws = {'label' : r'$\\alpha$-galactose'})\n",
    "simulation.plot.metabolite(data2['avrg'], 'beta-GALACTOSE', 'cyt', ax = ax[1], plt_kws = {'label' : r'$\\beta$-galactose'})\n",
    "\n",
    "simulation.plot.metabolite(\n",
    "    data2, 'alpha-GALACTOSE', 'cyt', ax = ax[1], **{'kind' : kind, 'weight' : 0.5}, \n",
    "    plt_kws = {'s' : 2, 'color' : palette[0], 'alpha' : .5})\n",
    "\n",
    "simulation.plot.metabolite(\n",
    "    data2, 'beta-GALACTOSE', 'cyt', ax = ax[1], **{'kind' : kind, 'weight' : 0.5}, \n",
    "    plt_kws = {'s' : 2, 'color' : palette[1], 'alpha' : .5})\n",
    "\n",
    "# third plot, allolactose concentration\n",
    "simulation.plot.metabolite(data2['avrg'], 'alpha-ALLOLACTOSE', 'cyt', ax = ax[2], plt_kws = {'label' : r'$\\alpha$-allolactose'})\n",
    "simulation.plot.metabolite(data2['avrg'], 'beta-ALLOLACTOSE', 'cyt', ax = ax[2], plt_kws = {'label' : r'$\\beta$-allolactose'})\n",
    "\n",
    "simulation.plot.metabolite(\n",
    "    data2, 'alpha-ALLOLACTOSE', 'cyt', ax = ax[2], **{'kind' : kind, 'weight' : 0.5}, \n",
    "    plt_kws = {'s' : 2, 'color' : palette[0], 'alpha' : .5})\n",
    "\n",
    "simulation.plot.metabolite(\n",
    "    data2, 'beta-ALLOLACTOSE', 'cyt', ax = ax[2], **{'kind' : kind, 'weight' : 0.5}, \n",
    "    plt_kws = {'s' : 2, 'color' : palette[1], 'alpha' : .5})\n",
    "\n",
    "ax[0].set_xlabel('Time [A.U.]')\n",
    "ax[0].set_ylabel('Concentration [A.U.]')\n",
    "ax[0].set_title('Cytoplasm')\n",
    "ax[0].set_ylim(top = 100, bottom = 0)\n",
    "\n",
    "ax[1].set_xlabel('Time [A.U.]')\n",
    "ax[1].set_title('Cytoplasm')\n",
    "ax[1].set_ylim(top = 100, bottom = 0)\n",
    "\n",
    "ax[2].set_xlabel('Time [A.U.]')\n",
    "ax[2].set_title('Cytoplasm')\n",
    "ax[2].set_ylim(top = 10, bottom = 0)\n",
    "\n",
    "ax[0].legend(frameon = False)\n",
    "ax[1].legend(frameon = False)\n",
    "ax[2].legend(frameon = False)\n",
    "\n",
    "seaborn.despine()\n",
    "plt.show()"
   ]
  },
  {
   "cell_type": "code",
   "execution_count": 19,
   "metadata": {},
   "outputs": [],
   "source": [
    "export.to_pysb(combined, 'tutorial_1D.py')"
   ]
  }
 ],
 "metadata": {
  "kernelspec": {
   "display_name": "Python 3",
   "language": "python",
   "name": "python3"
  },
  "language_info": {
   "codemirror_mode": {
    "name": "ipython",
    "version": 3
   },
   "file_extension": ".py",
   "mimetype": "text/x-python",
   "name": "python",
   "nbconvert_exporter": "python",
   "pygments_lexer": "ipython3",
   "version": "3.8.2"
  }
 },
 "nbformat": 4,
 "nbformat_minor": 2
}
