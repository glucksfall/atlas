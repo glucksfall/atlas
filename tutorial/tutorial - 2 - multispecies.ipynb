{
 "cells": [
  {
   "cell_type": "code",
   "execution_count": 1,
   "metadata": {},
   "outputs": [
    {
     "data": {
      "text/html": [
       "<style>.container { width: 95% !important; }</style>"
      ],
      "text/plain": [
       "<IPython.core.display.HTML object>"
      ]
     },
     "metadata": {},
     "output_type": "display_data"
    }
   ],
   "source": [
    "# expand cells to the 95% of the display width\n",
    "from IPython.core.display import display, HTML\n",
    "display(HTML(\"<style>.container { width: 95% !important; }</style>\"))"
   ]
  },
  {
   "cell_type": "markdown",
   "metadata": {},
   "source": [
    "# Tutorial: Automatic rule-based modeling of multi-species metabolism employing *Atlas*"
   ]
  },
  {
   "cell_type": "markdown",
   "metadata": {},
   "source": [
    "Authors: Rodrigo Santibáñez[1,2], Daniel Garrido[2], and Alberto Martín[1]\n",
    "\n",
    "Date: September 2020\n",
    "\n",
    "Affiliations:\n",
    "1. Centro de Genómica y Bioinformática, Facultad de Ciencias, Universidad Mayor, Santiago, 8580745, Chile.\n",
    "2. Department of Chemical and Bioprocess Engineering, School of Engineering, Pontificia Universidad Católica de Chile, Santiago, 7820436, Chile\n",
    "\n",
    "Notes: This tutorial was created for the manuscript \"*Atlas*: Automatic modeling of regulation of bacterial gene expression and metabolism using rule-based languages\", first submitted for peer-review to Bioinformatics on May, 2020."
   ]
  },
  {
   "cell_type": "markdown",
   "metadata": {},
   "source": [
    "## Prerequisites"
   ]
  },
  {
   "cell_type": "markdown",
   "metadata": {},
   "source": [
    "0. The tutorial was prepared and executed on Ubuntu 20.04, PathwayTools version 24, and docker engine version 19.03.8.<br/><br/>\n",
    "\n",
    "1. PathwayTools must be installed and running to obtain data from the EcoCyc database. Please, run ```pathway-tools -lisp -python-local-only``` before to obtain any data.<br/>\n",
    "   (Optional) The PathwayTools software could be executed in the background, with help of ```nohup pathway-tools -lisp -python-local-only > /dev/null 2> /dev/null &```.<br/>\n",
    "   Please follow instructions at http://pathwaytools.org/ to obtain a licensed copy of the software from https://biocyc.org/download-bundle.shtml. However, data could be manually formatted using a text-based editor or a spreadsheet software.\n",
    "   \n",
    "   Note: If you ran into the ```pathway-tools/ptools/24.0/exe/aclssl.so: undefined symbol: CRYPTO_set_locking_callback``` error, please follow instructions here: https://github.com/glucksfall/atlas/tree/master/PTools-v24. Instructions will guide you to install a docker image that is able to run pathway tools, but does not include it, so you still need to obtain the software with a valid license.<br/><br/>\n",
    "   \n",
    "2. (Highly recommended) Install Docker. Please follow instructions for a supported Operating System https://docs.docker.com/engine/install/:<br/>\n",
    "   On Ubuntu, install it with ```apt-get install docker.io```.<br/>\n",
    "   On Win10, install Docker Desktop with WSL2 support https://docs.docker.com/docker-for-windows/wsl/.<br/>\n",
    "   On MacOS, install Docker Desktop https://docs.docker.com/docker-for-mac/install/.<br/><br/>\n",
    "   The Docker ```networkbiolab/pleiades```installs the python packages, the jupyter server, and the stochastic simulators.<br/><br/>\n",
    "\n",
    "3. (Recommended) Jupyter notebook. We recommend the use of Anaconda3 https://www.anaconda.com/products/individual because of the easier installation of the stochastic simulators from https://anaconda.org/alubbock.<br/><br/>\n",
    "\n",
    "4. (Optional) A stochastic simulator, supported by the pySB python package ([BNG2](https://github.com/RuleWorld/bionetgen), [NFsim](https://github.com/ruleworld/nfsim/tree/9178d44455f6e27a81f398074eeaafb2a1a4b4bd), [KaSim](https://github.com/Kappa-Dev/KappaTools) or [Stochkit](https://github.com/StochSS/StochKit)). pySB requires BNG2 to simulate models with NFsim.<br/><br/>\n",
    "\n",
    "5. (Optional) Cytoscape to visualize metabolic networks and others.<br/><br/>\n",
    "\n",
    "6. (Optional) A deterministic simulator: pySB supports ODE integration via scipy.integrate.ode, BioNetGen ODE integration, and CUDA-accelerated ODE integration with Marco S. Nobile's cupSODA software (https://github.com/aresio/cupSODA). If the user feel comfortable with SBML models, pySB could export to SBML and deterministic simulation done with libRoadRunner (http://libroadrunner.org/), Tellurium (http://tellurium.analogmachine.org/), COPASI (http://copasi.org/), etc."
   ]
  },
  {
   "cell_type": "markdown",
   "metadata": {},
   "source": [
    "## Installation"
   ]
  },
  {
   "cell_type": "markdown",
   "metadata": {},
   "source": [
    "0. If you are running the docker image \"pleiades\", please go directly to the section \"Preamble\".<br/><br/>\n",
    "1. To install, please follow one of the following steps:<br/><br/>\n",
    "   1. Install the docker image \"pleiades\" using ```docker pull networkbiolab/pleiades```. The container is based on the Anaconda3 software and it installs Atlas, and the stochastic simulators BNG2, NFsim, KaSim, and Stochkit. After building the image, please run the container with ```docker run --detach --publish 10000:8888 networkbiolab/pleiades```, and go to ```localhost:10000``` in your preferred browser. The required password is ```pleiades```.<br/><br/>\n",
    "   2. Download or clone the Github repository from https://github.com/networkbiolab/pleiades with ```git clone https://github.com/networkbiolab/pleiades foo``` (where ```foo``` is an absolute or relative path). Then, you could build the docker image with ```docker build foo --tag pleiades``` and run it with ```docker run --detach --publish 10000:8888 pleiades```. Finally, go to ```localhost:10000``` in your preferred browser. The required password is ```pleiades```.<br/><br/>\n",
    "   3. Install with pip3: ```sudo -H python3 -m pip install pleiades``` or ```python3 -m pip install pleiades --user```. Pleiades is a meta-package that install Atlas (the rule-based modeller), Pleione (a genetic algorithm for parameter calibration of RBMs, compatible with SLURM), Alcyone (to perform identifiability analysis of parameters), and Sterope (to perform sensitivity analysis of parameters in kappa RBMs, compatible with SLURM).<br/>\n",
    "      You should install, configure, and run the jupyter notebook on your own: example ```sudo -H pip3 install jupyter && nohup python3 -m jupyter notebook --port=8888 --no-browser --port-retries=0 > /dev/null 2> /dev/null &```.<br/><br/>\n",
    "   4. Download or clone the Github repository from https://github.com/networkbiolab/atlas with ```git clone https://github.com/networkbiolab/atlas foo``` (where ```foo``` is an absolute or relative path). Requisites must be fulfilled manually with pip3: ```sudo -H python3 -m pip install pandas pysb pythoncyc jupyter seaborn``` or ```python3 -m pip install pandas pysb pythoncyc jupyter seaborn --user```."
   ]
  },
  {
   "cell_type": "markdown",
   "metadata": {},
   "source": [
    "## Objectives"
   ]
  },
  {
   "cell_type": "markdown",
   "metadata": {},
   "source": [
    "1. Get metabolic data from two species: enzyme names, substrates, products, and location of enzymes.\n",
    "2. Merge the model into one\n",
    "3. Simulate and plot"
   ]
  },
  {
   "cell_type": "markdown",
   "metadata": {},
   "source": [
    "## Preamble: load *Atlas*"
   ]
  },
  {
   "cell_type": "code",
   "execution_count": 2,
   "metadata": {},
   "outputs": [],
   "source": [
    "# testing source code\n",
    "# required if atlas was cloned from GitHub and this notebook is executed from the tutorial directory.\n",
    "import sys\n",
    "sys.path.append(\"..\")\n",
    "\n",
    "import atlas_rbm.atlas as atlas\n",
    "import atlas_rbm.utils as utils\n",
    "import atlas_rbm.export as export\n",
    "import atlas_rbm.simulation as simulation"
   ]
  },
  {
   "cell_type": "code",
   "execution_count": 3,
   "metadata": {},
   "outputs": [
    {
     "name": "stdout",
     "output_type": "stream",
     "text": [
      "PathwayTools is running. Available PGDB are: YEAST, PAER208964, PABY272844, GCF_000013425, CORYNE, BSUB, META, ECOLI\n"
     ]
    },
    {
     "data": {
      "text/plain": [
       "True"
      ]
     },
     "execution_count": 3,
     "metadata": {},
     "output_type": "execute_result"
    }
   ],
   "source": [
    "utils.checkPathwayTools()"
   ]
  },
  {
   "cell_type": "code",
   "execution_count": 4,
   "metadata": {},
   "outputs": [
    {
     "name": "stdout",
     "output_type": "stream",
     "text": [
      "Doing nothing since PathwayTools is running.\n"
     ]
    }
   ],
   "source": [
    "utils.execPToolsDocker('ptools-v22')\n",
    "# execute this inside the docker will fail.\n",
    "# Please, execute `docker run --rm -d --network host ptools-v24` in a terminal"
   ]
  },
  {
   "cell_type": "markdown",
   "metadata": {},
   "source": [
    "## Getting data to model metabolism"
   ]
  },
  {
   "cell_type": "code",
   "execution_count": 5,
   "metadata": {},
   "outputs": [
    {
     "name": "stdout",
     "output_type": "stream",
     "text": [
      "It was found duplicated reaction names in the network.\n",
      "Please check the conflicting_reactions.txt and correct them if necessary.\n",
      "CPU times: user 425 ms, sys: 56.2 ms, total: 481 ms\n",
      "Wall time: 480 ms\n"
     ]
    }
   ],
   "source": [
    "import pythoncyc\n",
    "# %time network = utils.metabolicNetwork.FromEnzymeList('ECOLI', pythoncyc.select_organism('ECOLI').all_transporters())\n",
    "# %time utils.metabolicNetwork.expand_network(network, 'ecocyc-v22-tps-cytoscape.txt')\n",
    "# network.to_csv('ecoli-tps-v22.txt', sep = '\\t', index = False)\n",
    "%time atlas.construct_model_from_metabolic_network('ecoli-tps-v22.txt', noObservables=True, noInitials=True, toFile = 'model-ecoli-transporters.py')"
   ]
  },
  {
   "cell_type": "code",
   "execution_count": 6,
   "metadata": {},
   "outputs": [
    {
     "name": "stdout",
     "output_type": "stream",
     "text": [
      "It was found duplicated reaction names in the network.\n",
      "Please check the conflicting_reactions.txt and correct them if necessary.\n",
      "CPU times: user 1.05 s, sys: 41.1 ms, total: 1.09 s\n",
      "Wall time: 1.08 s\n"
     ]
    }
   ],
   "source": [
    "import pythoncyc\n",
    "# %time network = utils.metabolicNetwork.FromEnzymeList('ECOLI', pythoncyc.select_organism('ECOLI').all_enzymes())\n",
    "# %time utils.metabolicNetwork.expand_network(network, 'ecocyc-v22-enz-cytoscape.txt')\n",
    "# network.to_csv('ecoli-enz-v22.txt', sep = '\\t', index = False)\n",
    "%time atlas.construct_model_from_metabolic_network('ecoli-enz-v22.txt', noObservables=True, noInitials=True, toFile = 'model-ecoli-enzymes.py')"
   ]
  },
  {
   "cell_type": "code",
   "execution_count": 7,
   "metadata": {},
   "outputs": [
    {
     "name": "stdout",
     "output_type": "stream",
     "text": [
      "It was found duplicated reaction names in the network.\n",
      "Please check the conflicting_reactions.txt and correct them if necessary.\n",
      "CPU times: user 47.6 ms, sys: 11.4 ms, total: 59 ms\n",
      "Wall time: 57.6 ms\n"
     ]
    }
   ],
   "source": [
    "import pythoncyc\n",
    "# %time network = utils.metabolicNetwork.FromEnzymeList('BSUB', pythoncyc.select_organism('BSUB').all_transporters())\n",
    "# %time utils.metabolicNetwork.expand_network(network, 'bsubcyc-v22-tps-cytoscape.txt')\n",
    "# network.to_csv('bsub-tps-v22.txt', sep = '\\t', index = False)\n",
    "%time atlas.construct_model_from_metabolic_network('bsub-tps-v22.txt', noObservables=True, noInitials=True, toFile = 'model-bsub-transporters.py')"
   ]
  },
  {
   "cell_type": "code",
   "execution_count": 8,
   "metadata": {},
   "outputs": [
    {
     "name": "stdout",
     "output_type": "stream",
     "text": [
      "It was found duplicated reaction names in the network.\n",
      "Please check the conflicting_reactions.txt and correct them if necessary.\n",
      "CPU times: user 605 ms, sys: 20.3 ms, total: 626 ms\n",
      "Wall time: 623 ms\n"
     ]
    }
   ],
   "source": [
    "import pythoncyc\n",
    "# %time network = utils.metabolicNetwork.FromEnzymeList('BSUB', pythoncyc.select_organism('BSUB').all_enzymes())\n",
    "# %time utils.metabolicNetwork.expand_network(network, 'bsubcyc-v22-enz-cytoscape.txt')\n",
    "# network.to_csv('bsub-enz-v22.txt', sep = '\\t', index = False)\n",
    "%time atlas.construct_model_from_metabolic_network('bsub-enz-v22.txt', noObservables=True, noInitials=True, toFile = 'model-bsub-enzymes.py')"
   ]
  },
  {
   "cell_type": "code",
   "execution_count": 9,
   "metadata": {},
   "outputs": [
    {
     "data": {
      "text/html": [
       "<div>\n",
       "<style scoped>\n",
       "    .dataframe tbody tr th:only-of-type {\n",
       "        vertical-align: middle;\n",
       "    }\n",
       "\n",
       "    .dataframe tbody tr th {\n",
       "        vertical-align: top;\n",
       "    }\n",
       "\n",
       "    .dataframe thead th {\n",
       "        text-align: right;\n",
       "    }\n",
       "</style>\n",
       "<table border=\"1\" class=\"dataframe\">\n",
       "  <thead>\n",
       "    <tr style=\"text-align: right;\">\n",
       "      <th></th>\n",
       "      <th>STRAIN</th>\n",
       "      <th>GENE OR COMPLEX</th>\n",
       "      <th>ENZYME LOCATION</th>\n",
       "      <th>REACTION</th>\n",
       "      <th>SUBSTRATES</th>\n",
       "      <th>PRODUCTS</th>\n",
       "      <th>FWD_RATE</th>\n",
       "      <th>RVS_RATE</th>\n",
       "    </tr>\n",
       "  </thead>\n",
       "  <tbody>\n",
       "    <tr>\n",
       "      <th>0</th>\n",
       "      <td>ECOLI</td>\n",
       "      <td>ABC-10-CPLX</td>\n",
       "      <td>inner membrane</td>\n",
       "      <td>ABC-10-RXN</td>\n",
       "      <td>ATP,FERRIC-ENTEROBACTIN-COMPLEX,WATER</td>\n",
       "      <td>ADP,Pi,FERRIC-ENTEROBACTIN-COMPLEX,PROTON</td>\n",
       "      <td>1.0</td>\n",
       "      <td>0.0</td>\n",
       "    </tr>\n",
       "    <tr>\n",
       "      <th>1</th>\n",
       "      <td>ECOLI</td>\n",
       "      <td>ABC-11-CPLX</td>\n",
       "      <td>inner membrane</td>\n",
       "      <td>ABC-11-RXN</td>\n",
       "      <td>ATP,Ferric-Hydroxamate-Complexes,WATER</td>\n",
       "      <td>ADP,Pi,Ferric-Hydroxamate-Complexes</td>\n",
       "      <td>1.0</td>\n",
       "      <td>0.0</td>\n",
       "    </tr>\n",
       "    <tr>\n",
       "      <th>2</th>\n",
       "      <td>ECOLI</td>\n",
       "      <td>ABC-11-CPLX</td>\n",
       "      <td>inner membrane</td>\n",
       "      <td>TRANS-RXN-297</td>\n",
       "      <td>CPD0-621,ATP,WATER</td>\n",
       "      <td>CPD0-621,ADP,Pi,PROTON</td>\n",
       "      <td>1.0</td>\n",
       "      <td>0.0</td>\n",
       "    </tr>\n",
       "    <tr>\n",
       "      <th>3</th>\n",
       "      <td>ECOLI</td>\n",
       "      <td>ABC-11-CPLX</td>\n",
       "      <td>inner membrane</td>\n",
       "      <td>TRANS-RXN-298</td>\n",
       "      <td>CPD0-2241,ATP,WATER</td>\n",
       "      <td>CPD0-2241,ADP,Pi,PROTON</td>\n",
       "      <td>1.0</td>\n",
       "      <td>0.0</td>\n",
       "    </tr>\n",
       "    <tr>\n",
       "      <th>4</th>\n",
       "      <td>ECOLI</td>\n",
       "      <td>ABC-12-CPLX</td>\n",
       "      <td>inner membrane</td>\n",
       "      <td>ABC-12-RXN</td>\n",
       "      <td>ATP,GLN,WATER</td>\n",
       "      <td>ADP,Pi,GLN,PROTON</td>\n",
       "      <td>1.0</td>\n",
       "      <td>0.0</td>\n",
       "    </tr>\n",
       "    <tr>\n",
       "      <th>...</th>\n",
       "      <td>...</td>\n",
       "      <td>...</td>\n",
       "      <td>...</td>\n",
       "      <td>...</td>\n",
       "      <td>...</td>\n",
       "      <td>...</td>\n",
       "      <td>...</td>\n",
       "      <td>...</td>\n",
       "    </tr>\n",
       "    <tr>\n",
       "      <th>1317</th>\n",
       "      <td>BSUB</td>\n",
       "      <td>CPLX8J2-9</td>\n",
       "      <td>cytosol</td>\n",
       "      <td>RIBONUCLEOSIDE-DIP-REDUCTI-RXN</td>\n",
       "      <td>Deoxy-Ribonucleoside-Diphosphates,Ox-Thioredox...</td>\n",
       "      <td>Ribonucleoside-Diphosphates,Red-Thioredoxin</td>\n",
       "      <td>0.0</td>\n",
       "      <td>1.0</td>\n",
       "    </tr>\n",
       "    <tr>\n",
       "      <th>1318</th>\n",
       "      <td>BSUB</td>\n",
       "      <td>CPLX8J2-9</td>\n",
       "      <td>unknown</td>\n",
       "      <td>CDPREDUCT-RXN</td>\n",
       "      <td>DCDP,Ox-Thioredoxin,WATER</td>\n",
       "      <td>CDP,Red-Thioredoxin</td>\n",
       "      <td>0.0</td>\n",
       "      <td>1.0</td>\n",
       "    </tr>\n",
       "    <tr>\n",
       "      <th>1319</th>\n",
       "      <td>BSUB</td>\n",
       "      <td>CPLX8J2-9</td>\n",
       "      <td>cytosol</td>\n",
       "      <td>CDPREDUCT-RXN</td>\n",
       "      <td>DCDP,Ox-Thioredoxin,WATER</td>\n",
       "      <td>CDP,Red-Thioredoxin</td>\n",
       "      <td>0.0</td>\n",
       "      <td>1.0</td>\n",
       "    </tr>\n",
       "    <tr>\n",
       "      <th>1320</th>\n",
       "      <td>BSUB</td>\n",
       "      <td>CPLX8J2-9</td>\n",
       "      <td>unknown</td>\n",
       "      <td>UDPREDUCT-RXN</td>\n",
       "      <td>DUDP,Ox-Thioredoxin,WATER</td>\n",
       "      <td>UDP,Red-Thioredoxin</td>\n",
       "      <td>0.0</td>\n",
       "      <td>1.0</td>\n",
       "    </tr>\n",
       "    <tr>\n",
       "      <th>1321</th>\n",
       "      <td>BSUB</td>\n",
       "      <td>CPLX8J2-9</td>\n",
       "      <td>cytosol</td>\n",
       "      <td>UDPREDUCT-RXN</td>\n",
       "      <td>DUDP,Ox-Thioredoxin,WATER</td>\n",
       "      <td>UDP,Red-Thioredoxin</td>\n",
       "      <td>0.0</td>\n",
       "      <td>1.0</td>\n",
       "    </tr>\n",
       "  </tbody>\n",
       "</table>\n",
       "<p>4848 rows × 8 columns</p>\n",
       "</div>"
      ],
      "text/plain": [
       "     STRAIN GENE OR COMPLEX ENZYME LOCATION                        REACTION  \\\n",
       "0     ECOLI     ABC-10-CPLX  inner membrane                      ABC-10-RXN   \n",
       "1     ECOLI     ABC-11-CPLX  inner membrane                      ABC-11-RXN   \n",
       "2     ECOLI     ABC-11-CPLX  inner membrane                   TRANS-RXN-297   \n",
       "3     ECOLI     ABC-11-CPLX  inner membrane                   TRANS-RXN-298   \n",
       "4     ECOLI     ABC-12-CPLX  inner membrane                      ABC-12-RXN   \n",
       "...     ...             ...             ...                             ...   \n",
       "1317   BSUB       CPLX8J2-9         cytosol  RIBONUCLEOSIDE-DIP-REDUCTI-RXN   \n",
       "1318   BSUB       CPLX8J2-9         unknown                   CDPREDUCT-RXN   \n",
       "1319   BSUB       CPLX8J2-9         cytosol                   CDPREDUCT-RXN   \n",
       "1320   BSUB       CPLX8J2-9         unknown                   UDPREDUCT-RXN   \n",
       "1321   BSUB       CPLX8J2-9         cytosol                   UDPREDUCT-RXN   \n",
       "\n",
       "                                             SUBSTRATES  \\\n",
       "0                 ATP,FERRIC-ENTEROBACTIN-COMPLEX,WATER   \n",
       "1                ATP,Ferric-Hydroxamate-Complexes,WATER   \n",
       "2                                    CPD0-621,ATP,WATER   \n",
       "3                                   CPD0-2241,ATP,WATER   \n",
       "4                                         ATP,GLN,WATER   \n",
       "...                                                 ...   \n",
       "1317  Deoxy-Ribonucleoside-Diphosphates,Ox-Thioredox...   \n",
       "1318                          DCDP,Ox-Thioredoxin,WATER   \n",
       "1319                          DCDP,Ox-Thioredoxin,WATER   \n",
       "1320                          DUDP,Ox-Thioredoxin,WATER   \n",
       "1321                          DUDP,Ox-Thioredoxin,WATER   \n",
       "\n",
       "                                         PRODUCTS  FWD_RATE  RVS_RATE  \n",
       "0       ADP,Pi,FERRIC-ENTEROBACTIN-COMPLEX,PROTON       1.0       0.0  \n",
       "1             ADP,Pi,Ferric-Hydroxamate-Complexes       1.0       0.0  \n",
       "2                          CPD0-621,ADP,Pi,PROTON       1.0       0.0  \n",
       "3                         CPD0-2241,ADP,Pi,PROTON       1.0       0.0  \n",
       "4                               ADP,Pi,GLN,PROTON       1.0       0.0  \n",
       "...                                           ...       ...       ...  \n",
       "1317  Ribonucleoside-Diphosphates,Red-Thioredoxin       0.0       1.0  \n",
       "1318                          CDP,Red-Thioredoxin       0.0       1.0  \n",
       "1319                          CDP,Red-Thioredoxin       0.0       1.0  \n",
       "1320                          UDP,Red-Thioredoxin       0.0       1.0  \n",
       "1321                          UDP,Red-Thioredoxin       0.0       1.0  \n",
       "\n",
       "[4848 rows x 8 columns]"
      ]
     },
     "execution_count": 9,
     "metadata": {},
     "output_type": "execute_result"
    }
   ],
   "source": [
    "ecoli_tps = utils.read_network('ecoli-tps-v22.txt')\n",
    "ecoli_enz = utils.read_network('ecoli-enz-v22.txt')\n",
    "bsub_tps = utils.read_network('bsub-tps-v22.txt')\n",
    "bsub_enz = utils.read_network('bsub-enz-v22.txt')\n",
    "\n",
    "import pandas\n",
    "network = pandas.concat([ecoli_tps, ecoli_enz, bsub_tps, bsub_enz]) # reset index is optional\n",
    "network"
   ]
  },
  {
   "cell_type": "code",
   "execution_count": 10,
   "metadata": {},
   "outputs": [
    {
     "name": "stdout",
     "output_type": "stream",
     "text": [
      "It was found duplicated reaction names in the network.\n",
      "Please check the conflicting_reactions.txt and correct them if necessary.\n",
      "CPU times: user 1.57 s, sys: 83.9 ms, total: 1.65 s\n",
      "Wall time: 1.65 s\n"
     ]
    }
   ],
   "source": [
    "%time atlas.construct_model_from_metabolic_network(network, noObservables=True, noInitials=True, toFile = 'model-combined-ecoli-bsub.py')"
   ]
  },
  {
   "cell_type": "code",
   "execution_count": null,
   "metadata": {},
   "outputs": [],
   "source": []
  }
 ],
 "metadata": {
  "kernelspec": {
   "display_name": "Python 3",
   "language": "python",
   "name": "python3"
  },
  "language_info": {
   "codemirror_mode": {
    "name": "ipython",
    "version": 3
   },
   "file_extension": ".py",
   "mimetype": "text/x-python",
   "name": "python",
   "nbconvert_exporter": "python",
   "pygments_lexer": "ipython3",
   "version": "3.8.2"
  }
 },
 "nbformat": 4,
 "nbformat_minor": 2
}
