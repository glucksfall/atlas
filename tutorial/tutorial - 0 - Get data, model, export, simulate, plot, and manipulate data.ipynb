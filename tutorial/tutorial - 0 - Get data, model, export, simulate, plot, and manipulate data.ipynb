{
 "cells": [
  {
   "cell_type": "code",
   "execution_count": 1,
   "metadata": {},
   "outputs": [
    {
     "data": {
      "text/html": [
       "<style>.container { width: 95% !important; }</style>"
      ],
      "text/plain": [
       "<IPython.core.display.HTML object>"
      ]
     },
     "metadata": {},
     "output_type": "display_data"
    }
   ],
   "source": [
    "# expand cells to the 95% of the display width\n",
    "from IPython.core.display import display, HTML\n",
    "display(HTML(\"<style>.container { width: 95% !important; }</style>\"))"
   ]
  },
  {
   "cell_type": "markdown",
   "metadata": {},
   "source": [
    "# Tutorial: Automatic rule-based modeling of metabolism, protein-protein interactions, and regulation of gene expression employing *Atlas*"
   ]
  },
  {
   "cell_type": "markdown",
   "metadata": {},
   "source": [
    "Authors: Rodrigo Santibáñez[1,2], Daniel Garrido[2], and Alberto Martín[1]\n",
    "\n",
    "Date: August 2020\n",
    "\n",
    "Affiliations:\n",
    "1. Centro de Genómica y Bioinformática, Facultad de Ciencias, Universidad Mayor, Santiago, 8580745, Chile.\n",
    "2. Department of Chemical and Bioprocess Engineering, School of Engineering, Pontificia Universidad Católica de Chile, Santiago, 7820436, Chile\n",
    "\n",
    "Notes: This tutorial was created for the manuscript \"*Atlas*: Automatic modeling of regulation of bacterial gene expression and metabolism using rule-based languages\", first submitted for peer-review to Bioinformatics on May, 2020."
   ]
  },
  {
   "cell_type": "markdown",
   "metadata": {},
   "source": [
    "## Prerequisites"
   ]
  },
  {
   "cell_type": "markdown",
   "metadata": {},
   "source": [
    "0. The tutorial was prepared and executed on Ubuntu 20.04, PathwayTools version 24, and docker engine version 19.03.8.<br/><br/>\n",
    "\n",
    "1. PathwayTools must be installed and running to obtain data from the EcoCyc database. Please, run ```pathway-tools -lisp -python-local-only``` before to obtain any data.<br/>\n",
    "   (Optional) The PathwayTools software could be executed in the background, with help of ```nohup pathway-tools -lisp -python-local-only > /dev/null 2> /dev/null &```.<br/>\n",
    "   Please follow instructions at http://pathwaytools.org/ to obtain a licensed copy of the software from https://biocyc.org/download-bundle.shtml. However, data could be manually formatted using a text-based editor or a spreadsheet software.\n",
    "   \n",
    "   Note: If you ran into the ```pathway-tools/ptools/24.0/exe/aclssl.so: undefined symbol: CRYPTO_set_locking_callback``` error, please follow instructions here: https://github.com/glucksfall/atlas/tree/master/PTools-v24. Instructions will guide you to install a docker image that is able to run pathway tools, but does not include it, so you still need to obtain the software with a valid license.<br/><br/>\n",
    "   \n",
    "2. (Highly recommended) Install Docker. Please follow instructions for a supported Operating System https://docs.docker.com/engine/install/:<br/>\n",
    "   On Ubuntu, install it with ```apt-get install docker.io```.<br/>\n",
    "   On Win10, install Docker Desktop with WSL2 support https://docs.docker.com/docker-for-windows/wsl/.<br/>\n",
    "   On MacOS, install Docker Desktop https://docs.docker.com/docker-for-mac/install/.<br/><br/>\n",
    "   The Docker ```networkbiolab/pleiades```installs the python packages, the jupyter server, and the stochastic simulators.<br/><br/>\n",
    "\n",
    "3. (Recommended) Jupyter notebook. We recommend the use of Anaconda3 https://www.anaconda.com/products/individual because of the easier installation of the stochastic simulators from https://anaconda.org/alubbock.<br/><br/>\n",
    "\n",
    "4. (Optional) A stochastic simulator, supported by the pySB python package ([BNG2](https://github.com/RuleWorld/bionetgen), [NFsim](https://github.com/ruleworld/nfsim/tree/9178d44455f6e27a81f398074eeaafb2a1a4b4bd), [KaSim](https://github.com/Kappa-Dev/KappaTools) or [Stochkit](https://github.com/StochSS/StochKit)). pySB requires BNG2 to simulate models with NFsim.<br/><br/>\n",
    "\n",
    "5. (Optional) Cytoscape to visualize metabolic networks and others.<br/><br/>\n",
    "\n",
    "6. (Optional) A deterministic simulator: pySB supports ODE integration via scipy.integrate.ode, BioNetGen ODE integration, and CUDA-accelerated ODE integration with Marco S. Nobile's cupSODA software (https://github.com/aresio/cupSODA). If the user feel comfortable with SBML models, pySB could export to SBML and deterministic simulation done with libRoadRunner (http://libroadrunner.org/), Tellurium (http://tellurium.analogmachine.org/), COPASI (http://copasi.org/), etc."
   ]
  },
  {
   "cell_type": "markdown",
   "metadata": {},
   "source": [
    "## Installation"
   ]
  },
  {
   "cell_type": "markdown",
   "metadata": {},
   "source": [
    "0. If you are running the docker image \"pleiades\", please go directly to the section \"Preamble\".<br/><br/>\n",
    "1. To install, please follow one of the following steps:<br/><br/>\n",
    "   1. Install the docker image \"pleiades\" using ```docker pull networkbiolab/pleiades```. The container is based on the Anaconda3 software and it installs Atlas, and the stochastic simulators BNG2, NFsim, KaSim, and Stochkit. After building the image, please run the container with ```docker run --detach --publish 10000:8888 networkbiolab/pleiades```, and go to ```localhost:10000``` in your preferred browser. The required password is ```pleiades```.<br/><br/>\n",
    "   2. Download or clone the Github repository from https://github.com/networkbiolab/pleiades with ```git clone https://github.com/networkbiolab/pleiades foo``` (where ```foo``` is an absolute or relative path). Then, you could build the docker image with ```docker build foo --tag pleiades``` and run it with ```docker run --detach --publish 10000:8888 pleiades```. Finally, go to ```localhost:10000``` in your preferred browser. The required password is ```pleiades```.<br/><br/>\n",
    "   3. Install with pip3: ```sudo -H python3 -m pip install pleiades``` or ```python3 -m pip install pleiades --user```. Pleiades is a meta-package that install Atlas (the rule-based modeller), Pleione (a genetic algorithm for parameter calibration of RBMs, compatible with SLURM), Alcyone (to perform identifiability analysis of parameters), and Sterope (to perform sensitivity analysis of parameters in kappa RBMs, compatible with SLURM).<br/>\n",
    "      You should install, configure, and run the jupyter notebook on your own: example ```sudo -H pip3 install jupyter && nohup python3 -m jupyter notebook --port=8888 --no-browser --port-retries=0 > /dev/null 2> /dev/null &```.<br/><br/>\n",
    "   4. Download or clone the Github repository from https://github.com/networkbiolab/atlas with ```git clone https://github.com/networkbiolab/atlas foo``` (where ```foo``` is an absolute or relative path). Requisites must be fulfilled manually with pip3: ```sudo -H python3 -m pip install pandas pysb pythoncyc jupyter seaborn``` or ```python3 -m pip install pandas pysb pythoncyc jupyter seaborn --user```."
   ]
  },
  {
   "cell_type": "markdown",
   "metadata": {},
   "source": [
    "## Objectives"
   ]
  },
  {
   "cell_type": "markdown",
   "metadata": {},
   "source": [
    "1. Get metabolic data: enzyme names, substrates, products, and location of enzymes.\n",
    "2. Basic manipulations of metabolic data: change reversibility, change enzyme location.\n",
    "3. Get composition of complexes for protein-protein interactions.\n",
    "4. Basic manipulations of interaction data: add and remove interactions.\n",
    "5. Perform simulation, plot of variables, and export of models.\n",
    "6. Get DNA architecture and build a model from a manually written network.\n",
    "7. Get protein-DNA and TF-metabolite interactions and build a model from manually written networks.\n",
    "8. Add gene regulatory interactions to transcription rules: Activation of transcription."
   ]
  },
  {
   "cell_type": "markdown",
   "metadata": {},
   "source": [
    "## Preamble: load *Atlas*"
   ]
  },
  {
   "cell_type": "code",
   "execution_count": 2,
   "metadata": {},
   "outputs": [],
   "source": [
    "# testing source code\n",
    "# required if atlas was cloned from GitHub and this notebook is executed from the tutorial directory.\n",
    "import sys\n",
    "sys.path.append(\"..\")\n",
    "\n",
    "import atlas_rbm.atlas as atlas\n",
    "import atlas_rbm.utils as utils\n",
    "import atlas_rbm.export as export\n",
    "import atlas_rbm.simulation as simulation"
   ]
  },
  {
   "cell_type": "code",
   "execution_count": 3,
   "metadata": {},
   "outputs": [
    {
     "name": "stdout",
     "output_type": "stream",
     "text": [
      "PathwayTools is not running.\n",
      "Please, execute execPathwayTools(path) or execPToolsDocker(dockername).\n"
     ]
    },
    {
     "data": {
      "text/plain": [
       "False"
      ]
     },
     "execution_count": 3,
     "metadata": {},
     "output_type": "execute_result"
    }
   ],
   "source": [
    "utils.checkPathwayTools()"
   ]
  },
  {
   "cell_type": "code",
   "execution_count": 4,
   "metadata": {},
   "outputs": [
    {
     "name": "stdout",
     "output_type": "stream",
     "text": [
      "Docker ptools-v24 is running (ID 6e8c47d8fa14b1b362c1f7bf7c4727fd721d4132045e127bd7ac6384ea068638)\n",
      "PathwayTools is running. Available PGDB are: META, ECOLI\n"
     ]
    }
   ],
   "source": [
    "utils.execPToolsDocker('ptools-v24')\n",
    "# execute this inside the docker will fail.\n",
    "# Please, execute `docker run --rm -d --network host ptools-v24` in a terminal"
   ]
  },
  {
   "cell_type": "markdown",
   "metadata": {},
   "source": [
    "## Getting data to model metabolism"
   ]
  },
  {
   "cell_type": "markdown",
   "metadata": {},
   "source": [
    "In this tutorial, we will obtain data from EcoCyc to model the lactose degradation that ocurr in *Escherichia coli*. We choose the lactose metabolism since it was discovered in the decade of 1960s and it is a common model of gene regulation with more than 50 years of biochemical information. In an side note, the characterization of the lactose operon and others rewarded their authors the 1965 Nobel Prize in Physiology or Medicine (https://www.nobelprize.org/prizes/medicine/1965/summary/)\n",
    "\n",
    "The lactose operon from *E. coli* consists of three genes: the $\\beta$-galactosidase gene lacZ, the lactose permease gene lacY (also known as lactose-proton symporter), and the galactoside O-acetyltransferase gene lacA.\n",
    "\n",
    "**Note**: The location is informed for all gene products, including the location of complexes formed by the encoded protein. Therefore, the location may reflect the location of the enzyme or its components before complex assembly. Still, there are 154 enzymatic and 3 transport reactions without known gene, and the location will set to unknown. \n",
    "\n",
    "**Note**: The location could be changed later with help of an utilitary function. The function ```utils.metabolicNetwork.FromEnzymeList()``` produces data in three formats for the ```GENE OR COMPLEX``` column:\n",
    "1. The ```product``` key produces networks with the name of the enzyme, but the model will not be compatible with the modeling of gene expression.<br/>\n",
    "   **Note**: The ```product``` key will try to retrieve the location of the enzyme or transporter. If not, the location refer to the location of the monomers of the complex, e.g. \"BETAGALACTOSID-CPLX\".<br/><br/>\n",
    "2. The ```gene``` key produces networks with the name of the gene (is the default), but the model will not be compatible with modeling of protein-protein interactions, specially for the modeling of heteromers.<br/>\n",
    "   **Note**: For enzyme complexes, the ```genes``` key will decompose the complex into its genes and locations of their products, e.g. the araFGH transporter (\"ABC-2-CPLX\") where the araG product locates to the cytoplasm and the inner membrane when interact with araH.<br/><br/>\n",
    "3. The ```complex``` key produces hyper-networks (brackets denote subnetworks, and we will subsequently call it as *hypergraph notation*), and in that way, Atlas produces a model that will be compatible with the modeling of protein-protein interactions and gene expression.<br/>\n",
    "   **Note**: For enzyme complexes, the ```complex``` key will decompose the complex into its genes AND write the stoichiometry of the complex in the *hypergraph notation*. If one or more monomers have two or more locations, the output will show as many rows to show all combinations. Be aware that some could be not physiologically possible."
   ]
  },
  {
   "cell_type": "code",
   "execution_count": 8,
   "metadata": {},
   "outputs": [
    {
     "name": "stdout",
     "output_type": "stream",
     "text": [
      "CPU times: user 50.5 ms, sys: 40.3 ms, total: 90.8 ms\n",
      "Wall time: 877 ms\n"
     ]
    },
    {
     "data": {
      "text/html": [
       "<div>\n",
       "<style scoped>\n",
       "    .dataframe tbody tr th:only-of-type {\n",
       "        vertical-align: middle;\n",
       "    }\n",
       "\n",
       "    .dataframe tbody tr th {\n",
       "        vertical-align: top;\n",
       "    }\n",
       "\n",
       "    .dataframe thead th {\n",
       "        text-align: right;\n",
       "    }\n",
       "</style>\n",
       "<table border=\"1\" class=\"dataframe\">\n",
       "  <thead>\n",
       "    <tr style=\"text-align: right;\">\n",
       "      <th></th>\n",
       "      <th>GENE OR COMPLEX</th>\n",
       "      <th>ENZYME LOCATION</th>\n",
       "      <th>REACTION</th>\n",
       "      <th>SUBSTRATES</th>\n",
       "      <th>PRODUCTS</th>\n",
       "      <th>FWD_RATE</th>\n",
       "      <th>RVS_RATE</th>\n",
       "    </tr>\n",
       "  </thead>\n",
       "  <tbody>\n",
       "    <tr>\n",
       "      <th>0</th>\n",
       "      <td>ABC-2-CPLX</td>\n",
       "      <td>inner membrane</td>\n",
       "      <td>ABC-2-RXN</td>\n",
       "      <td>WATER,ATP,L-ARABINOSE</td>\n",
       "      <td>Pi,ADP,PROTON,L-ARABINOSE</td>\n",
       "      <td>1.0</td>\n",
       "      <td>0.0</td>\n",
       "    </tr>\n",
       "    <tr>\n",
       "      <th>1</th>\n",
       "      <td>BETAGALACTOSID-CPLX</td>\n",
       "      <td>cytosol</td>\n",
       "      <td>BETAGALACTOSID-RXN</td>\n",
       "      <td>CPD-15972,WATER</td>\n",
       "      <td>GALACTOSE,Glucopyranose</td>\n",
       "      <td>1.0</td>\n",
       "      <td>0.0</td>\n",
       "    </tr>\n",
       "    <tr>\n",
       "      <th>2</th>\n",
       "      <td>BETAGALACTOSID-CPLX</td>\n",
       "      <td>cytosol</td>\n",
       "      <td>RXN0-5363</td>\n",
       "      <td>Alpha-lactose</td>\n",
       "      <td>ALLOLACTOSE</td>\n",
       "      <td>1.0</td>\n",
       "      <td>1.0</td>\n",
       "    </tr>\n",
       "    <tr>\n",
       "      <th>3</th>\n",
       "      <td>BETAGALACTOSID-CPLX</td>\n",
       "      <td>cytosol</td>\n",
       "      <td>RXN-17726</td>\n",
       "      <td>CPD-3561,WATER</td>\n",
       "      <td>GALACTOSE,Fructofuranose</td>\n",
       "      <td>1.0</td>\n",
       "      <td>0.0</td>\n",
       "    </tr>\n",
       "    <tr>\n",
       "      <th>4</th>\n",
       "      <td>BETAGALACTOSID-CPLX</td>\n",
       "      <td>cytosol</td>\n",
       "      <td>RXN0-7219</td>\n",
       "      <td>CPD-3785,WATER</td>\n",
       "      <td>GALACTOSE,D-ARABINOSE</td>\n",
       "      <td>1.0</td>\n",
       "      <td>0.0</td>\n",
       "    </tr>\n",
       "    <tr>\n",
       "      <th>5</th>\n",
       "      <td>GALACTOACETYLTRAN-CPLX</td>\n",
       "      <td>cytosol</td>\n",
       "      <td>GALACTOACETYLTRAN-RXN</td>\n",
       "      <td>Beta-D-Galactosides,ACETYL-COA</td>\n",
       "      <td>6-Acetyl-Beta-D-Galactosides,CO-A</td>\n",
       "      <td>1.0</td>\n",
       "      <td>0.0</td>\n",
       "    </tr>\n",
       "    <tr>\n",
       "      <th>6</th>\n",
       "      <td>LACY-MONOMER</td>\n",
       "      <td>inner membrane</td>\n",
       "      <td>TRANS-RXN-24</td>\n",
       "      <td>PROTON,Alpha-lactose</td>\n",
       "      <td>PROTON,Alpha-lactose</td>\n",
       "      <td>1.0</td>\n",
       "      <td>1.0</td>\n",
       "    </tr>\n",
       "    <tr>\n",
       "      <th>7</th>\n",
       "      <td>LACY-MONOMER</td>\n",
       "      <td>inner membrane</td>\n",
       "      <td>TRANS-RXN-94</td>\n",
       "      <td>PROTON,MELIBIOSE</td>\n",
       "      <td>PROTON,MELIBIOSE</td>\n",
       "      <td>1.0</td>\n",
       "      <td>1.0</td>\n",
       "    </tr>\n",
       "    <tr>\n",
       "      <th>8</th>\n",
       "      <td>LACY-MONOMER</td>\n",
       "      <td>inner membrane</td>\n",
       "      <td>RXN0-7215</td>\n",
       "      <td>PROTON,CPD-3561</td>\n",
       "      <td>PROTON,CPD-3561</td>\n",
       "      <td>1.0</td>\n",
       "      <td>1.0</td>\n",
       "    </tr>\n",
       "    <tr>\n",
       "      <th>9</th>\n",
       "      <td>LACY-MONOMER</td>\n",
       "      <td>inner membrane</td>\n",
       "      <td>RXN0-7217</td>\n",
       "      <td>PROTON,CPD-3785</td>\n",
       "      <td>PROTON,CPD-3785</td>\n",
       "      <td>1.0</td>\n",
       "      <td>1.0</td>\n",
       "    </tr>\n",
       "    <tr>\n",
       "      <th>10</th>\n",
       "      <td>LACY-MONOMER</td>\n",
       "      <td>inner membrane</td>\n",
       "      <td>RXN-17755</td>\n",
       "      <td>PROTON,CPD-3801</td>\n",
       "      <td>PROTON,CPD-3801</td>\n",
       "      <td>1.0</td>\n",
       "      <td>1.0</td>\n",
       "    </tr>\n",
       "  </tbody>\n",
       "</table>\n",
       "</div>"
      ],
      "text/plain": [
       "           GENE OR COMPLEX ENZYME LOCATION               REACTION  \\\n",
       "0               ABC-2-CPLX  inner membrane              ABC-2-RXN   \n",
       "1      BETAGALACTOSID-CPLX         cytosol     BETAGALACTOSID-RXN   \n",
       "2      BETAGALACTOSID-CPLX         cytosol              RXN0-5363   \n",
       "3      BETAGALACTOSID-CPLX         cytosol              RXN-17726   \n",
       "4      BETAGALACTOSID-CPLX         cytosol              RXN0-7219   \n",
       "5   GALACTOACETYLTRAN-CPLX         cytosol  GALACTOACETYLTRAN-RXN   \n",
       "6             LACY-MONOMER  inner membrane           TRANS-RXN-24   \n",
       "7             LACY-MONOMER  inner membrane           TRANS-RXN-94   \n",
       "8             LACY-MONOMER  inner membrane              RXN0-7215   \n",
       "9             LACY-MONOMER  inner membrane              RXN0-7217   \n",
       "10            LACY-MONOMER  inner membrane              RXN-17755   \n",
       "\n",
       "                        SUBSTRATES                           PRODUCTS  \\\n",
       "0            WATER,ATP,L-ARABINOSE          Pi,ADP,PROTON,L-ARABINOSE   \n",
       "1                  CPD-15972,WATER            GALACTOSE,Glucopyranose   \n",
       "2                    Alpha-lactose                        ALLOLACTOSE   \n",
       "3                   CPD-3561,WATER           GALACTOSE,Fructofuranose   \n",
       "4                   CPD-3785,WATER              GALACTOSE,D-ARABINOSE   \n",
       "5   Beta-D-Galactosides,ACETYL-COA  6-Acetyl-Beta-D-Galactosides,CO-A   \n",
       "6             PROTON,Alpha-lactose               PROTON,Alpha-lactose   \n",
       "7                 PROTON,MELIBIOSE                   PROTON,MELIBIOSE   \n",
       "8                  PROTON,CPD-3561                    PROTON,CPD-3561   \n",
       "9                  PROTON,CPD-3785                    PROTON,CPD-3785   \n",
       "10                 PROTON,CPD-3801                    PROTON,CPD-3801   \n",
       "\n",
       "    FWD_RATE  RVS_RATE  \n",
       "0        1.0       0.0  \n",
       "1        1.0       0.0  \n",
       "2        1.0       1.0  \n",
       "3        1.0       0.0  \n",
       "4        1.0       0.0  \n",
       "5        1.0       0.0  \n",
       "6        1.0       1.0  \n",
       "7        1.0       1.0  \n",
       "8        1.0       1.0  \n",
       "9        1.0       1.0  \n",
       "10       1.0       1.0  "
      ]
     },
     "execution_count": 8,
     "metadata": {},
     "output_type": "execute_result"
    }
   ],
   "source": [
    "%time network = utils.metabolicNetwork.FromEnzymeList('ECOLI', ['GALACTOACETYLTRAN-CPLX', 'LACY-MONOMER', 'BETAGALACTOSID-CPLX', 'ABC-2-CPLX'], fmt = 'product')\n",
    "network"
   ]
  },
  {
   "cell_type": "markdown",
   "metadata": {},
   "source": [
    "**Note**: Using the ```utils.metabolicNetwork.FromEnzymeList()``` function with the ```all_enzymes()``` and ```all_transporters()``` functions from the pythoncyc package, we could obtain a **draft** network and a **draf** rule-based model of metabolism for the considered organism:"
   ]
  },
  {
   "cell_type": "code",
   "execution_count": 6,
   "metadata": {},
   "outputs": [
    {
     "name": "stdout",
     "output_type": "stream",
     "text": [
      "CPU times: user 3.05 s, sys: 2.73 s, total: 5.78 s\n",
      "Wall time: 55.6 s\n",
      "CPU times: user 7.97 ms, sys: 213 µs, total: 8.18 ms\n",
      "Wall time: 35.6 ms\n",
      "It was found duplicated reaction names in the network.\n",
      "Please check the conflicting_reactions.txt and correct them if necessary.\n",
      "CPU times: user 559 ms, sys: 41.3 ms, total: 600 ms\n",
      "Wall time: 626 ms\n"
     ]
    },
    {
     "data": {
      "text/plain": [
       "3"
      ]
     },
     "execution_count": 6,
     "metadata": {},
     "output_type": "execute_result"
    }
   ],
   "source": [
    "import pythoncyc\n",
    "%time network = utils.metabolicNetwork.FromEnzymeList('ECOLI', pythoncyc.select_organism('ECOLI').all_transporters())\n",
    "%time utils.metabolicNetwork.expand_network(network, 'ecocyc-v24-tps-cytoscape.txt')\n",
    "network.to_csv('ecoli-tps-v24.txt', sep = '\\t', index = False)\n",
    "%time atlas.construct_model_from_metabolic_network('ecoli-tps-v24.txt', noObservables=True, noInitials=True, toFile = 'model-transporters.py')\n",
    "len(network[network['ENZYME LOCATION'].str.match('unknown')]) # how many reactions are not mapped to a gene product"
   ]
  },
  {
   "cell_type": "code",
   "execution_count": 7,
   "metadata": {},
   "outputs": [
    {
     "name": "stdout",
     "output_type": "stream",
     "text": [
      "Unable to retrieve data for CPLX0-7889. Please, review the information at https://biocyc.org/ECOLI/NEW-IMAGE?object=CPLX0-7889 and post an issue at https://github.com/networkbiolab/atlas if you believe it is a software error.\n",
      "CPU times: user 9.49 s, sys: 9.5 s, total: 19 s\n",
      "Wall time: 3min\n",
      "CPU times: user 38.9 ms, sys: 0 ns, total: 38.9 ms\n",
      "Wall time: 38.8 ms\n",
      "It was found duplicated reaction names in the network.\n",
      "Please check the conflicting_reactions.txt and correct them if necessary.\n",
      "CPU times: user 1.14 s, sys: 19.8 ms, total: 1.16 s\n",
      "Wall time: 1.16 s\n"
     ]
    },
    {
     "data": {
      "text/plain": [
       "155"
      ]
     },
     "execution_count": 7,
     "metadata": {},
     "output_type": "execute_result"
    }
   ],
   "source": [
    "import pythoncyc\n",
    "%time network = utils.metabolicNetwork.FromEnzymeList('ECOLI', pythoncyc.select_organism('ECOLI').all_enzymes())\n",
    "%time utils.metabolicNetwork.expand_network(network, 'ecocyc-v24-enz-cytoscape.txt')\n",
    "network.to_csv('ecoli-enz-v24.txt', sep = '\\t', index = False)\n",
    "%time atlas.construct_model_from_metabolic_network('ecoli-enz-v24.txt', noObservables=True, noInitials=True, toFile = 'model-enzymes.py')\n",
    "len(network[network['ENZYME LOCATION'].str.match('unknown')]) # how many reactions are not mapped to a gene product"
   ]
  },
  {
   "cell_type": "markdown",
   "metadata": {},
   "source": [
    "However, we must know the exact enzyme ID from the database. As an alternative, we could obtain the metabolic reactions from the ```ECOLI``` database from PathwayTools with help of the ```utils.metabolicNetwork.FromGeneList()``` function. The function produce data in three formats for the ```GENE OR COMPLEX``` column:\n",
    "1. The ```product``` key produces networks with the name of the enzyme, but the model will not be compatible with the modeling of gene expression.<br/>\n",
    "   **Note**: The ```product``` key will find the product that perform the enzymatic reaction, e.g. lacZ produces monomers that interact to produce the enzyme. Also, it will write the location of the product(s) of the queried gene. It is a good practice to query only one gene of the complex.<br/><br/>\n",
    "2. The ```gene``` key produces networks with the name of the gene (is the default), but the model will not be compatible with modeling of protein-protein interactions, specially for the modeling of heteromers.<br/>\n",
    "   **Note**: The ```gene``` key will write the location of the product(s) of the queried gene., e.g. araF, araG, and araH.<br/><br/>\n",
    "3. The ```complex``` key produces hyper-networks, and in that way, Atlas will produce a model that is compatible with the modeling of protein-protein interactions and gene expression.<br/>\n",
    "   **Note**: The ```complex``` key will write the stoichiometry of the enzymatic complex of the queried gene, and the mapped location of the complex, all in *hypergraph notation*. It is a good practice query only one gene of the complex."
   ]
  },
  {
   "cell_type": "code",
   "execution_count": 8,
   "metadata": {},
   "outputs": [
    {
     "name": "stdout",
     "output_type": "stream",
     "text": [
      "CPU times: user 2.55 s, sys: 2.39 s, total: 4.94 s\n",
      "Wall time: 51.4 s\n"
     ]
    },
    {
     "data": {
      "text/html": [
       "<div>\n",
       "<style scoped>\n",
       "    .dataframe tbody tr th:only-of-type {\n",
       "        vertical-align: middle;\n",
       "    }\n",
       "\n",
       "    .dataframe tbody tr th {\n",
       "        vertical-align: top;\n",
       "    }\n",
       "\n",
       "    .dataframe thead th {\n",
       "        text-align: right;\n",
       "    }\n",
       "</style>\n",
       "<table border=\"1\" class=\"dataframe\">\n",
       "  <thead>\n",
       "    <tr style=\"text-align: right;\">\n",
       "      <th></th>\n",
       "      <th>GENE OR COMPLEX</th>\n",
       "      <th>ENZYME LOCATION</th>\n",
       "      <th>REACTION</th>\n",
       "      <th>SUBSTRATES</th>\n",
       "      <th>PRODUCTS</th>\n",
       "      <th>FWD_RATE</th>\n",
       "      <th>RVS_RATE</th>\n",
       "    </tr>\n",
       "  </thead>\n",
       "  <tbody>\n",
       "    <tr>\n",
       "      <th>0</th>\n",
       "      <td>ABC-2-CPLX</td>\n",
       "      <td>periplasmic space</td>\n",
       "      <td>ABC-2-RXN</td>\n",
       "      <td>WATER,ATP,L-ARABINOSE</td>\n",
       "      <td>Pi,ADP,PROTON,L-ARABINOSE</td>\n",
       "      <td>1.0</td>\n",
       "      <td>0.0</td>\n",
       "    </tr>\n",
       "    <tr>\n",
       "      <th>1</th>\n",
       "      <td>ABC-2-CPLX</td>\n",
       "      <td>inner membrane</td>\n",
       "      <td>ABC-2-RXN</td>\n",
       "      <td>WATER,ATP,L-ARABINOSE</td>\n",
       "      <td>Pi,ADP,PROTON,L-ARABINOSE</td>\n",
       "      <td>1.0</td>\n",
       "      <td>0.0</td>\n",
       "    </tr>\n",
       "    <tr>\n",
       "      <th>2</th>\n",
       "      <td>ABC-2-CPLX</td>\n",
       "      <td>cytosol</td>\n",
       "      <td>ABC-2-RXN</td>\n",
       "      <td>WATER,ATP,L-ARABINOSE</td>\n",
       "      <td>Pi,ADP,PROTON,L-ARABINOSE</td>\n",
       "      <td>1.0</td>\n",
       "      <td>0.0</td>\n",
       "    </tr>\n",
       "    <tr>\n",
       "      <th>3</th>\n",
       "      <td>ABC-2-CPLX</td>\n",
       "      <td>inner membrane</td>\n",
       "      <td>ABC-2-RXN</td>\n",
       "      <td>WATER,ATP,L-ARABINOSE</td>\n",
       "      <td>Pi,ADP,PROTON,L-ARABINOSE</td>\n",
       "      <td>1.0</td>\n",
       "      <td>0.0</td>\n",
       "    </tr>\n",
       "    <tr>\n",
       "      <th>4</th>\n",
       "      <td>GALACTOACETYLTRAN-CPLX</td>\n",
       "      <td>cytosol</td>\n",
       "      <td>GALACTOACETYLTRAN-RXN</td>\n",
       "      <td>Beta-D-Galactosides,ACETYL-COA</td>\n",
       "      <td>6-Acetyl-Beta-D-Galactosides,CO-A</td>\n",
       "      <td>1.0</td>\n",
       "      <td>0.0</td>\n",
       "    </tr>\n",
       "    <tr>\n",
       "      <th>5</th>\n",
       "      <td>LACY-MONOMER</td>\n",
       "      <td>inner membrane</td>\n",
       "      <td>TRANS-RXN-24</td>\n",
       "      <td>PROTON,Alpha-lactose</td>\n",
       "      <td>PROTON,Alpha-lactose</td>\n",
       "      <td>1.0</td>\n",
       "      <td>1.0</td>\n",
       "    </tr>\n",
       "    <tr>\n",
       "      <th>6</th>\n",
       "      <td>LACY-MONOMER</td>\n",
       "      <td>inner membrane</td>\n",
       "      <td>TRANS-RXN-94</td>\n",
       "      <td>PROTON,MELIBIOSE</td>\n",
       "      <td>PROTON,MELIBIOSE</td>\n",
       "      <td>1.0</td>\n",
       "      <td>1.0</td>\n",
       "    </tr>\n",
       "    <tr>\n",
       "      <th>7</th>\n",
       "      <td>LACY-MONOMER</td>\n",
       "      <td>inner membrane</td>\n",
       "      <td>RXN0-7215</td>\n",
       "      <td>PROTON,CPD-3561</td>\n",
       "      <td>PROTON,CPD-3561</td>\n",
       "      <td>1.0</td>\n",
       "      <td>1.0</td>\n",
       "    </tr>\n",
       "    <tr>\n",
       "      <th>8</th>\n",
       "      <td>LACY-MONOMER</td>\n",
       "      <td>inner membrane</td>\n",
       "      <td>RXN0-7217</td>\n",
       "      <td>PROTON,CPD-3785</td>\n",
       "      <td>PROTON,CPD-3785</td>\n",
       "      <td>1.0</td>\n",
       "      <td>1.0</td>\n",
       "    </tr>\n",
       "    <tr>\n",
       "      <th>9</th>\n",
       "      <td>LACY-MONOMER</td>\n",
       "      <td>inner membrane</td>\n",
       "      <td>RXN-17755</td>\n",
       "      <td>PROTON,CPD-3801</td>\n",
       "      <td>PROTON,CPD-3801</td>\n",
       "      <td>1.0</td>\n",
       "      <td>1.0</td>\n",
       "    </tr>\n",
       "    <tr>\n",
       "      <th>10</th>\n",
       "      <td>BETAGALACTOSID-CPLX</td>\n",
       "      <td>cytosol</td>\n",
       "      <td>BETAGALACTOSID-RXN</td>\n",
       "      <td>CPD-15972,WATER</td>\n",
       "      <td>GALACTOSE,Glucopyranose</td>\n",
       "      <td>1.0</td>\n",
       "      <td>0.0</td>\n",
       "    </tr>\n",
       "    <tr>\n",
       "      <th>11</th>\n",
       "      <td>BETAGALACTOSID-CPLX</td>\n",
       "      <td>cytosol</td>\n",
       "      <td>RXN0-5363</td>\n",
       "      <td>Alpha-lactose</td>\n",
       "      <td>ALLOLACTOSE</td>\n",
       "      <td>1.0</td>\n",
       "      <td>1.0</td>\n",
       "    </tr>\n",
       "    <tr>\n",
       "      <th>12</th>\n",
       "      <td>BETAGALACTOSID-CPLX</td>\n",
       "      <td>cytosol</td>\n",
       "      <td>RXN-17726</td>\n",
       "      <td>CPD-3561,WATER</td>\n",
       "      <td>GALACTOSE,Fructofuranose</td>\n",
       "      <td>1.0</td>\n",
       "      <td>0.0</td>\n",
       "    </tr>\n",
       "    <tr>\n",
       "      <th>13</th>\n",
       "      <td>BETAGALACTOSID-CPLX</td>\n",
       "      <td>cytosol</td>\n",
       "      <td>RXN0-7219</td>\n",
       "      <td>CPD-3785,WATER</td>\n",
       "      <td>GALACTOSE,D-ARABINOSE</td>\n",
       "      <td>1.0</td>\n",
       "      <td>0.0</td>\n",
       "    </tr>\n",
       "  </tbody>\n",
       "</table>\n",
       "</div>"
      ],
      "text/plain": [
       "           GENE OR COMPLEX    ENZYME LOCATION               REACTION  \\\n",
       "0               ABC-2-CPLX  periplasmic space              ABC-2-RXN   \n",
       "1               ABC-2-CPLX     inner membrane              ABC-2-RXN   \n",
       "2               ABC-2-CPLX            cytosol              ABC-2-RXN   \n",
       "3               ABC-2-CPLX     inner membrane              ABC-2-RXN   \n",
       "4   GALACTOACETYLTRAN-CPLX            cytosol  GALACTOACETYLTRAN-RXN   \n",
       "5             LACY-MONOMER     inner membrane           TRANS-RXN-24   \n",
       "6             LACY-MONOMER     inner membrane           TRANS-RXN-94   \n",
       "7             LACY-MONOMER     inner membrane              RXN0-7215   \n",
       "8             LACY-MONOMER     inner membrane              RXN0-7217   \n",
       "9             LACY-MONOMER     inner membrane              RXN-17755   \n",
       "10     BETAGALACTOSID-CPLX            cytosol     BETAGALACTOSID-RXN   \n",
       "11     BETAGALACTOSID-CPLX            cytosol              RXN0-5363   \n",
       "12     BETAGALACTOSID-CPLX            cytosol              RXN-17726   \n",
       "13     BETAGALACTOSID-CPLX            cytosol              RXN0-7219   \n",
       "\n",
       "                        SUBSTRATES                           PRODUCTS  \\\n",
       "0            WATER,ATP,L-ARABINOSE          Pi,ADP,PROTON,L-ARABINOSE   \n",
       "1            WATER,ATP,L-ARABINOSE          Pi,ADP,PROTON,L-ARABINOSE   \n",
       "2            WATER,ATP,L-ARABINOSE          Pi,ADP,PROTON,L-ARABINOSE   \n",
       "3            WATER,ATP,L-ARABINOSE          Pi,ADP,PROTON,L-ARABINOSE   \n",
       "4   Beta-D-Galactosides,ACETYL-COA  6-Acetyl-Beta-D-Galactosides,CO-A   \n",
       "5             PROTON,Alpha-lactose               PROTON,Alpha-lactose   \n",
       "6                 PROTON,MELIBIOSE                   PROTON,MELIBIOSE   \n",
       "7                  PROTON,CPD-3561                    PROTON,CPD-3561   \n",
       "8                  PROTON,CPD-3785                    PROTON,CPD-3785   \n",
       "9                  PROTON,CPD-3801                    PROTON,CPD-3801   \n",
       "10                 CPD-15972,WATER            GALACTOSE,Glucopyranose   \n",
       "11                   Alpha-lactose                        ALLOLACTOSE   \n",
       "12                  CPD-3561,WATER           GALACTOSE,Fructofuranose   \n",
       "13                  CPD-3785,WATER              GALACTOSE,D-ARABINOSE   \n",
       "\n",
       "    FWD_RATE  RVS_RATE  \n",
       "0        1.0       0.0  \n",
       "1        1.0       0.0  \n",
       "2        1.0       0.0  \n",
       "3        1.0       0.0  \n",
       "4        1.0       0.0  \n",
       "5        1.0       1.0  \n",
       "6        1.0       1.0  \n",
       "7        1.0       1.0  \n",
       "8        1.0       1.0  \n",
       "9        1.0       1.0  \n",
       "10       1.0       0.0  \n",
       "11       1.0       1.0  \n",
       "12       1.0       0.0  \n",
       "13       1.0       0.0  "
      ]
     },
     "execution_count": 8,
     "metadata": {},
     "output_type": "execute_result"
    }
   ],
   "source": [
    "%time utils.metabolicNetwork.FromGeneList('ECOLI', ['lacZ', 'lacA', 'lacY', 'araF', 'araG', 'araH'], fmt = 'product')"
   ]
  },
  {
   "cell_type": "markdown",
   "metadata": {},
   "source": [
    "**Note**: The function is particularly slow since it needs to build a dataframe to map gene names (e.g. *lacY*) to the internal identification name that PathwayTools understand: ```EG10526``` <-> ```lacY```. With that internal identification, the function looks for enzymes, reactions of those enzymes, the substrates and products of those reactions, and the location of the enzymes. We could accelerate the process (useful for repeated gathering of data) if we execute ```utils.returnCommonNames()``` and utilize that precalculated dataframe and pass to the utilitary functions."
   ]
  },
  {
   "cell_type": "code",
   "execution_count": 9,
   "metadata": {},
   "outputs": [
    {
     "name": "stdout",
     "output_type": "stream",
     "text": [
      "CPU times: user 1.61 ms, sys: 1.24 ms, total: 2.86 ms\n",
      "Wall time: 13.6 ms\n"
     ]
    },
    {
     "data": {
      "text/plain": [
       "'lacY'"
      ]
     },
     "execution_count": 9,
     "metadata": {},
     "output_type": "execute_result"
    }
   ],
   "source": [
    "# %time utils.getData('ECOLI', 'EG10526')\n",
    "%time utils.getData('ECOLI', 'EG10526')['common_name'] # for simplicity of the output"
   ]
  },
  {
   "cell_type": "code",
   "execution_count": 10,
   "metadata": {},
   "outputs": [
    {
     "name": "stdout",
     "output_type": "stream",
     "text": [
      "CPU times: user 2.49 s, sys: 2.18 s, total: 4.67 s\n",
      "Wall time: 46.9 s\n"
     ]
    }
   ],
   "source": [
    "%time df_genes = utils.returnCommonNames('ECOLI')"
   ]
  },
  {
   "cell_type": "code",
   "execution_count": 11,
   "metadata": {},
   "outputs": [
    {
     "name": "stdout",
     "output_type": "stream",
     "text": [
      "CPU times: user 61.6 ms, sys: 64.4 ms, total: 126 ms\n",
      "Wall time: 1.29 s\n"
     ]
    },
    {
     "data": {
      "text/html": [
       "<div>\n",
       "<style scoped>\n",
       "    .dataframe tbody tr th:only-of-type {\n",
       "        vertical-align: middle;\n",
       "    }\n",
       "\n",
       "    .dataframe tbody tr th {\n",
       "        vertical-align: top;\n",
       "    }\n",
       "\n",
       "    .dataframe thead th {\n",
       "        text-align: right;\n",
       "    }\n",
       "</style>\n",
       "<table border=\"1\" class=\"dataframe\">\n",
       "  <thead>\n",
       "    <tr style=\"text-align: right;\">\n",
       "      <th></th>\n",
       "      <th>GENE OR COMPLEX</th>\n",
       "      <th>ENZYME LOCATION</th>\n",
       "      <th>REACTION</th>\n",
       "      <th>SUBSTRATES</th>\n",
       "      <th>PRODUCTS</th>\n",
       "      <th>FWD_RATE</th>\n",
       "      <th>RVS_RATE</th>\n",
       "    </tr>\n",
       "  </thead>\n",
       "  <tbody>\n",
       "    <tr>\n",
       "      <th>0</th>\n",
       "      <td>ABC-2-CPLX</td>\n",
       "      <td>periplasmic space</td>\n",
       "      <td>ABC-2-RXN</td>\n",
       "      <td>WATER,ATP,L-ARABINOSE</td>\n",
       "      <td>Pi,ADP,PROTON,L-ARABINOSE</td>\n",
       "      <td>1.0</td>\n",
       "      <td>0.0</td>\n",
       "    </tr>\n",
       "    <tr>\n",
       "      <th>1</th>\n",
       "      <td>ABC-2-CPLX</td>\n",
       "      <td>inner membrane</td>\n",
       "      <td>ABC-2-RXN</td>\n",
       "      <td>WATER,ATP,L-ARABINOSE</td>\n",
       "      <td>Pi,ADP,PROTON,L-ARABINOSE</td>\n",
       "      <td>1.0</td>\n",
       "      <td>0.0</td>\n",
       "    </tr>\n",
       "    <tr>\n",
       "      <th>2</th>\n",
       "      <td>ABC-2-CPLX</td>\n",
       "      <td>cytosol</td>\n",
       "      <td>ABC-2-RXN</td>\n",
       "      <td>WATER,ATP,L-ARABINOSE</td>\n",
       "      <td>Pi,ADP,PROTON,L-ARABINOSE</td>\n",
       "      <td>1.0</td>\n",
       "      <td>0.0</td>\n",
       "    </tr>\n",
       "    <tr>\n",
       "      <th>3</th>\n",
       "      <td>ABC-2-CPLX</td>\n",
       "      <td>inner membrane</td>\n",
       "      <td>ABC-2-RXN</td>\n",
       "      <td>WATER,ATP,L-ARABINOSE</td>\n",
       "      <td>Pi,ADP,PROTON,L-ARABINOSE</td>\n",
       "      <td>1.0</td>\n",
       "      <td>0.0</td>\n",
       "    </tr>\n",
       "    <tr>\n",
       "      <th>4</th>\n",
       "      <td>GALACTOACETYLTRAN-CPLX</td>\n",
       "      <td>cytosol</td>\n",
       "      <td>GALACTOACETYLTRAN-RXN</td>\n",
       "      <td>Beta-D-Galactosides,ACETYL-COA</td>\n",
       "      <td>6-Acetyl-Beta-D-Galactosides,CO-A</td>\n",
       "      <td>1.0</td>\n",
       "      <td>0.0</td>\n",
       "    </tr>\n",
       "    <tr>\n",
       "      <th>5</th>\n",
       "      <td>LACY-MONOMER</td>\n",
       "      <td>inner membrane</td>\n",
       "      <td>TRANS-RXN-24</td>\n",
       "      <td>PROTON,Alpha-lactose</td>\n",
       "      <td>PROTON,Alpha-lactose</td>\n",
       "      <td>1.0</td>\n",
       "      <td>1.0</td>\n",
       "    </tr>\n",
       "    <tr>\n",
       "      <th>6</th>\n",
       "      <td>LACY-MONOMER</td>\n",
       "      <td>inner membrane</td>\n",
       "      <td>TRANS-RXN-94</td>\n",
       "      <td>PROTON,MELIBIOSE</td>\n",
       "      <td>PROTON,MELIBIOSE</td>\n",
       "      <td>1.0</td>\n",
       "      <td>1.0</td>\n",
       "    </tr>\n",
       "    <tr>\n",
       "      <th>7</th>\n",
       "      <td>LACY-MONOMER</td>\n",
       "      <td>inner membrane</td>\n",
       "      <td>RXN0-7215</td>\n",
       "      <td>PROTON,CPD-3561</td>\n",
       "      <td>PROTON,CPD-3561</td>\n",
       "      <td>1.0</td>\n",
       "      <td>1.0</td>\n",
       "    </tr>\n",
       "    <tr>\n",
       "      <th>8</th>\n",
       "      <td>LACY-MONOMER</td>\n",
       "      <td>inner membrane</td>\n",
       "      <td>RXN0-7217</td>\n",
       "      <td>PROTON,CPD-3785</td>\n",
       "      <td>PROTON,CPD-3785</td>\n",
       "      <td>1.0</td>\n",
       "      <td>1.0</td>\n",
       "    </tr>\n",
       "    <tr>\n",
       "      <th>9</th>\n",
       "      <td>LACY-MONOMER</td>\n",
       "      <td>inner membrane</td>\n",
       "      <td>RXN-17755</td>\n",
       "      <td>PROTON,CPD-3801</td>\n",
       "      <td>PROTON,CPD-3801</td>\n",
       "      <td>1.0</td>\n",
       "      <td>1.0</td>\n",
       "    </tr>\n",
       "    <tr>\n",
       "      <th>10</th>\n",
       "      <td>BETAGALACTOSID-CPLX</td>\n",
       "      <td>cytosol</td>\n",
       "      <td>BETAGALACTOSID-RXN</td>\n",
       "      <td>CPD-15972,WATER</td>\n",
       "      <td>GALACTOSE,Glucopyranose</td>\n",
       "      <td>1.0</td>\n",
       "      <td>0.0</td>\n",
       "    </tr>\n",
       "    <tr>\n",
       "      <th>11</th>\n",
       "      <td>BETAGALACTOSID-CPLX</td>\n",
       "      <td>cytosol</td>\n",
       "      <td>RXN0-5363</td>\n",
       "      <td>Alpha-lactose</td>\n",
       "      <td>ALLOLACTOSE</td>\n",
       "      <td>1.0</td>\n",
       "      <td>1.0</td>\n",
       "    </tr>\n",
       "    <tr>\n",
       "      <th>12</th>\n",
       "      <td>BETAGALACTOSID-CPLX</td>\n",
       "      <td>cytosol</td>\n",
       "      <td>RXN-17726</td>\n",
       "      <td>CPD-3561,WATER</td>\n",
       "      <td>GALACTOSE,Fructofuranose</td>\n",
       "      <td>1.0</td>\n",
       "      <td>0.0</td>\n",
       "    </tr>\n",
       "    <tr>\n",
       "      <th>13</th>\n",
       "      <td>BETAGALACTOSID-CPLX</td>\n",
       "      <td>cytosol</td>\n",
       "      <td>RXN0-7219</td>\n",
       "      <td>CPD-3785,WATER</td>\n",
       "      <td>GALACTOSE,D-ARABINOSE</td>\n",
       "      <td>1.0</td>\n",
       "      <td>0.0</td>\n",
       "    </tr>\n",
       "  </tbody>\n",
       "</table>\n",
       "</div>"
      ],
      "text/plain": [
       "           GENE OR COMPLEX    ENZYME LOCATION               REACTION  \\\n",
       "0               ABC-2-CPLX  periplasmic space              ABC-2-RXN   \n",
       "1               ABC-2-CPLX     inner membrane              ABC-2-RXN   \n",
       "2               ABC-2-CPLX            cytosol              ABC-2-RXN   \n",
       "3               ABC-2-CPLX     inner membrane              ABC-2-RXN   \n",
       "4   GALACTOACETYLTRAN-CPLX            cytosol  GALACTOACETYLTRAN-RXN   \n",
       "5             LACY-MONOMER     inner membrane           TRANS-RXN-24   \n",
       "6             LACY-MONOMER     inner membrane           TRANS-RXN-94   \n",
       "7             LACY-MONOMER     inner membrane              RXN0-7215   \n",
       "8             LACY-MONOMER     inner membrane              RXN0-7217   \n",
       "9             LACY-MONOMER     inner membrane              RXN-17755   \n",
       "10     BETAGALACTOSID-CPLX            cytosol     BETAGALACTOSID-RXN   \n",
       "11     BETAGALACTOSID-CPLX            cytosol              RXN0-5363   \n",
       "12     BETAGALACTOSID-CPLX            cytosol              RXN-17726   \n",
       "13     BETAGALACTOSID-CPLX            cytosol              RXN0-7219   \n",
       "\n",
       "                        SUBSTRATES                           PRODUCTS  \\\n",
       "0            WATER,ATP,L-ARABINOSE          Pi,ADP,PROTON,L-ARABINOSE   \n",
       "1            WATER,ATP,L-ARABINOSE          Pi,ADP,PROTON,L-ARABINOSE   \n",
       "2            WATER,ATP,L-ARABINOSE          Pi,ADP,PROTON,L-ARABINOSE   \n",
       "3            WATER,ATP,L-ARABINOSE          Pi,ADP,PROTON,L-ARABINOSE   \n",
       "4   Beta-D-Galactosides,ACETYL-COA  6-Acetyl-Beta-D-Galactosides,CO-A   \n",
       "5             PROTON,Alpha-lactose               PROTON,Alpha-lactose   \n",
       "6                 PROTON,MELIBIOSE                   PROTON,MELIBIOSE   \n",
       "7                  PROTON,CPD-3561                    PROTON,CPD-3561   \n",
       "8                  PROTON,CPD-3785                    PROTON,CPD-3785   \n",
       "9                  PROTON,CPD-3801                    PROTON,CPD-3801   \n",
       "10                 CPD-15972,WATER            GALACTOSE,Glucopyranose   \n",
       "11                   Alpha-lactose                        ALLOLACTOSE   \n",
       "12                  CPD-3561,WATER           GALACTOSE,Fructofuranose   \n",
       "13                  CPD-3785,WATER              GALACTOSE,D-ARABINOSE   \n",
       "\n",
       "    FWD_RATE  RVS_RATE  \n",
       "0        1.0       0.0  \n",
       "1        1.0       0.0  \n",
       "2        1.0       0.0  \n",
       "3        1.0       0.0  \n",
       "4        1.0       0.0  \n",
       "5        1.0       1.0  \n",
       "6        1.0       1.0  \n",
       "7        1.0       1.0  \n",
       "8        1.0       1.0  \n",
       "9        1.0       1.0  \n",
       "10       1.0       0.0  \n",
       "11       1.0       1.0  \n",
       "12       1.0       0.0  \n",
       "13       1.0       0.0  "
      ]
     },
     "execution_count": 11,
     "metadata": {},
     "output_type": "execute_result"
    }
   ],
   "source": [
    "%time utils.metabolicNetwork.FromGeneList('ECOLI', ['lacZ', 'lacA', 'lacY', 'araF', 'araG', 'araH'], fmt = 'product', precalculated = df_genes)\n",
    "# ~35 times faster"
   ]
  },
  {
   "cell_type": "code",
   "execution_count": 12,
   "metadata": {},
   "outputs": [
    {
     "name": "stdout",
     "output_type": "stream",
     "text": [
      "CPU times: user 74.5 ms, sys: 57.8 ms, total: 132 ms\n",
      "Wall time: 1.39 s\n"
     ]
    },
    {
     "data": {
      "text/html": [
       "<div>\n",
       "<style scoped>\n",
       "    .dataframe tbody tr th:only-of-type {\n",
       "        vertical-align: middle;\n",
       "    }\n",
       "\n",
       "    .dataframe tbody tr th {\n",
       "        vertical-align: top;\n",
       "    }\n",
       "\n",
       "    .dataframe thead th {\n",
       "        text-align: right;\n",
       "    }\n",
       "</style>\n",
       "<table border=\"1\" class=\"dataframe\">\n",
       "  <thead>\n",
       "    <tr style=\"text-align: right;\">\n",
       "      <th></th>\n",
       "      <th>GENE OR COMPLEX</th>\n",
       "      <th>ENZYME LOCATION</th>\n",
       "      <th>REACTION</th>\n",
       "      <th>SUBSTRATES</th>\n",
       "      <th>PRODUCTS</th>\n",
       "      <th>FWD_RATE</th>\n",
       "      <th>RVS_RATE</th>\n",
       "    </tr>\n",
       "  </thead>\n",
       "  <tbody>\n",
       "    <tr>\n",
       "      <th>0</th>\n",
       "      <td>araF</td>\n",
       "      <td>periplasmic space</td>\n",
       "      <td>ABC-2-RXN</td>\n",
       "      <td>WATER,ATP,L-ARABINOSE</td>\n",
       "      <td>Pi,ADP,PROTON,L-ARABINOSE</td>\n",
       "      <td>1.0</td>\n",
       "      <td>0.0</td>\n",
       "    </tr>\n",
       "    <tr>\n",
       "      <th>1</th>\n",
       "      <td>araG</td>\n",
       "      <td>inner membrane</td>\n",
       "      <td>ABC-2-RXN</td>\n",
       "      <td>WATER,ATP,L-ARABINOSE</td>\n",
       "      <td>Pi,ADP,PROTON,L-ARABINOSE</td>\n",
       "      <td>1.0</td>\n",
       "      <td>0.0</td>\n",
       "    </tr>\n",
       "    <tr>\n",
       "      <th>2</th>\n",
       "      <td>araG</td>\n",
       "      <td>cytosol</td>\n",
       "      <td>ABC-2-RXN</td>\n",
       "      <td>WATER,ATP,L-ARABINOSE</td>\n",
       "      <td>Pi,ADP,PROTON,L-ARABINOSE</td>\n",
       "      <td>1.0</td>\n",
       "      <td>0.0</td>\n",
       "    </tr>\n",
       "    <tr>\n",
       "      <th>3</th>\n",
       "      <td>araH</td>\n",
       "      <td>inner membrane</td>\n",
       "      <td>ABC-2-RXN</td>\n",
       "      <td>WATER,ATP,L-ARABINOSE</td>\n",
       "      <td>Pi,ADP,PROTON,L-ARABINOSE</td>\n",
       "      <td>1.0</td>\n",
       "      <td>0.0</td>\n",
       "    </tr>\n",
       "    <tr>\n",
       "      <th>4</th>\n",
       "      <td>lacA</td>\n",
       "      <td>cytosol</td>\n",
       "      <td>GALACTOACETYLTRAN-RXN</td>\n",
       "      <td>Beta-D-Galactosides,ACETYL-COA</td>\n",
       "      <td>6-Acetyl-Beta-D-Galactosides,CO-A</td>\n",
       "      <td>1.0</td>\n",
       "      <td>0.0</td>\n",
       "    </tr>\n",
       "    <tr>\n",
       "      <th>5</th>\n",
       "      <td>lacY</td>\n",
       "      <td>inner membrane</td>\n",
       "      <td>TRANS-RXN-24</td>\n",
       "      <td>PROTON,Alpha-lactose</td>\n",
       "      <td>PROTON,Alpha-lactose</td>\n",
       "      <td>1.0</td>\n",
       "      <td>1.0</td>\n",
       "    </tr>\n",
       "    <tr>\n",
       "      <th>6</th>\n",
       "      <td>lacY</td>\n",
       "      <td>inner membrane</td>\n",
       "      <td>TRANS-RXN-94</td>\n",
       "      <td>PROTON,MELIBIOSE</td>\n",
       "      <td>PROTON,MELIBIOSE</td>\n",
       "      <td>1.0</td>\n",
       "      <td>1.0</td>\n",
       "    </tr>\n",
       "    <tr>\n",
       "      <th>7</th>\n",
       "      <td>lacY</td>\n",
       "      <td>inner membrane</td>\n",
       "      <td>RXN0-7215</td>\n",
       "      <td>PROTON,CPD-3561</td>\n",
       "      <td>PROTON,CPD-3561</td>\n",
       "      <td>1.0</td>\n",
       "      <td>1.0</td>\n",
       "    </tr>\n",
       "    <tr>\n",
       "      <th>8</th>\n",
       "      <td>lacY</td>\n",
       "      <td>inner membrane</td>\n",
       "      <td>RXN0-7217</td>\n",
       "      <td>PROTON,CPD-3785</td>\n",
       "      <td>PROTON,CPD-3785</td>\n",
       "      <td>1.0</td>\n",
       "      <td>1.0</td>\n",
       "    </tr>\n",
       "    <tr>\n",
       "      <th>9</th>\n",
       "      <td>lacY</td>\n",
       "      <td>inner membrane</td>\n",
       "      <td>RXN-17755</td>\n",
       "      <td>PROTON,CPD-3801</td>\n",
       "      <td>PROTON,CPD-3801</td>\n",
       "      <td>1.0</td>\n",
       "      <td>1.0</td>\n",
       "    </tr>\n",
       "    <tr>\n",
       "      <th>10</th>\n",
       "      <td>lacZ</td>\n",
       "      <td>cytosol</td>\n",
       "      <td>BETAGALACTOSID-RXN</td>\n",
       "      <td>CPD-15972,WATER</td>\n",
       "      <td>GALACTOSE,Glucopyranose</td>\n",
       "      <td>1.0</td>\n",
       "      <td>0.0</td>\n",
       "    </tr>\n",
       "    <tr>\n",
       "      <th>11</th>\n",
       "      <td>lacZ</td>\n",
       "      <td>cytosol</td>\n",
       "      <td>RXN0-5363</td>\n",
       "      <td>Alpha-lactose</td>\n",
       "      <td>ALLOLACTOSE</td>\n",
       "      <td>1.0</td>\n",
       "      <td>1.0</td>\n",
       "    </tr>\n",
       "    <tr>\n",
       "      <th>12</th>\n",
       "      <td>lacZ</td>\n",
       "      <td>cytosol</td>\n",
       "      <td>RXN-17726</td>\n",
       "      <td>CPD-3561,WATER</td>\n",
       "      <td>GALACTOSE,Fructofuranose</td>\n",
       "      <td>1.0</td>\n",
       "      <td>0.0</td>\n",
       "    </tr>\n",
       "    <tr>\n",
       "      <th>13</th>\n",
       "      <td>lacZ</td>\n",
       "      <td>cytosol</td>\n",
       "      <td>RXN0-7219</td>\n",
       "      <td>CPD-3785,WATER</td>\n",
       "      <td>GALACTOSE,D-ARABINOSE</td>\n",
       "      <td>1.0</td>\n",
       "      <td>0.0</td>\n",
       "    </tr>\n",
       "  </tbody>\n",
       "</table>\n",
       "</div>"
      ],
      "text/plain": [
       "   GENE OR COMPLEX    ENZYME LOCATION               REACTION  \\\n",
       "0             araF  periplasmic space              ABC-2-RXN   \n",
       "1             araG     inner membrane              ABC-2-RXN   \n",
       "2             araG            cytosol              ABC-2-RXN   \n",
       "3             araH     inner membrane              ABC-2-RXN   \n",
       "4             lacA            cytosol  GALACTOACETYLTRAN-RXN   \n",
       "5             lacY     inner membrane           TRANS-RXN-24   \n",
       "6             lacY     inner membrane           TRANS-RXN-94   \n",
       "7             lacY     inner membrane              RXN0-7215   \n",
       "8             lacY     inner membrane              RXN0-7217   \n",
       "9             lacY     inner membrane              RXN-17755   \n",
       "10            lacZ            cytosol     BETAGALACTOSID-RXN   \n",
       "11            lacZ            cytosol              RXN0-5363   \n",
       "12            lacZ            cytosol              RXN-17726   \n",
       "13            lacZ            cytosol              RXN0-7219   \n",
       "\n",
       "                        SUBSTRATES                           PRODUCTS  \\\n",
       "0            WATER,ATP,L-ARABINOSE          Pi,ADP,PROTON,L-ARABINOSE   \n",
       "1            WATER,ATP,L-ARABINOSE          Pi,ADP,PROTON,L-ARABINOSE   \n",
       "2            WATER,ATP,L-ARABINOSE          Pi,ADP,PROTON,L-ARABINOSE   \n",
       "3            WATER,ATP,L-ARABINOSE          Pi,ADP,PROTON,L-ARABINOSE   \n",
       "4   Beta-D-Galactosides,ACETYL-COA  6-Acetyl-Beta-D-Galactosides,CO-A   \n",
       "5             PROTON,Alpha-lactose               PROTON,Alpha-lactose   \n",
       "6                 PROTON,MELIBIOSE                   PROTON,MELIBIOSE   \n",
       "7                  PROTON,CPD-3561                    PROTON,CPD-3561   \n",
       "8                  PROTON,CPD-3785                    PROTON,CPD-3785   \n",
       "9                  PROTON,CPD-3801                    PROTON,CPD-3801   \n",
       "10                 CPD-15972,WATER            GALACTOSE,Glucopyranose   \n",
       "11                   Alpha-lactose                        ALLOLACTOSE   \n",
       "12                  CPD-3561,WATER           GALACTOSE,Fructofuranose   \n",
       "13                  CPD-3785,WATER              GALACTOSE,D-ARABINOSE   \n",
       "\n",
       "    FWD_RATE  RVS_RATE  \n",
       "0        1.0       0.0  \n",
       "1        1.0       0.0  \n",
       "2        1.0       0.0  \n",
       "3        1.0       0.0  \n",
       "4        1.0       0.0  \n",
       "5        1.0       1.0  \n",
       "6        1.0       1.0  \n",
       "7        1.0       1.0  \n",
       "8        1.0       1.0  \n",
       "9        1.0       1.0  \n",
       "10       1.0       0.0  \n",
       "11       1.0       1.0  \n",
       "12       1.0       0.0  \n",
       "13       1.0       0.0  "
      ]
     },
     "execution_count": 12,
     "metadata": {},
     "output_type": "execute_result"
    }
   ],
   "source": [
    "%time utils.metabolicNetwork.FromGeneList('ECOLI', ['lacZ', 'lacA', 'lacY', 'araF', 'araG', 'araH'], fmt = 'genes', precalculated = df_genes)"
   ]
  },
  {
   "cell_type": "code",
   "execution_count": 13,
   "metadata": {},
   "outputs": [
    {
     "name": "stdout",
     "output_type": "stream",
     "text": [
      "CPU times: user 121 ms, sys: 96.9 ms, total: 218 ms\n",
      "Wall time: 2.14 s\n"
     ]
    },
    {
     "data": {
      "text/html": [
       "<div>\n",
       "<style scoped>\n",
       "    .dataframe tbody tr th:only-of-type {\n",
       "        vertical-align: middle;\n",
       "    }\n",
       "\n",
       "    .dataframe tbody tr th {\n",
       "        vertical-align: top;\n",
       "    }\n",
       "\n",
       "    .dataframe thead th {\n",
       "        text-align: right;\n",
       "    }\n",
       "</style>\n",
       "<table border=\"1\" class=\"dataframe\">\n",
       "  <thead>\n",
       "    <tr style=\"text-align: right;\">\n",
       "      <th></th>\n",
       "      <th>GENE OR COMPLEX</th>\n",
       "      <th>ENZYME LOCATION</th>\n",
       "      <th>REACTION</th>\n",
       "      <th>SUBSTRATES</th>\n",
       "      <th>PRODUCTS</th>\n",
       "      <th>FWD_RATE</th>\n",
       "      <th>RVS_RATE</th>\n",
       "    </tr>\n",
       "  </thead>\n",
       "  <tbody>\n",
       "    <tr>\n",
       "      <th>0</th>\n",
       "      <td>[araG,araG,araH,araH,araF]</td>\n",
       "      <td>[inner membrane,inner membrane,inner membrane,...</td>\n",
       "      <td>ABC-2-RXN</td>\n",
       "      <td>WATER,ATP,L-ARABINOSE</td>\n",
       "      <td>Pi,ADP,PROTON,L-ARABINOSE</td>\n",
       "      <td>1.0</td>\n",
       "      <td>0.0</td>\n",
       "    </tr>\n",
       "    <tr>\n",
       "      <th>1</th>\n",
       "      <td>[araG,araG,araH,araH,araF]</td>\n",
       "      <td>[cytosol,cytosol,inner membrane,inner membrane...</td>\n",
       "      <td>ABC-2-RXN</td>\n",
       "      <td>WATER,ATP,L-ARABINOSE</td>\n",
       "      <td>Pi,ADP,PROTON,L-ARABINOSE</td>\n",
       "      <td>1.0</td>\n",
       "      <td>0.0</td>\n",
       "    </tr>\n",
       "    <tr>\n",
       "      <th>2</th>\n",
       "      <td>[araG,araG,araH,araH,araF]</td>\n",
       "      <td>[inner membrane,inner membrane,inner membrane,...</td>\n",
       "      <td>ABC-2-RXN</td>\n",
       "      <td>WATER,ATP,L-ARABINOSE</td>\n",
       "      <td>Pi,ADP,PROTON,L-ARABINOSE</td>\n",
       "      <td>1.0</td>\n",
       "      <td>0.0</td>\n",
       "    </tr>\n",
       "    <tr>\n",
       "      <th>3</th>\n",
       "      <td>[araG,araG,araH,araH,araF]</td>\n",
       "      <td>[cytosol,cytosol,inner membrane,inner membrane...</td>\n",
       "      <td>ABC-2-RXN</td>\n",
       "      <td>WATER,ATP,L-ARABINOSE</td>\n",
       "      <td>Pi,ADP,PROTON,L-ARABINOSE</td>\n",
       "      <td>1.0</td>\n",
       "      <td>0.0</td>\n",
       "    </tr>\n",
       "    <tr>\n",
       "      <th>4</th>\n",
       "      <td>[araG,araG,araH,araH,araF]</td>\n",
       "      <td>[inner membrane,inner membrane,inner membrane,...</td>\n",
       "      <td>ABC-2-RXN</td>\n",
       "      <td>WATER,ATP,L-ARABINOSE</td>\n",
       "      <td>Pi,ADP,PROTON,L-ARABINOSE</td>\n",
       "      <td>1.0</td>\n",
       "      <td>0.0</td>\n",
       "    </tr>\n",
       "    <tr>\n",
       "      <th>5</th>\n",
       "      <td>[araG,araG,araH,araH,araF]</td>\n",
       "      <td>[cytosol,cytosol,inner membrane,inner membrane...</td>\n",
       "      <td>ABC-2-RXN</td>\n",
       "      <td>WATER,ATP,L-ARABINOSE</td>\n",
       "      <td>Pi,ADP,PROTON,L-ARABINOSE</td>\n",
       "      <td>1.0</td>\n",
       "      <td>0.0</td>\n",
       "    </tr>\n",
       "    <tr>\n",
       "      <th>6</th>\n",
       "      <td>[lacA,lacA,lacA]</td>\n",
       "      <td>[cytosol,cytosol,cytosol]</td>\n",
       "      <td>GALACTOACETYLTRAN-RXN</td>\n",
       "      <td>Beta-D-Galactosides,ACETYL-COA</td>\n",
       "      <td>6-Acetyl-Beta-D-Galactosides,CO-A</td>\n",
       "      <td>1.0</td>\n",
       "      <td>0.0</td>\n",
       "    </tr>\n",
       "    <tr>\n",
       "      <th>7</th>\n",
       "      <td>lacY</td>\n",
       "      <td>inner membrane</td>\n",
       "      <td>TRANS-RXN-24</td>\n",
       "      <td>PROTON,Alpha-lactose</td>\n",
       "      <td>PROTON,Alpha-lactose</td>\n",
       "      <td>1.0</td>\n",
       "      <td>1.0</td>\n",
       "    </tr>\n",
       "    <tr>\n",
       "      <th>8</th>\n",
       "      <td>lacY</td>\n",
       "      <td>inner membrane</td>\n",
       "      <td>TRANS-RXN-94</td>\n",
       "      <td>PROTON,MELIBIOSE</td>\n",
       "      <td>PROTON,MELIBIOSE</td>\n",
       "      <td>1.0</td>\n",
       "      <td>1.0</td>\n",
       "    </tr>\n",
       "    <tr>\n",
       "      <th>9</th>\n",
       "      <td>lacY</td>\n",
       "      <td>inner membrane</td>\n",
       "      <td>RXN0-7215</td>\n",
       "      <td>PROTON,CPD-3561</td>\n",
       "      <td>PROTON,CPD-3561</td>\n",
       "      <td>1.0</td>\n",
       "      <td>1.0</td>\n",
       "    </tr>\n",
       "    <tr>\n",
       "      <th>10</th>\n",
       "      <td>lacY</td>\n",
       "      <td>inner membrane</td>\n",
       "      <td>RXN0-7217</td>\n",
       "      <td>PROTON,CPD-3785</td>\n",
       "      <td>PROTON,CPD-3785</td>\n",
       "      <td>1.0</td>\n",
       "      <td>1.0</td>\n",
       "    </tr>\n",
       "    <tr>\n",
       "      <th>11</th>\n",
       "      <td>lacY</td>\n",
       "      <td>inner membrane</td>\n",
       "      <td>RXN-17755</td>\n",
       "      <td>PROTON,CPD-3801</td>\n",
       "      <td>PROTON,CPD-3801</td>\n",
       "      <td>1.0</td>\n",
       "      <td>1.0</td>\n",
       "    </tr>\n",
       "    <tr>\n",
       "      <th>12</th>\n",
       "      <td>[lacZ,lacZ,lacZ,lacZ]</td>\n",
       "      <td>[cytosol,cytosol,cytosol,cytosol]</td>\n",
       "      <td>BETAGALACTOSID-RXN</td>\n",
       "      <td>CPD-15972,WATER</td>\n",
       "      <td>GALACTOSE,Glucopyranose</td>\n",
       "      <td>1.0</td>\n",
       "      <td>0.0</td>\n",
       "    </tr>\n",
       "    <tr>\n",
       "      <th>13</th>\n",
       "      <td>[lacZ,lacZ,lacZ,lacZ]</td>\n",
       "      <td>[cytosol,cytosol,cytosol,cytosol]</td>\n",
       "      <td>RXN0-5363</td>\n",
       "      <td>Alpha-lactose</td>\n",
       "      <td>ALLOLACTOSE</td>\n",
       "      <td>1.0</td>\n",
       "      <td>1.0</td>\n",
       "    </tr>\n",
       "    <tr>\n",
       "      <th>14</th>\n",
       "      <td>[lacZ,lacZ,lacZ,lacZ]</td>\n",
       "      <td>[cytosol,cytosol,cytosol,cytosol]</td>\n",
       "      <td>RXN-17726</td>\n",
       "      <td>CPD-3561,WATER</td>\n",
       "      <td>GALACTOSE,Fructofuranose</td>\n",
       "      <td>1.0</td>\n",
       "      <td>0.0</td>\n",
       "    </tr>\n",
       "    <tr>\n",
       "      <th>15</th>\n",
       "      <td>[lacZ,lacZ,lacZ,lacZ]</td>\n",
       "      <td>[cytosol,cytosol,cytosol,cytosol]</td>\n",
       "      <td>RXN0-7219</td>\n",
       "      <td>CPD-3785,WATER</td>\n",
       "      <td>GALACTOSE,D-ARABINOSE</td>\n",
       "      <td>1.0</td>\n",
       "      <td>0.0</td>\n",
       "    </tr>\n",
       "  </tbody>\n",
       "</table>\n",
       "</div>"
      ],
      "text/plain": [
       "               GENE OR COMPLEX  \\\n",
       "0   [araG,araG,araH,araH,araF]   \n",
       "1   [araG,araG,araH,araH,araF]   \n",
       "2   [araG,araG,araH,araH,araF]   \n",
       "3   [araG,araG,araH,araH,araF]   \n",
       "4   [araG,araG,araH,araH,araF]   \n",
       "5   [araG,araG,araH,araH,araF]   \n",
       "6             [lacA,lacA,lacA]   \n",
       "7                         lacY   \n",
       "8                         lacY   \n",
       "9                         lacY   \n",
       "10                        lacY   \n",
       "11                        lacY   \n",
       "12       [lacZ,lacZ,lacZ,lacZ]   \n",
       "13       [lacZ,lacZ,lacZ,lacZ]   \n",
       "14       [lacZ,lacZ,lacZ,lacZ]   \n",
       "15       [lacZ,lacZ,lacZ,lacZ]   \n",
       "\n",
       "                                      ENZYME LOCATION               REACTION  \\\n",
       "0   [inner membrane,inner membrane,inner membrane,...              ABC-2-RXN   \n",
       "1   [cytosol,cytosol,inner membrane,inner membrane...              ABC-2-RXN   \n",
       "2   [inner membrane,inner membrane,inner membrane,...              ABC-2-RXN   \n",
       "3   [cytosol,cytosol,inner membrane,inner membrane...              ABC-2-RXN   \n",
       "4   [inner membrane,inner membrane,inner membrane,...              ABC-2-RXN   \n",
       "5   [cytosol,cytosol,inner membrane,inner membrane...              ABC-2-RXN   \n",
       "6                           [cytosol,cytosol,cytosol]  GALACTOACETYLTRAN-RXN   \n",
       "7                                      inner membrane           TRANS-RXN-24   \n",
       "8                                      inner membrane           TRANS-RXN-94   \n",
       "9                                      inner membrane              RXN0-7215   \n",
       "10                                     inner membrane              RXN0-7217   \n",
       "11                                     inner membrane              RXN-17755   \n",
       "12                  [cytosol,cytosol,cytosol,cytosol]     BETAGALACTOSID-RXN   \n",
       "13                  [cytosol,cytosol,cytosol,cytosol]              RXN0-5363   \n",
       "14                  [cytosol,cytosol,cytosol,cytosol]              RXN-17726   \n",
       "15                  [cytosol,cytosol,cytosol,cytosol]              RXN0-7219   \n",
       "\n",
       "                        SUBSTRATES                           PRODUCTS  \\\n",
       "0            WATER,ATP,L-ARABINOSE          Pi,ADP,PROTON,L-ARABINOSE   \n",
       "1            WATER,ATP,L-ARABINOSE          Pi,ADP,PROTON,L-ARABINOSE   \n",
       "2            WATER,ATP,L-ARABINOSE          Pi,ADP,PROTON,L-ARABINOSE   \n",
       "3            WATER,ATP,L-ARABINOSE          Pi,ADP,PROTON,L-ARABINOSE   \n",
       "4            WATER,ATP,L-ARABINOSE          Pi,ADP,PROTON,L-ARABINOSE   \n",
       "5            WATER,ATP,L-ARABINOSE          Pi,ADP,PROTON,L-ARABINOSE   \n",
       "6   Beta-D-Galactosides,ACETYL-COA  6-Acetyl-Beta-D-Galactosides,CO-A   \n",
       "7             PROTON,Alpha-lactose               PROTON,Alpha-lactose   \n",
       "8                 PROTON,MELIBIOSE                   PROTON,MELIBIOSE   \n",
       "9                  PROTON,CPD-3561                    PROTON,CPD-3561   \n",
       "10                 PROTON,CPD-3785                    PROTON,CPD-3785   \n",
       "11                 PROTON,CPD-3801                    PROTON,CPD-3801   \n",
       "12                 CPD-15972,WATER            GALACTOSE,Glucopyranose   \n",
       "13                   Alpha-lactose                        ALLOLACTOSE   \n",
       "14                  CPD-3561,WATER           GALACTOSE,Fructofuranose   \n",
       "15                  CPD-3785,WATER              GALACTOSE,D-ARABINOSE   \n",
       "\n",
       "    FWD_RATE  RVS_RATE  \n",
       "0        1.0       0.0  \n",
       "1        1.0       0.0  \n",
       "2        1.0       0.0  \n",
       "3        1.0       0.0  \n",
       "4        1.0       0.0  \n",
       "5        1.0       0.0  \n",
       "6        1.0       0.0  \n",
       "7        1.0       1.0  \n",
       "8        1.0       1.0  \n",
       "9        1.0       1.0  \n",
       "10       1.0       1.0  \n",
       "11       1.0       1.0  \n",
       "12       1.0       0.0  \n",
       "13       1.0       1.0  \n",
       "14       1.0       0.0  \n",
       "15       1.0       0.0  "
      ]
     },
     "execution_count": 13,
     "metadata": {},
     "output_type": "execute_result"
    }
   ],
   "source": [
    "%time utils.metabolicNetwork.FromGeneList('ECOLI', ['lacZ', 'lacA', 'lacY', 'araF', 'araG', 'araH'], fmt = 'complex', precalculated = df_genes)"
   ]
  },
  {
   "cell_type": "markdown",
   "metadata": {},
   "source": [
    "The output is a pandas dataframe that could be exported with ```network.to_csv(path)```, or in a two-columns format that Cytoscape could interpret as a network. The ```utils.metabolicNetwork.expand_network``` function reorders and exports the dataframe as a text file (in this case to ```./tutorial.txt```)."
   ]
  },
  {
   "cell_type": "code",
   "execution_count": 14,
   "metadata": {},
   "outputs": [
    {
     "name": "stdout",
     "output_type": "stream",
     "text": [
      "CPU times: user 46.5 ms, sys: 39.9 ms, total: 86.4 ms\n",
      "Wall time: 884 ms\n",
      "CPU times: user 0 ns, sys: 1.03 ms, total: 1.03 ms\n",
      "Wall time: 1.03 ms\n"
     ]
    }
   ],
   "source": [
    "%time network = utils.metabolicNetwork.FromGeneList('ECOLI', ['lacZ', 'lacA', 'lacY'], fmt = 'genes', precalculated = df_genes)\n",
    "%time utils.metabolicNetwork.expand_network(network, './lactose-metabolism-cytoscape-v1.txt')"
   ]
  },
  {
   "cell_type": "markdown",
   "metadata": {},
   "source": [
    "The following image was prepared from the ```tutorial.txt``` file, and you could reproduce it with Cytoscape:<br/>\n",
    "1. Click on the ```Import Network from File System``` icon or click on ```File -> Import -> Network from File...```.\n",
    "2. Navigate to the file and click on ```Open```.\n",
    "3. SOURCE, TARGET, and EDGE ATTRIBUTE are OK, but the 4th columns must be the SOURCE NODE ATTRIBUTE and the 5th column the TARGET NODE ATTRIBUTE. Click on the header and change it to the correct attribute. The attributes will help later to filter and to add format to nodes and edges.\n",
    "4. Click on ```Filter``` (on the right), then on the ```+``` icon and finally on ```Column Filter```:\n",
    "  1. On the selector, click on ```Edge: EDGE_ATTRIBUTE``` and change ```contains``` to ```is```.\n",
    "    1. Write ```NO_REVERSIBLE``` that will select edges that correspond to irreversible reactions. Click on ```Style```, then ```Edge``` (in the bottom), and click on the 3rd column to bypass the format of the ```Target Arrow Shape``` and select your favorite arrow shape.\n",
    "    2. Write ```REVERSIBLE``` and bypass the format of the ```Source Arrow Shape``` AND ```Target Arrow Shape```, and select your favorite arrow shape.\n",
    "  2. On the selector, click on ```Node: SOURCE_NODE_ATTRIBUTE```:\n",
    "    1. Write ```RXN``` that will select nodes enconding the reactions. Click on ```Style```, then on ```Node``` and bypass the ```Fill Color```. In the new window, you could set-up the color, e.g. #00AA50\n",
    "    2. Write ```GENE_PROD``` that will select nodes encoding the gene name, protein name, or the enzyme name. Click on ```Style```, then on ```Node``` and bypass the ```Fill Color```. In the new window, you could set-up the color, e.g. #CC0033\n",
    "    3. Write ```MET``` that will select nodes encoding substrate metabolites. Click on ```Style```, then on ```Node``` and bypass the ```Fill Color```. In the new window, you could set-up the color, e.g. #00ABDD. Also, set a shape for nodes, to differentiate substrates from products.\n",
    "  3. On the selector, click on ```Node: TARGET_NODE_ATTRIBUTE```:\n",
    "    1. Write ```MET``` that will select nodes encoding product metabolites. Click on ```Style```, then on ```Node``` and bypass the ```Fill Color```. In the new window, you could set-up the color, e.g. #00ABDD\n",
    "    \n",
    "<a id='figS1'></a>The result will be similar to <img src=\"lactose-metabolism-cytoscape-v1.png\" alt=\"drawing\" width=\"1000\"/>"
   ]
  },
  {
   "cell_type": "markdown",
   "metadata": {},
   "source": [
    "If we inspect the network, we could highlight four things:\n",
    "1. The lacA reaction is disconnect from the network formed by the lacZ and lacY reactions;\n",
    "2. The lacY reactions do not inform the metabolite compartment, so substrates and products refer to the same node;\n",
    "3. The utilization of *internal codes* for certain compounds; and\n",
    "4. The impossibility of alpha-lactose degradation into glucose (glucopyranose) and galactose.\n",
    "\n",
    "We could retrieve information from the reaction and metabolite nodes with the ```utils.getData()```function:"
   ]
  },
  {
   "cell_type": "code",
   "execution_count": 15,
   "metadata": {},
   "outputs": [
    {
     "name": "stdout",
     "output_type": "stream",
     "text": [
      "CPU times: user 2.86 ms, sys: 0 ns, total: 2.86 ms\n",
      "Wall time: 15.9 ms\n"
     ]
    },
    {
     "data": {
      "text/plain": [
       "['lactulose', 'CEPHULAC (TN)']"
      ]
     },
     "execution_count": 15,
     "metadata": {},
     "output_type": "execute_result"
    }
   ],
   "source": [
    "# utils.get_data('ECOLI', 'CPD-3561')\n",
    "%time utils.getData('ECOLI', 'CPD-3561')['names'] # for simplicity of the output"
   ]
  },
  {
   "cell_type": "markdown",
   "metadata": {},
   "source": [
    "We observe that ```CPD-3561``` correspond to [```lactulose```](https://www.ebi.ac.uk/chebi/searchId.do?chebiId=CHEBI:6359). Therefore, the EcoCyc database informs that LacY is able to incorporate [alpha-lactose](https://www.ebi.ac.uk/chebi/searchId.do?chebiId=CHEBI:36219), [melibiose](https://www.ebi.ac.uk/chebi/searchId.do?chebiId=CHEBI:28053), lactulose (```CPD-3561```), 3-O-galactosylarabinose ([```CPD-3785```](https://www.ebi.ac.uk/chebi/searchId.do?chebiId=CHEBI:73916)), and melibionate ([```CPD-3801```](https://pubchem.ncbi.nlm.nih.gov/compound/Melibionate)) into the cell cytoplasm. Interestingly, the common synthetic activator IPTG (o-nitrophenyl-𝛽-galactoside) is mentioned in the description for the lactose transporter (https://biocyc.org/gene?orgid=ECOLI&id=EG10526#), but there is no inclusion of the IPTG transport in the reactions of LacY."
   ]
  },
  {
   "cell_type": "code",
   "execution_count": 16,
   "metadata": {},
   "outputs": [
    {
     "name": "stdout",
     "output_type": "stream",
     "text": [
      "CPU times: user 1.53 ms, sys: 0 ns, total: 1.53 ms\n",
      "Wall time: 14.6 ms\n"
     ]
    },
    {
     "data": {
      "text/plain": [
       "['lactose',\n",
       " '&beta;-D-galactopyranosyl-(1&rarr;4)-D-glucopyranose',\n",
       " 'D-lactose',\n",
       " '&beta;-D-Galp-(1&rarr;4)-D-Glcp']"
      ]
     },
     "execution_count": 16,
     "metadata": {},
     "output_type": "execute_result"
    }
   ],
   "source": [
    "# utils.get_data('ECOLI', 'CPD-15972')\n",
    "%time utils.getData('ECOLI', 'CPD-15972')['names'] # for simplicity of the output"
   ]
  },
  {
   "cell_type": "markdown",
   "metadata": {},
   "source": [
    "Next, EcoCyc informs that LacZ could metabolize lactose  (```CPD-15972```) into galactose and glucopyranose, lactulose into 𝛽-galactose and fructofuranose, and 3-O-galactosylarabinose into 𝛽-galactose and arabinose. The difference in metabolite names between the lacY and lacZ reactions is enough to make a [disconnected pathway](#figS1). Specifically, the name lactose refers to the two anomers $\\alpha$- and $\\beta$-lactose because of EcoCyc uses generic names when enzymes show no stereoselectivity. In addition, galactose has also an anomeric center, but the database refers to it as $\\beta$-D-galactose without indication the enzyme could produce $\\alpha$-galactose from $\\alpha$-lactose. \n",
    "\n",
    "<!---\n",
    "Interestingly, galactose is able of mutarotation in solution (transition from the $\\alpha$- to the $\\beta$-anomer, and vice versa) and the galM gene product is required to convert $\\beta$-galactose in $\\alpha$-galactose for subsequent metabolic reactions only when the cell grows in lactose, but not when the cell grows in galactose. Moreover, a report shows that LacZ is able to hydrolyze $\\alpha$-lactose into $\\alpha$-galactose and $\\alpha$-glucose \\citep{Huber1981anomeric}. Another discordance refers to the description of the lactose pathway at EcoCyc, where the database describes that the $\\beta$-galactosidase enzyme is able to hydrolyze allolactose into galactose and glucose \\citep{Juers2012LacZ}, but the same information is missing from the description of the lacZ reactions (as similar was the case for IPTG transport by the lacY gene product). In addition, there is a report showing that the lactose permease could transport $\\beta$-lactose as well as $\\alpha$-lactose through the cell membrane \\citep{Huber1981anomeric}, and the apparent physiological non-importance of lacA gene product contrast with the plausibility to convert $\\beta$-galactose (a $\\beta$-D-galactoside) into 6-acetyl-$\\beta$-galactose.\n",
    "--->"
   ]
  },
  {
   "cell_type": "code",
   "execution_count": 17,
   "metadata": {},
   "outputs": [
    {
     "name": "stdout",
     "output_type": "stream",
     "text": [
      "&beta;-D-galactopyranose\n",
      "CPU times: user 1.64 ms, sys: 0 ns, total: 1.64 ms\n",
      "Wall time: 24.8 ms\n",
      "\n",
      "['&beta;-D-galactopyranose', '&beta;-D-galactose', 'cerebrose', '6-(hydroxymethyl)tetrahydropyran-2,3,4,5-tetraol']\n",
      "CPU times: user 2.81 ms, sys: 0 ns, total: 2.81 ms\n",
      "Wall time: 21.4 ms\n"
     ]
    }
   ],
   "source": [
    "%time print(utils.getData('ECOLI', 'GALACTOSE')['common_name'])\n",
    "print()\n",
    "%time print(utils.getData('ECOLI', 'GALACTOSE')['synonyms'])"
   ]
  },
  {
   "cell_type": "markdown",
   "metadata": {},
   "source": [
    "The advantage of the procedure is the ability to modify the data programatically using python functions (https://pandas.pydata.org/) or export the data and manipulate it using a text processor or a spreadsheet software. For routinary changes, we included utilitary functions to make batch manipulation to the data:"
   ]
  },
  {
   "cell_type": "code",
   "execution_count": 18,
   "metadata": {},
   "outputs": [
    {
     "name": "stdout",
     "output_type": "stream",
     "text": [
      "CPU times: user 7.39 ms, sys: 0 ns, total: 7.39 ms\n",
      "Wall time: 6.49 ms\n"
     ]
    },
    {
     "data": {
      "text/html": [
       "<div>\n",
       "<style scoped>\n",
       "    .dataframe tbody tr th:only-of-type {\n",
       "        vertical-align: middle;\n",
       "    }\n",
       "\n",
       "    .dataframe tbody tr th {\n",
       "        vertical-align: top;\n",
       "    }\n",
       "\n",
       "    .dataframe thead th {\n",
       "        text-align: right;\n",
       "    }\n",
       "</style>\n",
       "<table border=\"1\" class=\"dataframe\">\n",
       "  <thead>\n",
       "    <tr style=\"text-align: right;\">\n",
       "      <th></th>\n",
       "      <th>GENE OR COMPLEX</th>\n",
       "      <th>ENZYME LOCATION</th>\n",
       "      <th>REACTION</th>\n",
       "      <th>SUBSTRATES</th>\n",
       "      <th>PRODUCTS</th>\n",
       "      <th>FWD_RATE</th>\n",
       "      <th>RVS_RATE</th>\n",
       "    </tr>\n",
       "  </thead>\n",
       "  <tbody>\n",
       "    <tr>\n",
       "      <th>0</th>\n",
       "      <td>lacA</td>\n",
       "      <td>cytosol</td>\n",
       "      <td>GALACTOACETYLTRAN-RXN</td>\n",
       "      <td>Beta-D-Galactosides,ACETYL-COA</td>\n",
       "      <td>6-Acetyl-Beta-D-Galactosides,CO-A</td>\n",
       "      <td>1.0</td>\n",
       "      <td>0.0</td>\n",
       "    </tr>\n",
       "    <tr>\n",
       "      <th>1</th>\n",
       "      <td>lacY</td>\n",
       "      <td>inner membrane</td>\n",
       "      <td>TRANS-RXN-24</td>\n",
       "      <td>PER-PROTON,PER-Alpha-lactose</td>\n",
       "      <td>PROTON,Alpha-lactose</td>\n",
       "      <td>1.0</td>\n",
       "      <td>1.0</td>\n",
       "    </tr>\n",
       "    <tr>\n",
       "      <th>2</th>\n",
       "      <td>lacY</td>\n",
       "      <td>inner membrane</td>\n",
       "      <td>TRANS-RXN-94</td>\n",
       "      <td>PER-PROTON,PER-MELIBIOSE</td>\n",
       "      <td>PROTON,MELIBIOSE</td>\n",
       "      <td>1.0</td>\n",
       "      <td>1.0</td>\n",
       "    </tr>\n",
       "    <tr>\n",
       "      <th>3</th>\n",
       "      <td>lacY</td>\n",
       "      <td>inner membrane</td>\n",
       "      <td>RXN0-7215</td>\n",
       "      <td>PER-PROTON,PER-CPD-3561</td>\n",
       "      <td>PROTON,CPD-3561</td>\n",
       "      <td>1.0</td>\n",
       "      <td>1.0</td>\n",
       "    </tr>\n",
       "    <tr>\n",
       "      <th>4</th>\n",
       "      <td>lacY</td>\n",
       "      <td>inner membrane</td>\n",
       "      <td>RXN0-7217</td>\n",
       "      <td>PER-PROTON,PER-CPD-3785</td>\n",
       "      <td>PROTON,CPD-3785</td>\n",
       "      <td>1.0</td>\n",
       "      <td>1.0</td>\n",
       "    </tr>\n",
       "    <tr>\n",
       "      <th>5</th>\n",
       "      <td>lacY</td>\n",
       "      <td>inner membrane</td>\n",
       "      <td>RXN-17755</td>\n",
       "      <td>PER-PROTON,PER-CPD-3801</td>\n",
       "      <td>PROTON,CPD-3801</td>\n",
       "      <td>1.0</td>\n",
       "      <td>1.0</td>\n",
       "    </tr>\n",
       "    <tr>\n",
       "      <th>6</th>\n",
       "      <td>lacZ</td>\n",
       "      <td>cytosol</td>\n",
       "      <td>BETAGALACTOSID-RXN</td>\n",
       "      <td>CPD-15972,WATER</td>\n",
       "      <td>GALACTOSE,Glucopyranose</td>\n",
       "      <td>1.0</td>\n",
       "      <td>0.0</td>\n",
       "    </tr>\n",
       "    <tr>\n",
       "      <th>7</th>\n",
       "      <td>lacZ</td>\n",
       "      <td>cytosol</td>\n",
       "      <td>RXN0-5363</td>\n",
       "      <td>Alpha-lactose</td>\n",
       "      <td>ALLOLACTOSE</td>\n",
       "      <td>1.0</td>\n",
       "      <td>1.0</td>\n",
       "    </tr>\n",
       "    <tr>\n",
       "      <th>8</th>\n",
       "      <td>lacZ</td>\n",
       "      <td>cytosol</td>\n",
       "      <td>RXN-17726</td>\n",
       "      <td>CPD-3561,WATER</td>\n",
       "      <td>GALACTOSE,Fructofuranose</td>\n",
       "      <td>1.0</td>\n",
       "      <td>0.0</td>\n",
       "    </tr>\n",
       "    <tr>\n",
       "      <th>9</th>\n",
       "      <td>lacZ</td>\n",
       "      <td>cytosol</td>\n",
       "      <td>RXN0-7219</td>\n",
       "      <td>CPD-3785,WATER</td>\n",
       "      <td>GALACTOSE,D-ARABINOSE</td>\n",
       "      <td>1.0</td>\n",
       "      <td>0.0</td>\n",
       "    </tr>\n",
       "  </tbody>\n",
       "</table>\n",
       "</div>"
      ],
      "text/plain": [
       "  GENE OR COMPLEX ENZYME LOCATION               REACTION  \\\n",
       "0            lacA         cytosol  GALACTOACETYLTRAN-RXN   \n",
       "1            lacY  inner membrane           TRANS-RXN-24   \n",
       "2            lacY  inner membrane           TRANS-RXN-94   \n",
       "3            lacY  inner membrane              RXN0-7215   \n",
       "4            lacY  inner membrane              RXN0-7217   \n",
       "5            lacY  inner membrane              RXN-17755   \n",
       "6            lacZ         cytosol     BETAGALACTOSID-RXN   \n",
       "7            lacZ         cytosol              RXN0-5363   \n",
       "8            lacZ         cytosol              RXN-17726   \n",
       "9            lacZ         cytosol              RXN0-7219   \n",
       "\n",
       "                       SUBSTRATES                           PRODUCTS  \\\n",
       "0  Beta-D-Galactosides,ACETYL-COA  6-Acetyl-Beta-D-Galactosides,CO-A   \n",
       "1    PER-PROTON,PER-Alpha-lactose               PROTON,Alpha-lactose   \n",
       "2        PER-PROTON,PER-MELIBIOSE                   PROTON,MELIBIOSE   \n",
       "3         PER-PROTON,PER-CPD-3561                    PROTON,CPD-3561   \n",
       "4         PER-PROTON,PER-CPD-3785                    PROTON,CPD-3785   \n",
       "5         PER-PROTON,PER-CPD-3801                    PROTON,CPD-3801   \n",
       "6                 CPD-15972,WATER            GALACTOSE,Glucopyranose   \n",
       "7                   Alpha-lactose                        ALLOLACTOSE   \n",
       "8                  CPD-3561,WATER           GALACTOSE,Fructofuranose   \n",
       "9                  CPD-3785,WATER              GALACTOSE,D-ARABINOSE   \n",
       "\n",
       "   FWD_RATE  RVS_RATE  \n",
       "0       1.0       0.0  \n",
       "1       1.0       1.0  \n",
       "2       1.0       1.0  \n",
       "3       1.0       1.0  \n",
       "4       1.0       1.0  \n",
       "5       1.0       1.0  \n",
       "6       1.0       0.0  \n",
       "7       1.0       1.0  \n",
       "8       1.0       0.0  \n",
       "9       1.0       0.0  "
      ]
     },
     "execution_count": 18,
     "metadata": {},
     "output_type": "execute_result"
    }
   ],
   "source": [
    "# Transport reactions: Add compartments to substrates and/or products\n",
    "%time network = utils.metabolicNetwork.setTransport(network, geneLst = ['lacY'], fromLst = ['PER'], toLst = ['CYT'])\n",
    "network"
   ]
  },
  {
   "cell_type": "markdown",
   "metadata": {},
   "source": [
    "**Note**: By default, Atlas interprets the default location of monomers as cytoplasmatic. When setting the location to ```CYT```, the ```setTransport()``` function will delete a previous compartment or append nothing to the name of the monomer."
   ]
  },
  {
   "cell_type": "code",
   "execution_count": 19,
   "metadata": {},
   "outputs": [
    {
     "name": "stdout",
     "output_type": "stream",
     "text": [
      "CPU times: user 3.98 ms, sys: 0 ns, total: 3.98 ms\n",
      "Wall time: 3.37 ms\n"
     ]
    },
    {
     "data": {
      "text/html": [
       "<div>\n",
       "<style scoped>\n",
       "    .dataframe tbody tr th:only-of-type {\n",
       "        vertical-align: middle;\n",
       "    }\n",
       "\n",
       "    .dataframe tbody tr th {\n",
       "        vertical-align: top;\n",
       "    }\n",
       "\n",
       "    .dataframe thead th {\n",
       "        text-align: right;\n",
       "    }\n",
       "</style>\n",
       "<table border=\"1\" class=\"dataframe\">\n",
       "  <thead>\n",
       "    <tr style=\"text-align: right;\">\n",
       "      <th></th>\n",
       "      <th>GENE OR COMPLEX</th>\n",
       "      <th>ENZYME LOCATION</th>\n",
       "      <th>REACTION</th>\n",
       "      <th>SUBSTRATES</th>\n",
       "      <th>PRODUCTS</th>\n",
       "      <th>FWD_RATE</th>\n",
       "      <th>RVS_RATE</th>\n",
       "    </tr>\n",
       "  </thead>\n",
       "  <tbody>\n",
       "    <tr>\n",
       "      <th>0</th>\n",
       "      <td>lacA</td>\n",
       "      <td>cytosol</td>\n",
       "      <td>GALACTOACETYLTRAN-RXN</td>\n",
       "      <td>Beta-D-Galactosides,ACETYL-COA</td>\n",
       "      <td>6-Acetyl-Beta-D-Galactosides,CO-A</td>\n",
       "      <td>1.0</td>\n",
       "      <td>0.0</td>\n",
       "    </tr>\n",
       "    <tr>\n",
       "      <th>1</th>\n",
       "      <td>lacY</td>\n",
       "      <td>inner membrane</td>\n",
       "      <td>TRANS-RXN-24</td>\n",
       "      <td>PER-PROTON,PER-Alpha-lactose</td>\n",
       "      <td>PROTON,Alpha-lactose</td>\n",
       "      <td>1.0</td>\n",
       "      <td>0.0</td>\n",
       "    </tr>\n",
       "    <tr>\n",
       "      <th>2</th>\n",
       "      <td>lacY</td>\n",
       "      <td>inner membrane</td>\n",
       "      <td>TRANS-RXN-94</td>\n",
       "      <td>PER-PROTON,PER-MELIBIOSE</td>\n",
       "      <td>PROTON,MELIBIOSE</td>\n",
       "      <td>1.0</td>\n",
       "      <td>0.0</td>\n",
       "    </tr>\n",
       "    <tr>\n",
       "      <th>3</th>\n",
       "      <td>lacY</td>\n",
       "      <td>inner membrane</td>\n",
       "      <td>RXN0-7215</td>\n",
       "      <td>PER-PROTON,PER-CPD-3561</td>\n",
       "      <td>PROTON,CPD-3561</td>\n",
       "      <td>1.0</td>\n",
       "      <td>0.0</td>\n",
       "    </tr>\n",
       "    <tr>\n",
       "      <th>4</th>\n",
       "      <td>lacY</td>\n",
       "      <td>inner membrane</td>\n",
       "      <td>RXN0-7217</td>\n",
       "      <td>PER-PROTON,PER-CPD-3785</td>\n",
       "      <td>PROTON,CPD-3785</td>\n",
       "      <td>1.0</td>\n",
       "      <td>0.0</td>\n",
       "    </tr>\n",
       "    <tr>\n",
       "      <th>5</th>\n",
       "      <td>lacY</td>\n",
       "      <td>inner membrane</td>\n",
       "      <td>RXN-17755</td>\n",
       "      <td>PER-PROTON,PER-CPD-3801</td>\n",
       "      <td>PROTON,CPD-3801</td>\n",
       "      <td>1.0</td>\n",
       "      <td>0.0</td>\n",
       "    </tr>\n",
       "    <tr>\n",
       "      <th>6</th>\n",
       "      <td>lacZ</td>\n",
       "      <td>cytosol</td>\n",
       "      <td>BETAGALACTOSID-RXN</td>\n",
       "      <td>CPD-15972,WATER</td>\n",
       "      <td>GALACTOSE,Glucopyranose</td>\n",
       "      <td>1.0</td>\n",
       "      <td>0.0</td>\n",
       "    </tr>\n",
       "    <tr>\n",
       "      <th>7</th>\n",
       "      <td>lacZ</td>\n",
       "      <td>cytosol</td>\n",
       "      <td>RXN0-5363</td>\n",
       "      <td>Alpha-lactose</td>\n",
       "      <td>ALLOLACTOSE</td>\n",
       "      <td>1.0</td>\n",
       "      <td>1.0</td>\n",
       "    </tr>\n",
       "    <tr>\n",
       "      <th>8</th>\n",
       "      <td>lacZ</td>\n",
       "      <td>cytosol</td>\n",
       "      <td>RXN-17726</td>\n",
       "      <td>CPD-3561,WATER</td>\n",
       "      <td>GALACTOSE,Fructofuranose</td>\n",
       "      <td>1.0</td>\n",
       "      <td>0.0</td>\n",
       "    </tr>\n",
       "    <tr>\n",
       "      <th>9</th>\n",
       "      <td>lacZ</td>\n",
       "      <td>cytosol</td>\n",
       "      <td>RXN0-7219</td>\n",
       "      <td>CPD-3785,WATER</td>\n",
       "      <td>GALACTOSE,D-ARABINOSE</td>\n",
       "      <td>1.0</td>\n",
       "      <td>0.0</td>\n",
       "    </tr>\n",
       "  </tbody>\n",
       "</table>\n",
       "</div>"
      ],
      "text/plain": [
       "  GENE OR COMPLEX ENZYME LOCATION               REACTION  \\\n",
       "0            lacA         cytosol  GALACTOACETYLTRAN-RXN   \n",
       "1            lacY  inner membrane           TRANS-RXN-24   \n",
       "2            lacY  inner membrane           TRANS-RXN-94   \n",
       "3            lacY  inner membrane              RXN0-7215   \n",
       "4            lacY  inner membrane              RXN0-7217   \n",
       "5            lacY  inner membrane              RXN-17755   \n",
       "6            lacZ         cytosol     BETAGALACTOSID-RXN   \n",
       "7            lacZ         cytosol              RXN0-5363   \n",
       "8            lacZ         cytosol              RXN-17726   \n",
       "9            lacZ         cytosol              RXN0-7219   \n",
       "\n",
       "                       SUBSTRATES                           PRODUCTS  \\\n",
       "0  Beta-D-Galactosides,ACETYL-COA  6-Acetyl-Beta-D-Galactosides,CO-A   \n",
       "1    PER-PROTON,PER-Alpha-lactose               PROTON,Alpha-lactose   \n",
       "2        PER-PROTON,PER-MELIBIOSE                   PROTON,MELIBIOSE   \n",
       "3         PER-PROTON,PER-CPD-3561                    PROTON,CPD-3561   \n",
       "4         PER-PROTON,PER-CPD-3785                    PROTON,CPD-3785   \n",
       "5         PER-PROTON,PER-CPD-3801                    PROTON,CPD-3801   \n",
       "6                 CPD-15972,WATER            GALACTOSE,Glucopyranose   \n",
       "7                   Alpha-lactose                        ALLOLACTOSE   \n",
       "8                  CPD-3561,WATER           GALACTOSE,Fructofuranose   \n",
       "9                  CPD-3785,WATER              GALACTOSE,D-ARABINOSE   \n",
       "\n",
       "   FWD_RATE  RVS_RATE  \n",
       "0       1.0       0.0  \n",
       "1       1.0       0.0  \n",
       "2       1.0       0.0  \n",
       "3       1.0       0.0  \n",
       "4       1.0       0.0  \n",
       "5       1.0       0.0  \n",
       "6       1.0       0.0  \n",
       "7       1.0       1.0  \n",
       "8       1.0       0.0  \n",
       "9       1.0       0.0  "
      ]
     },
     "execution_count": 19,
     "metadata": {},
     "output_type": "execute_result"
    }
   ],
   "source": [
    "# Irreversibility of reactions per gene: Change the Reverse Rate to zero\n",
    "%time network = utils.metabolicNetwork.setIrreversibility(network, geneLst = ['lacY', 'lacA'])\n",
    "network"
   ]
  },
  {
   "cell_type": "code",
   "execution_count": 20,
   "metadata": {},
   "outputs": [
    {
     "name": "stdout",
     "output_type": "stream",
     "text": [
      "CPU times: user 4.89 ms, sys: 504 µs, total: 5.39 ms\n",
      "Wall time: 5.47 ms\n"
     ]
    },
    {
     "data": {
      "text/html": [
       "<div>\n",
       "<style scoped>\n",
       "    .dataframe tbody tr th:only-of-type {\n",
       "        vertical-align: middle;\n",
       "    }\n",
       "\n",
       "    .dataframe tbody tr th {\n",
       "        vertical-align: top;\n",
       "    }\n",
       "\n",
       "    .dataframe thead th {\n",
       "        text-align: right;\n",
       "    }\n",
       "</style>\n",
       "<table border=\"1\" class=\"dataframe\">\n",
       "  <thead>\n",
       "    <tr style=\"text-align: right;\">\n",
       "      <th></th>\n",
       "      <th>GENE OR COMPLEX</th>\n",
       "      <th>ENZYME LOCATION</th>\n",
       "      <th>REACTION</th>\n",
       "      <th>SUBSTRATES</th>\n",
       "      <th>PRODUCTS</th>\n",
       "      <th>FWD_RATE</th>\n",
       "      <th>RVS_RATE</th>\n",
       "    </tr>\n",
       "  </thead>\n",
       "  <tbody>\n",
       "    <tr>\n",
       "      <th>0</th>\n",
       "      <td>lacA</td>\n",
       "      <td>cytosol</td>\n",
       "      <td>GALACTOACETYLTRAN-RXN</td>\n",
       "      <td>Beta-D-Galactosides,ACETYL-COA</td>\n",
       "      <td>6-Acetyl-Beta-D-Galactosides,CO-A</td>\n",
       "      <td>1.0</td>\n",
       "      <td>0.0</td>\n",
       "    </tr>\n",
       "    <tr>\n",
       "      <th>1</th>\n",
       "      <td>lacY</td>\n",
       "      <td>inner membrane</td>\n",
       "      <td>TRANS-RXN-24</td>\n",
       "      <td>PER-PROTON,PER-Alpha-lactose</td>\n",
       "      <td>PROTON,Alpha-lactose</td>\n",
       "      <td>1.0</td>\n",
       "      <td>0.0</td>\n",
       "    </tr>\n",
       "    <tr>\n",
       "      <th>2</th>\n",
       "      <td>lacY</td>\n",
       "      <td>inner membrane</td>\n",
       "      <td>TRANS-RXN-94</td>\n",
       "      <td>PER-PROTON,PER-MELIBIOSE</td>\n",
       "      <td>PROTON,MELIBIOSE</td>\n",
       "      <td>1.0</td>\n",
       "      <td>0.0</td>\n",
       "    </tr>\n",
       "    <tr>\n",
       "      <th>3</th>\n",
       "      <td>lacY</td>\n",
       "      <td>inner membrane</td>\n",
       "      <td>RXN0-7215</td>\n",
       "      <td>PER-PROTON,PER-CPD-3561</td>\n",
       "      <td>PROTON,CPD-3561</td>\n",
       "      <td>1.0</td>\n",
       "      <td>0.0</td>\n",
       "    </tr>\n",
       "    <tr>\n",
       "      <th>4</th>\n",
       "      <td>lacY</td>\n",
       "      <td>inner membrane</td>\n",
       "      <td>RXN0-7217</td>\n",
       "      <td>PER-PROTON,PER-CPD-3785</td>\n",
       "      <td>PROTON,CPD-3785</td>\n",
       "      <td>1.0</td>\n",
       "      <td>0.0</td>\n",
       "    </tr>\n",
       "    <tr>\n",
       "      <th>5</th>\n",
       "      <td>lacY</td>\n",
       "      <td>inner membrane</td>\n",
       "      <td>RXN-17755</td>\n",
       "      <td>PER-PROTON,PER-CPD-3801</td>\n",
       "      <td>PROTON,CPD-3801</td>\n",
       "      <td>1.0</td>\n",
       "      <td>0.0</td>\n",
       "    </tr>\n",
       "    <tr>\n",
       "      <th>6</th>\n",
       "      <td>lacZ</td>\n",
       "      <td>cytosol</td>\n",
       "      <td>BETAGALACTOSID-RXN</td>\n",
       "      <td>CPD-15972,WATER</td>\n",
       "      <td>GALACTOSE,Glucopyranose</td>\n",
       "      <td>1.0</td>\n",
       "      <td>0.0</td>\n",
       "    </tr>\n",
       "    <tr>\n",
       "      <th>7</th>\n",
       "      <td>lacZ</td>\n",
       "      <td>cytosol</td>\n",
       "      <td>RXN0-5363</td>\n",
       "      <td>Alpha-lactose</td>\n",
       "      <td>ALLOLACTOSE</td>\n",
       "      <td>1.0</td>\n",
       "      <td>1.0</td>\n",
       "    </tr>\n",
       "    <tr>\n",
       "      <th>8</th>\n",
       "      <td>lacZ</td>\n",
       "      <td>cytosol</td>\n",
       "      <td>RXN-17726</td>\n",
       "      <td>CPD-3561,WATER</td>\n",
       "      <td>GALACTOSE,Fructofuranose</td>\n",
       "      <td>1.0</td>\n",
       "      <td>0.0</td>\n",
       "    </tr>\n",
       "    <tr>\n",
       "      <th>9</th>\n",
       "      <td>lacZ</td>\n",
       "      <td>cytosol</td>\n",
       "      <td>RXN0-7219</td>\n",
       "      <td>CPD-3785,WATER</td>\n",
       "      <td>GALACTOSE,D-ARABINOSE</td>\n",
       "      <td>1.0</td>\n",
       "      <td>0.0</td>\n",
       "    </tr>\n",
       "  </tbody>\n",
       "</table>\n",
       "</div>"
      ],
      "text/plain": [
       "  GENE OR COMPLEX ENZYME LOCATION               REACTION  \\\n",
       "0            lacA         cytosol  GALACTOACETYLTRAN-RXN   \n",
       "1            lacY  inner membrane           TRANS-RXN-24   \n",
       "2            lacY  inner membrane           TRANS-RXN-94   \n",
       "3            lacY  inner membrane              RXN0-7215   \n",
       "4            lacY  inner membrane              RXN0-7217   \n",
       "5            lacY  inner membrane              RXN-17755   \n",
       "6            lacZ         cytosol     BETAGALACTOSID-RXN   \n",
       "7            lacZ         cytosol              RXN0-5363   \n",
       "8            lacZ         cytosol              RXN-17726   \n",
       "9            lacZ         cytosol              RXN0-7219   \n",
       "\n",
       "                       SUBSTRATES                           PRODUCTS  \\\n",
       "0  Beta-D-Galactosides,ACETYL-COA  6-Acetyl-Beta-D-Galactosides,CO-A   \n",
       "1    PER-PROTON,PER-Alpha-lactose               PROTON,Alpha-lactose   \n",
       "2        PER-PROTON,PER-MELIBIOSE                   PROTON,MELIBIOSE   \n",
       "3         PER-PROTON,PER-CPD-3561                    PROTON,CPD-3561   \n",
       "4         PER-PROTON,PER-CPD-3785                    PROTON,CPD-3785   \n",
       "5         PER-PROTON,PER-CPD-3801                    PROTON,CPD-3801   \n",
       "6                 CPD-15972,WATER            GALACTOSE,Glucopyranose   \n",
       "7                   Alpha-lactose                        ALLOLACTOSE   \n",
       "8                  CPD-3561,WATER           GALACTOSE,Fructofuranose   \n",
       "9                  CPD-3785,WATER              GALACTOSE,D-ARABINOSE   \n",
       "\n",
       "   FWD_RATE  RVS_RATE  \n",
       "0       1.0       0.0  \n",
       "1       1.0       0.0  \n",
       "2       1.0       0.0  \n",
       "3       1.0       0.0  \n",
       "4       1.0       0.0  \n",
       "5       1.0       0.0  \n",
       "6       1.0       0.0  \n",
       "7       1.0       1.0  \n",
       "8       1.0       0.0  \n",
       "9       1.0       0.0  "
      ]
     },
     "execution_count": 20,
     "metadata": {},
     "output_type": "execute_result"
    }
   ],
   "source": [
    "# Irreversibility of reactions per reaction. The beta-galactosidase has also isomerase activity (reversible reaction)\n",
    "%time network = utils.metabolicNetwork.setIrreversibility(network, rxnLst = ['BETAGALACTOSID-RXN', 'RXN-17726', 'RXN0-7219'])\n",
    "network"
   ]
  },
  {
   "cell_type": "code",
   "execution_count": 21,
   "metadata": {},
   "outputs": [
    {
     "name": "stdout",
     "output_type": "stream",
     "text": [
      "CPU times: user 786 µs, sys: 611 µs, total: 1.4 ms\n",
      "Wall time: 1.27 ms\n"
     ]
    },
    {
     "data": {
      "text/html": [
       "<div>\n",
       "<style scoped>\n",
       "    .dataframe tbody tr th:only-of-type {\n",
       "        vertical-align: middle;\n",
       "    }\n",
       "\n",
       "    .dataframe tbody tr th {\n",
       "        vertical-align: top;\n",
       "    }\n",
       "\n",
       "    .dataframe thead th {\n",
       "        text-align: right;\n",
       "    }\n",
       "</style>\n",
       "<table border=\"1\" class=\"dataframe\">\n",
       "  <thead>\n",
       "    <tr style=\"text-align: right;\">\n",
       "      <th></th>\n",
       "      <th>GENE OR COMPLEX</th>\n",
       "      <th>ENZYME LOCATION</th>\n",
       "      <th>REACTION</th>\n",
       "      <th>SUBSTRATES</th>\n",
       "      <th>PRODUCTS</th>\n",
       "      <th>FWD_RATE</th>\n",
       "      <th>RVS_RATE</th>\n",
       "    </tr>\n",
       "  </thead>\n",
       "  <tbody>\n",
       "    <tr>\n",
       "      <th>0</th>\n",
       "      <td>lacA</td>\n",
       "      <td>cytosol</td>\n",
       "      <td>GALACTOACETYLTRAN-RXN</td>\n",
       "      <td>Beta-D-Galactosides,ACETYL-COA</td>\n",
       "      <td>6-Acetyl-Beta-D-Galactosides,CO-A</td>\n",
       "      <td>1.0</td>\n",
       "      <td>0.0</td>\n",
       "    </tr>\n",
       "    <tr>\n",
       "      <th>1</th>\n",
       "      <td>lacY</td>\n",
       "      <td>inner membrane</td>\n",
       "      <td>TRANS-RXN-24</td>\n",
       "      <td>PER-PROTON,PER-Alpha-lactose</td>\n",
       "      <td>PROTON,Alpha-lactose</td>\n",
       "      <td>1.0</td>\n",
       "      <td>0.0</td>\n",
       "    </tr>\n",
       "    <tr>\n",
       "      <th>2</th>\n",
       "      <td>lacY</td>\n",
       "      <td>inner membrane</td>\n",
       "      <td>TRANS-RXN-94</td>\n",
       "      <td>PER-PROTON,PER-MELIBIOSE</td>\n",
       "      <td>PROTON,MELIBIOSE</td>\n",
       "      <td>1.0</td>\n",
       "      <td>0.0</td>\n",
       "    </tr>\n",
       "    <tr>\n",
       "      <th>3</th>\n",
       "      <td>lacY</td>\n",
       "      <td>inner membrane</td>\n",
       "      <td>RXN0-7215</td>\n",
       "      <td>PER-PROTON,PER-CPD-3561</td>\n",
       "      <td>PROTON,CPD-3561</td>\n",
       "      <td>1.0</td>\n",
       "      <td>0.0</td>\n",
       "    </tr>\n",
       "    <tr>\n",
       "      <th>4</th>\n",
       "      <td>lacY</td>\n",
       "      <td>inner membrane</td>\n",
       "      <td>RXN0-7217</td>\n",
       "      <td>PER-PROTON,PER-CPD-3785</td>\n",
       "      <td>PROTON,CPD-3785</td>\n",
       "      <td>1.0</td>\n",
       "      <td>0.0</td>\n",
       "    </tr>\n",
       "    <tr>\n",
       "      <th>5</th>\n",
       "      <td>lacY</td>\n",
       "      <td>inner membrane</td>\n",
       "      <td>RXN-17755</td>\n",
       "      <td>PER-PROTON,PER-CPD-3801</td>\n",
       "      <td>PROTON,CPD-3801</td>\n",
       "      <td>1.0</td>\n",
       "      <td>0.0</td>\n",
       "    </tr>\n",
       "    <tr>\n",
       "      <th>6</th>\n",
       "      <td>lacZ</td>\n",
       "      <td>cytosol</td>\n",
       "      <td>BETAGALACTOSID-RXN</td>\n",
       "      <td>CPD-15972,WATER</td>\n",
       "      <td>GALACTOSE,Glucopyranose</td>\n",
       "      <td>1.0</td>\n",
       "      <td>0.0</td>\n",
       "    </tr>\n",
       "    <tr>\n",
       "      <th>7</th>\n",
       "      <td>lacZ</td>\n",
       "      <td>cytosol</td>\n",
       "      <td>RXN0-5363</td>\n",
       "      <td>Alpha-lactose</td>\n",
       "      <td>ALLOLACTOSE</td>\n",
       "      <td>1.0</td>\n",
       "      <td>1.0</td>\n",
       "    </tr>\n",
       "    <tr>\n",
       "      <th>8</th>\n",
       "      <td>lacZ</td>\n",
       "      <td>cytosol</td>\n",
       "      <td>RXN-17726</td>\n",
       "      <td>CPD-3561,WATER</td>\n",
       "      <td>GALACTOSE,Fructofuranose</td>\n",
       "      <td>1.0</td>\n",
       "      <td>0.0</td>\n",
       "    </tr>\n",
       "    <tr>\n",
       "      <th>9</th>\n",
       "      <td>lacZ</td>\n",
       "      <td>cytosol</td>\n",
       "      <td>RXN0-7219</td>\n",
       "      <td>CPD-3785,WATER</td>\n",
       "      <td>GALACTOSE,D-ARABINOSE</td>\n",
       "      <td>1.0</td>\n",
       "      <td>0.0</td>\n",
       "    </tr>\n",
       "  </tbody>\n",
       "</table>\n",
       "</div>"
      ],
      "text/plain": [
       "  GENE OR COMPLEX ENZYME LOCATION               REACTION  \\\n",
       "0            lacA         cytosol  GALACTOACETYLTRAN-RXN   \n",
       "1            lacY  inner membrane           TRANS-RXN-24   \n",
       "2            lacY  inner membrane           TRANS-RXN-94   \n",
       "3            lacY  inner membrane              RXN0-7215   \n",
       "4            lacY  inner membrane              RXN0-7217   \n",
       "5            lacY  inner membrane              RXN-17755   \n",
       "6            lacZ         cytosol     BETAGALACTOSID-RXN   \n",
       "7            lacZ         cytosol              RXN0-5363   \n",
       "8            lacZ         cytosol              RXN-17726   \n",
       "9            lacZ         cytosol              RXN0-7219   \n",
       "\n",
       "                       SUBSTRATES                           PRODUCTS  \\\n",
       "0  Beta-D-Galactosides,ACETYL-COA  6-Acetyl-Beta-D-Galactosides,CO-A   \n",
       "1    PER-PROTON,PER-Alpha-lactose               PROTON,Alpha-lactose   \n",
       "2        PER-PROTON,PER-MELIBIOSE                   PROTON,MELIBIOSE   \n",
       "3         PER-PROTON,PER-CPD-3561                    PROTON,CPD-3561   \n",
       "4         PER-PROTON,PER-CPD-3785                    PROTON,CPD-3785   \n",
       "5         PER-PROTON,PER-CPD-3801                    PROTON,CPD-3801   \n",
       "6                 CPD-15972,WATER            GALACTOSE,Glucopyranose   \n",
       "7                   Alpha-lactose                        ALLOLACTOSE   \n",
       "8                  CPD-3561,WATER           GALACTOSE,Fructofuranose   \n",
       "9                  CPD-3785,WATER              GALACTOSE,D-ARABINOSE   \n",
       "\n",
       "   FWD_RATE  RVS_RATE  \n",
       "0       1.0       0.0  \n",
       "1       1.0       0.0  \n",
       "2       1.0       0.0  \n",
       "3       1.0       0.0  \n",
       "4       1.0       0.0  \n",
       "5       1.0       0.0  \n",
       "6       1.0       0.0  \n",
       "7       1.0       1.0  \n",
       "8       1.0       0.0  \n",
       "9       1.0       0.0  "
      ]
     },
     "execution_count": 21,
     "metadata": {},
     "output_type": "execute_result"
    }
   ],
   "source": [
    "# Compartment of reactions. The lacY gene is a protein located to the inner membrane of E.coli\n",
    "%time network = utils.metabolicNetwork.setEnzymeLocation(network, geneLst = ['lacY'], compartmentLst = ['iMEM'])\n",
    "network"
   ]
  },
  {
   "cell_type": "code",
   "execution_count": 22,
   "metadata": {},
   "outputs": [
    {
     "name": "stdout",
     "output_type": "stream",
     "text": [
      "CPU times: user 243 µs, sys: 1.14 ms, total: 1.38 ms\n",
      "Wall time: 1.09 ms\n"
     ]
    }
   ],
   "source": [
    "%time utils.metabolicNetwork.expand_network(network, './lactose-metabolism-cytoscape-v2.txt')"
   ]
  },
  {
   "cell_type": "markdown",
   "metadata": {},
   "source": [
    "<a id='figS2'></a><img src=\"lactose-metabolism-cytoscape-v2.png\" alt=\"drawing\" width=\"1000\"/>"
   ]
  },
  {
   "cell_type": "code",
   "execution_count": 23,
   "metadata": {},
   "outputs": [
    {
     "name": "stdout",
     "output_type": "stream",
     "text": [
      "CPU times: user 408 ms, sys: 0 ns, total: 408 ms\n",
      "Wall time: 407 ms\n"
     ]
    },
    {
     "data": {
      "text/plain": [
       "<Model 'atlas_rbm.construct_model_from_metabolic_network' (monomers: 2, rules: 10, parameters: 40, expressions: 0, compartments: 0) at 0x7f61cfc5e790>"
      ]
     },
     "execution_count": 23,
     "metadata": {},
     "output_type": "execute_result"
    }
   ],
   "source": [
    "%time model = atlas.construct_model_from_metabolic_network(network, verbose = False) # verbose = True will print the pySB functions needed to reproduce the model\n",
    "model"
   ]
  },
  {
   "cell_type": "code",
   "execution_count": 24,
   "metadata": {},
   "outputs": [
    {
     "name": "stdout",
     "output_type": "stream",
     "text": [
      "There are some non applicable rules: \n",
      "rule TRANS_RXN_24 (File \"_HXNUD8P608.kappa\", line 47, characters 15-448:) will never be applied.\n",
      "rule TRANS_RXN_24_rev (File \"_HXNUD8P608.kappa\", line 48, characters 19-452:) will never be applied.\n",
      "rule TRANS_RXN_94 (File \"_HXNUD8P608.kappa\", line 49, characters 15-440:) will never be applied.\n",
      "rule TRANS_RXN_94_rev (File \"_HXNUD8P608.kappa\", line 50, characters 19-444:) will never be applied.\n",
      "rule RXN0_7215 (File \"_HXNUD8P608.kappa\", line 51, characters 12-432:) will never be applied.\n",
      "rule RXN0_7215_rev (File \"_HXNUD8P608.kappa\", line 52, characters 16-436:) will never be applied.\n",
      "rule RXN0_7217 (File \"_HXNUD8P608.kappa\", line 53, characters 12-432:) will never be applied.\n",
      "rule RXN0_7217_rev (File \"_HXNUD8P608.kappa\", line 54, characters 16-436:) will never be applied.\n",
      "rule RXN_17755 (File \"_HXNUD8P608.kappa\", line 55, characters 12-432:) will never be applied.\n",
      "rule RXN_17755_rev (File \"_HXNUD8P608.kappa\", line 56, characters 16-436:) will never be applied.\n",
      "\n",
      "Every monomer and complex of monomers may occur in the model.\n"
     ]
    }
   ],
   "source": [
    "utils.analyseConnectivity(model, '/opt/git-repositories/KaSim.Kappa-Dev/KaSa')\n",
    "# Do not worry, later we will set the initial condition.\n",
    "# Due to the multiple instances, we create only metabolites at cytoplasm and the transport reactions will fail."
   ]
  },
  {
   "cell_type": "markdown",
   "metadata": {},
   "source": [
    "**Note**: Even with an initial condition of zero, KaSA will report reactions as reacheables because it analyzes the connectivity of the network. Unreacheable rules or agents will those that: first, monomers are not instantiated (missing ```%init:``` statements in ```kappa```), and two, *Rules* not producing the monomers in the required state (e.g. phosphorylation). For sake of completeness, we produced kappa files that fail the connectivity analysis:"
   ]
  },
  {
   "cell_type": "code",
   "execution_count": 25,
   "metadata": {},
   "outputs": [
    {
     "name": "stdout",
     "output_type": "stream",
     "text": [
      "There are some non applicable rules: \n",
      "rule GALACTOACETYLTRAN_RXN_galactose (File \"fail_rules.kappa\", line 187, characters 34-534:) will never be applied.\n",
      "rule GALACTOACETYLTRAN_RXN_galactose_rev (File \"fail_rules.kappa\", line 188, characters 38-538:) will never be applied.\n",
      "\n",
      "Every monomer and complex of monomers may occur in the model.\n"
     ]
    }
   ],
   "source": [
    "utils.analyseConnectivity('fail_rules.kappa', path = '/opt/git-repositories/KaSim.Kappa-Dev/KaSa')\n",
    "# Missing instantiation of the lacA trimer, so impossibility to catalyze its reactions"
   ]
  },
  {
   "cell_type": "code",
   "execution_count": 26,
   "metadata": {},
   "outputs": [
    {
     "name": "stdout",
     "output_type": "stream",
     "text": [
      "There are some non applicable rules: \n",
      "rule GALACTOACETYLTRAN_RXN_galactose (File \"fail_agents.kappa\", line 187, characters 34-534:) will never be applied.\n",
      "rule GALACTOACETYLTRAN_RXN_galactose_rev (File \"fail_agents.kappa\", line 188, characters 38-538:) will never be applied.\n",
      "\n",
      "Every monomer and complex of monomers may occur in the model.\n"
     ]
    }
   ],
   "source": [
    "utils.analyseConnectivity('fail_agents.kappa', path = '/opt/git-repositories/KaSim.Kappa-Dev/KaSa')\n",
    "# Missing instantiation of Acetyl-CoA and CoA, substrate and product of the lacA trimer.\n",
    "# It does not matter if the rate of the reaction is zero.\n",
    "# (by design, Atlas writes reversible reactions even if the rate for the reverse reaction is zero)"
   ]
  },
  {
   "cell_type": "markdown",
   "metadata": {},
   "source": [
    "To simulate, we need to set the initial condition:"
   ]
  },
  {
   "cell_type": "code",
   "execution_count": 27,
   "metadata": {},
   "outputs": [
    {
     "name": "stdout",
     "output_type": "stream",
     "text": [
      "Initial t0_met_Alpha_lactose not found. Creating Initial t0_met_Alpha_lactose...\n",
      "Initial t0_met_PROTON not found. Creating Initial t0_met_PROTON...\n",
      "Initial t0_prot_lacY not found. Creating Initial t0_prot_lacY...\n"
     ]
    },
    {
     "data": {
      "text/plain": [
       "<Model 'atlas_rbm.construct_model_from_metabolic_network' (monomers: 2, rules: 10, parameters: 43, expressions: 0, compartments: 0) at 0x7f61cfc5e790>"
      ]
     },
     "execution_count": 27,
     "metadata": {},
     "output_type": "execute_result"
    }
   ],
   "source": [
    "# initial condition\n",
    "# for metabolites\n",
    "simulation.set_initial.met(model, 'Alpha_lactose', 'per', 100)\n",
    "# Message of \"Initial not found\" explained: By default, Atlas creates initials for cytosolic metabolites, proteins, and complexes (DNA and RNAs are always cytosolic)\n",
    "simulation.set_initial.met(model, 'PROTON', 'per', 100) # required for lactose transport\n",
    "simulation.set_initial.met(model, 'WATER', 'cyt', 100) # required for lactose hydrolysis\n",
    "\n",
    "# for proteins\n",
    "simulation.set_initial.prot(model, 'lacY', 'imem', 1) # required for lactose transport.\n",
    "simulation.set_initial.prot(model, 'lacZ', 'cyt', 1) # required for lactose isomerization"
   ]
  },
  {
   "cell_type": "code",
   "execution_count": 28,
   "metadata": {},
   "outputs": [
    {
     "name": "stdout",
     "output_type": "stream",
     "text": [
      "Every rule may be applied.\n",
      "Every monomer and complex of monomers may occur in the model.\n"
     ]
    }
   ],
   "source": [
    "utils.analyseConnectivity(model, '/opt/git-repositories/KaSim.Kappa-Dev/KaSa')"
   ]
  },
  {
   "cell_type": "markdown",
   "metadata": {},
   "source": [
    "Once the model has a suitable initial condition, the user could export it to a variety of formats or simulate directly inside the notebook"
   ]
  },
  {
   "cell_type": "code",
   "execution_count": 29,
   "metadata": {},
   "outputs": [
    {
     "name": "stdout",
     "output_type": "stream",
     "text": [
      "CPU times: user 454 ms, sys: 55.7 ms, total: 510 ms\n",
      "Wall time: 1.28 s\n",
      "CPU times: user 72.8 ms, sys: 0 ns, total: 72.8 ms\n",
      "Wall time: 74.9 ms\n",
      "CPU times: user 178 ms, sys: 0 ns, total: 178 ms\n",
      "Wall time: 179 ms\n",
      "CPU times: user 165 ms, sys: 0 ns, total: 165 ms\n",
      "Wall time: 166 ms\n",
      "CPU times: user 3.46 ms, sys: 0 ns, total: 3.46 ms\n",
      "Wall time: 5.12 ms\n",
      "CPU times: user 12.5 ms, sys: 0 ns, total: 12.5 ms\n",
      "Wall time: 510 ms\n",
      "CPU times: user 3.6 ms, sys: 0 ns, total: 3.6 ms\n",
      "Wall time: 3.42 ms\n",
      "CPU times: user 166 ms, sys: 0 ns, total: 166 ms\n",
      "Wall time: 168 ms\n",
      "CPU times: user 1.36 ms, sys: 1.65 ms, total: 3.01 ms\n",
      "Wall time: 4.7 ms\n",
      "CPU times: user 3.34 ms, sys: 0 ns, total: 3.34 ms\n",
      "Wall time: 3.23 ms\n"
     ]
    }
   ],
   "source": [
    "# export to\n",
    "%time export.to_sbml(model, 'export-to-sbml.sbml')\n",
    "%time export.to_matlab(model, 'export-to-matlab.m')\n",
    "%time export.to_mathematica(model, 'export-to-mathematica.wl')\n",
    "%time export.to_potterswheel(model, 'export-to-potterswheel.m')\n",
    "%time export.to_bngl(model, 'export-to-bngl.bngl')\n",
    "%time export.to_bngnet(model, 'export-to-bngnet.net')\n",
    "%time export.to_kappa(model, 'export-to-kappa.kappa')\n",
    "%time export.to_python(model, 'export-to-python.py')\n",
    "%time export.to_pysb(model, 'export-to-pysb.py')\n",
    "# %time export.to_stochkit(model, 'export-to-stochkit.xml') # pySB error\n",
    "%time export.to_json(model, 'export-to-json.json')"
   ]
  },
  {
   "cell_type": "code",
   "execution_count": 30,
   "metadata": {},
   "outputs": [
    {
     "name": "stdout",
     "output_type": "stream",
     "text": [
      "CPU times: user 3.64 s, sys: 1.32 s, total: 4.96 s\n",
      "Wall time: 3.39 s\n",
      "CPU times: user 1.43 s, sys: 2.52 ms, total: 1.43 s\n",
      "Wall time: 2.28 s\n",
      "CPU times: user 1.5 s, sys: 0 ns, total: 1.5 s\n",
      "Wall time: 2.28 s\n",
      "CPU times: user 3.74 s, sys: 23.7 ms, total: 3.76 s\n",
      "Wall time: 6.04 s\n",
      "CPU times: user 2.91 s, sys: 108 ms, total: 3.02 s\n",
      "Wall time: 5.21 s\n",
      "CPU times: user 2.4 s, sys: 181 ms, total: 2.58 s\n",
      "Wall time: 3.94 s\n"
     ]
    }
   ],
   "source": [
    "# simulation\n",
    "bng = '/opt/git-repositories/bionetgen.RuleWorld/bng2/'\n",
    "kasim = '/opt/git-repositories/KaSim4.Kappa-Dev/'\n",
    "cupsoda = '/opt/git-repositories/cupSODA.aresio/'\n",
    "stochkit = '/opt/git-repositories/StochKit.StochSS' # not the bin folder\n",
    "\n",
    "%time data0 = simulation.scipy(model, start = 0, finish = 10, points = 2000)\n",
    "%time data1 = simulation.cupsoda(model, start = 0, finish = 10, points = 2000, path = cupsoda) # only if you have a GPU NVIDIA; comment if not.\n",
    "%time data2 = simulation.bngODE(model, start = 0, finish = 10, points = 2000, path = bng)\n",
    "%time data3 = simulation.bngSSA(model, start = 0, finish = 10, points = 2000, n_runs = 20, path = bng)\n",
    "# %time data4 = simulation.bngPLA(model, start = 0, finish = 10, points = 2000, n_runs = 20, path = bng) # requires refinement of the model\n",
    "%time data5 = simulation.bngNF(model, start = 0, finish = 10, points = 2000, n_runs = 20, path = bng)\n",
    "%time data6 = simulation.kasim(model, start = 0, finish = 10, points = 2000, n_runs = 20, path = kasim)\n",
    "# %time data7 = simulation.stochkit(model, start = 0, finish = 10, points = 2000, n_runs = 20, path = stochkit) # pySB error"
   ]
  },
  {
   "cell_type": "markdown",
   "metadata": {},
   "source": [
    "**Note**: The ODE and SSA simulations require the execution of the network generation, while KaSim and NFsim are network-free simulators."
   ]
  },
  {
   "cell_type": "markdown",
   "metadata": {},
   "source": [
    "Finally, we plot the simulation results. The result of the ```simulation.scipy()```, ```simulation.scipy()``` function is a pandas dataframe. In the case of stochastic simulations (SSA, KaSim, NFsim, Stochkit), the function returns a dictionary with a list of dataframes for each simulations (```sims``` key), a dataframe with the average (```avrg``` key) and a dataframe with the standard deviation (```stdv``` key) of those simulations. Currently, we included three kind of plots, although the user could access the dataframes and plot diretly with methods in the seaborn package (https://seaborn.pydata.org/), in the pandas package (https://pandas.pydata.org/pandas-docs/stable/reference/api/pandas.DataFrame.plot.html), or with matplotlib (https://matplotlib.org/)."
   ]
  },
  {
   "cell_type": "code",
   "execution_count": 31,
   "metadata": {},
   "outputs": [
    {
     "data": {
      "image/png": "[encoded data removed]",
      "text/plain": [
       "<Figure size 800x300 with 2 Axes>"
      ]
     },
     "metadata": {
      "needs_background": "light"
     },
     "output_type": "display_data"
    },
    {
     "data": {
      "image/png": "[encoded data removed]",
      "text/plain": [
       "<Figure size 800x300 with 2 Axes>"
      ]
     },
     "metadata": {
      "needs_background": "light"
     },
     "output_type": "display_data"
    }
   ],
   "source": [
    "import seaborn\n",
    "import matplotlib.pyplot as plt\n",
    "\n",
    "palette = seaborn.color_palette('colorblind')\n",
    "\n",
    "for kind in ['scatter', 'plot']:\n",
    "    # first plot, periplasmic concentration\n",
    "    fig, ax = plt.subplots(1, 2, figsize = (4*2, 3*1), dpi = 100)\n",
    "    simulation.plot.metabolite(data3['avrg'], 'Alpha_lactose', 'per', ax = ax[0], **{'kind' : kind}, \n",
    "        plt_kws = {'s' : 2, 'color' : palette[0], 'label' : r'$\\alpha$-lactose [PER]', 'alpha' : .5})\n",
    "\n",
    "    # second plot, cytoplasmic concentration\n",
    "    simulation.plot.metabolite(data3['avrg'], 'Alpha_lactose', 'cyt', ax = ax[1], **{'kind' : kind}, \n",
    "        plt_kws = {'s' : 2, 'color' : palette[1], 'label' : r'$\\alpha$-lactose [CYT]', 'alpha' : .5})\n",
    "\n",
    "    # second plot, cytoplasmic concentration\n",
    "    simulation.plot.metabolite(data3['avrg'], 'ALLOLACTOSE', 'cyt', ax = ax[1], **{'kind' : kind}, \n",
    "        plt_kws = {'s' : 2, 'color' : palette[2], 'label' : r'allolactose [CYT]', 'alpha' : .5})\n",
    "    \n",
    "    ax[0].set_xlim((0,.25))\n",
    "    ax[1].set_xlim((0,2.5))\n",
    "    ax[0].set_ylim((0,100))\n",
    "    ax[1].set_ylim((0,100))\n",
    "\n",
    "    seaborn.despine()"
   ]
  },
  {
   "cell_type": "code",
   "execution_count": 32,
   "metadata": {},
   "outputs": [
    {
     "data": {
      "image/png": "[encoded data removed]",
      "text/plain": [
       "<Figure size 800x300 with 2 Axes>"
      ]
     },
     "metadata": {
      "needs_background": "light"
     },
     "output_type": "display_data"
    }
   ],
   "source": [
    "import seaborn\n",
    "import matplotlib.pyplot as plt\n",
    "\n",
    "palette = seaborn.color_palette('colorblind')\n",
    "\n",
    "# first plot, periplasmic concentration\n",
    "fig, ax = plt.subplots(1, 2, figsize = (4*2, 3*1), dpi = 100)\n",
    "simulation.plot.metabolite(data3, 'Alpha_lactose', 'per', ax = ax[0], **{'kind' : 'fill_between', 'weight' : .5}, \n",
    "   plt_kws = {'s' : 2, 'color' : palette[0], 'label' : r'$\\alpha$-lactose [PER]', 'alpha' : .5})\n",
    "\n",
    "# second plot, cytoplasmic concentration\n",
    "simulation.plot.metabolite(data3, 'Alpha_lactose', 'cyt', ax = ax[1], **{'kind' : 'fill_between', 'weight' : .5}, \n",
    "   plt_kws = {'s' : 2, 'color' : palette[1], 'label' : r'$\\alpha$-lactose [CYT]', 'alpha' : .5})\n",
    "\n",
    "# second plot, cytoplasmic concentration\n",
    "simulation.plot.metabolite(data3, 'ALLOLACTOSE', 'cyt', ax = ax[1], **{'kind' : 'fill_between', 'weight' : .5}, \n",
    "   plt_kws = {'s' : 2, 'color' : palette[2], 'label' : r'allolactose [CYT]', 'alpha' : .5})\n",
    "\n",
    "# first plot, periplasmic concentration\n",
    "simulation.plot.metabolite(data0, 'Alpha_lactose', 'per', ax = ax[0], **{'kind' : kind}, \n",
    "   plt_kws = {'s' : 2, 'color' : palette[0], 'label' : r'ODE'})\n",
    "\n",
    "# second plot, cytoplasmic concentration\n",
    "simulation.plot.metabolite(data0, 'Alpha_lactose', 'cyt', ax = ax[1], **{'kind' : kind}, \n",
    "   plt_kws = {'s' : 2, 'color' : palette[1], 'label' : r'ODE'})\n",
    "\n",
    "# second plot, cytoplasmic concentration\n",
    "simulation.plot.metabolite(data0, 'ALLOLACTOSE', 'cyt', ax = ax[1], **{'kind' : kind}, \n",
    "   plt_kws = {'s' : 2, 'color' : palette[2], 'label' : r'ODE'})\n",
    "\n",
    "ax[0].set_xlim((0,.25))\n",
    "ax[1].set_xlim((0,2.5))\n",
    "ax[0].set_ylim((0,100))\n",
    "ax[1].set_ylim((0,100))\n",
    "\n",
    "seaborn.despine()"
   ]
  },
  {
   "cell_type": "markdown",
   "metadata": {},
   "source": [
    "As expected, the degradation of lactose into glucose and galactose is impossible due to a [disconnected pathway from $\\alpha$-lactose to galatose](#figS2). The disconnected pathway will be\n",
    "manually corrected and explained in a second tutorial. Also, we must note that we considered the enzymatic reactions are performed by the monomers (e.g. one monomer of LacZ catalyze one reaction), although biochemical information informs the monomers are catalytically active only when the complex is assembled (e.g. one LacZ tetramer catalyzes four reactions). This will be considered next, when we will model protein-protein interactions.\n",
    "\n",
    "<!---\n",
    "%Although system parameters could be found in databases or calibrated (e.g. with \\textit{Pleione}, \\citealp{Santibanez2019Pleione:}), the results show that modeling of RBMs for metabolic networks can be done in an automatized manner %and is a valid methodology to obtain genome-scale kinetic models of metabolism for deterministic and stochastic simulation.\n",
    "--->"
   ]
  },
  {
   "cell_type": "markdown",
   "metadata": {},
   "source": [
    "## Modeling protein-protein interactions"
   ]
  },
  {
   "cell_type": "markdown",
   "metadata": {},
   "source": [
    "We could consult the stoichiometry of complexes with PythonCyc, and vice versa, quering which complexes are formed by a certain gene product (although indirectly):"
   ]
  },
  {
   "cell_type": "code",
   "execution_count": 33,
   "metadata": {},
   "outputs": [
    {
     "name": "stdout",
     "output_type": "stream",
     "text": [
      "[['|BETAGALACTOSID-MONOMER|'], [4]]\n",
      "[['|GALACTOACETYLTRAN-MONOMER|'], [3]]\n",
      "['|EG10527|']\n",
      "['|EG10524|']\n",
      "['|BETAGALACTOSID-MONOMER|', '|BETAGALACTOSID-CPLX|']\n",
      "['|GALACTOACETYLTRAN-MONOMER|', '|GALACTOACETYLTRAN-CPLX|']\n"
     ]
    }
   ],
   "source": [
    "import pythoncyc\n",
    "print(pythoncyc.select_organism('ECOLI').monomers_of_protein('BETAGALACTOSID-CPLX'))\n",
    "# we obtained the code \"BETAGALACTOSID-CPLX\" with the gathering of the metabolic data in \"product\" format.\n",
    "print(pythoncyc.select_organism('ECOLI').monomers_of_protein('GALACTOACETYLTRAN-CPLX'))\n",
    "# Similarly, the code \"GALACTOACETYLTRAN-CPLX\".\n",
    "\n",
    "print(pythoncyc.select_organism('ECOLI').genes_of_protein('BETAGALACTOSID-CPLX'))\n",
    "print(pythoncyc.select_organism('ECOLI').genes_of_protein('GALACTOACETYLTRAN-CPLX'))\n",
    "\n",
    "print(pythoncyc.select_organism('ECOLI').all_products_of_gene('EG10527'))\n",
    "print(pythoncyc.select_organism('ECOLI').all_products_of_gene('EG10524'))"
   ]
  },
  {
   "cell_type": "markdown",
   "metadata": {},
   "source": [
    "We included the function ```utils.interactionNetwork.FromGeneList()``` to write possible mechanism of assembly from the stoichiometry data of complexes."
   ]
  },
  {
   "cell_type": "code",
   "execution_count": 34,
   "metadata": {},
   "outputs": [
    {
     "name": "stdout",
     "output_type": "stream",
     "text": [
      "CPU times: user 10.3 ms, sys: 2.89 ms, total: 13.1 ms\n",
      "Wall time: 56 ms\n"
     ]
    },
    {
     "data": {
      "text/html": [
       "<div>\n",
       "<style scoped>\n",
       "    .dataframe tbody tr th:only-of-type {\n",
       "        vertical-align: middle;\n",
       "    }\n",
       "\n",
       "    .dataframe tbody tr th {\n",
       "        vertical-align: top;\n",
       "    }\n",
       "\n",
       "    .dataframe thead th {\n",
       "        text-align: right;\n",
       "    }\n",
       "</style>\n",
       "<table border=\"1\" class=\"dataframe\">\n",
       "  <thead>\n",
       "    <tr style=\"text-align: right;\">\n",
       "      <th></th>\n",
       "      <th>SOURCE</th>\n",
       "      <th>TARGET</th>\n",
       "      <th>LOCATION</th>\n",
       "      <th>FWD_RATE</th>\n",
       "      <th>RVS_RATE</th>\n",
       "    </tr>\n",
       "  </thead>\n",
       "  <tbody>\n",
       "    <tr>\n",
       "      <th>0</th>\n",
       "      <td>lacA</td>\n",
       "      <td>lacA</td>\n",
       "      <td>[cytosol,cytosol]</td>\n",
       "      <td>1.0</td>\n",
       "      <td>1.0</td>\n",
       "    </tr>\n",
       "    <tr>\n",
       "      <th>1</th>\n",
       "      <td>lacA</td>\n",
       "      <td>[lacA,lacA]</td>\n",
       "      <td>[cytosol,cytosol,cytosol]</td>\n",
       "      <td>1.0</td>\n",
       "      <td>1.0</td>\n",
       "    </tr>\n",
       "    <tr>\n",
       "      <th>2</th>\n",
       "      <td>lacZ</td>\n",
       "      <td>lacZ</td>\n",
       "      <td>[cytosol,cytosol]</td>\n",
       "      <td>1.0</td>\n",
       "      <td>1.0</td>\n",
       "    </tr>\n",
       "    <tr>\n",
       "      <th>3</th>\n",
       "      <td>lacZ</td>\n",
       "      <td>[lacZ,lacZ]</td>\n",
       "      <td>[cytosol,cytosol,cytosol]</td>\n",
       "      <td>1.0</td>\n",
       "      <td>1.0</td>\n",
       "    </tr>\n",
       "    <tr>\n",
       "      <th>4</th>\n",
       "      <td>lacZ</td>\n",
       "      <td>[lacZ,lacZ,lacZ]</td>\n",
       "      <td>[cytosol,cytosol,cytosol,cytosol]</td>\n",
       "      <td>1.0</td>\n",
       "      <td>1.0</td>\n",
       "    </tr>\n",
       "  </tbody>\n",
       "</table>\n",
       "</div>"
      ],
      "text/plain": [
       "  SOURCE            TARGET                           LOCATION  FWD_RATE  \\\n",
       "0   lacA              lacA                  [cytosol,cytosol]       1.0   \n",
       "1   lacA       [lacA,lacA]          [cytosol,cytosol,cytosol]       1.0   \n",
       "2   lacZ              lacZ                  [cytosol,cytosol]       1.0   \n",
       "3   lacZ       [lacZ,lacZ]          [cytosol,cytosol,cytosol]       1.0   \n",
       "4   lacZ  [lacZ,lacZ,lacZ]  [cytosol,cytosol,cytosol,cytosol]       1.0   \n",
       "\n",
       "   RVS_RATE  \n",
       "0       1.0  \n",
       "1       1.0  \n",
       "2       1.0  \n",
       "3       1.0  \n",
       "4       1.0  "
      ]
     },
     "execution_count": 34,
     "metadata": {},
     "output_type": "execute_result"
    }
   ],
   "source": [
    "%time network = utils.interactionNetwork.FromGeneList('ECOLI', genes = ['lacZ', 'lacA', 'lacY'], precalculated = df_genes)\n",
    "network"
   ]
  },
  {
   "cell_type": "code",
   "execution_count": 35,
   "metadata": {},
   "outputs": [
    {
     "data": {
      "text/html": [
       "<div>\n",
       "<style scoped>\n",
       "    .dataframe tbody tr th:only-of-type {\n",
       "        vertical-align: middle;\n",
       "    }\n",
       "\n",
       "    .dataframe tbody tr th {\n",
       "        vertical-align: top;\n",
       "    }\n",
       "\n",
       "    .dataframe thead th {\n",
       "        text-align: right;\n",
       "    }\n",
       "</style>\n",
       "<table border=\"1\" class=\"dataframe\">\n",
       "  <thead>\n",
       "    <tr style=\"text-align: right;\">\n",
       "      <th></th>\n",
       "      <th>SOURCE</th>\n",
       "      <th>TARGET</th>\n",
       "      <th>FWD_RATE</th>\n",
       "      <th>RVS_RATE</th>\n",
       "      <th>LOCATION</th>\n",
       "    </tr>\n",
       "  </thead>\n",
       "  <tbody>\n",
       "    <tr>\n",
       "      <th>0</th>\n",
       "      <td>lacZ</td>\n",
       "      <td>lacZ</td>\n",
       "      <td>1.0</td>\n",
       "      <td>0.0</td>\n",
       "      <td>cytosol</td>\n",
       "    </tr>\n",
       "    <tr>\n",
       "      <th>1</th>\n",
       "      <td>[lacZ,lacZ]</td>\n",
       "      <td>[lacZ,lacZ]</td>\n",
       "      <td>1.0</td>\n",
       "      <td>0.0</td>\n",
       "      <td>cytosol</td>\n",
       "    </tr>\n",
       "    <tr>\n",
       "      <th>2</th>\n",
       "      <td>lacA</td>\n",
       "      <td>lacA</td>\n",
       "      <td>1.0</td>\n",
       "      <td>0.0</td>\n",
       "      <td>cytosol</td>\n",
       "    </tr>\n",
       "    <tr>\n",
       "      <th>3</th>\n",
       "      <td>lacA</td>\n",
       "      <td>[lacA,lacA]</td>\n",
       "      <td>1.0</td>\n",
       "      <td>0.0</td>\n",
       "      <td>cytosol</td>\n",
       "    </tr>\n",
       "    <tr>\n",
       "      <th>4</th>\n",
       "      <td>lacI</td>\n",
       "      <td>lacI</td>\n",
       "      <td>1.0</td>\n",
       "      <td>0.0</td>\n",
       "      <td>cytosol</td>\n",
       "    </tr>\n",
       "  </tbody>\n",
       "</table>\n",
       "</div>"
      ],
      "text/plain": [
       "        SOURCE       TARGET  FWD_RATE  RVS_RATE LOCATION\n",
       "0         lacZ         lacZ       1.0       0.0  cytosol\n",
       "1  [lacZ,lacZ]  [lacZ,lacZ]       1.0       0.0  cytosol\n",
       "2         lacA         lacA       1.0       0.0  cytosol\n",
       "3         lacA  [lacA,lacA]       1.0       0.0  cytosol\n",
       "4         lacI         lacI       1.0       0.0  cytosol"
      ]
     },
     "execution_count": 35,
     "metadata": {},
     "output_type": "execute_result"
    }
   ],
   "source": [
    "atlas.read_network('network-lac-ProtProt.tsv')"
   ]
  },
  {
   "cell_type": "markdown",
   "metadata": {},
   "source": [
    "Despite the effort, the function could retrieve interactions that would be hard to observe in nature (parsimony). Also, because we obtain from BioCyc the protein composition of complexes and not intermediates, we could miss interactions or add interactions that never occur because we programmed the complete enumeration of possible ordered mechanisms. From the network, we could remove interaction by its indexes, and add interactions defining its participants:"
   ]
  },
  {
   "cell_type": "code",
   "execution_count": 36,
   "metadata": {},
   "outputs": [
    {
     "data": {
      "text/html": [
       "<div>\n",
       "<style scoped>\n",
       "    .dataframe tbody tr th:only-of-type {\n",
       "        vertical-align: middle;\n",
       "    }\n",
       "\n",
       "    .dataframe tbody tr th {\n",
       "        vertical-align: top;\n",
       "    }\n",
       "\n",
       "    .dataframe thead th {\n",
       "        text-align: right;\n",
       "    }\n",
       "</style>\n",
       "<table border=\"1\" class=\"dataframe\">\n",
       "  <thead>\n",
       "    <tr style=\"text-align: right;\">\n",
       "      <th></th>\n",
       "      <th>SOURCE</th>\n",
       "      <th>TARGET</th>\n",
       "      <th>LOCATION</th>\n",
       "      <th>FWD_RATE</th>\n",
       "      <th>RVS_RATE</th>\n",
       "    </tr>\n",
       "  </thead>\n",
       "  <tbody>\n",
       "    <tr>\n",
       "      <th>0</th>\n",
       "      <td>lacA</td>\n",
       "      <td>lacA</td>\n",
       "      <td>[cytosol,cytosol]</td>\n",
       "      <td>1.0</td>\n",
       "      <td>1.0</td>\n",
       "    </tr>\n",
       "    <tr>\n",
       "      <th>1</th>\n",
       "      <td>lacA</td>\n",
       "      <td>[lacA,lacA]</td>\n",
       "      <td>[cytosol,cytosol,cytosol]</td>\n",
       "      <td>1.0</td>\n",
       "      <td>1.0</td>\n",
       "    </tr>\n",
       "    <tr>\n",
       "      <th>2</th>\n",
       "      <td>lacZ</td>\n",
       "      <td>lacZ</td>\n",
       "      <td>[cytosol,cytosol]</td>\n",
       "      <td>1.0</td>\n",
       "      <td>1.0</td>\n",
       "    </tr>\n",
       "    <tr>\n",
       "      <th>3</th>\n",
       "      <td>[lacZ,lacZ]</td>\n",
       "      <td>[lacZ,lacZ]</td>\n",
       "      <td>cytosol</td>\n",
       "      <td>1.0</td>\n",
       "      <td>1.0</td>\n",
       "    </tr>\n",
       "  </tbody>\n",
       "</table>\n",
       "</div>"
      ],
      "text/plain": [
       "        SOURCE       TARGET                   LOCATION  FWD_RATE  RVS_RATE\n",
       "0         lacA         lacA          [cytosol,cytosol]       1.0       1.0\n",
       "1         lacA  [lacA,lacA]  [cytosol,cytosol,cytosol]       1.0       1.0\n",
       "2         lacZ         lacZ          [cytosol,cytosol]       1.0       1.0\n",
       "3  [lacZ,lacZ]  [lacZ,lacZ]                    cytosol       1.0       1.0"
      ]
     },
     "execution_count": 36,
     "metadata": {},
     "output_type": "execute_result"
    }
   ],
   "source": [
    "network = utils.interactionNetwork.removeInteraction(network, index = [3,4])\n",
    "network = utils.interactionNetwork.addInteraction(network, source = ['lacZ', 'lacZ'], target = ['lacZ', 'lacZ'])\n",
    "# we supposed a dimer-dimer interaction is more plausible than a trimer-monomer interaction to form a tetramer\n",
    "network"
   ]
  },
  {
   "cell_type": "markdown",
   "metadata": {},
   "source": [
    "**Note**: If the location of complexes do not match the number of components, Atlas will suppose the location (or the first defined location) is valid for all components of the final complex."
   ]
  },
  {
   "cell_type": "code",
   "execution_count": 37,
   "metadata": {},
   "outputs": [
    {
     "name": "stdout",
     "output_type": "stream",
     "text": [
      "CPU times: user 177 ms, sys: 0 ns, total: 177 ms\n",
      "Wall time: 176 ms\n"
     ]
    },
    {
     "data": {
      "text/plain": [
       "<Model 'atlas_rbm.construct_model_from_interaction_network' (monomers: 1, rules: 4, parameters: 14, expressions: 0, compartments: 0) at 0x7f620e07bd00>"
      ]
     },
     "execution_count": 37,
     "metadata": {},
     "output_type": "execute_result"
    }
   ],
   "source": [
    "%time model = atlas.construct_model_from_interaction_network(network, verbose = False)\n",
    "model"
   ]
  },
  {
   "cell_type": "code",
   "execution_count": 38,
   "metadata": {},
   "outputs": [
    {
     "name": "stdout",
     "output_type": "stream",
     "text": [
      "Every rule may be applied.\n",
      "Every monomer and complex of monomers may occur in the model.\n"
     ]
    }
   ],
   "source": [
    "utils.analyzeConnectivity(model)"
   ]
  },
  {
   "cell_type": "code",
   "execution_count": 39,
   "metadata": {},
   "outputs": [
    {
     "name": "stdout",
     "output_type": "stream",
     "text": [
      "CPU times: user 335 ms, sys: 11.4 ms, total: 346 ms\n",
      "Wall time: 750 ms\n",
      "CPU times: user 282 ms, sys: 12.2 ms, total: 294 ms\n",
      "Wall time: 819 ms\n",
      "CPU times: user 311 ms, sys: 9.77 ms, total: 321 ms\n",
      "Wall time: 763 ms\n",
      "CPU times: user 1.39 s, sys: 38.1 ms, total: 1.43 s\n",
      "Wall time: 2.72 s\n",
      "CPU times: user 957 ms, sys: 72.6 ms, total: 1.03 s\n",
      "Wall time: 2.32 s\n",
      "CPU times: user 859 ms, sys: 181 ms, total: 1.04 s\n",
      "Wall time: 1.67 s\n"
     ]
    }
   ],
   "source": [
    "# initial condition\n",
    "# for proteins\n",
    "simulation.set_initial.prot(model, 'lacZ', 'cyt', 12)\n",
    "simulation.set_initial.prot(model, 'lacA', 'cyt', 12)\n",
    "\n",
    "# simulation\n",
    "bng = '/opt/git-repositories/bionetgen.RuleWorld/bng2/'\n",
    "kasim = '/opt/git-repositories/KaSim4.Kappa-Dev/'\n",
    "cupsoda = '/opt/git-repositories/cupSODA.aresio/'\n",
    "stochkit = '/opt/git-repositories/StochKit.StochSS' # not the bin folder\n",
    "\n",
    "%time data0 = simulation.scipy(model, start = 0, finish = 10, points = 2000)\n",
    "%time data1 = simulation.cupsoda(model, start = 0, finish = 10, points = 2000, path = cupsoda)\n",
    "%time data2 = simulation.bngODE(model, start = 0, finish = 10, points = 2000, path = bng)\n",
    "%time data3 = simulation.bngSSA(model, start = 0, finish = 10, points = 2000, n_runs = 20, path = bng)\n",
    "# %time data4 = simulation.bngPLA(model, start = 0, finish = 10, points = 2000, n_runs = 20, path = bng)\n",
    "%time data5 = simulation.bngNF(model, start = 0, finish = 10, points = 2000, n_runs = 20, path = bng)\n",
    "%time data6 = simulation.kasim(model, start = 0, finish = 10, points = 2000, n_runs = 20, path = kasim)\n",
    "# %time data7 = simulation.stochkit(model, start = 0, finish = 10, points = 2000, n_runs = 20, path = stochkit) # pySB error"
   ]
  },
  {
   "cell_type": "code",
   "execution_count": 40,
   "metadata": {},
   "outputs": [
    {
     "data": {
      "image/png": "[encoded data removed]",
      "text/plain": [
       "<Figure size 800x300 with 2 Axes>"
      ]
     },
     "metadata": {
      "needs_background": "light"
     },
     "output_type": "display_data"
    }
   ],
   "source": [
    "import seaborn\n",
    "import matplotlib.pyplot as plt\n",
    "\n",
    "palette = seaborn.color_palette('colorblind')\n",
    "\n",
    "# first plot, periplasmic concentration\n",
    "fig, ax = plt.subplots(1, 2, figsize = (4*2, 3*1), dpi = 100)\n",
    "simulation.plot.protein(data3, 'lacZ', 'cyt', ax = ax[0], **{'kind' : 'fill_between', 'weight' : .5}, \n",
    "    plt_kws = {'s' : 2, 'color' : palette[0], 'label' : 'LacZ monomers', 'alpha' : .5})\n",
    "\n",
    "simulation.plot.protein(data3, 'lacA', 'cyt', ax = ax[0], **{'kind' : 'fill_between', 'weight' : .5}, \n",
    "    plt_kws = {'s' : 2, 'color' : palette[1], 'label' : 'LacA monomers', 'alpha' : .5})\n",
    "\n",
    "simulation.plot.cplx(data3, 'lacAx3', 'cyt', ax = ax[1], **{'kind' : 'fill_between', 'weight' : .5}, \n",
    "    plt_kws = {'s' : 2, 'color' : palette[2], 'label' : r'LacA trimers [CYT]', 'alpha' : .5})\n",
    "\n",
    "simulation.plot.cplx(data3, 'lacZx4', 'cyt', ax = ax[1], **{'kind' : 'fill_between', 'weight' : .5}, \n",
    "   plt_kws = {'s' : 2, 'color' : palette[3], 'label' : r'LacZ tetramers [CYT]', 'alpha' : .5})\n",
    "\n",
    "ax[0].set_xlim((0,1))\n",
    "ax[1].set_xlim((0,1))\n",
    "ax[0].set_ylim((0,12))\n",
    "ax[1].set_ylim((0,4))\n",
    "\n",
    "seaborn.despine()"
   ]
  },
  {
   "cell_type": "markdown",
   "metadata": {},
   "source": [
    "## Modeling gene expression"
   ]
  },
  {
   "cell_type": "markdown",
   "metadata": {},
   "source": [
    "To model gene expression (transcription and translation) we must first retrieve data for the genomic architecture of the considered genes. For this purpose, we could use the ```operon_of_gene``` method from the pythoncyc package to obtain the operons of a gene:"
   ]
  },
  {
   "cell_type": "code",
   "execution_count": 41,
   "metadata": {},
   "outputs": [
    {
     "data": {
      "text/plain": [
       "['|TU0-4703|', '|TU00036|', '|TU0-4701|', '|TU0-4702|', '|TU0-14521|']"
      ]
     },
     "execution_count": 41,
     "metadata": {},
     "output_type": "execute_result"
    }
   ],
   "source": [
    "import pythoncyc\n",
    "TUs = pythoncyc.select_organism('ECOLI').operon_of_gene(df_genes['gene name']['lacZ'])\n",
    "TUs"
   ]
  },
  {
   "cell_type": "code",
   "execution_count": 42,
   "metadata": {},
   "outputs": [
    {
     "name": "stdout",
     "output_type": "stream",
     "text": [
      "|TU0-4703| = ['|TERM0223|', '|TERM0222|', '|EG10524|', '|EG10526|', '|EG10527|', '|PM0-4943|']\n",
      "|TU00036| = ['|BS0-5469|', '|BS0-5468|', '|BS0-5467|', '|BS0-5463|', '|BS0-5462|', '|BS0-5461|', '|TERM0223|', '|TERM0222|', '|PM00045|', '|BS0-3622|', '|BS00104|', '|BS00105|', '|BS00106|', '|EG10524|', '|EG10526|', '|EG10527|']\n",
      "|TU0-4701| = ['|TERM0223|', '|TERM0222|', '|BS0-3622|', '|EG10524|', '|EG10526|', '|EG10527|', '|PM0-4941|']\n",
      "|TU0-4702| = ['|TERM0223|', '|TERM0222|', '|BS0-3622|', '|EG10524|', '|EG10526|', '|EG10527|', '|PM0-4942|']\n",
      "|TU0-14521| = ['|TERM0223|', '|TERM0222|', '|EG10524|', '|EG10526|', '|PM0-9804|']\n"
     ]
    }
   ],
   "source": [
    "components = []\n",
    "for TU in TUs:\n",
    "    x = utils.getData('ECOLI', TU)['components']\n",
    "    print(TU, '=', x)\n",
    "    components.append(x)"
   ]
  },
  {
   "cell_type": "markdown",
   "metadata": {},
   "source": [
    "**Note**: An operon is a functional unit of DNA under the control of a promoter. In bacteria, operons could be policistronic (two or more genes under the control of a unique promoter) or monocistronic (only one gene under the control of a promoter). However, the information from the pythoncyc could led to misinterpretation of the genomic architecture, and we do not provide a function to cover all possibilities. Please, look at https://ecocyc.org/gene?orgid=ECOLI&id=EG10527#tab=TU and similar webpages to construct by yourself the network using a spreadsheet or text editor software.\n",
    "\n",
    "Here is an example depicting the DNA architecture of the lactose operons (see above note an output of `operon_of_gene`). Using brackets, Atlas understand that DNA promoters, ribosome binding sites (RBS), coding DNA sequences (CDS), and terminators are part of the same architectural unit, and therefore, Atlas defines the RNA products and protein products. From the example, Atlas will write rules for the synthesis of 10 molecules of RNA (five promoters times two terminators), which produce three proteins:"
   ]
  },
  {
   "cell_type": "code",
   "execution_count": 43,
   "metadata": {},
   "outputs": [
    {
     "data": {
      "text/html": [
       "<div>\n",
       "<style scoped>\n",
       "    .dataframe tbody tr th:only-of-type {\n",
       "        vertical-align: middle;\n",
       "    }\n",
       "\n",
       "    .dataframe tbody tr th {\n",
       "        vertical-align: top;\n",
       "    }\n",
       "\n",
       "    .dataframe thead th {\n",
       "        text-align: right;\n",
       "    }\n",
       "</style>\n",
       "<table border=\"1\" class=\"dataframe\">\n",
       "  <thead>\n",
       "    <tr style=\"text-align: right;\">\n",
       "      <th></th>\n",
       "      <th>UPSTREAM</th>\n",
       "      <th>DOWNSTREAM</th>\n",
       "      <th>RNAP_FWD_DOCK_RATE</th>\n",
       "      <th>RNAP_RVS_DOCK_RATE</th>\n",
       "      <th>RNAP_FWD_SLIDE_RATE</th>\n",
       "      <th>RNAP_FWD_FALL_RATE</th>\n",
       "      <th>RIB_FWD_DOCK_RATE</th>\n",
       "      <th>RIB_RVS_DOCK_RATE</th>\n",
       "      <th>RIB_FWD_SLIDE_RATE</th>\n",
       "      <th>RIB_FWD_FALL_RATE</th>\n",
       "    </tr>\n",
       "  </thead>\n",
       "  <tbody>\n",
       "    <tr>\n",
       "      <th>0</th>\n",
       "      <td>[lacZ-pro4</td>\n",
       "      <td>lacZ-pro3</td>\n",
       "      <td>0.0</td>\n",
       "      <td>1.0</td>\n",
       "      <td>1</td>\n",
       "      <td>NaN</td>\n",
       "      <td>NaN</td>\n",
       "      <td>NaN</td>\n",
       "      <td>NaN</td>\n",
       "      <td>NaN</td>\n",
       "    </tr>\n",
       "    <tr>\n",
       "      <th>1</th>\n",
       "      <td>lacZ-pro3</td>\n",
       "      <td>lacZ-pro2</td>\n",
       "      <td>0.0</td>\n",
       "      <td>1.0</td>\n",
       "      <td>1</td>\n",
       "      <td>NaN</td>\n",
       "      <td>NaN</td>\n",
       "      <td>NaN</td>\n",
       "      <td>NaN</td>\n",
       "      <td>NaN</td>\n",
       "    </tr>\n",
       "    <tr>\n",
       "      <th>2</th>\n",
       "      <td>lacZ-pro2</td>\n",
       "      <td>BS-lacI-72-92</td>\n",
       "      <td>0.0</td>\n",
       "      <td>1.0</td>\n",
       "      <td>1</td>\n",
       "      <td>NaN</td>\n",
       "      <td>NaN</td>\n",
       "      <td>NaN</td>\n",
       "      <td>NaN</td>\n",
       "      <td>NaN</td>\n",
       "    </tr>\n",
       "    <tr>\n",
       "      <th>3</th>\n",
       "      <td>BS-lacI-72-92</td>\n",
       "      <td>BS-lacI-21-1</td>\n",
       "      <td>NaN</td>\n",
       "      <td>NaN</td>\n",
       "      <td>1</td>\n",
       "      <td>NaN</td>\n",
       "      <td>NaN</td>\n",
       "      <td>NaN</td>\n",
       "      <td>NaN</td>\n",
       "      <td>NaN</td>\n",
       "    </tr>\n",
       "    <tr>\n",
       "      <th>4</th>\n",
       "      <td>BS-lacI-21-1</td>\n",
       "      <td>lacZ-pro1</td>\n",
       "      <td>NaN</td>\n",
       "      <td>NaN</td>\n",
       "      <td>1</td>\n",
       "      <td>NaN</td>\n",
       "      <td>NaN</td>\n",
       "      <td>NaN</td>\n",
       "      <td>NaN</td>\n",
       "      <td>NaN</td>\n",
       "    </tr>\n",
       "    <tr>\n",
       "      <th>5</th>\n",
       "      <td>lacZ-pro1</td>\n",
       "      <td>lacZ-rbs</td>\n",
       "      <td>1.0</td>\n",
       "      <td>1.0</td>\n",
       "      <td>1</td>\n",
       "      <td>NaN</td>\n",
       "      <td>NaN</td>\n",
       "      <td>NaN</td>\n",
       "      <td>NaN</td>\n",
       "      <td>NaN</td>\n",
       "    </tr>\n",
       "    <tr>\n",
       "      <th>6</th>\n",
       "      <td>lacZ-rbs</td>\n",
       "      <td>lacZ-cds</td>\n",
       "      <td>NaN</td>\n",
       "      <td>NaN</td>\n",
       "      <td>1</td>\n",
       "      <td>NaN</td>\n",
       "      <td>1.0</td>\n",
       "      <td>1.0</td>\n",
       "      <td>1.0</td>\n",
       "      <td>1.0</td>\n",
       "    </tr>\n",
       "    <tr>\n",
       "      <th>7</th>\n",
       "      <td>lacZ-cds</td>\n",
       "      <td>BS-lacI-422-402</td>\n",
       "      <td>NaN</td>\n",
       "      <td>NaN</td>\n",
       "      <td>1</td>\n",
       "      <td>NaN</td>\n",
       "      <td>NaN</td>\n",
       "      <td>NaN</td>\n",
       "      <td>NaN</td>\n",
       "      <td>NaN</td>\n",
       "    </tr>\n",
       "    <tr>\n",
       "      <th>8</th>\n",
       "      <td>BS-lacI-422-402</td>\n",
       "      <td>lacY-pro1</td>\n",
       "      <td>NaN</td>\n",
       "      <td>NaN</td>\n",
       "      <td>1</td>\n",
       "      <td>NaN</td>\n",
       "      <td>NaN</td>\n",
       "      <td>NaN</td>\n",
       "      <td>NaN</td>\n",
       "      <td>NaN</td>\n",
       "    </tr>\n",
       "    <tr>\n",
       "      <th>9</th>\n",
       "      <td>lacY-pro1</td>\n",
       "      <td>lacY-rbs</td>\n",
       "      <td>0.0</td>\n",
       "      <td>1.0</td>\n",
       "      <td>1</td>\n",
       "      <td>NaN</td>\n",
       "      <td>NaN</td>\n",
       "      <td>NaN</td>\n",
       "      <td>NaN</td>\n",
       "      <td>NaN</td>\n",
       "    </tr>\n",
       "    <tr>\n",
       "      <th>10</th>\n",
       "      <td>lacY-rbs</td>\n",
       "      <td>lacY-cds</td>\n",
       "      <td>NaN</td>\n",
       "      <td>NaN</td>\n",
       "      <td>1</td>\n",
       "      <td>NaN</td>\n",
       "      <td>1.0</td>\n",
       "      <td>1.0</td>\n",
       "      <td>1.0</td>\n",
       "      <td>1.0</td>\n",
       "    </tr>\n",
       "    <tr>\n",
       "      <th>11</th>\n",
       "      <td>lacY-cds</td>\n",
       "      <td>lacA-rbs</td>\n",
       "      <td>NaN</td>\n",
       "      <td>NaN</td>\n",
       "      <td>1</td>\n",
       "      <td>NaN</td>\n",
       "      <td>NaN</td>\n",
       "      <td>NaN</td>\n",
       "      <td>NaN</td>\n",
       "      <td>NaN</td>\n",
       "    </tr>\n",
       "    <tr>\n",
       "      <th>12</th>\n",
       "      <td>lacA-rbs</td>\n",
       "      <td>lacA-cds</td>\n",
       "      <td>NaN</td>\n",
       "      <td>NaN</td>\n",
       "      <td>1</td>\n",
       "      <td>NaN</td>\n",
       "      <td>1.0</td>\n",
       "      <td>1.0</td>\n",
       "      <td>1.0</td>\n",
       "      <td>1.0</td>\n",
       "    </tr>\n",
       "    <tr>\n",
       "      <th>13</th>\n",
       "      <td>lacA-cds</td>\n",
       "      <td>lacA-ter1</td>\n",
       "      <td>NaN</td>\n",
       "      <td>NaN</td>\n",
       "      <td>1</td>\n",
       "      <td>1.0</td>\n",
       "      <td>NaN</td>\n",
       "      <td>NaN</td>\n",
       "      <td>NaN</td>\n",
       "      <td>NaN</td>\n",
       "    </tr>\n",
       "    <tr>\n",
       "      <th>14</th>\n",
       "      <td>lacA-ter1</td>\n",
       "      <td>lacA-ter2]</td>\n",
       "      <td>NaN</td>\n",
       "      <td>NaN</td>\n",
       "      <td>1</td>\n",
       "      <td>1.0</td>\n",
       "      <td>NaN</td>\n",
       "      <td>NaN</td>\n",
       "      <td>NaN</td>\n",
       "      <td>NaN</td>\n",
       "    </tr>\n",
       "  </tbody>\n",
       "</table>\n",
       "</div>"
      ],
      "text/plain": [
       "           UPSTREAM       DOWNSTREAM  RNAP_FWD_DOCK_RATE  RNAP_RVS_DOCK_RATE  \\\n",
       "0        [lacZ-pro4        lacZ-pro3                 0.0                 1.0   \n",
       "1         lacZ-pro3        lacZ-pro2                 0.0                 1.0   \n",
       "2         lacZ-pro2    BS-lacI-72-92                 0.0                 1.0   \n",
       "3     BS-lacI-72-92     BS-lacI-21-1                 NaN                 NaN   \n",
       "4      BS-lacI-21-1        lacZ-pro1                 NaN                 NaN   \n",
       "5         lacZ-pro1         lacZ-rbs                 1.0                 1.0   \n",
       "6          lacZ-rbs         lacZ-cds                 NaN                 NaN   \n",
       "7          lacZ-cds  BS-lacI-422-402                 NaN                 NaN   \n",
       "8   BS-lacI-422-402        lacY-pro1                 NaN                 NaN   \n",
       "9         lacY-pro1         lacY-rbs                 0.0                 1.0   \n",
       "10         lacY-rbs         lacY-cds                 NaN                 NaN   \n",
       "11         lacY-cds         lacA-rbs                 NaN                 NaN   \n",
       "12         lacA-rbs         lacA-cds                 NaN                 NaN   \n",
       "13         lacA-cds        lacA-ter1                 NaN                 NaN   \n",
       "14        lacA-ter1       lacA-ter2]                 NaN                 NaN   \n",
       "\n",
       "    RNAP_FWD_SLIDE_RATE  RNAP_FWD_FALL_RATE  RIB_FWD_DOCK_RATE  \\\n",
       "0                     1                 NaN                NaN   \n",
       "1                     1                 NaN                NaN   \n",
       "2                     1                 NaN                NaN   \n",
       "3                     1                 NaN                NaN   \n",
       "4                     1                 NaN                NaN   \n",
       "5                     1                 NaN                NaN   \n",
       "6                     1                 NaN                1.0   \n",
       "7                     1                 NaN                NaN   \n",
       "8                     1                 NaN                NaN   \n",
       "9                     1                 NaN                NaN   \n",
       "10                    1                 NaN                1.0   \n",
       "11                    1                 NaN                NaN   \n",
       "12                    1                 NaN                1.0   \n",
       "13                    1                 1.0                NaN   \n",
       "14                    1                 1.0                NaN   \n",
       "\n",
       "    RIB_RVS_DOCK_RATE  RIB_FWD_SLIDE_RATE  RIB_FWD_FALL_RATE  \n",
       "0                 NaN                 NaN                NaN  \n",
       "1                 NaN                 NaN                NaN  \n",
       "2                 NaN                 NaN                NaN  \n",
       "3                 NaN                 NaN                NaN  \n",
       "4                 NaN                 NaN                NaN  \n",
       "5                 NaN                 NaN                NaN  \n",
       "6                 1.0                 1.0                1.0  \n",
       "7                 NaN                 NaN                NaN  \n",
       "8                 NaN                 NaN                NaN  \n",
       "9                 NaN                 NaN                NaN  \n",
       "10                1.0                 1.0                1.0  \n",
       "11                NaN                 NaN                NaN  \n",
       "12                1.0                 1.0                1.0  \n",
       "13                NaN                 NaN                NaN  \n",
       "14                NaN                 NaN                NaN  "
      ]
     },
     "execution_count": 43,
     "metadata": {},
     "output_type": "execute_result"
    }
   ],
   "source": [
    "utils.read_network('network-lac-operon-arq.tsv')"
   ]
  },
  {
   "cell_type": "markdown",
   "metadata": {},
   "source": [
    "**Notes**:\n",
    "\n",
    "- ```RNAP_FWD_DOCK_RATE```s and ```RNAP_RVS_DOCK_RATE```s are valid values only for the description of the reversible interaction of the RNA Polymerase to the promoters.\n",
    "- ```RNAP_FWD_SLIDE_RATE```s are valid values for the transition of the RNA Polymerase from the ```UPSTREAM``` to the ```DOWNSTREAM``` DNA parts. We describe rules where the RNA Polymerase could not move back.\n",
    "- ```RNAP_FWD_FALL_RATE```s are valid values only for the description of the unbinding of the RNA Polymerase and the ```UPSTREAM``` identifiying a DNA terminator.<br/><br/>\n",
    "\n",
    "- ```RIB_FWD_DOCK_RATE```s and ```RIB_RVS_DOCK_RATE```s are valid values only for the description of the reversible interaction of the bacterial Ribosome to the RBS.\n",
    "- ```RIB_FWD_SLIDE_RATE```s are valid values for the transition of the Ribosome from the ```UPSTREAM``` to the ```DOWNSTREAM``` RNA parts. We describe rules where the Ribosome could not move back.\n",
    "- ```RIB_FWD_FALL_RATE```s are valid values only for the description of the unbinding of the Ribosome and the ```UPSTREAM``` identifiying a CDS.<br/><br/>\n",
    "\n",
    "- Encode DNA parts as: \"name of the gene\"-\"type of DNA part\" (```pro#```: Promoter, ```rbs```: Ribosome Binding Site, ```cds```: Coding DNA Sequence, ```ter#```: (transcriptional) Terminator). Multiple promoters and terminators must have a numeric identifier (to replace `#`). For instance, `lacZ-pro1` identifies the most proximal promoter to the `lacZ` gene.\n",
    "- In the case of Binding Sites (```BS```) for the interaction of Transcriptional Factors with DNA, please use the notation: BS-\"name of the gene or regulator\"-\"upstream genomic coordinate\"-\"downstream genomic coordinate\". The coordinates could be relatives or absolutes. For instance `BS-araC-56-72` describe the binding site located upstream the transcription start site of the araC gene, from the -56 nucleotide to the -72 nucleotide."
   ]
  },
  {
   "cell_type": "markdown",
   "metadata": {},
   "source": [
    "We provide two functions to reconstruction transcription and translation from the network of DNA parts (known as a \"genome graph\"). Here, we will use the first of these two functions. The ```construct_model_from_genome_graph()``` function is an automatization of the Kappa BioBrick Framework (https://www.sciencedirect.com/science/article/pii/S1571066111001289). The function writes rules for transcription of DNA mediated by a ```RNAP-CPLX``` agent (to keep notation with BioCyc) and translation of RNA mediated by a ```RIBOSOME-CPLX``` agent:"
   ]
  },
  {
   "cell_type": "code",
   "execution_count": 44,
   "metadata": {},
   "outputs": [
    {
     "name": "stdout",
     "output_type": "stream",
     "text": [
      "CPU times: user 804 ms, sys: 19.2 ms, total: 824 ms\n",
      "Wall time: 823 ms\n"
     ]
    },
    {
     "data": {
      "text/plain": [
       "<Model 'atlas_rbm.construct_model_from_genome_graph' (monomers: 4, rules: 31, parameters: 53, expressions: 0, compartments: 0) at 0x7f61cc307250>"
      ]
     },
     "execution_count": 44,
     "metadata": {},
     "output_type": "execute_result"
    }
   ],
   "source": [
    "%time model = atlas.construct_model_from_genome_graph('network-lac-operon-arq.tsv')\n",
    "model"
   ]
  },
  {
   "cell_type": "code",
   "execution_count": 45,
   "metadata": {},
   "outputs": [
    {
     "name": "stdout",
     "output_type": "stream",
     "text": [
      "CPU times: user 1.07 s, sys: 0 ns, total: 1.07 s\n",
      "Wall time: 1.16 s\n"
     ]
    },
    {
     "data": {
      "text/plain": [
       "<Model 'atlas_rbm.construct_model_from_genome_graph' (monomers: 4, rules: 50, parameters: 78, expressions: 0, compartments: 0) at 0x7f61cc28efd0>"
      ]
     },
     "execution_count": 45,
     "metadata": {},
     "output_type": "execute_result"
    }
   ],
   "source": [
    "%time model = atlas.construct_model_from_genome_graph('network-ara-operons-arq.tsv')\n",
    "model"
   ]
  },
  {
   "cell_type": "markdown",
   "metadata": {},
   "source": [
    "## Modeling regulation of gene expression"
   ]
  },
  {
   "cell_type": "markdown",
   "metadata": {},
   "source": [
    "The second function that describe gene transcription and translation also consider the specificity of sigma factors for bacterial promoters. In bacteria, there is only one RNA polymerase that synthetize mRNA, rRNA, and tRNA. To control which genes are in active transcription, promoters show differential specificity for one or several sigma factors. In the case of *E. coli*, the bacteria has seven of those sigma factors: rpoD (exponential growth phase), rpoE (heat and protein misfolding stress), rpoH (heat stress), rpoN (nitrogen homeostasis), rpoS (stationary phase), fecI (iron starvation), and fliA (flagela synthesis) that interact with the core RNA polymerase (rpoAABC) and form an interaction interface for the holoenzyme with promoters."
   ]
  },
  {
   "cell_type": "code",
   "execution_count": 46,
   "metadata": {},
   "outputs": [
    {
     "data": {
      "text/html": [
       "<div>\n",
       "<style scoped>\n",
       "    .dataframe tbody tr th:only-of-type {\n",
       "        vertical-align: middle;\n",
       "    }\n",
       "\n",
       "    .dataframe tbody tr th {\n",
       "        vertical-align: top;\n",
       "    }\n",
       "\n",
       "    .dataframe thead th {\n",
       "        text-align: right;\n",
       "    }\n",
       "</style>\n",
       "<table border=\"1\" class=\"dataframe\">\n",
       "  <thead>\n",
       "    <tr style=\"text-align: right;\">\n",
       "      <th></th>\n",
       "      <th>SOURCE</th>\n",
       "      <th>TARGET</th>\n",
       "      <th>FWD_DOCK_RATE</th>\n",
       "      <th>RVS_DOCK_RATE</th>\n",
       "      <th>FWD_SLIDE_RATE</th>\n",
       "    </tr>\n",
       "  </thead>\n",
       "  <tbody>\n",
       "    <tr>\n",
       "      <th>0</th>\n",
       "      <td>[rpoA,rpoA,rpoB,rpoC,rpoD]</td>\n",
       "      <td>lacZ-pro4</td>\n",
       "      <td>1.0</td>\n",
       "      <td>1.0</td>\n",
       "      <td>1.0</td>\n",
       "    </tr>\n",
       "    <tr>\n",
       "      <th>1</th>\n",
       "      <td>[rpoA,rpoA,rpoB,rpoC,rpoD]</td>\n",
       "      <td>lacZ-pro3</td>\n",
       "      <td>1.0</td>\n",
       "      <td>1.0</td>\n",
       "      <td>1.0</td>\n",
       "    </tr>\n",
       "    <tr>\n",
       "      <th>2</th>\n",
       "      <td>[rpoA,rpoA,rpoB,rpoC,rpoD]</td>\n",
       "      <td>lacZ-pro2</td>\n",
       "      <td>1.0</td>\n",
       "      <td>1.0</td>\n",
       "      <td>1.0</td>\n",
       "    </tr>\n",
       "    <tr>\n",
       "      <th>3</th>\n",
       "      <td>[rpoA,rpoA,rpoB,rpoC,rpoD]</td>\n",
       "      <td>lacZ-pro1</td>\n",
       "      <td>1.0</td>\n",
       "      <td>1.0</td>\n",
       "      <td>1.0</td>\n",
       "    </tr>\n",
       "    <tr>\n",
       "      <th>4</th>\n",
       "      <td>[rpoA,rpoA,rpoB,rpoC,rpoD]</td>\n",
       "      <td>lacY-pro1</td>\n",
       "      <td>1.0</td>\n",
       "      <td>1.0</td>\n",
       "      <td>1.0</td>\n",
       "    </tr>\n",
       "  </tbody>\n",
       "</table>\n",
       "</div>"
      ],
      "text/plain": [
       "                       SOURCE     TARGET  FWD_DOCK_RATE  RVS_DOCK_RATE  \\\n",
       "0  [rpoA,rpoA,rpoB,rpoC,rpoD]  lacZ-pro4            1.0            1.0   \n",
       "1  [rpoA,rpoA,rpoB,rpoC,rpoD]  lacZ-pro3            1.0            1.0   \n",
       "2  [rpoA,rpoA,rpoB,rpoC,rpoD]  lacZ-pro2            1.0            1.0   \n",
       "3  [rpoA,rpoA,rpoB,rpoC,rpoD]  lacZ-pro1            1.0            1.0   \n",
       "4  [rpoA,rpoA,rpoB,rpoC,rpoD]  lacY-pro1            1.0            1.0   \n",
       "\n",
       "   FWD_SLIDE_RATE  \n",
       "0             1.0  \n",
       "1             1.0  \n",
       "2             1.0  \n",
       "3             1.0  \n",
       "4             1.0  "
      ]
     },
     "execution_count": 46,
     "metadata": {},
     "output_type": "execute_result"
    }
   ],
   "source": [
    "utils.read_network('network-lac-sigma-specificity.tsv')"
   ]
  },
  {
   "cell_type": "markdown",
   "metadata": {},
   "source": [
    "**Note**: The ```TARGET``` name must match the ```UPSTREAM``` name in the network that describe the genomic architecture:"
   ]
  },
  {
   "cell_type": "code",
   "execution_count": 47,
   "metadata": {},
   "outputs": [
    {
     "data": {
      "text/html": [
       "<div>\n",
       "<style scoped>\n",
       "    .dataframe tbody tr th:only-of-type {\n",
       "        vertical-align: middle;\n",
       "    }\n",
       "\n",
       "    .dataframe tbody tr th {\n",
       "        vertical-align: top;\n",
       "    }\n",
       "\n",
       "    .dataframe thead th {\n",
       "        text-align: right;\n",
       "    }\n",
       "</style>\n",
       "<table border=\"1\" class=\"dataframe\">\n",
       "  <thead>\n",
       "    <tr style=\"text-align: right;\">\n",
       "      <th></th>\n",
       "      <th>UPSTREAM</th>\n",
       "      <th>DOWNSTREAM</th>\n",
       "    </tr>\n",
       "  </thead>\n",
       "  <tbody>\n",
       "    <tr>\n",
       "      <th>0</th>\n",
       "      <td>[lacZ-pro4</td>\n",
       "      <td>lacZ-pro3</td>\n",
       "    </tr>\n",
       "    <tr>\n",
       "      <th>1</th>\n",
       "      <td>lacZ-pro3</td>\n",
       "      <td>lacZ-pro2</td>\n",
       "    </tr>\n",
       "    <tr>\n",
       "      <th>2</th>\n",
       "      <td>lacZ-pro2</td>\n",
       "      <td>lacZ-pro1</td>\n",
       "    </tr>\n",
       "    <tr>\n",
       "      <th>3</th>\n",
       "      <td>lacZ-pro1</td>\n",
       "      <td>lacZ-rbs</td>\n",
       "    </tr>\n",
       "    <tr>\n",
       "      <th>6</th>\n",
       "      <td>lacY-pro1</td>\n",
       "      <td>lacY-rbs</td>\n",
       "    </tr>\n",
       "    <tr>\n",
       "      <th>12</th>\n",
       "      <td>[rpoA-pro1</td>\n",
       "      <td>rpoA-rbs</td>\n",
       "    </tr>\n",
       "    <tr>\n",
       "      <th>15</th>\n",
       "      <td>[rpoB-pro1</td>\n",
       "      <td>rpoB-rbs</td>\n",
       "    </tr>\n",
       "    <tr>\n",
       "      <th>20</th>\n",
       "      <td>[rpoD-pro1</td>\n",
       "      <td>rpoD-rbs</td>\n",
       "    </tr>\n",
       "  </tbody>\n",
       "</table>\n",
       "</div>"
      ],
      "text/plain": [
       "      UPSTREAM DOWNSTREAM\n",
       "0   [lacZ-pro4  lacZ-pro3\n",
       "1    lacZ-pro3  lacZ-pro2\n",
       "2    lacZ-pro2  lacZ-pro1\n",
       "3    lacZ-pro1   lacZ-rbs\n",
       "6    lacY-pro1   lacY-rbs\n",
       "12  [rpoA-pro1   rpoA-rbs\n",
       "15  [rpoB-pro1   rpoB-rbs\n",
       "20  [rpoD-pro1   rpoD-rbs"
      ]
     },
     "execution_count": 47,
     "metadata": {},
     "output_type": "execute_result"
    }
   ],
   "source": [
    "network = utils.read_network('network-lac+rpoABCD-operons-arq.tsv')\n",
    "network[['UPSTREAM', 'DOWNSTREAM']][network['UPSTREAM'].str.contains('pro')] # shows the UPSTREAM and DOWNSTREAM columns where the UPSTREAM column contains the 'pro' string"
   ]
  },
  {
   "cell_type": "code",
   "execution_count": 48,
   "metadata": {},
   "outputs": [
    {
     "name": "stdout",
     "output_type": "stream",
     "text": [
      "CPU times: user 1.42 s, sys: 0 ns, total: 1.42 s\n",
      "Wall time: 1.41 s\n"
     ]
    },
    {
     "data": {
      "text/plain": [
       "<Model 'atlas_rbm.construct_model_from_sigma_specificity_network' (monomers: 4, rules: 55, parameters: 91, expressions: 0, compartments: 0) at 0x7f620e2fe280>"
      ]
     },
     "execution_count": 48,
     "metadata": {},
     "output_type": "execute_result"
    }
   ],
   "source": [
    "%time model = atlas.construct_model_from_sigma_specificity_network('network-lac-sigma-specificity.tsv', 'network-lac+rpoABCD-operons-arq.tsv')\n",
    "model"
   ]
  },
  {
   "cell_type": "code",
   "execution_count": 49,
   "metadata": {},
   "outputs": [
    {
     "name": "stdout",
     "output_type": "stream",
     "text": [
      "CPU times: user 1.82 s, sys: 0 ns, total: 1.82 s\n",
      "Wall time: 1.88 s\n"
     ]
    }
   ],
   "source": [
    "%time model = atlas.construct_model_from_sigma_specificity_network('network-ara-sigma-specificity.tsv', 'network-ara+rpoABCD-operons-arq.tsv')"
   ]
  },
  {
   "cell_type": "markdown",
   "metadata": {},
   "source": [
    "However, sigma factors is only one of the many mechanism a bacteria has to control gene expression. Canonically speacking, Transcription Factors (TFs) drive the control of gene expression. TFs are proteins that bind to DNA or unbind from DNA at speciliazed sequences. Most TFs are sensors of metabolites: lacI senses allolactose, araC senses arabinose, crp senses cyclic AMP, etc. We employ an interaction network to model such information:"
   ]
  },
  {
   "cell_type": "code",
   "execution_count": 50,
   "metadata": {},
   "outputs": [
    {
     "data": {
      "text/html": [
       "<div>\n",
       "<style scoped>\n",
       "    .dataframe tbody tr th:only-of-type {\n",
       "        vertical-align: middle;\n",
       "    }\n",
       "\n",
       "    .dataframe tbody tr th {\n",
       "        vertical-align: top;\n",
       "    }\n",
       "\n",
       "    .dataframe thead th {\n",
       "        text-align: right;\n",
       "    }\n",
       "</style>\n",
       "<table border=\"1\" class=\"dataframe\">\n",
       "  <thead>\n",
       "    <tr style=\"text-align: right;\">\n",
       "      <th></th>\n",
       "      <th>SOURCE</th>\n",
       "      <th>TARGET</th>\n",
       "      <th>FWD_RATE</th>\n",
       "      <th>RVS_RATE</th>\n",
       "      <th>LOCATION</th>\n",
       "    </tr>\n",
       "  </thead>\n",
       "  <tbody>\n",
       "    <tr>\n",
       "      <th>0</th>\n",
       "      <td>[crp,SMALL-CAMP,crp,SMALL-CAMP]</td>\n",
       "      <td>BS-crp-51-72</td>\n",
       "      <td>1.0</td>\n",
       "      <td>1.0</td>\n",
       "      <td>cytosol</td>\n",
       "    </tr>\n",
       "  </tbody>\n",
       "</table>\n",
       "</div>"
      ],
      "text/plain": [
       "                            SOURCE        TARGET  FWD_RATE  RVS_RATE LOCATION\n",
       "0  [crp,SMALL-CAMP,crp,SMALL-CAMP]  BS-crp-51-72       1.0       1.0  cytosol"
      ]
     },
     "execution_count": 50,
     "metadata": {},
     "output_type": "execute_result"
    }
   ],
   "source": [
    "net1 = utils.read_network('network-lac+ara-TFs+DNA.tsv')\n",
    "# net1 # for better visualization\n",
    "net1[0:1]"
   ]
  },
  {
   "cell_type": "markdown",
   "metadata": {},
   "source": [
    "**Note**: We appended the prefix ```SMALL-``` to tell Atlas that the interaction partner is a metabolite and not a protein (an interaction network is interpreted by default as a protein-protein interaction network). We employs the *hypergraph notation* to denote a complex of agents."
   ]
  },
  {
   "cell_type": "code",
   "execution_count": 51,
   "metadata": {},
   "outputs": [],
   "source": [
    "net2 = utils.read_network('network-lac+ara-ProtMet.tsv')\n",
    "net3 = utils.read_network('network-lac-ProtProt.tsv')"
   ]
  },
  {
   "cell_type": "markdown",
   "metadata": {},
   "source": [
    "Networks of the same kind (except metabolic networks) must be concatenated to produce valid models. Atlas numbers the rules and there is a probability to produce non unique rule names. In the case of metabolic networks, we use the reaction name to name rules (and check for unique names prior to write rules)."
   ]
  },
  {
   "cell_type": "code",
   "execution_count": 52,
   "metadata": {},
   "outputs": [
    {
     "data": {
      "text/html": [
       "<div>\n",
       "<style scoped>\n",
       "    .dataframe tbody tr th:only-of-type {\n",
       "        vertical-align: middle;\n",
       "    }\n",
       "\n",
       "    .dataframe tbody tr th {\n",
       "        vertical-align: top;\n",
       "    }\n",
       "\n",
       "    .dataframe thead th {\n",
       "        text-align: right;\n",
       "    }\n",
       "</style>\n",
       "<table border=\"1\" class=\"dataframe\">\n",
       "  <thead>\n",
       "    <tr style=\"text-align: right;\">\n",
       "      <th></th>\n",
       "      <th>SOURCE</th>\n",
       "      <th>TARGET</th>\n",
       "      <th>FWD_RATE</th>\n",
       "      <th>RVS_RATE</th>\n",
       "      <th>LOCATION</th>\n",
       "    </tr>\n",
       "  </thead>\n",
       "  <tbody>\n",
       "    <tr>\n",
       "      <th>31</th>\n",
       "      <td>lacZ</td>\n",
       "      <td>lacZ</td>\n",
       "      <td>1.0</td>\n",
       "      <td>0.0</td>\n",
       "      <td>cytosol</td>\n",
       "    </tr>\n",
       "    <tr>\n",
       "      <th>32</th>\n",
       "      <td>[lacZ,lacZ]</td>\n",
       "      <td>[lacZ,lacZ]</td>\n",
       "      <td>1.0</td>\n",
       "      <td>0.0</td>\n",
       "      <td>cytosol</td>\n",
       "    </tr>\n",
       "    <tr>\n",
       "      <th>33</th>\n",
       "      <td>lacA</td>\n",
       "      <td>lacA</td>\n",
       "      <td>1.0</td>\n",
       "      <td>0.0</td>\n",
       "      <td>cytosol</td>\n",
       "    </tr>\n",
       "    <tr>\n",
       "      <th>34</th>\n",
       "      <td>lacA</td>\n",
       "      <td>[lacA,lacA]</td>\n",
       "      <td>1.0</td>\n",
       "      <td>0.0</td>\n",
       "      <td>cytosol</td>\n",
       "    </tr>\n",
       "    <tr>\n",
       "      <th>35</th>\n",
       "      <td>lacI</td>\n",
       "      <td>lacI</td>\n",
       "      <td>1.0</td>\n",
       "      <td>0.0</td>\n",
       "      <td>cytosol</td>\n",
       "    </tr>\n",
       "  </tbody>\n",
       "</table>\n",
       "</div>"
      ],
      "text/plain": [
       "         SOURCE       TARGET  FWD_RATE  RVS_RATE LOCATION\n",
       "31         lacZ         lacZ       1.0       0.0  cytosol\n",
       "32  [lacZ,lacZ]  [lacZ,lacZ]       1.0       0.0  cytosol\n",
       "33         lacA         lacA       1.0       0.0  cytosol\n",
       "34         lacA  [lacA,lacA]       1.0       0.0  cytosol\n",
       "35         lacI         lacI       1.0       0.0  cytosol"
      ]
     },
     "execution_count": 52,
     "metadata": {},
     "output_type": "execute_result"
    }
   ],
   "source": [
    "import pandas\n",
    "network = pandas.concat([net1, net2, net3]).reset_index(drop = True)\n",
    "# rules are numbered and networks of the same kind cannot be processed separately to then combine them into one bigger model (uniqueness of rule names)\n",
    "# reset index is optional, but we used it to show the model produce all 30 interactions (index start at zero)\n",
    "network[-5:]"
   ]
  },
  {
   "cell_type": "code",
   "execution_count": 53,
   "metadata": {},
   "outputs": [
    {
     "name": "stdout",
     "output_type": "stream",
     "text": [
      "CPU times: user 1.13 s, sys: 0 ns, total: 1.13 s\n",
      "Wall time: 1.13 s\n"
     ]
    },
    {
     "data": {
      "text/plain": [
       "<Model 'atlas_rbm.construct_model_from_interaction_network' (monomers: 3, rules: 36, parameters: 92, expressions: 0, compartments: 0) at 0x7f620e13c430>"
      ]
     },
     "execution_count": 53,
     "metadata": {},
     "output_type": "execute_result"
    }
   ],
   "source": [
    "%time model = atlas.construct_model_from_interaction_network(network)\n",
    "model"
   ]
  },
  {
   "cell_type": "markdown",
   "metadata": {},
   "source": [
    "Data from the BioCyc database concerning regulation of gene expression could be obtained with help of the `utils.getData()` function. After obtaining the components of an operon, we could obtain the genomic coordinates of *most* of the DNA parts, and the center position of DNA binding sites:"
   ]
  },
  {
   "cell_type": "code",
   "execution_count": 54,
   "metadata": {},
   "outputs": [
    {
     "name": "stdout",
     "output_type": "stream",
     "text": [
      "|BS0-5469| None 366410 None\n",
      "|BS0-5468| None 366397 None\n",
      "|BS0-5467| None 366374 None\n",
      "|BS0-5463| None 366348 None\n",
      "|BS0-5462| None 366338 None\n",
      "|BS0-5461| None 366320 None\n",
      "|TERM0223| 361140 None 361179\n",
      "|TERM0222| 361212 None 361236\n",
      "|PM00045| None None None\n",
      "|BS0-3622| None 366404.5 None\n",
      "|BS00104| None 365932 None\n",
      "|BS00105| None 366425 None\n",
      "|BS00106| None 366333 None\n",
      "|EG10524| 361249 None 361860\n",
      "|EG10526| 361926 None 363179\n",
      "|EG10527| 363231 None 366305\n"
     ]
    }
   ],
   "source": [
    "for DNA_part in components[1]:\n",
    "    data = utils.getData('ECOLI', DNA_part)\n",
    "    print(DNA_part, data['left_end_position'], data['abs_center_pos'], data['right_end_position'])"
   ]
  },
  {
   "cell_type": "code",
   "execution_count": 55,
   "metadata": {},
   "outputs": [
    {
     "name": "stdout",
     "output_type": "stream",
     "text": [
      "|TU00036|\n",
      "|BS0-5469| |PD00288| ['-']\n",
      "|BS0-5468| |PD00288| ['-']\n",
      "|BS0-5467| |PD00288| ['-']\n",
      "|BS0-5463| |PD00288| ['-']\n",
      "|BS0-5462| |PD00288| ['-']\n",
      "|BS0-5461| |PD00288| ['-']\n",
      "|BS0-3622| |CPLX0-226| ['-']\n",
      "|BS00104| |PD00763| ['-']\n",
      "|BS00105| |PD00763| ['-']\n",
      "|BS00106| |PD00763| ['-']\n",
      "\n",
      "|TU0-4701|\n",
      "|BS0-3622| |CPLX0-226| ['-']\n",
      "\n",
      "|TU0-4702|\n",
      "|BS0-3622| |CPLX0-226| ['-']\n"
     ]
    }
   ],
   "source": [
    "print(TUs[1])\n",
    "for DNA_part in components[1]:\n",
    "    data = utils.getData('ECOLI', DNA_part)\n",
    "    if data['involved_in_regulation'] != None:\n",
    "#         print(data['involved_in_regulation'][0])\n",
    "        regulation = utils.getData('ECOLI', data['involved_in_regulation'][0])\n",
    "        print(DNA_part, regulation['regulator'], regulation['mode'])\n",
    "print()\n",
    "\n",
    "print(TUs[2])\n",
    "for DNA_part in components[2]:\n",
    "    data = utils.getData('ECOLI', DNA_part)\n",
    "    if data['involved_in_regulation'] != None:\n",
    "#         print(data['involved_in_regulation'][0])\n",
    "        regulation = utils.getData('ECOLI', data['involved_in_regulation'][0])\n",
    "        print(DNA_part, regulation['regulator'], regulation['mode'])\n",
    "print()\n",
    "\n",
    "print(TUs[3])\n",
    "for DNA_part in components[3]:\n",
    "    data = utils.getData('ECOLI', DNA_part)\n",
    "    if data['involved_in_regulation'] != None:\n",
    "#         print(data['involved_in_regulation'][0])\n",
    "        regulation = utils.getData('ECOLI', data['involved_in_regulation'][0])\n",
    "        print(DNA_part, regulation['regulator'], regulation['mode'])"
   ]
  },
  {
   "cell_type": "markdown",
   "metadata": {},
   "source": [
    "We hope you could format data by hand, as many interactions with a Transcription factor and a small metabolite are described as metabolic reactions, meanwhile we formatted that data as interaction networks:"
   ]
  },
  {
   "cell_type": "code",
   "execution_count": 56,
   "metadata": {},
   "outputs": [
    {
     "name": "stdout",
     "output_type": "stream",
     "text": [
      "['|PC00004|', '|CAMP|']\n",
      "['AAATGTGAtctagaTCACATTT']\n",
      "['|RXN0-269|']\n",
      "['|BETAGALACTOSID-ENZRXN|', '|ENZRXN0-6526|', '|ENZRXN0-8150|', '|ENZRXN0-8152|']\n",
      "['|RXN0-269|']\n",
      "|PC00004| + |CAMP|->|CPLX0-226|\n"
     ]
    }
   ],
   "source": [
    "print(utils.getData('ECOLI', 'CPLX0-226')['components']) # CPLX0-226 is the CRP-cAMP complex\n",
    "print(utils.getData('ECOLI', 'CPLX0-226')['consensus_sequence']) # we could obtain the consensus DNA sequence if known\n",
    "print(utils.getData('ECOLI', 'PC00004')['appears_in_left_side_of']) # in contrast to the \"catalyzes\" slot of gene products\n",
    "print(utils.getData('ECOLI', 'BETAGALACTOSID-CPLX')['catalyzes'])\n",
    "print(utils.getData('ECOLI', 'CPLX0-226')['appears_in_right_side_of']) # equivalent output\n",
    "print(' + '.join(utils.getData('ECOLI', 'RXN0-269')['left']) + '->' + ' + '.join(utils.getData('ECOLI', 'RXN0-269')['right']))"
   ]
  },
  {
   "cell_type": "markdown",
   "metadata": {},
   "source": [
    "Finally, we will incorporate regulatory relationships through the copy of rules discribing the docking or sliding of the RNAP through the DNA. For the inactivation of transcription by competition of a TF and a RNAP for the same or overlapping binding site, we simple add interactions of the TF and copy the docking rule of the RNAP with a condition:"
   ]
  },
  {
   "cell_type": "code",
   "execution_count": 57,
   "metadata": {},
   "outputs": [
    {
     "name": "stdout",
     "output_type": "stream",
     "text": [
      "CPU times: user 2.48 ms, sys: 947 µs, total: 3.43 ms\n",
      "Wall time: 2.81 ms\n"
     ]
    },
    {
     "data": {
      "text/html": [
       "<div>\n",
       "<style scoped>\n",
       "    .dataframe tbody tr th:only-of-type {\n",
       "        vertical-align: middle;\n",
       "    }\n",
       "\n",
       "    .dataframe tbody tr th {\n",
       "        vertical-align: top;\n",
       "    }\n",
       "\n",
       "    .dataframe thead th {\n",
       "        text-align: right;\n",
       "    }\n",
       "</style>\n",
       "<table border=\"1\" class=\"dataframe\">\n",
       "  <thead>\n",
       "    <tr style=\"text-align: right;\">\n",
       "      <th></th>\n",
       "      <th>SOURCE</th>\n",
       "      <th>TARGET</th>\n",
       "      <th>FWD_RATE</th>\n",
       "      <th>RVS_RATE</th>\n",
       "      <th>LOCATION</th>\n",
       "    </tr>\n",
       "  </thead>\n",
       "  <tbody>\n",
       "    <tr>\n",
       "      <th>0</th>\n",
       "      <td>[crp,SMALL-CAMP,crp,SMALL-CAMP]</td>\n",
       "      <td>BS-crp-51-72</td>\n",
       "      <td>1.0</td>\n",
       "      <td>1.0</td>\n",
       "      <td>cytosol</td>\n",
       "    </tr>\n",
       "    <tr>\n",
       "      <th>1</th>\n",
       "      <td>[crp,SMALL-CAMP,crp,SMALL-CAMP]</td>\n",
       "      <td>BS-crp-22-1</td>\n",
       "      <td>1.0</td>\n",
       "      <td>1.0</td>\n",
       "      <td>cytosol</td>\n",
       "    </tr>\n",
       "    <tr>\n",
       "      <th>2</th>\n",
       "      <td>lacI</td>\n",
       "      <td>BS-lacI-422-402</td>\n",
       "      <td>1.0</td>\n",
       "      <td>1.0</td>\n",
       "      <td>cytosol</td>\n",
       "    </tr>\n",
       "    <tr>\n",
       "      <th>3</th>\n",
       "      <td>lacI</td>\n",
       "      <td>BS-lacI-21-1</td>\n",
       "      <td>1.0</td>\n",
       "      <td>1.0</td>\n",
       "      <td>cytosol</td>\n",
       "    </tr>\n",
       "    <tr>\n",
       "      <th>4</th>\n",
       "      <td>lacI</td>\n",
       "      <td>BS-lacI-72-92</td>\n",
       "      <td>1.0</td>\n",
       "      <td>1.0</td>\n",
       "      <td>cytosol</td>\n",
       "    </tr>\n",
       "  </tbody>\n",
       "</table>\n",
       "</div>"
      ],
      "text/plain": [
       "                            SOURCE           TARGET  FWD_RATE  RVS_RATE  \\\n",
       "0  [crp,SMALL-CAMP,crp,SMALL-CAMP]     BS-crp-51-72       1.0       1.0   \n",
       "1  [crp,SMALL-CAMP,crp,SMALL-CAMP]      BS-crp-22-1       1.0       1.0   \n",
       "2                             lacI  BS-lacI-422-402       1.0       1.0   \n",
       "3                             lacI     BS-lacI-21-1       1.0       1.0   \n",
       "4                             lacI    BS-lacI-72-92       1.0       1.0   \n",
       "\n",
       "  LOCATION  \n",
       "0  cytosol  \n",
       "1  cytosol  \n",
       "2  cytosol  \n",
       "3  cytosol  \n",
       "4  cytosol  "
      ]
     },
     "execution_count": 57,
     "metadata": {},
     "output_type": "execute_result"
    }
   ],
   "source": [
    "%time network = utils.read_network('network-lac+ara-TFs+DNA.tsv')\n",
    "network[0:5]"
   ]
  },
  {
   "cell_type": "code",
   "execution_count": 58,
   "metadata": {},
   "outputs": [
    {
     "name": "stdout",
     "output_type": "stream",
     "text": [
      "CPU times: user 536 ms, sys: 0 ns, total: 536 ms\n",
      "Wall time: 533 ms\n"
     ]
    },
    {
     "data": {
      "text/plain": [
       "<Model 'atlas_rbm.construct_model_from_interaction_network' (monomers: 3, rules: 24, parameters: 53, expressions: 0, compartments: 0) at 0x7f61cc2e0970>"
      ]
     },
     "execution_count": 58,
     "metadata": {},
     "output_type": "execute_result"
    }
   ],
   "source": [
    "%time model1 = atlas.construct_model_from_interaction_network('network-lac+ara-TFs+DNA.tsv')\n",
    "model1"
   ]
  },
  {
   "cell_type": "code",
   "execution_count": 59,
   "metadata": {},
   "outputs": [
    {
     "name": "stdout",
     "output_type": "stream",
     "text": [
      "CPU times: user 1.38 s, sys: 0 ns, total: 1.38 s\n",
      "Wall time: 1.38 s\n"
     ]
    },
    {
     "data": {
      "text/plain": [
       "<Model 'atlas_rbm.construct_model_from_sigma_specificity_network' (monomers: 4, rules: 55, parameters: 91, expressions: 0, compartments: 0) at 0x7f61cc26ff10>"
      ]
     },
     "execution_count": 59,
     "metadata": {},
     "output_type": "execute_result"
    }
   ],
   "source": [
    "%time model2 = atlas.construct_model_from_sigma_specificity_network('network-lac-sigma-specificity.tsv', 'network-lac+rpoABCD-operons-arq.tsv')\n",
    "model2"
   ]
  },
  {
   "cell_type": "code",
   "execution_count": 60,
   "metadata": {},
   "outputs": [
    {
     "name": "stdout",
     "output_type": "stream",
     "text": [
      "CPU times: user 1.9 s, sys: 0 ns, total: 1.9 s\n",
      "Wall time: 1.9 s\n"
     ]
    },
    {
     "data": {
      "text/plain": [
       "<Model 'atlas_rbm.atlas' (monomers: 5, rules: 79, parameters: 144, expressions: 0, compartments: 0) at 0x7f61cc2e05b0>"
      ]
     },
     "execution_count": 60,
     "metadata": {},
     "output_type": "execute_result"
    }
   ],
   "source": [
    "%time model = atlas.combine_models([model1, model2], verbose = False)\n",
    "model"
   ]
  },
  {
   "cell_type": "code",
   "execution_count": 61,
   "metadata": {},
   "outputs": [
    {
     "data": {
      "text/plain": [
       "<Model 'atlas_rbm.atlas' (monomers: 5, rules: 79, parameters: 146, expressions: 0, compartments: 0) at 0x7f61cc2e05b0>"
      ]
     },
     "execution_count": 61,
     "metadata": {},
     "output_type": "execute_result"
    }
   ],
   "source": [
    "# repression: the DNA binding site for CRP must be free\n",
    "atlas.add_regulation(model, name = 'docking_2_lacZ_pro3', \n",
    "               conditions = ['BS-crp-51-72', 'BS-crp-22-1'], replace = True)"
   ]
  },
  {
   "cell_type": "code",
   "execution_count": 62,
   "metadata": {},
   "outputs": [
    {
     "data": {
      "text/plain": [
       "<Model 'atlas_rbm.atlas' (monomers: 5, rules: 79, parameters: 148, expressions: 0, compartments: 0) at 0x7f61cc2e05b0>"
      ]
     },
     "execution_count": 62,
     "metadata": {},
     "output_type": "execute_result"
    }
   ],
   "source": [
    "# repression: the DNA binding site for CRP must be free\n",
    "atlas.add_regulation(model, name = 'docking_3_lacZ_pro2', \n",
    "               conditions = ['BS-crp-51-72', 'BS-crp-22-1'], replace = True)"
   ]
  },
  {
   "cell_type": "code",
   "execution_count": 63,
   "metadata": {},
   "outputs": [
    {
     "data": {
      "text/plain": [
       "<Model 'atlas_rbm.atlas' (monomers: 5, rules: 79, parameters: 150, expressions: 0, compartments: 0) at 0x7f61cc2e05b0>"
      ]
     },
     "execution_count": 63,
     "metadata": {},
     "output_type": "execute_result"
    }
   ],
   "source": [
    "# activation: the CRP-CAMP complex is required for cooperative docking of RNAP to a promoter.\n",
    "atlas.add_regulation(model, name = 'docking_4_lacZ_pro1', \n",
    "               conditions = ['[crp,SMALL-CAMP,crp,SMALL-CAMP,BS-crp-51-72]', \n",
    "                             '[crp,SMALL-CAMP,crp,SMALL-CAMP,BS-crp-22-1]'], replace = True)"
   ]
  }
 ],
 "metadata": {
  "kernelspec": {
   "display_name": "Python 3",
   "language": "python",
   "name": "python3"
  },
  "language_info": {
   "codemirror_mode": {
    "name": "ipython",
    "version": 3
   },
   "file_extension": ".py",
   "mimetype": "text/x-python",
   "name": "python",
   "nbconvert_exporter": "python",
   "pygments_lexer": "ipython3",
   "version": "3.8.2"
  }
 },
 "nbformat": 4,
 "nbformat_minor": 2
}
