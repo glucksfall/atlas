{
 "cells": [
  {
   "cell_type": "code",
   "execution_count": 1,
   "metadata": {},
   "outputs": [
    {
     "data": {
      "text/html": [
       "<style>.container { width: 95% !important; }</style>"
      ],
      "text/plain": [
       "<IPython.core.display.HTML object>"
      ]
     },
     "metadata": {},
     "output_type": "display_data"
    }
   ],
   "source": [
    "# expand cells to the 95% of the display width\n",
    "from IPython.core.display import display, HTML\n",
    "display(HTML(\"<style>.container { width: 95% !important; }</style>\"))"
   ]
  },
  {
   "cell_type": "markdown",
   "metadata": {},
   "source": [
    "# Tutorial: Automatic rule-based modeling of the *Escherichia coli* lactose metabolism, including protein-protein interactions and regulation of gene expression employing *Atlas*"
   ]
  },
  {
   "cell_type": "markdown",
   "metadata": {},
   "source": [
    "Authors: Rodrigo Santibáñez[1,2], Daniel Garrido[2], and Alberto Martín[1]\n",
    "\n",
    "Date: August 2020\n",
    "\n",
    "Affiliations:\n",
    "1. Centro de Genómica y Bioinformática, Facultad de Ciencias, Universidad Mayor, Santiago, 8580745, Chile.\n",
    "2. Department of Chemical and Bioprocess Engineering, School of Engineering, Pontificia Universidad Católica de Chile, Santiago, 7820436, Chile\n",
    "\n",
    "Notes: This tutorial was created for the manuscript \"*Atlas*: Automatic modeling of regulation of bacterial gene expression and metabolism using rule-based languages\", first submitted for peer-review to Bioinformatics on May, 2020."
   ]
  },
  {
   "cell_type": "markdown",
   "metadata": {},
   "source": [
    "## Prerequisites"
   ]
  },
  {
   "cell_type": "markdown",
   "metadata": {},
   "source": [
    "0. The tutorial was prepared and executed on Ubuntu 20.04, PathwayTools version 24, and docker engine version 19.03.8.<br/><br/>\n",
    "\n",
    "1. PathwayTools must be installed and running to obtain data from the EcoCyc database. Please, run ```pathway-tools -lisp -python-local-only``` before to obtain any data.<br/>\n",
    "   (Optional) The PathwayTools software could be executed in the background, with help of ```nohup pathway-tools -lisp -python-local-only > /dev/null 2> /dev/null &```.<br/>\n",
    "   Please follow instructions at http://pathwaytools.org/ to obtain a licensed copy of the software from https://biocyc.org/download-bundle.shtml. However, data could be manually formatted using a text-based editor or a spreadsheet software.\n",
    "   \n",
    "   Note: If you ran into the ```pathway-tools/aic-export/pathway-tools/ptools/22.5/exe/aclssl.so: undefined symbol: CRYPTO_set_locking_callback``` error, please follow instructions here: https://github.com/glucksfall/atlas/tree/master/PTools. Instructions will guide you to install a docker image that is able to run pathway tools, but does not include it, so you still need to obtain the software with a valid license.<br/><br/>\n",
    "   \n",
    "2. (Highly recommended) Install Docker. Please follow instructions for a supported Operating System https://docs.docker.com/engine/install/:<br/>\n",
    "   On Ubuntu, install it with ```apt-get install docker.io```.<br/>\n",
    "   On Win10, install Docker Desktop with WSL2 support https://docs.docker.com/docker-for-windows/wsl/.<br/>\n",
    "   On MacOS, install Docker Desktop https://docs.docker.com/docker-for-mac/install/.<br/><br/>\n",
    "   The Docker ```networkbiolab/pleiades```installs the python packages, the jupyter server, and the stochastic simulators.<br/><br/>\n",
    "\n",
    "3. (Recommended) Jupyter notebook. We recommend the use of Anaconda3 https://www.anaconda.com/products/individual because of the easier installation of the stochastic simulators from https://anaconda.org/alubbock.<br/><br/>\n",
    "\n",
    "4. (Optional) A stochastic simulator, supported by the pySB python package ([BNG2](https://github.com/RuleWorld/bionetgen), [NFsim](https://github.com/ruleworld/nfsim/tree/9178d44455f6e27a81f398074eeaafb2a1a4b4bd), [KaSim](https://github.com/Kappa-Dev/KappaTools) or [Stochkit](https://github.com/StochSS/StochKit)). pySB requires BNG2 to simulate models with NFsim.<br/><br/>\n",
    "\n",
    "5. (Optional) Cytoscape to visualize metabolic networks and others."
   ]
  },
  {
   "cell_type": "markdown",
   "metadata": {},
   "source": [
    "## Preamble: load *Atlas*"
   ]
  },
  {
   "cell_type": "code",
   "execution_count": 2,
   "metadata": {},
   "outputs": [],
   "source": [
    "# testing source code\n",
    "import sys\n",
    "sys.path.append(\"..\") # If installed from GitHub and this notebooks is executed from the tutorial directory.\n",
    "\n",
    "import atlas_rbm.atlas as atlas\n",
    "import atlas_rbm.utils as utils\n",
    "import atlas_rbm.export as export\n",
    "import atlas_rbm.simulation as simulation"
   ]
  },
  {
   "cell_type": "markdown",
   "metadata": {},
   "source": [
    "## Modeling metabolism"
   ]
  },
  {
   "cell_type": "markdown",
   "metadata": {},
   "source": [
    "In this tutorial, we will model the metabolism of lactose degradation in *Escherichia coli* as a test-bed of the software Atlas. Moreover, we will couple the metabolism to the protein-protein interactions and gene expression and regulations that occurs naturally in the bacteria. We choose the lactose metabolism since it was discovered in the decade of 1960s and it is a common model of gene regulation with more than 50 years of biochemical information. In an side note, the characterization of the lactose operon and others rewarded their authors the 1965 Nobel Prize in Physiology or Medicine (https://www.nobelprize.org/prizes/medicine/1965/summary/)\n",
    "\n",
    "The lactose operon from *E. coli* consists of three genes: the $\\beta$-galactosidase gene lacZ, the lactose permease gene lacY (also known as lactose-proton symporter), and the galactoside O-acetyltransferase gene lacA:"
   ]
  },
  {
   "cell_type": "code",
   "execution_count": 3,
   "metadata": {},
   "outputs": [
    {
     "name": "stdout",
     "output_type": "stream",
     "text": [
      "CPU times: user 10.1 ms, sys: 756 µs, total: 10.9 ms\n",
      "Wall time: 8.25 ms\n"
     ]
    },
    {
     "data": {
      "text/html": [
       "<div>\n",
       "<style scoped>\n",
       "    .dataframe tbody tr th:only-of-type {\n",
       "        vertical-align: middle;\n",
       "    }\n",
       "\n",
       "    .dataframe tbody tr th {\n",
       "        vertical-align: top;\n",
       "    }\n",
       "\n",
       "    .dataframe thead th {\n",
       "        text-align: right;\n",
       "    }\n",
       "</style>\n",
       "<table border=\"1\" class=\"dataframe\">\n",
       "  <thead>\n",
       "    <tr style=\"text-align: right;\">\n",
       "      <th></th>\n",
       "      <th>GENE OR COMPLEX</th>\n",
       "      <th>ENZYME LOCATION</th>\n",
       "      <th>REACTION</th>\n",
       "      <th>SUBSTRATES</th>\n",
       "      <th>PRODUCTS</th>\n",
       "      <th>FWD_RATE</th>\n",
       "      <th>RVS_RATE</th>\n",
       "    </tr>\n",
       "  </thead>\n",
       "  <tbody>\n",
       "    <tr>\n",
       "      <th>0</th>\n",
       "      <td>spontaneous</td>\n",
       "      <td>cytosol</td>\n",
       "      <td>LACTOSE-MUTAROTATION</td>\n",
       "      <td>alpha-lactose</td>\n",
       "      <td>beta-lactose</td>\n",
       "      <td>1</td>\n",
       "      <td>1</td>\n",
       "    </tr>\n",
       "    <tr>\n",
       "      <th>1</th>\n",
       "      <td>spontaneous</td>\n",
       "      <td>cytosol</td>\n",
       "      <td>GALACTOSE-MUTAROTATION</td>\n",
       "      <td>alpha-GALACTOSE</td>\n",
       "      <td>beta-GALACTOSE</td>\n",
       "      <td>1</td>\n",
       "      <td>1</td>\n",
       "    </tr>\n",
       "    <tr>\n",
       "      <th>2</th>\n",
       "      <td>spontaneous</td>\n",
       "      <td>cytosol</td>\n",
       "      <td>GLUCOSE-MUTAROTATION</td>\n",
       "      <td>alpha-glucose</td>\n",
       "      <td>beta-glucose</td>\n",
       "      <td>1</td>\n",
       "      <td>1</td>\n",
       "    </tr>\n",
       "    <tr>\n",
       "      <th>3</th>\n",
       "      <td>LACY-MONOMER</td>\n",
       "      <td>inner membrane</td>\n",
       "      <td>TRANS-RXN-24</td>\n",
       "      <td>PER-PROTON,PER-alpha-lactose</td>\n",
       "      <td>PROTON,alpha-lactose</td>\n",
       "      <td>1</td>\n",
       "      <td>0</td>\n",
       "    </tr>\n",
       "    <tr>\n",
       "      <th>4</th>\n",
       "      <td>LACY-MONOMER</td>\n",
       "      <td>inner membrane</td>\n",
       "      <td>TRANS-RXN-24-beta</td>\n",
       "      <td>PER-PROTON,PER-beta-lactose</td>\n",
       "      <td>PROTON,beta-lactose</td>\n",
       "      <td>1</td>\n",
       "      <td>0</td>\n",
       "    </tr>\n",
       "    <tr>\n",
       "      <th>5</th>\n",
       "      <td>LACY-MONOMER</td>\n",
       "      <td>inner membrane</td>\n",
       "      <td>TRANS-RXN-94</td>\n",
       "      <td>PER-PROTON,PER-MELIBIOSE</td>\n",
       "      <td>PROTON,MELIBIOSE</td>\n",
       "      <td>1</td>\n",
       "      <td>0</td>\n",
       "    </tr>\n",
       "    <tr>\n",
       "      <th>6</th>\n",
       "      <td>LACY-MONOMER</td>\n",
       "      <td>inner membrane</td>\n",
       "      <td>RXN0-7215</td>\n",
       "      <td>PER-PROTON,PER-CPD-3561</td>\n",
       "      <td>PROTON,CPD-3561</td>\n",
       "      <td>1</td>\n",
       "      <td>0</td>\n",
       "    </tr>\n",
       "    <tr>\n",
       "      <th>7</th>\n",
       "      <td>LACY-MONOMER</td>\n",
       "      <td>inner membrane</td>\n",
       "      <td>RXN0-7217</td>\n",
       "      <td>PER-PROTON,PER-CPD-3785</td>\n",
       "      <td>PROTON,CPD-3785</td>\n",
       "      <td>1</td>\n",
       "      <td>0</td>\n",
       "    </tr>\n",
       "    <tr>\n",
       "      <th>8</th>\n",
       "      <td>LACY-MONOMER</td>\n",
       "      <td>inner membrane</td>\n",
       "      <td>RXN-17755</td>\n",
       "      <td>PER-PROTON,PER-CPD-3801</td>\n",
       "      <td>PROTON,CPD-3801</td>\n",
       "      <td>1</td>\n",
       "      <td>0</td>\n",
       "    </tr>\n",
       "    <tr>\n",
       "      <th>9</th>\n",
       "      <td>BETAGALACTOSID-CPLX</td>\n",
       "      <td>cytosol</td>\n",
       "      <td>BETAGALACTOSID-RXN</td>\n",
       "      <td>beta-lactose,WATER</td>\n",
       "      <td>beta-GALACTOSE,beta-glucose</td>\n",
       "      <td>1</td>\n",
       "      <td>0</td>\n",
       "    </tr>\n",
       "    <tr>\n",
       "      <th>10</th>\n",
       "      <td>BETAGALACTOSID-CPLX</td>\n",
       "      <td>cytosol</td>\n",
       "      <td>BETAGALACTOSID-RXN-alpha</td>\n",
       "      <td>alpha-lactose,WATER</td>\n",
       "      <td>alpha-GALACTOSE,alpha-glucose</td>\n",
       "      <td>1</td>\n",
       "      <td>0</td>\n",
       "    </tr>\n",
       "    <tr>\n",
       "      <th>11</th>\n",
       "      <td>BETAGALACTOSID-CPLX</td>\n",
       "      <td>cytosol</td>\n",
       "      <td>RXN0-5363</td>\n",
       "      <td>alpha-lactose</td>\n",
       "      <td>alpha-ALLOLACTOSE</td>\n",
       "      <td>1</td>\n",
       "      <td>1</td>\n",
       "    </tr>\n",
       "    <tr>\n",
       "      <th>12</th>\n",
       "      <td>BETAGALACTOSID-CPLX</td>\n",
       "      <td>cytosol</td>\n",
       "      <td>RXN0-5363-beta</td>\n",
       "      <td>beta-lactose</td>\n",
       "      <td>beta-ALLOLACTOSE</td>\n",
       "      <td>1</td>\n",
       "      <td>1</td>\n",
       "    </tr>\n",
       "    <tr>\n",
       "      <th>13</th>\n",
       "      <td>BETAGALACTOSID-CPLX</td>\n",
       "      <td>cytosol</td>\n",
       "      <td>ALLOLACTOSE-DEG-alpha</td>\n",
       "      <td>alpha-ALLOLACTOSE</td>\n",
       "      <td>alpha-GALACTOSE,alpha-glucose</td>\n",
       "      <td>1</td>\n",
       "      <td>0</td>\n",
       "    </tr>\n",
       "    <tr>\n",
       "      <th>14</th>\n",
       "      <td>BETAGALACTOSID-CPLX</td>\n",
       "      <td>cytosol</td>\n",
       "      <td>ALLOLACTOSE-DEG-beta</td>\n",
       "      <td>beta-ALLOLACTOSE</td>\n",
       "      <td>beta-GALACTOSE,beta-glucose</td>\n",
       "      <td>1</td>\n",
       "      <td>0</td>\n",
       "    </tr>\n",
       "    <tr>\n",
       "      <th>15</th>\n",
       "      <td>BETAGALACTOSID-CPLX</td>\n",
       "      <td>cytosol</td>\n",
       "      <td>RXN-17726</td>\n",
       "      <td>CPD-3561,WATER</td>\n",
       "      <td>beta-GALACTOSE,Fructofuranose</td>\n",
       "      <td>1</td>\n",
       "      <td>0</td>\n",
       "    </tr>\n",
       "    <tr>\n",
       "      <th>16</th>\n",
       "      <td>BETAGALACTOSID-CPLX</td>\n",
       "      <td>cytosol</td>\n",
       "      <td>RXN0-7219</td>\n",
       "      <td>CPD-3785,WATER</td>\n",
       "      <td>beta-GALACTOSE,D-ARABINOSE</td>\n",
       "      <td>1</td>\n",
       "      <td>0</td>\n",
       "    </tr>\n",
       "    <tr>\n",
       "      <th>17</th>\n",
       "      <td>GALACTOACETYLTRAN-CPLX</td>\n",
       "      <td>cytosol</td>\n",
       "      <td>GALACTOACETYLTRAN-RXN-galactose</td>\n",
       "      <td>beta-GALACTOSE,ACETYL-COA</td>\n",
       "      <td>6-Acetyl-beta-D-Galactose,CO-A</td>\n",
       "      <td>1</td>\n",
       "      <td>0</td>\n",
       "    </tr>\n",
       "  </tbody>\n",
       "</table>\n",
       "</div>"
      ],
      "text/plain": [
       "           GENE OR COMPLEX ENZYME LOCATION                         REACTION  \\\n",
       "0              spontaneous         cytosol             LACTOSE-MUTAROTATION   \n",
       "1              spontaneous         cytosol           GALACTOSE-MUTAROTATION   \n",
       "2              spontaneous         cytosol             GLUCOSE-MUTAROTATION   \n",
       "3             LACY-MONOMER  inner membrane                     TRANS-RXN-24   \n",
       "4             LACY-MONOMER  inner membrane                TRANS-RXN-24-beta   \n",
       "5             LACY-MONOMER  inner membrane                     TRANS-RXN-94   \n",
       "6             LACY-MONOMER  inner membrane                        RXN0-7215   \n",
       "7             LACY-MONOMER  inner membrane                        RXN0-7217   \n",
       "8             LACY-MONOMER  inner membrane                        RXN-17755   \n",
       "9      BETAGALACTOSID-CPLX         cytosol               BETAGALACTOSID-RXN   \n",
       "10     BETAGALACTOSID-CPLX         cytosol         BETAGALACTOSID-RXN-alpha   \n",
       "11     BETAGALACTOSID-CPLX         cytosol                        RXN0-5363   \n",
       "12     BETAGALACTOSID-CPLX         cytosol                   RXN0-5363-beta   \n",
       "13     BETAGALACTOSID-CPLX         cytosol            ALLOLACTOSE-DEG-alpha   \n",
       "14     BETAGALACTOSID-CPLX         cytosol             ALLOLACTOSE-DEG-beta   \n",
       "15     BETAGALACTOSID-CPLX         cytosol                        RXN-17726   \n",
       "16     BETAGALACTOSID-CPLX         cytosol                        RXN0-7219   \n",
       "17  GALACTOACETYLTRAN-CPLX         cytosol  GALACTOACETYLTRAN-RXN-galactose   \n",
       "\n",
       "                      SUBSTRATES                        PRODUCTS  FWD_RATE  \\\n",
       "0                  alpha-lactose                    beta-lactose         1   \n",
       "1                alpha-GALACTOSE                  beta-GALACTOSE         1   \n",
       "2                  alpha-glucose                    beta-glucose         1   \n",
       "3   PER-PROTON,PER-alpha-lactose            PROTON,alpha-lactose         1   \n",
       "4    PER-PROTON,PER-beta-lactose             PROTON,beta-lactose         1   \n",
       "5       PER-PROTON,PER-MELIBIOSE                PROTON,MELIBIOSE         1   \n",
       "6        PER-PROTON,PER-CPD-3561                 PROTON,CPD-3561         1   \n",
       "7        PER-PROTON,PER-CPD-3785                 PROTON,CPD-3785         1   \n",
       "8        PER-PROTON,PER-CPD-3801                 PROTON,CPD-3801         1   \n",
       "9             beta-lactose,WATER     beta-GALACTOSE,beta-glucose         1   \n",
       "10           alpha-lactose,WATER   alpha-GALACTOSE,alpha-glucose         1   \n",
       "11                 alpha-lactose               alpha-ALLOLACTOSE         1   \n",
       "12                  beta-lactose                beta-ALLOLACTOSE         1   \n",
       "13             alpha-ALLOLACTOSE   alpha-GALACTOSE,alpha-glucose         1   \n",
       "14              beta-ALLOLACTOSE     beta-GALACTOSE,beta-glucose         1   \n",
       "15                CPD-3561,WATER   beta-GALACTOSE,Fructofuranose         1   \n",
       "16                CPD-3785,WATER      beta-GALACTOSE,D-ARABINOSE         1   \n",
       "17     beta-GALACTOSE,ACETYL-COA  6-Acetyl-beta-D-Galactose,CO-A         1   \n",
       "\n",
       "    RVS_RATE  \n",
       "0          1  \n",
       "1          1  \n",
       "2          1  \n",
       "3          0  \n",
       "4          0  \n",
       "5          0  \n",
       "6          0  \n",
       "7          0  \n",
       "8          0  \n",
       "9          0  \n",
       "10         0  \n",
       "11         1  \n",
       "12         1  \n",
       "13         0  \n",
       "14         0  \n",
       "15         0  \n",
       "16         0  \n",
       "17         0  "
      ]
     },
     "execution_count": 3,
     "metadata": {},
     "output_type": "execute_result"
    }
   ],
   "source": [
    "%time network = utils.read_network('network-lac-metabolism-enzymes.tsv')\n",
    "network"
   ]
  },
  {
   "cell_type": "markdown",
   "metadata": {},
   "source": [
    "The ```utils.metabolicNetwork.expand_network``` function reorders and exports the dataframe as a text file (in this case to ```./tutorial.txt```)."
   ]
  },
  {
   "cell_type": "code",
   "execution_count": 4,
   "metadata": {},
   "outputs": [
    {
     "name": "stdout",
     "output_type": "stream",
     "text": [
      "CPU times: user 2.91 ms, sys: 0 ns, total: 2.91 ms\n",
      "Wall time: 2.32 ms\n"
     ]
    }
   ],
   "source": [
    "%time utils.metabolicNetwork.expand_network(network, './lactose-metabolism-cytoscape-v3.txt')"
   ]
  },
  {
   "cell_type": "markdown",
   "metadata": {},
   "source": [
    "<img src=\"lactose-metabolism-cytoscape-v3.png\" alt=\"drawing\" width=\"750\"/>"
   ]
  },
  {
   "cell_type": "markdown",
   "metadata": {},
   "source": [
    "Now we have the network, we could build the rule-based model from the source or the read DataFrame:"
   ]
  },
  {
   "cell_type": "code",
   "execution_count": 5,
   "metadata": {
    "scrolled": false
   },
   "outputs": [
    {
     "name": "stdout",
     "output_type": "stream",
     "text": [
      "CPU times: user 704 ms, sys: 35 ms, total: 739 ms\n",
      "Wall time: 736 ms\n"
     ]
    },
    {
     "data": {
      "text/plain": [
       "<Model 'atlas_rbm.construct_model_from_metabolic_network' (monomers: 3, rules: 18, parameters: 59, expressions: 0, compartments: 0) at 0x7f2334b2aa90>"
      ]
     },
     "execution_count": 5,
     "metadata": {},
     "output_type": "execute_result"
    }
   ],
   "source": [
    "%time model = atlas.construct_model_from_metabolic_network(network, verbose = False) # use the dataframe to build the model\n",
    "model"
   ]
  },
  {
   "cell_type": "code",
   "execution_count": 6,
   "metadata": {},
   "outputs": [
    {
     "name": "stdout",
     "output_type": "stream",
     "text": [
      "CPU times: user 617 ms, sys: 338 µs, total: 617 ms\n",
      "Wall time: 611 ms\n"
     ]
    },
    {
     "data": {
      "text/plain": [
       "<Model 'atlas_rbm.construct_model_from_metabolic_network' (monomers: 3, rules: 18, parameters: 59, expressions: 0, compartments: 0) at 0x7f23954a9ca0>"
      ]
     },
     "execution_count": 6,
     "metadata": {},
     "output_type": "execute_result"
    }
   ],
   "source": [
    "%time model = atlas.construct_model_from_metabolic_network('network-lac-metabolism-enzymes.tsv', verbose = False) # read a file to build the model\n",
    "model"
   ]
  },
  {
   "cell_type": "markdown",
   "metadata": {},
   "source": [
    "To simulate, we need to set the initial condition:"
   ]
  },
  {
   "cell_type": "code",
   "execution_count": 11,
   "metadata": {},
   "outputs": [
    {
     "data": {
      "text/plain": [
       "<Model 'atlas_rbm.construct_model_from_metabolic_network' (monomers: 3, rules: 18, parameters: 63, expressions: 0, compartments: 0) at 0x7f23954a9ca0>"
      ]
     },
     "execution_count": 11,
     "metadata": {},
     "output_type": "execute_result"
    }
   ],
   "source": [
    "# initial condition\n",
    "# for metabolites\n",
    "simulation.set_initial.met(model, 'beta_lactose', 'per', 100)\n",
    "simulation.set_initial.met(model, 'PROTON', 'per', 100) # required for lactose transport\n",
    "simulation.set_initial.met(model, 'WATER', 'cyt', 100) # required for lactose hydrolysis\n",
    "\n",
    "# for proteins\n",
    "simulation.set_initial.prot(model, 'LACY_MONOMER', 'imem', 1)\n",
    "simulation.set_initial.cplx(model, 'GALACTOACETYLTRAN_CPLX', 'cyt', 1)\n",
    "simulation.set_initial.cplx(model, 'BETAGALACTOSID_CPLX', 'cyt', 1)"
   ]
  },
  {
   "cell_type": "code",
   "execution_count": 12,
   "metadata": {},
   "outputs": [
    {
     "name": "stdout",
     "output_type": "stream",
     "text": [
      "CPU times: user 4.69 s, sys: 1.49 s, total: 6.18 s\n",
      "Wall time: 6.09 s\n",
      "CPU times: user 5.38 s, sys: 234 ms, total: 5.62 s\n",
      "Wall time: 10.5 s\n"
     ]
    }
   ],
   "source": [
    "# export\n",
    "export.to_kappa(model, 'test.py')\n",
    "\n",
    "# simulation\n",
    "bng = '/opt/git-repositories/bionetgen.RuleWorld/bng2/'\n",
    "kasim = '/opt/git-repositories/KaSim4.Kappa-Dev/'\n",
    "\n",
    "%time data1 = simulation.scipy(model, start = 0, finish = 10, points = 500)\n",
    "%time data2 = simulation.bngSSA(model, start = 0, finish = 10, points = 500, n_runs = 100, path = bng)"
   ]
  },
  {
   "cell_type": "markdown",
   "metadata": {},
   "source": [
    "Finally, we plot the simulation results. The result of the ```simulation.ode()``` function is a pandas dataframe. In the case of stochastic simulations (SSA, KaSim, NFsim, Stochkit), the function returns a dictionary with a list of dataframe for each simulations (```sims``` key), and dataframe with the average (```avrg``` key) and a dataframe with the standard deviation (```stdv``` key) of those simulations. Currently, we included three kind of plots, although the user could access the dataframes and plot diretly with methods in the seaborn package (https://seaborn.pydata.org/), in the pandas package (https://pandas.pydata.org/pandas-docs/stable/reference/api/pandas.DataFrame.plot.html), or with matplotlib (https://matplotlib.org/)."
   ]
  },
  {
   "cell_type": "code",
   "execution_count": 13,
   "metadata": {},
   "outputs": [],
   "source": [
    "import seaborn\n",
    "import matplotlib.pyplot as plt\n",
    "\n",
    "for key in [\n",
    "#     'figure.titlesize',\n",
    "    'font.size',\n",
    "#     'legend.fontsize',\n",
    "#     'legend.title_fontsize',\n",
    "    'font.size', \n",
    "#     'xtick.labelsize',\n",
    "    'xtick.major.size',\n",
    "    'xtick.minor.size',\n",
    "#     'ytick.labelsize',\n",
    "    'ytick.major.size',\n",
    "    'ytick.minor.size']:\n",
    "    plt.rcParams[key] = plt.rcParams[key] * 1.1\n",
    "\n",
    "palette = seaborn.color_palette('colorblind')"
   ]
  },
  {
   "cell_type": "code",
   "execution_count": 14,
   "metadata": {},
   "outputs": [
    {
     "data": {
      "image/png": "[encoded data removed]",
      "text/plain": [
       "<Figure size 1200x300 with 3 Axes>"
      ]
     },
     "metadata": {
      "needs_background": "light"
     },
     "output_type": "display_data"
    }
   ],
   "source": [
    "kind = 'fill_between'\n",
    "fig, ax = plt.subplots(1, 3, figsize = (4*3, 3*1), dpi = 100)\n",
    "\n",
    "# first plot, lactose concentration\n",
    "simulation.plot.metabolite(data1, 'alpha-glucose', 'cyt', ax = ax[0], plt_kws = {'label' : r'$\\alpha$-glucose'})\n",
    "simulation.plot.metabolite(data1, 'beta-glucose', 'cyt', ax = ax[0], plt_kws = {'label' : r'$\\beta$-glucose'})\n",
    "\n",
    "simulation.plot.metabolite(\n",
    "    data2, 'alpha-glucose', 'cyt', ax = ax[0], **{'kind' : kind, 'weight' : 0.5}, \n",
    "    plt_kws = {'s' : 2, 'color' : palette[0], 'alpha' : .5})\n",
    "\n",
    "simulation.plot.metabolite(\n",
    "    data2, 'beta-glucose', 'cyt', ax = ax[0], **{'kind' : kind, 'weight' : 0.5}, \n",
    "    plt_kws = {'s' : 2, 'color' : palette[1], 'alpha' : .5})\n",
    "\n",
    "# second plot, galactose concentration\n",
    "simulation.plot.metabolite(data1, 'alpha-GALACTOSE', 'cyt', ax = ax[1], plt_kws = {'label' : r'$\\alpha$-galactose'})\n",
    "simulation.plot.metabolite(data1, 'beta-GALACTOSE', 'cyt', ax = ax[1], plt_kws = {'label' : r'$\\beta$-galactose'})\n",
    "\n",
    "simulation.plot.metabolite(\n",
    "    data2, 'alpha-GALACTOSE', 'cyt', ax = ax[1], **{'kind' : kind, 'weight' : 0.5}, \n",
    "    plt_kws = {'s' : 2, 'color' : palette[0], 'alpha' : .5})\n",
    "\n",
    "simulation.plot.metabolite(\n",
    "    data2, 'beta-GALACTOSE', 'cyt', ax = ax[1], **{'kind' : kind, 'weight' : 0.5}, \n",
    "    plt_kws = {'s' : 2, 'color' : palette[1], 'alpha' : .5})\n",
    "\n",
    "# third plot, allolactose concentration\n",
    "simulation.plot.metabolite(data1, 'alpha-ALLOLACTOSE', 'cyt', ax = ax[2], plt_kws = {'label' : r'$\\alpha$-allolactose'})\n",
    "simulation.plot.metabolite(data1, 'beta-ALLOLACTOSE', 'cyt', ax = ax[2], plt_kws = {'label' : r'$\\beta$-allolactose'})\n",
    "\n",
    "simulation.plot.metabolite(\n",
    "    data2, 'alpha-ALLOLACTOSE', 'cyt', ax = ax[2], **{'kind' : kind, 'weight' : 0.5}, \n",
    "    plt_kws = {'s' : 2, 'color' : palette[0], 'alpha' : .5})\n",
    "\n",
    "simulation.plot.metabolite(\n",
    "    data2, 'beta-ALLOLACTOSE', 'cyt', ax = ax[2], **{'kind' : kind, 'weight' : 0.5}, \n",
    "    plt_kws = {'s' : 2, 'color' : palette[1], 'alpha' : .5})\n",
    "\n",
    "ax[0].set_xlabel('Time [A.U.]')\n",
    "ax[0].set_ylabel('Concentration [A.U.]')\n",
    "ax[0].set_title('Cytoplasm')\n",
    "ax[0].set_ylim(top = 100)\n",
    "\n",
    "ax[1].set_xlabel('Time [A.U.]')\n",
    "ax[1].set_title('Cytoplasm')\n",
    "ax[1].set_ylim(top = 100)\n",
    "\n",
    "ax[2].set_xlabel('Time [A.U.]')\n",
    "ax[2].set_title('Cytoplasm')\n",
    "ax[2].set_ylim(top = 10)\n",
    "\n",
    "ax[0].legend(frameon = False)\n",
    "ax[1].legend(frameon = False)\n",
    "ax[2].legend(frameon = False)\n",
    "\n",
    "seaborn.despine()"
   ]
  },
  {
   "cell_type": "markdown",
   "metadata": {},
   "source": [
    "As expected, the degradation of lactose into glucose and galactose is complete because most reactions are irreversible, while mutarotation allows equilibrium of anomers. However, we must note that we considered the enzymatic reactions are performed by its complex (e.g. four monomers of LacZ catalyze one reaction), although biochemical information informs the monomers are catalytically active only when the complex is assembled (e.g. one LacZ tetramer catalyzes four reactions). This will be considered next, when we will model protein-protein interactions.\n",
    "\n",
    "<!---\n",
    "%Although system parameters could be found in databases or calibrated (e.g. with \\textit{Pleione}, \\citealp{Santibanez2019Pleione:}), the results show that modeling of RBMs for metabolic networks can be done in an automatized manner %and is a valid methodology to obtain genome-scale kinetic models of metabolism for deterministic and stochastic simulation.\n",
    "--->"
   ]
  },
  {
   "cell_type": "markdown",
   "metadata": {},
   "source": [
    "## Modeling protein-protein interactions"
   ]
  },
  {
   "cell_type": "code",
   "execution_count": 29,
   "metadata": {},
   "outputs": [
    {
     "data": {
      "text/html": [
       "<div>\n",
       "<style scoped>\n",
       "    .dataframe tbody tr th:only-of-type {\n",
       "        vertical-align: middle;\n",
       "    }\n",
       "\n",
       "    .dataframe tbody tr th {\n",
       "        vertical-align: top;\n",
       "    }\n",
       "\n",
       "    .dataframe thead th {\n",
       "        text-align: right;\n",
       "    }\n",
       "</style>\n",
       "<table border=\"1\" class=\"dataframe\">\n",
       "  <thead>\n",
       "    <tr style=\"text-align: right;\">\n",
       "      <th></th>\n",
       "      <th>SOURCE</th>\n",
       "      <th>TARGET</th>\n",
       "      <th>FWD_RATE</th>\n",
       "      <th>RVS_RATE</th>\n",
       "      <th>LOCATION</th>\n",
       "    </tr>\n",
       "  </thead>\n",
       "  <tbody>\n",
       "    <tr>\n",
       "      <th>0</th>\n",
       "      <td>lacZ</td>\n",
       "      <td>lacZ</td>\n",
       "      <td>1.0</td>\n",
       "      <td>0.0</td>\n",
       "      <td>cytosol</td>\n",
       "    </tr>\n",
       "    <tr>\n",
       "      <th>1</th>\n",
       "      <td>[lacZ,lacZ]</td>\n",
       "      <td>[lacZ,lacZ]</td>\n",
       "      <td>1.0</td>\n",
       "      <td>0.0</td>\n",
       "      <td>cytosol</td>\n",
       "    </tr>\n",
       "    <tr>\n",
       "      <th>2</th>\n",
       "      <td>lacA</td>\n",
       "      <td>lacA</td>\n",
       "      <td>1.0</td>\n",
       "      <td>0.0</td>\n",
       "      <td>cytosol</td>\n",
       "    </tr>\n",
       "    <tr>\n",
       "      <th>3</th>\n",
       "      <td>lacA</td>\n",
       "      <td>[lacA,lacA]</td>\n",
       "      <td>1.0</td>\n",
       "      <td>0.0</td>\n",
       "      <td>cytosol</td>\n",
       "    </tr>\n",
       "  </tbody>\n",
       "</table>\n",
       "</div>"
      ],
      "text/plain": [
       "        SOURCE       TARGET  FWD_RATE  RVS_RATE LOCATION\n",
       "0         lacZ         lacZ       1.0       0.0  cytosol\n",
       "1  [lacZ,lacZ]  [lacZ,lacZ]       1.0       0.0  cytosol\n",
       "2         lacA         lacA       1.0       0.0  cytosol\n",
       "3         lacA  [lacA,lacA]       1.0       0.0  cytosol"
      ]
     },
     "execution_count": 29,
     "metadata": {},
     "output_type": "execute_result"
    }
   ],
   "source": [
    "atlas.read_network('network-lac-ProtProt.tsv')"
   ]
  },
  {
   "cell_type": "code",
   "execution_count": 30,
   "metadata": {},
   "outputs": [
    {
     "name": "stdout",
     "output_type": "stream",
     "text": [
      "CPU times: user 204 ms, sys: 311 µs, total: 204 ms\n",
      "Wall time: 202 ms\n"
     ]
    },
    {
     "data": {
      "text/plain": [
       "<Model 'atlas_rbm.construct_model_from_interaction_network' (monomers: 1, rules: 4, parameters: 14, expressions: 0, compartments: 0) at 0x7f2324f4fd30>"
      ]
     },
     "execution_count": 30,
     "metadata": {},
     "output_type": "execute_result"
    }
   ],
   "source": [
    "%time model2 = atlas.construct_model_from_interaction_network('network-lac-ProtProt.tsv')\n",
    "model2"
   ]
  },
  {
   "cell_type": "code",
   "execution_count": 31,
   "metadata": {},
   "outputs": [
    {
     "name": "stdout",
     "output_type": "stream",
     "text": [
      "CPU times: user 775 ms, sys: 0 ns, total: 775 ms\n",
      "Wall time: 775 ms\n"
     ]
    },
    {
     "data": {
      "text/plain": [
       "<Model 'atlas_rbm.construct_model_from_metabolic_network' (monomers: 2, rules: 18, parameters: 61, expressions: 0, compartments: 0) at 0x7f23258813d0>"
      ]
     },
     "execution_count": 31,
     "metadata": {},
     "output_type": "execute_result"
    }
   ],
   "source": [
    "%time model1 = atlas.construct_model_from_metabolic_network('network-lac-metabolism-complex.tsv', verbose = False) # read a file to build the model\n",
    "model1"
   ]
  },
  {
   "cell_type": "markdown",
   "metadata": {},
   "source": [
    "We created a second model, and next, we need to combine both models into one:"
   ]
  },
  {
   "cell_type": "code",
   "execution_count": 32,
   "metadata": {},
   "outputs": [
    {
     "name": "stdout",
     "output_type": "stream",
     "text": [
      "CPU times: user 1.02 s, sys: 2.63 ms, total: 1.02 s\n",
      "Wall time: 1.02 s\n"
     ]
    },
    {
     "data": {
      "text/plain": [
       "<Model 'atlas_rbm.atlas' (monomers: 2, rules: 22, parameters: 71, expressions: 0, compartments: 0) at 0x7f2325871160>"
      ]
     },
     "execution_count": 32,
     "metadata": {},
     "output_type": "execute_result"
    }
   ],
   "source": [
    "%time combined = atlas.combine_models([model1, model2])\n",
    "combined"
   ]
  },
  {
   "cell_type": "code",
   "execution_count": 33,
   "metadata": {},
   "outputs": [
    {
     "name": "stdout",
     "output_type": "stream",
     "text": [
      "Initial not found. Creating Initial...\n",
      "Initial not found. Creating Initial...\n",
      "Initial not found. Creating Initial...\n",
      "CPU times: user 3.34 s, sys: 963 ms, total: 4.31 s\n",
      "Wall time: 3.42 s\n",
      "CPU times: user 5.86 s, sys: 189 ms, total: 6.05 s\n",
      "Wall time: 12 s\n"
     ]
    }
   ],
   "source": [
    "# initial condition\n",
    "# for metabolites (set again doesn't hurt)\n",
    "simulation.set_initial.met(combined, 'beta_lactose', 'per', 100)\n",
    "simulation.set_initial.met(combined, 'PROTON', 'per', 100) # required for lactose transport\n",
    "simulation.set_initial.met(combined, 'WATER', 'cyt', 100) # required for lactose hydrolysis\n",
    "\n",
    "# for proteins\n",
    "simulation.set_initial.prot(combined, 'lacY', 'imem', 1)\n",
    "simulation.set_initial.prot(combined, 'lacZ', 'cyt', 4)\n",
    "simulation.set_initial.prot(combined, 'lacA', 'cyt', 3)\n",
    "\n",
    "# and for complexes. We set to zero to simulate complex assembly as a requisite for metabolic activity\n",
    "simulation.set_initial.cplx(combined, 'lacAx3', 'cyt', 0) # the code name for complexes is their monomer names times its stoichiometry\n",
    "simulation.set_initial.cplx(combined, 'lacZx4', 'cyt', 0)\n",
    "\n",
    "# simulation\n",
    "bng = '/opt/git-repositories/bionetgen.RuleWorld/bng2/'\n",
    "kasim = '/opt/git-repositories/KaSim4.Kappa-Dev/'\n",
    "\n",
    "%time data1 = simulation.scipy(combined, start = 0, finish = 10, points = 500)\n",
    "%time data2 = simulation.bngSSA(combined, start = 0, finish = 10, points = 500, n_runs = 100, path = bng)"
   ]
  },
  {
   "cell_type": "code",
   "execution_count": 34,
   "metadata": {},
   "outputs": [
    {
     "data": {
      "image/png": "[encoded data removed]",
      "text/plain": [
       "<Figure size 1200x300 with 3 Axes>"
      ]
     },
     "metadata": {
      "needs_background": "light"
     },
     "output_type": "display_data"
    }
   ],
   "source": [
    "kind = 'fill_between'\n",
    "fig, ax = plt.subplots(1, 3, figsize = (4*3, 3*1), dpi = 100)\n",
    "\n",
    "# first plot, lactose concentration\n",
    "simulation.plot.metabolite(data1, 'alpha-glucose', 'cyt', ax = ax[0], plt_kws = {'label' : r'$\\alpha$-glucose'})\n",
    "simulation.plot.metabolite(data1, 'beta-glucose', 'cyt', ax = ax[0], plt_kws = {'label' : r'$\\beta$-glucose'})\n",
    "\n",
    "simulation.plot.metabolite(\n",
    "    data2, 'alpha-glucose', 'cyt', ax = ax[0], **{'kind' : kind, 'weight' : 0.5}, \n",
    "    plt_kws = {'s' : 2, 'color' : palette[0], 'alpha' : .5})\n",
    "\n",
    "simulation.plot.metabolite(\n",
    "    data2, 'beta-glucose', 'cyt', ax = ax[0], **{'kind' : kind, 'weight' : 0.5}, \n",
    "    plt_kws = {'s' : 2, 'color' : palette[1], 'alpha' : .5})\n",
    "\n",
    "# second plot, galactose concentration\n",
    "simulation.plot.metabolite(data1, 'alpha-GALACTOSE', 'cyt', ax = ax[1], plt_kws = {'label' : r'$\\alpha$-galactose'})\n",
    "simulation.plot.metabolite(data1, 'beta-GALACTOSE', 'cyt', ax = ax[1], plt_kws = {'label' : r'$\\beta$-galactose'})\n",
    "\n",
    "simulation.plot.metabolite(\n",
    "    data2, 'alpha-GALACTOSE', 'cyt', ax = ax[1], **{'kind' : kind, 'weight' : 0.5}, \n",
    "    plt_kws = {'s' : 2, 'color' : palette[0], 'alpha' : .5})\n",
    "\n",
    "simulation.plot.metabolite(\n",
    "    data2, 'beta-GALACTOSE', 'cyt', ax = ax[1], **{'kind' : kind, 'weight' : 0.5}, \n",
    "    plt_kws = {'s' : 2, 'color' : palette[1], 'alpha' : .5})\n",
    "\n",
    "# third plot, allolactose concentration\n",
    "simulation.plot.metabolite(data1, 'alpha-ALLOLACTOSE', 'cyt', ax = ax[2], plt_kws = {'label' : r'$\\alpha$-allolactose'})\n",
    "simulation.plot.metabolite(data1, 'beta-ALLOLACTOSE', 'cyt', ax = ax[2], plt_kws = {'label' : r'$\\beta$-allolactose'})\n",
    "\n",
    "simulation.plot.metabolite(\n",
    "    data2, 'alpha-ALLOLACTOSE', 'cyt', ax = ax[2], **{'kind' : kind, 'weight' : 0.5}, \n",
    "    plt_kws = {'s' : 2, 'color' : palette[0], 'alpha' : .5})\n",
    "\n",
    "simulation.plot.metabolite(\n",
    "    data2, 'beta-ALLOLACTOSE', 'cyt', ax = ax[2], **{'kind' : kind, 'weight' : 0.5}, \n",
    "    plt_kws = {'s' : 2, 'color' : palette[1], 'alpha' : .5})\n",
    "\n",
    "ax[0].set_xlabel('Time [A.U.]')\n",
    "ax[0].set_ylabel('Concentration [A.U.]')\n",
    "ax[0].set_title('Cytoplasm')\n",
    "ax[0].set_ylim(top = 100)\n",
    "\n",
    "ax[1].set_xlabel('Time [A.U.]')\n",
    "ax[1].set_title('Cytoplasm')\n",
    "ax[1].set_ylim(top = 100)\n",
    "\n",
    "ax[2].set_xlabel('Time [A.U.]')\n",
    "ax[2].set_title('Cytoplasm')\n",
    "ax[2].set_ylim(top = 10)\n",
    "\n",
    "ax[0].legend(frameon = False)\n",
    "ax[1].legend(frameon = False)\n",
    "ax[2].legend(frameon = False)\n",
    "\n",
    "seaborn.despine()"
   ]
  },
  {
   "cell_type": "markdown",
   "metadata": {},
   "source": [
    "## Correcting rules: $\\beta$-galactosidase and galactoside O-acetyltransferase activity per monomer, not per complex."
   ]
  },
  {
   "cell_type": "markdown",
   "metadata": {},
   "source": []
  },
  {
   "cell_type": "code",
   "execution_count": 37,
   "metadata": {},
   "outputs": [
    {
     "name": "stdout",
     "output_type": "stream",
     "text": [
      "CPU times: user 729 ms, sys: 0 ns, total: 729 ms\n",
      "Wall time: 730 ms\n"
     ]
    },
    {
     "data": {
      "text/plain": [
       "<Model 'atlas_rbm.construct_model_from_metabolic_network' (monomers: 2, rules: 18, parameters: 59, expressions: 0, compartments: 0) at 0x7f2376d92d60>"
      ]
     },
     "execution_count": 37,
     "metadata": {},
     "output_type": "execute_result"
    }
   ],
   "source": [
    "# %time model = atlas.construct_model_from_metabolic_network(network, verbose = False)\n",
    "%time model = atlas.construct_model_from_metabolic_network('network-lac-metabolism-genes.tsv', verbose = False)\n",
    "model"
   ]
  },
  {
   "cell_type": "markdown",
   "metadata": {},
   "source": []
  },
  {
   "cell_type": "code",
   "execution_count": 38,
   "metadata": {},
   "outputs": [
    {
     "data": {
      "text/plain": [
       "Rule('RXN0_5363_beta', prot(name='lacZ', loc='cyt', dna=None, met=None, prot=None, rna=None, up=None, dw=None) + met(name='beta_lactose', loc='cyt', dna=None, met=None, prot=None, rna=None) | prot(name='lacZ', loc='cyt', dna=None, met=None, prot=None, rna=None, up=None, dw=None) + met(name='beta_ALLOLACTOSE', loc='cyt', dna=None, met=None, prot=None, rna=None), fwd_RXN0_5363_beta, rvs_RXN0_5363_beta)"
      ]
     },
     "execution_count": 38,
     "metadata": {},
     "output_type": "execute_result"
    }
   ],
   "source": [
    "model.rules[12]"
   ]
  },
  {
   "cell_type": "code",
   "execution_count": 39,
   "metadata": {},
   "outputs": [],
   "source": [
    "new_rule = \"Rule('BETAGALACTOSID_RXN', prot(name='lacZ', loc='cyt', up = ANY, dw = ANY) + \\\n",
    "            met(name='beta_lactose', loc='cyt', prot=None) + \\\n",
    "            met(name='WATER', loc='cyt', prot=None) | \\\n",
    "            prot(name='lacZ', loc='cyt', up = ANY, dw = ANY) + \\\n",
    "            met(name='beta_GALACTOSE', loc='cyt', prot=None) + \\\n",
    "            met(name='beta_glucose', loc='cyt', prot=None), \\\n",
    "            fwd_BETAGALACTOSID_RXN, rvs_BETAGALACTOSID_RXN)\"\n",
    "            \n",
    "model = atlas.replace_rule(model, 'BETAGALACTOSID_RXN', new_rule)"
   ]
  },
  {
   "cell_type": "code",
   "execution_count": 40,
   "metadata": {},
   "outputs": [
    {
     "data": {
      "text/plain": [
       "Rule('BETAGALACTOSID_RXN', prot(name='lacZ', loc='cyt', up=ANY, dw=ANY) + met(name='beta_lactose', loc='cyt', prot=None) + met(name='WATER', loc='cyt', prot=None) | prot(name='lacZ', loc='cyt', up=ANY, dw=ANY) + met(name='beta_GALACTOSE', loc='cyt', prot=None) + met(name='beta_glucose', loc='cyt', prot=None), fwd_BETAGALACTOSID_RXN, rvs_BETAGALACTOSID_RXN)"
      ]
     },
     "execution_count": 40,
     "metadata": {},
     "output_type": "execute_result"
    }
   ],
   "source": [
    "model.rules[-1] # the new rule appears at the end of the \"rules\" list"
   ]
  },
  {
   "cell_type": "code",
   "execution_count": 41,
   "metadata": {},
   "outputs": [
    {
     "name": "stdout",
     "output_type": "stream",
     "text": [
      "CPU times: user 776 ms, sys: 0 ns, total: 776 ms\n",
      "Wall time: 776 ms\n"
     ]
    }
   ],
   "source": [
    "# %time model = atlas.construct_model_from_metabolic_network(network, verbose = False)\n",
    "%time model = atlas.construct_model_from_metabolic_network('network-lac-metabolism-genes.tsv', verbose = False)"
   ]
  },
  {
   "cell_type": "code",
   "execution_count": 42,
   "metadata": {},
   "outputs": [
    {
     "data": {
      "text/plain": [
       "[Rule('RXN0_5363_beta', prot(name='lacZ', loc='cyt', dna=None, met=None, prot=None, rna=None, up=None, dw=None) + met(name='beta_lactose', loc='cyt', dna=None, met=None, prot=None, rna=None) | prot(name='lacZ', loc='cyt', dna=None, met=None, prot=None, rna=None, up=None, dw=None) + met(name='beta_ALLOLACTOSE', loc='cyt', dna=None, met=None, prot=None, rna=None), fwd_RXN0_5363_beta, rvs_RXN0_5363_beta),\n",
       " Rule('ALLOLACTOSE_DEG_alpha', prot(name='lacZ', loc='cyt', dna=None, met=None, prot=None, rna=None, up=None, dw=None) + met(name='alpha_ALLOLACTOSE', loc='cyt', dna=None, met=None, prot=None, rna=None) + met(name='WATER', loc='cyt', dna=None, met=None, prot=None, rna=None) | prot(name='lacZ', loc='cyt', dna=None, met=None, prot=None, rna=None, up=None, dw=None) + met(name='alpha_GALACTOSE', loc='cyt', dna=None, met=None, prot=None, rna=None) + met(name='alpha_glucose', loc='cyt', dna=None, met=None, prot=None, rna=None), fwd_ALLOLACTOSE_DEG_alpha, rvs_ALLOLACTOSE_DEG_alpha),\n",
       " Rule('ALLOLACTOSE_DEG_beta', prot(name='lacZ', loc='cyt', dna=None, met=None, prot=None, rna=None, up=None, dw=None) + met(name='beta_ALLOLACTOSE', loc='cyt', dna=None, met=None, prot=None, rna=None) + met(name='WATER', loc='cyt', dna=None, met=None, prot=None, rna=None) | prot(name='lacZ', loc='cyt', dna=None, met=None, prot=None, rna=None, up=None, dw=None) + met(name='beta_GALACTOSE', loc='cyt', dna=None, met=None, prot=None, rna=None) + met(name='beta_glucose', loc='cyt', dna=None, met=None, prot=None, rna=None), fwd_ALLOLACTOSE_DEG_beta, rvs_ALLOLACTOSE_DEG_beta),\n",
       " Rule('RXN_17726', prot(name='lacZ', loc='cyt', dna=None, met=None, prot=None, rna=None, up=None, dw=None) + met(name='CPD_3561', loc='cyt', dna=None, met=None, prot=None, rna=None) + met(name='WATER', loc='cyt', dna=None, met=None, prot=None, rna=None) | prot(name='lacZ', loc='cyt', dna=None, met=None, prot=None, rna=None, up=None, dw=None) + met(name='beta_GALACTOSE', loc='cyt', dna=None, met=None, prot=None, rna=None) + met(name='Fructofuranose', loc='cyt', dna=None, met=None, prot=None, rna=None), fwd_RXN_17726, rvs_RXN_17726),\n",
       " Rule('RXN0_7219', prot(name='lacZ', loc='cyt', dna=None, met=None, prot=None, rna=None, up=None, dw=None) + met(name='CPD_3785', loc='cyt', dna=None, met=None, prot=None, rna=None) + met(name='WATER', loc='cyt', dna=None, met=None, prot=None, rna=None) | prot(name='lacZ', loc='cyt', dna=None, met=None, prot=None, rna=None, up=None, dw=None) + met(name='beta_GALACTOSE', loc='cyt', dna=None, met=None, prot=None, rna=None) + met(name='D_ARABINOSE', loc='cyt', dna=None, met=None, prot=None, rna=None), fwd_RXN0_7219, rvs_RXN0_7219),\n",
       " Rule('GALACTOACETYLTRAN_RXN_galactose', prot(name='lacA', loc='cyt', dna=None, met=None, prot=None, rna=None, up=None, dw=None) + met(name='beta_GALACTOSE', loc='cyt', dna=None, met=None, prot=None, rna=None) + met(name='ACETYL_COA', loc='cyt', dna=None, met=None, prot=None, rna=None) | prot(name='lacA', loc='cyt', dna=None, met=None, prot=None, rna=None, up=None, dw=None) + met(name='_6_Acetyl_beta_D_Galactose', loc='cyt', dna=None, met=None, prot=None, rna=None) + met(name='CO_A', loc='cyt', dna=None, met=None, prot=None, rna=None), fwd_GALACTOACETYLTRAN_RXN_galactose, rvs_GALACTOACETYLTRAN_RXN_galactose)]"
      ]
     },
     "execution_count": 42,
     "metadata": {},
     "output_type": "execute_result"
    }
   ],
   "source": [
    "model.rules[12:20]"
   ]
  },
  {
   "cell_type": "code",
   "execution_count": 43,
   "metadata": {},
   "outputs": [],
   "source": [
    "model = atlas.modify_rules(\n",
    "    model, \n",
    "    oldString = \"prot(name='lacZ', loc='cyt')\",\n",
    "    newString = \"prot(name='lacZ', loc='cyt', up = ANY, dw = ANY)\",\n",
    "    names = [\n",
    "        'BETAGALACTOSID_RXN',\n",
    "        'BETAGALACTOSID_RXN_alpha', \n",
    "        'RXN0_5363', \n",
    "        'RXN0_5363_beta', \n",
    "        'ALLOLACTOSE_DEG_alpha', \n",
    "        'ALLOLACTOSE_DEG_beta', \n",
    "        'RXN_17726', \n",
    "        'RXN0_7219'])"
   ]
  },
  {
   "cell_type": "code",
   "execution_count": 44,
   "metadata": {},
   "outputs": [
    {
     "data": {
      "text/plain": [
       "[Rule('RXN0_5363_beta', prot(name='lacZ', loc='cyt', dna=None, met=None, prot=None, rna=None, up=None, dw=None) + met(name='beta_lactose', loc='cyt', dna=None, met=None, prot=None, rna=None) | prot(name='lacZ', loc='cyt', dna=None, met=None, prot=None, rna=None, up=None, dw=None) + met(name='beta_ALLOLACTOSE', loc='cyt', dna=None, met=None, prot=None, rna=None), fwd_RXN0_5363_beta, rvs_RXN0_5363_beta),\n",
       " Rule('ALLOLACTOSE_DEG_alpha', prot(name='lacZ', loc='cyt', dna=None, met=None, prot=None, rna=None, up=None, dw=None) + met(name='alpha_ALLOLACTOSE', loc='cyt', dna=None, met=None, prot=None, rna=None) + met(name='WATER', loc='cyt', dna=None, met=None, prot=None, rna=None) | prot(name='lacZ', loc='cyt', dna=None, met=None, prot=None, rna=None, up=None, dw=None) + met(name='alpha_GALACTOSE', loc='cyt', dna=None, met=None, prot=None, rna=None) + met(name='alpha_glucose', loc='cyt', dna=None, met=None, prot=None, rna=None), fwd_ALLOLACTOSE_DEG_alpha, rvs_ALLOLACTOSE_DEG_alpha),\n",
       " Rule('ALLOLACTOSE_DEG_beta', prot(name='lacZ', loc='cyt', dna=None, met=None, prot=None, rna=None, up=None, dw=None) + met(name='beta_ALLOLACTOSE', loc='cyt', dna=None, met=None, prot=None, rna=None) + met(name='WATER', loc='cyt', dna=None, met=None, prot=None, rna=None) | prot(name='lacZ', loc='cyt', dna=None, met=None, prot=None, rna=None, up=None, dw=None) + met(name='beta_GALACTOSE', loc='cyt', dna=None, met=None, prot=None, rna=None) + met(name='beta_glucose', loc='cyt', dna=None, met=None, prot=None, rna=None), fwd_ALLOLACTOSE_DEG_beta, rvs_ALLOLACTOSE_DEG_beta),\n",
       " Rule('RXN_17726', prot(name='lacZ', loc='cyt', dna=None, met=None, prot=None, rna=None, up=None, dw=None) + met(name='CPD_3561', loc='cyt', dna=None, met=None, prot=None, rna=None) + met(name='WATER', loc='cyt', dna=None, met=None, prot=None, rna=None) | prot(name='lacZ', loc='cyt', dna=None, met=None, prot=None, rna=None, up=None, dw=None) + met(name='beta_GALACTOSE', loc='cyt', dna=None, met=None, prot=None, rna=None) + met(name='Fructofuranose', loc='cyt', dna=None, met=None, prot=None, rna=None), fwd_RXN_17726, rvs_RXN_17726),\n",
       " Rule('RXN0_7219', prot(name='lacZ', loc='cyt', dna=None, met=None, prot=None, rna=None, up=None, dw=None) + met(name='CPD_3785', loc='cyt', dna=None, met=None, prot=None, rna=None) + met(name='WATER', loc='cyt', dna=None, met=None, prot=None, rna=None) | prot(name='lacZ', loc='cyt', dna=None, met=None, prot=None, rna=None, up=None, dw=None) + met(name='beta_GALACTOSE', loc='cyt', dna=None, met=None, prot=None, rna=None) + met(name='D_ARABINOSE', loc='cyt', dna=None, met=None, prot=None, rna=None), fwd_RXN0_7219, rvs_RXN0_7219)]"
      ]
     },
     "execution_count": 44,
     "metadata": {},
     "output_type": "execute_result"
    }
   ],
   "source": [
    "model.rules[13:21] # the new rules appear at the end of the list"
   ]
  },
  {
   "cell_type": "code",
   "execution_count": 46,
   "metadata": {},
   "outputs": [
    {
     "name": "stdout",
     "output_type": "stream",
     "text": [
      "CPU times: user 171 ms, sys: 131 µs, total: 171 ms\n",
      "Wall time: 169 ms\n"
     ]
    }
   ],
   "source": [
    "# %time model = atlas.construct_model_from_metabolic_network(network, verbose = False)\n",
    "%time model_ppi = atlas.construct_model_from_interaction_network('network-lac-ProtProt.tsv', verbose = False)"
   ]
  },
  {
   "cell_type": "code",
   "execution_count": 47,
   "metadata": {},
   "outputs": [
    {
     "data": {
      "text/plain": [
       "[Rule('PhysicalInteractionRule_1', prot(name='lacZ', loc='cyt', dna=None, met=None, up=None, dw=None) + prot(name='lacZ', loc='cyt', dna=None, met=None, up=None, dw=None) | prot(name='lacZ', loc='cyt', dna=None, met=None, up=None, dw=1) % prot(name='lacZ', loc='cyt', dna=None, met=None, up=1, dw=None), fwd_PhysicalInteractionRule_1, rvs_PhysicalInteractionRule_1),\n",
       " Rule('PhysicalInteractionRule_2', prot(name='lacZ', loc='cyt', dna=None, met=None, up=None, dw=1) % prot(name='lacZ', loc='cyt', dna=None, met=None, up=1, dw=None) + prot(name='lacZ', loc='cyt', dna=None, met=None, up=None, dw=2) % prot(name='lacZ', loc='cyt', dna=None, met=None, up=2, dw=None) | prot(name='lacZ', loc='cyt', dna=None, met=None, up=None, dw=1) % prot(name='lacZ', loc='cyt', dna=None, met=None, up=1, dw=2) % prot(name='lacZ', loc='cyt', dna=None, met=None, up=2, dw=3) % prot(name='lacZ', loc='cyt', dna=None, met=None, up=3, dw=None), fwd_PhysicalInteractionRule_2, rvs_PhysicalInteractionRule_2),\n",
       " Rule('PhysicalInteractionRule_3', prot(name='lacA', loc='cyt', dna=None, met=None, up=None, dw=None) + prot(name='lacA', loc='cyt', dna=None, met=None, up=None, dw=None) | prot(name='lacA', loc='cyt', dna=None, met=None, up=None, dw=1) % prot(name='lacA', loc='cyt', dna=None, met=None, up=1, dw=None), fwd_PhysicalInteractionRule_3, rvs_PhysicalInteractionRule_3),\n",
       " Rule('PhysicalInteractionRule_4', prot(name='lacA', loc='cyt', dna=None, met=None, up=None, dw=None) + prot(name='lacA', loc='cyt', dna=None, met=None, up=None, dw=1) % prot(name='lacA', loc='cyt', dna=None, met=None, up=1, dw=None) | prot(name='lacA', loc='cyt', dna=None, met=None, up=None, dw=1) % prot(name='lacA', loc='cyt', dna=None, met=None, up=1, dw=2) % prot(name='lacA', loc='cyt', dna=None, met=None, up=2, dw=None), fwd_PhysicalInteractionRule_4, rvs_PhysicalInteractionRule_4)]"
      ]
     },
     "execution_count": 47,
     "metadata": {},
     "output_type": "execute_result"
    }
   ],
   "source": [
    "model_ppi.rules[:]"
   ]
  },
  {
   "cell_type": "code",
   "execution_count": 48,
   "metadata": {},
   "outputs": [],
   "source": [
    "model_ppi = atlas.replace_rule(model_ppi, 'PhysicalInteractionRule_2', \n",
    "                                \"Rule('PhysicalInteractionRule_2', \\\n",
    "                                    prot(name='lacZ', loc='cyt', dna=None, met=None, prot=None, rna=None, up=None, dw=2) % \\\n",
    "                                    prot(name='lacZ', loc='cyt', dna=None, met=None, prot=None, rna=None, up=2, dw=None) + \\\n",
    "                                    prot(name='lacZ', loc='cyt', dna=None, met=None, prot=None, rna=None, up=None, dw=1) % \\\n",
    "                                    prot(name='lacZ', loc='cyt', dna=None, met=None, prot=None, rna=None, up=1, dw=None) | \\\n",
    "                                    prot(name='lacZ', loc='cyt', dna=None, met=None, prot=None, rna=None, up=4, dw=1) % \\\n",
    "                                    prot(name='lacZ', loc='cyt', dna=None, met=None, prot=None, rna=None, up=1, dw=2) % \\\n",
    "                                    prot(name='lacZ', loc='cyt', dna=None, met=None, prot=None, rna=None, up=2, dw=3) % \\\n",
    "                                    prot(name='lacZ', loc='cyt', dna=None, met=None, prot=None, rna=None, up=3, dw=4), \\\n",
    "                                    fwd_PhysicalInteractionRule_2, rvs_PhysicalInteractionRule_2)\")"
   ]
  },
  {
   "cell_type": "code",
   "execution_count": 49,
   "metadata": {},
   "outputs": [],
   "source": [
    "model_ppi = atlas.replace_rule(model_ppi, 'PhysicalInteractionRule_4',\n",
    "                                \"Rule('PhysicalInteractionRule_4', \\\n",
    "                                    prot(name='lacA', loc='cyt', dna=None, met=None, prot=None, rna=None, up=None, dw=None) + \\\n",
    "                                    prot(name='lacA', loc='cyt', dna=None, met=None, prot=None, rna=None, up=None, dw=1) % \\\n",
    "                                    prot(name='lacA', loc='cyt', dna=None, met=None, prot=None, rna=None, up=1, dw=None) | \\\n",
    "                                    prot(name='lacA', loc='cyt', dna=None, met=None, prot=None, rna=None, up=3, dw=1) % \\\n",
    "                                    prot(name='lacA', loc='cyt', dna=None, met=None, prot=None, rna=None, up=1, dw=2) % \\\n",
    "                                    prot(name='lacA', loc='cyt', dna=None, met=None, prot=None, rna=None, up=2, dw=3), \\\n",
    "                                    fwd_PhysicalInteractionRule_4, rvs_PhysicalInteractionRule_4)\")"
   ]
  },
  {
   "cell_type": "code",
   "execution_count": 50,
   "metadata": {},
   "outputs": [
    {
     "data": {
      "text/plain": [
       "<Model 'atlas_rbm.atlas' (monomers: 2, rules: 22, parameters: 71, expressions: 0, compartments: 0) at 0x7f23242e0f10>"
      ]
     },
     "execution_count": 50,
     "metadata": {},
     "output_type": "execute_result"
    }
   ],
   "source": [
    "combined = atlas.combine_models([model, model_ppi])\n",
    "combined"
   ]
  },
  {
   "cell_type": "code",
   "execution_count": 51,
   "metadata": {},
   "outputs": [
    {
     "name": "stdout",
     "output_type": "stream",
     "text": [
      "Initial not found. Creating Initial...\n",
      "Initial not found. Creating Initial...\n",
      "Initial not found. Creating Initial...\n",
      "CPU times: user 4.06 s, sys: 902 ms, total: 4.96 s\n",
      "Wall time: 5.28 s\n",
      "CPU times: user 6.2 s, sys: 176 ms, total: 6.38 s\n",
      "Wall time: 13.2 s\n"
     ]
    }
   ],
   "source": [
    "# initial condition\n",
    "# for metabolites (set again doesn't hurt)\n",
    "simulation.set_initial.met(combined, 'beta_lactose', 'per', 100)\n",
    "simulation.set_initial.met(combined, 'PROTON', 'per', 100) # required for lactose transport\n",
    "simulation.set_initial.met(combined, 'WATER', 'cyt', 100) # required for lactose hydrolysis\n",
    "\n",
    "# for proteins\n",
    "simulation.set_initial.prot(combined, 'lacY', 'imem', 1)\n",
    "simulation.set_initial.prot(combined, 'lacZ', 'cyt', 4)\n",
    "simulation.set_initial.prot(combined, 'lacA', 'cyt', 3)\n",
    "\n",
    "# and for complexes. We set to zero to simulate complex assembly as a requisite for metabolic activity\n",
    "simulation.set_initial.cplx(combined, 'lacAx3', 'cyt', 0) # the code name for complexes is their monomer names times its stoichiometry\n",
    "simulation.set_initial.cplx(combined, 'lacZx4', 'cyt', 0)\n",
    "\n",
    "# simulation\n",
    "bng = '/opt/git-repositories/bionetgen.RuleWorld/bng2/'\n",
    "kasim = '/opt/git-repositories/KaSim4.Kappa-Dev/'\n",
    "\n",
    "%time data1 = simulation.scipy(combined, start = 0, finish = 10, points = 500)\n",
    "%time data2 = simulation.bngSSA(combined, start = 0, finish = 10, points = 500, n_runs = 100, path = bng)"
   ]
  },
  {
   "cell_type": "code",
   "execution_count": 52,
   "metadata": {},
   "outputs": [
    {
     "data": {
      "image/png": "[encoded data removed]",
      "text/plain": [
       "<Figure size 1200x300 with 3 Axes>"
      ]
     },
     "metadata": {
      "needs_background": "light"
     },
     "output_type": "display_data"
    }
   ],
   "source": [
    "kind = 'fill_between'\n",
    "fig, ax = plt.subplots(1, 3, figsize = (4*3, 3*1), dpi = 100)\n",
    "\n",
    "# first plot, lactose concentration\n",
    "simulation.plot.metabolite(data1, 'alpha-glucose', 'cyt', ax = ax[0], plt_kws = {'label' : r'$\\alpha$-glucose'})\n",
    "simulation.plot.metabolite(data1, 'beta-glucose', 'cyt', ax = ax[0], plt_kws = {'label' : r'$\\beta$-glucose'})\n",
    "\n",
    "simulation.plot.metabolite(\n",
    "    data2, 'alpha-glucose', 'cyt', ax = ax[0], **{'kind' : kind, 'weight' : 0.5}, \n",
    "    plt_kws = {'s' : 2, 'color' : palette[0], 'alpha' : .5})\n",
    "\n",
    "simulation.plot.metabolite(\n",
    "    data2, 'beta-glucose', 'cyt', ax = ax[0], **{'kind' : kind, 'weight' : 0.5}, \n",
    "    plt_kws = {'s' : 2, 'color' : palette[1], 'alpha' : .5})\n",
    "\n",
    "# second plot, galactose concentration\n",
    "simulation.plot.metabolite(data1, 'alpha-GALACTOSE', 'cyt', ax = ax[1], plt_kws = {'label' : r'$\\alpha$-galactose'})\n",
    "simulation.plot.metabolite(data1, 'beta-GALACTOSE', 'cyt', ax = ax[1], plt_kws = {'label' : r'$\\beta$-galactose'})\n",
    "\n",
    "simulation.plot.metabolite(\n",
    "    data2, 'alpha-GALACTOSE', 'cyt', ax = ax[1], **{'kind' : kind, 'weight' : 0.5}, \n",
    "    plt_kws = {'s' : 2, 'color' : palette[0], 'alpha' : .5})\n",
    "\n",
    "simulation.plot.metabolite(\n",
    "    data2, 'beta-GALACTOSE', 'cyt', ax = ax[1], **{'kind' : kind, 'weight' : 0.5}, \n",
    "    plt_kws = {'s' : 2, 'color' : palette[1], 'alpha' : .5})\n",
    "\n",
    "# third plot, allolactose concentration\n",
    "simulation.plot.metabolite(data1, 'alpha-ALLOLACTOSE', 'cyt', ax = ax[2], plt_kws = {'label' : r'$\\alpha$-allolactose'})\n",
    "simulation.plot.metabolite(data1, 'beta-ALLOLACTOSE', 'cyt', ax = ax[2], plt_kws = {'label' : r'$\\beta$-allolactose'})\n",
    "\n",
    "simulation.plot.metabolite(\n",
    "    data2, 'alpha-ALLOLACTOSE', 'cyt', ax = ax[2], **{'kind' : kind, 'weight' : 0.5}, \n",
    "    plt_kws = {'s' : 2, 'color' : palette[0], 'alpha' : .5})\n",
    "\n",
    "simulation.plot.metabolite(\n",
    "    data2, 'beta-ALLOLACTOSE', 'cyt', ax = ax[2], **{'kind' : kind, 'weight' : 0.5}, \n",
    "    plt_kws = {'s' : 2, 'color' : palette[1], 'alpha' : .5})\n",
    "\n",
    "ax[0].set_xlabel('Time [A.U.]')\n",
    "ax[0].set_ylabel('Concentration [A.U.]')\n",
    "ax[0].set_title('Cytoplasm')\n",
    "ax[0].set_ylim(top = 100)\n",
    "\n",
    "ax[1].set_xlabel('Time [A.U.]')\n",
    "ax[1].set_title('Cytoplasm')\n",
    "ax[1].set_ylim(top = 100)\n",
    "\n",
    "ax[2].set_xlabel('Time [A.U.]')\n",
    "ax[2].set_title('Cytoplasm')\n",
    "ax[2].set_ylim(top = 10)\n",
    "\n",
    "ax[0].legend(frameon = False)\n",
    "ax[1].legend(frameon = False)\n",
    "ax[2].legend(frameon = False)\n",
    "\n",
    "seaborn.despine()"
   ]
  },
  {
   "cell_type": "markdown",
   "metadata": {},
   "source": [
    "## Modeling DNA transcription and RNA translation: Coupling gene expression to metabolism."
   ]
  },
  {
   "cell_type": "code",
   "execution_count": null,
   "metadata": {},
   "outputs": [],
   "source": []
  }
 ],
 "metadata": {
  "kernelspec": {
   "display_name": "Python 3",
   "language": "python",
   "name": "python3"
  },
  "language_info": {
   "codemirror_mode": {
    "name": "ipython",
    "version": 3
   },
   "file_extension": ".py",
   "mimetype": "text/x-python",
   "name": "python",
   "nbconvert_exporter": "python",
   "pygments_lexer": "ipython3",
   "version": "3.8.2"
  }
 },
 "nbformat": 4,
 "nbformat_minor": 2
}
