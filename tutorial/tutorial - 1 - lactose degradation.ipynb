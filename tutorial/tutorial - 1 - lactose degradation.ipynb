{
 "cells": [
  {
   "cell_type": "code",
   "execution_count": 1,
   "metadata": {},
   "outputs": [
    {
     "data": {
      "text/html": [
       "<style>.container { width: 95% !important; }</style>"
      ],
      "text/plain": [
       "<IPython.core.display.HTML object>"
      ]
     },
     "metadata": {},
     "output_type": "display_data"
    }
   ],
   "source": [
    "# expand cells to the 95% of the display width\n",
    "from IPython.core.display import display, HTML\n",
    "display(HTML(\"<style>.container { width: 95% !important; }</style>\"))"
   ]
  },
  {
   "cell_type": "markdown",
   "metadata": {},
   "source": [
    "# Tutorial: Automatic rule-based modeling of the *Escherichia coli* lactose metabolism, including protein-protein interactions and regulation of gene expression employing *Atlas*"
   ]
  },
  {
   "cell_type": "markdown",
   "metadata": {},
   "source": [
    "Authors: Rodrigo Santibáñez[1,2], Daniel Garrido[2], and Alberto Martín[1]\n",
    "\n",
    "Date: August 2020\n",
    "\n",
    "Affiliations:\n",
    "1. Centro de Genómica y Bioinformática, Facultad de Ciencias, Universidad Mayor, Santiago, 8580745, Chile.\n",
    "2. Department of Chemical and Bioprocess Engineering, School of Engineering, Pontificia Universidad Católica de Chile, Santiago, 7820436, Chile\n",
    "\n",
    "Notes: This tutorial was created for the manuscript \"*Atlas*: Automatic modeling of regulation of bacterial gene expression and metabolism using rule-based languages\", first submitted for peer-review to Bioinformatics on May, 2020."
   ]
  },
  {
   "cell_type": "markdown",
   "metadata": {},
   "source": [
    "## Prerequisites"
   ]
  },
  {
   "cell_type": "markdown",
   "metadata": {},
   "source": [
    "0. The tutorial was prepared and executed on Ubuntu 20.04, PathwayTools version 24, and docker engine version 19.03.8.<br/><br/>\n",
    "\n",
    "1. PathwayTools must be installed and running to obtain data from the EcoCyc database. Please, run ```pathway-tools -lisp -python-local-only``` before to obtain any data.<br/>\n",
    "   (Optional) The PathwayTools software could be executed in the background, with help of ```nohup pathway-tools -lisp -python-local-only > /dev/null 2> /dev/null &```.<br/>\n",
    "   Please follow instructions at http://pathwaytools.org/ to obtain a licensed copy of the software from https://biocyc.org/download-bundle.shtml. However, data could be manually formatted using a text-based editor or a spreadsheet software.\n",
    "   \n",
    "   Note: If you ran into the ```pathway-tools/aic-export/pathway-tools/ptools/22.5/exe/aclssl.so: undefined symbol: CRYPTO_set_locking_callback``` error, please follow instructions here: https://github.com/glucksfall/atlas/tree/master/PTools. Instructions will guide you to install a docker image that is able to run pathway tools, but does not include it, so you still need to obtain the software with a valid license.<br/><br/>\n",
    "   \n",
    "2. (Highly recommended) Install Docker. Please follow instructions for a supported Operating System https://docs.docker.com/engine/install/:<br/>\n",
    "   On Ubuntu, install it with ```apt-get install docker.io```.<br/>\n",
    "   On Win10, install Docker Desktop with WSL2 support https://docs.docker.com/docker-for-windows/wsl/.<br/>\n",
    "   On MacOS, install Docker Desktop https://docs.docker.com/docker-for-mac/install/.<br/><br/>\n",
    "   The Docker ```networkbiolab/pleiades```installs the python packages, the jupyter server, and the stochastic simulators.<br/><br/>\n",
    "\n",
    "3. (Recommended) Jupyter notebook. We recommend the use of Anaconda3 https://www.anaconda.com/products/individual because of the easier installation of the stochastic simulators from https://anaconda.org/alubbock.<br/><br/>\n",
    "\n",
    "4. (Optional) A stochastic simulator, supported by the pySB python package ([BNG2](https://github.com/RuleWorld/bionetgen), [NFsim](https://github.com/ruleworld/nfsim/tree/9178d44455f6e27a81f398074eeaafb2a1a4b4bd), [KaSim](https://github.com/Kappa-Dev/KappaTools) or [Stochkit](https://github.com/StochSS/StochKit)). pySB requires BNG2 to simulate models with NFsim.<br/><br/>\n",
    "\n",
    "5. (Optional) Cytoscape to visualize metabolic networks and others."
   ]
  },
  {
   "cell_type": "markdown",
   "metadata": {},
   "source": [
    "## Installation"
   ]
  },
  {
   "cell_type": "markdown",
   "metadata": {},
   "source": [
    "0. If you are running the docker image \"pleiades\", please go directly to the section \"Preamble\".<br/><br/>\n",
    "1. To install, please follow one of the following steps:<br/><br/>\n",
    "   1. Install the docker image \"pleiades\" using ```docker pull networkbiolab/pleiades```. The container is based on the Anaconda3 software and it installs Atlas, and the stochastic simulators BNG2, NFsim, KaSim, and Stochkit. After building the image, please run the container with ```docker run --detach --publish 10000:8888 networkbiolab/pleiades```, and go to ```localhost:10000``` in your preferred browser. The required password is ```pleiades```.<br/><br/>\n",
    "   2. Download or clone the Github repository from https://github.com/networkbiolab/pleiades with ```git clone https://github.com/networkbiolab/pleiades foo``` (where ```foo``` is an absolute or relative path). Then, you could build the docker image with ```docker build foo --tag pleiades``` and run it with ```docker run --detach --publish 10000:8888 pleiades```. Finally, go to ```localhost:10000``` in your preferred browser. The required password is ```pleiades```.<br/><br/>\n",
    "   3. Install with pip3: ```sudo -H python3 -m pip install pleiades``` or ```python3 -m pip install pleiades --user```. Pleiades is a meta-package that install Atlas (the rule-based modeller), Pleione (a genetic algorithm for parameter calibration of RBMs), Alcyone (to perform identifiability analysis of parameters), and Sterope (to perform sensitivity analysis of parameters in kappa RBMs).<br/>\n",
    "      You should install, configure, and run the jupyter notebook on your own: example ```sudo -H pip3 install jupyter && nohup python3 -m jupyter notebook --port=8888 --no-browser --port-retries=0 > /dev/null 2> /dev/null &```.<br/><br/>\n",
    "   4. Download or clone the Github repository from https://github.com/networkbiolab/atlas with ```git clone https://github.com/networkbiolab/atlas foo``` (where ```foo``` is an absolute or relative path). Requisites must be fulfilled manually with pip3: ```sudo -H python3 -m pip install pandas pysb pythoncyc jupyter seaborn``` or ```python3 -m pip install pandas pysb pythoncyc jupyter seaborn --user```."
   ]
  },
  {
   "cell_type": "markdown",
   "metadata": {},
   "source": [
    "## Preamble: load *Atlas*"
   ]
  },
  {
   "cell_type": "code",
   "execution_count": 2,
   "metadata": {},
   "outputs": [],
   "source": [
    "# testing source code\n",
    "import sys\n",
    "sys.path.append(\"..\") # If installed from GitHub and this notebooks is executed from the tutorial directory.\n",
    "\n",
    "import atlas_rbm.atlas as atlas\n",
    "import atlas_rbm.utils as utils\n",
    "import atlas_rbm.export as export\n",
    "import atlas_rbm.simulation as simulation"
   ]
  },
  {
   "cell_type": "code",
   "execution_count": 3,
   "metadata": {},
   "outputs": [
    {
     "name": "stdout",
     "output_type": "stream",
     "text": [
      "PathwayTools is running. Available PGDB are: META, ECOLI\n"
     ]
    },
    {
     "data": {
      "text/plain": [
       "True"
      ]
     },
     "execution_count": 3,
     "metadata": {},
     "output_type": "execute_result"
    }
   ],
   "source": [
    "utils.checkPathwayTools()"
   ]
  },
  {
   "cell_type": "code",
   "execution_count": 4,
   "metadata": {
    "scrolled": false
   },
   "outputs": [
    {
     "name": "stdout",
     "output_type": "stream",
     "text": [
      "Doing nothing since PathwayTools is running.\n"
     ]
    }
   ],
   "source": [
    "utils.execPToolsDocker('ptools-v24')"
   ]
  },
  {
   "cell_type": "markdown",
   "metadata": {},
   "source": [
    "## Modeling metabolism"
   ]
  },
  {
   "cell_type": "markdown",
   "metadata": {},
   "source": [
    "In this tutorial, we will model the metabolism of lactose degradation in *Escherichia coli* as a test-bed of the software Atlas. Moreover, we will couple the metabolism to the protein-protein interactions and gene expression and regulations that occurs naturally in the bacteria. We choose the lactose metabolism since it was discovered in the decade of 1960s and it is a common model of gene regulation with more than 50 years of biochemical information. In an side note, the characterization of the lactose operon and others rewarded their authors the 1965 Nobel Prize in Physiology or Medicine (https://www.nobelprize.org/prizes/medicine/1965/summary/)\n",
    "\n",
    "The lactose operon from *E. coli* consists of three genes: the $\\beta$-galactosidase gene lacZ, the lactose permease gene lacY (also known as lactose-proton symporter), and the galactoside O-acetyltransferase gene lacA. We could obtain the metabolic reactions with help of the ```utils.metabolicNetwork.FromGeneList``` function from the ```ECOLI``` database of PathwayTools:"
   ]
  },
  {
   "cell_type": "code",
   "execution_count": 5,
   "metadata": {},
   "outputs": [],
   "source": [
    "# df_genes = utils.returnCommonNames('ECOLI')\n",
    "# %time network = utils.metabolicNetwork.FromGeneList('ECOLI', ['lacZ', 'lacA', 'lacY'], fmt = 'genes', precalculated = df_genes)\n",
    "# network"
   ]
  },
  {
   "cell_type": "markdown",
   "metadata": {},
   "source": [
    "The output is a pandas dataframe that could be exported with ```network.to_csv(path)```, or in a two-columns format that Cytoscape could interpret as a network. The ```utils.metabolicNetwork.expand_network``` function reorders and exports the dataframe as a text file (in this case to ```./tutorial.txt```)."
   ]
  },
  {
   "cell_type": "code",
   "execution_count": 6,
   "metadata": {},
   "outputs": [],
   "source": [
    "# %time utils.metabolicNetwork.expand_network(network, './lactose-metabolism-cytoscape-v1.txt')"
   ]
  },
  {
   "cell_type": "markdown",
   "metadata": {},
   "source": [
    "The following image was prepared from the ```tutorial.txt``` file, and you could reproduce it with Cytoscape:<br/>\n",
    "1. Click on the ```Import Network from File System``` icon or click on ```File -> Import -> Network from File...```.\n",
    "2. Navigate to the file and click on ```Open```.\n",
    "3. SOURCE, TARGET, and EDGE ATTRIBUTE are OK, but the 4th columns must be the SOURCE NODE ATTRIBUTE and the 5th column the TARGET NODE ATTRIBUTE. Click on the header and change it to the correct attribute. The attributes will help later to filter and to add format to nodes and edges.\n",
    "4. Click on ```Filter``` (on the right), then on the ```+``` icon and finally on ```Column Filter```:\n",
    "  1. On the selector, click on ```Edge: EDGE_ATTRIBUTE``` and change ```contains``` to ```is```.\n",
    "    1. Write ```NO_REVERSIBLE``` that will select edges that correspond to irreversible reactions. Click on ```Style```, then ```Edge``` (in the bottom), and click on the 3rd column to bypass the format of the ```Target Arrow Shape``` and select your favorite arrow shape.\n",
    "    2. Write ```REVERSIBLE``` and bypass the format of the ```Source Arrow Shape``` AND ```Target Arrow Shape```, and select your favorite arrow shape.\n",
    "  2. On the selector, click on ```Node: SOURCE_NODE_ATTRIBUTE```:\n",
    "    1. Write ```RXN``` that will select nodes enconding the reactions. Click on ```Style```, then on ```Node``` and bypass the ```Fill Color```. In the new window, you could set-up the color, e.g. #00AA50\n",
    "    2. Write ```GENE_PROD``` that will select nodes encoding the gene name, protein name, or the enzyme name. Click on ```Style```, then on ```Node``` and bypass the ```Fill Color```. In the new window, you could set-up the color, e.g. #CC0033\n",
    "    3. Write ```MET``` that will select nodes encoding substrate metabolites. Click on ```Style```, then on ```Node``` and bypass the ```Fill Color```. In the new window, you could set-up the color, e.g. #00ABDD\n",
    "  3. On the selector, click on ```Node: TARGET_NODE_ATTRIBUTE```:\n",
    "    1. Write ```MET``` that will select nodes encoding product metabolites. Click on ```Style```, then on ```Node``` and bypass the ```Fill Color```. In the new window, you could set-up the color, e.g. #00ABDD\n",
    "    \n",
    "<a id='figS1'></a>The result will be similar to <img src=\"lactose-metabolism-cytoscape-v1.png\" alt=\"drawing\" width=\"750\"/>"
   ]
  },
  {
   "cell_type": "markdown",
   "metadata": {},
   "source": [
    "If we inspect the network, we could highlight four things:\n",
    "1. The lacA reaction is disconnect from the network formed by the lacZ and lacY reactions;\n",
    "2. The lacY reactions do not inform the metabolite compartment, so substrates and products refer to the same node;\n",
    "3. The utilization of identification names for certain compounds; and\n",
    "4. The impossibility of alpha-lactose degradation into glucose (glucopyranose) and galactose."
   ]
  },
  {
   "cell_type": "markdown",
   "metadata": {},
   "source": [
    "The advantage of the procedure is the ability to modify the data manually using python functions (https://pandas.pydata.org/) or export the data and manipulate it using a text processor or a spreadsheet software. For routinary changes, we included utilitary functions to make changes to the data:"
   ]
  },
  {
   "cell_type": "code",
   "execution_count": 7,
   "metadata": {},
   "outputs": [],
   "source": [
    "# # Transport reactions\n",
    "# %time network = utils.metabolicNetwork.setTransport(network, geneLst = ['lacY'], fromLst = ['PER'], toLst = ['CYT'])\n",
    "# network"
   ]
  },
  {
   "cell_type": "markdown",
   "metadata": {},
   "source": [
    "**Note**: By default, Atlas interprets the default location of monomers as cytoplasmatic. When setting the location to ```CYT```, the ```setTransport()``` function will delete a previous compartment or append nothing to the name of the monomer."
   ]
  },
  {
   "cell_type": "code",
   "execution_count": 8,
   "metadata": {},
   "outputs": [],
   "source": [
    "# # Irreversibility of reactions per gene\n",
    "# %time network = utils.metabolicNetwork.setIrreversibility(network, geneLst = ['lacY', 'lacA'])\n",
    "# network"
   ]
  },
  {
   "cell_type": "code",
   "execution_count": 9,
   "metadata": {},
   "outputs": [],
   "source": [
    "# # Irreversibility of reactions per reaction. The beta-galactosidase has also isomerase activity. Note: The data from BioCyc shows correctly the reversibility of lacZ reactions\n",
    "# %time network = utils.metabolicNetwork.setIrreversibility(network, rxnLst = ['BETAGALACTOSID-RXN', 'RXN-17726', 'RXN0-7219'])\n",
    "# network"
   ]
  },
  {
   "cell_type": "code",
   "execution_count": 10,
   "metadata": {},
   "outputs": [],
   "source": [
    "# # Compartment of reactions. The lacY gene is a inner membrane protein. For teaching purpose. The BioCyc informs correctly the location of lacY\n",
    "# %time network = utils.metabolicNetwork.setEnzymeLocation(network, geneLst = ['lacY'], compartmentLst = ['MEM'])\n",
    "# network"
   ]
  },
  {
   "cell_type": "code",
   "execution_count": 11,
   "metadata": {},
   "outputs": [
    {
     "ename": "NameError",
     "evalue": "name 'network' is not defined",
     "output_type": "error",
     "traceback": [
      "\u001b[0;31m---------------------------------------------------------------------------\u001b[0m",
      "\u001b[0;31mNameError\u001b[0m                                 Traceback (most recent call last)",
      "\u001b[0;32m<timed eval>\u001b[0m in \u001b[0;36m<module>\u001b[0;34m\u001b[0m\n",
      "\u001b[0;31mNameError\u001b[0m: name 'network' is not defined"
     ]
    }
   ],
   "source": [
    "%time utils.metabolicNetwork.expand_network(network, './lactose-metabolism-cytoscape-v2.txt')"
   ]
  },
  {
   "cell_type": "markdown",
   "metadata": {},
   "source": [
    "<img src=\"lactose-metabolism-cytoscape-v2.png\" alt=\"drawing\" width=\"750\"/>"
   ]
  },
  {
   "cell_type": "markdown",
   "metadata": {},
   "source": [
    "We also considered anomers and non-enzymatic reactions to make valid the method to that kind of reactions as the EcoCyc database informs 145 spontaneous reactions:\n",
    "\n",
    "<!---\n",
    "The modeling of similar corrections for other enzymes could be useful to understand the dynamic properties of metabolic pathways before experimental validation of the kinetics properties of each enzyme. For the case of lactose degradation, simulations of the curated metabolic network are shown in Fig.~\\ref{fig:01}B for the two anomers of glucose, galactose, and allolactose produced from a source of 100 molecules (or an arbitrary concentration unit) of $\\beta$-lactose. % for the metabolic reactions considered up to now. %As expected and with $\\beta$-lactose, protons, and water as the only available substrates in the model, the dead rules reported by KaSA refer to the consumption of melibiose,do not represent any biological system lactulose, 3-O-galactosylarabinose, and melibionate; and the acetylation of galactose (because of unavailability of acetyl-CoA in the model).\n",
    "--->"
   ]
  },
  {
   "cell_type": "code",
   "execution_count": 12,
   "metadata": {},
   "outputs": [
    {
     "data": {
      "text/plain": [
       "145"
      ]
     },
     "execution_count": 12,
     "metadata": {},
     "output_type": "execute_result"
    }
   ],
   "source": [
    "import pythoncyc\n",
    "len(pythoncyc.select_organism('ECOLI').all_rxns(type_of_reactions = 'spontaneous'))"
   ]
  },
  {
   "cell_type": "markdown",
   "metadata": {},
   "source": [
    "Data from literature (e.g. \\citealp{Huber1981anomeric, Juers2012LacZ}) was used to complete data derived from the BioCyc database and added manually in the network (Supplementary Table S1, Figure S1, and Table S2) and the final network is depicted in Fig 1A and here. "
   ]
  },
  {
   "cell_type": "code",
   "execution_count": 13,
   "metadata": {
    "scrolled": false
   },
   "outputs": [
    {
     "name": "stdout",
     "output_type": "stream",
     "text": [
      "CPU times: user 4.55 ms, sys: 143 µs, total: 4.69 ms\n",
      "Wall time: 4.17 ms\n",
      "CPU times: user 0 ns, sys: 2.08 ms, total: 2.08 ms\n",
      "Wall time: 2.07 ms\n"
     ]
    },
    {
     "data": {
      "text/html": [
       "<div>\n",
       "<style scoped>\n",
       "    .dataframe tbody tr th:only-of-type {\n",
       "        vertical-align: middle;\n",
       "    }\n",
       "\n",
       "    .dataframe tbody tr th {\n",
       "        vertical-align: top;\n",
       "    }\n",
       "\n",
       "    .dataframe thead th {\n",
       "        text-align: right;\n",
       "    }\n",
       "</style>\n",
       "<table border=\"1\" class=\"dataframe\">\n",
       "  <thead>\n",
       "    <tr style=\"text-align: right;\">\n",
       "      <th></th>\n",
       "      <th>GENE OR COMPLEX</th>\n",
       "      <th>ENZYME LOCATION</th>\n",
       "      <th>REACTION</th>\n",
       "      <th>SUBSTRATES</th>\n",
       "      <th>PRODUCTS</th>\n",
       "      <th>FWD_RATE</th>\n",
       "      <th>RVS_RATE</th>\n",
       "    </tr>\n",
       "  </thead>\n",
       "  <tbody>\n",
       "    <tr>\n",
       "      <th>0</th>\n",
       "      <td>spontaneous</td>\n",
       "      <td>[cytosol,periplasmic space]</td>\n",
       "      <td>LACTOSE-MUTAROTATION</td>\n",
       "      <td>alpha-lactose</td>\n",
       "      <td>beta-lactose</td>\n",
       "      <td>1</td>\n",
       "      <td>1</td>\n",
       "    </tr>\n",
       "    <tr>\n",
       "      <th>1</th>\n",
       "      <td>spontaneous</td>\n",
       "      <td>[cytosol,periplasmic space]</td>\n",
       "      <td>GALACTOSE-MUTAROTATION</td>\n",
       "      <td>alpha-GALACTOSE</td>\n",
       "      <td>beta-GALACTOSE</td>\n",
       "      <td>1</td>\n",
       "      <td>1</td>\n",
       "    </tr>\n",
       "    <tr>\n",
       "      <th>2</th>\n",
       "      <td>spontaneous</td>\n",
       "      <td>[cytosol,periplasmic space]</td>\n",
       "      <td>GLUCOSE-MUTAROTATION</td>\n",
       "      <td>alpha-glucose</td>\n",
       "      <td>beta-glucose</td>\n",
       "      <td>1</td>\n",
       "      <td>1</td>\n",
       "    </tr>\n",
       "    <tr>\n",
       "      <th>3</th>\n",
       "      <td>lacY</td>\n",
       "      <td>inner membrane</td>\n",
       "      <td>TRANS-RXN-24</td>\n",
       "      <td>PER-PROTON,PER-alpha-lactose</td>\n",
       "      <td>PROTON,alpha-lactose</td>\n",
       "      <td>1</td>\n",
       "      <td>0</td>\n",
       "    </tr>\n",
       "    <tr>\n",
       "      <th>4</th>\n",
       "      <td>lacY</td>\n",
       "      <td>inner membrane</td>\n",
       "      <td>TRANS-RXN-24-beta</td>\n",
       "      <td>PER-PROTON,PER-beta-lactose</td>\n",
       "      <td>PROTON,beta-lactose</td>\n",
       "      <td>1</td>\n",
       "      <td>0</td>\n",
       "    </tr>\n",
       "    <tr>\n",
       "      <th>5</th>\n",
       "      <td>lacY</td>\n",
       "      <td>inner membrane</td>\n",
       "      <td>TRANS-RXN-94</td>\n",
       "      <td>PER-PROTON,PER-MELIBIOSE</td>\n",
       "      <td>PROTON,MELIBIOSE</td>\n",
       "      <td>1</td>\n",
       "      <td>0</td>\n",
       "    </tr>\n",
       "    <tr>\n",
       "      <th>6</th>\n",
       "      <td>lacY</td>\n",
       "      <td>inner membrane</td>\n",
       "      <td>RXN0-7215</td>\n",
       "      <td>PER-PROTON,PER-CPD-3561</td>\n",
       "      <td>PROTON,CPD-3561</td>\n",
       "      <td>1</td>\n",
       "      <td>0</td>\n",
       "    </tr>\n",
       "    <tr>\n",
       "      <th>7</th>\n",
       "      <td>lacY</td>\n",
       "      <td>inner membrane</td>\n",
       "      <td>RXN0-7217</td>\n",
       "      <td>PER-PROTON,PER-CPD-3785</td>\n",
       "      <td>PROTON,CPD-3785</td>\n",
       "      <td>1</td>\n",
       "      <td>0</td>\n",
       "    </tr>\n",
       "    <tr>\n",
       "      <th>8</th>\n",
       "      <td>lacY</td>\n",
       "      <td>inner membrane</td>\n",
       "      <td>RXN-17755</td>\n",
       "      <td>PER-PROTON,PER-CPD-3801</td>\n",
       "      <td>PROTON,CPD-3801</td>\n",
       "      <td>1</td>\n",
       "      <td>0</td>\n",
       "    </tr>\n",
       "    <tr>\n",
       "      <th>9</th>\n",
       "      <td>[lacZ,lacZ,lacZ,lacZ]</td>\n",
       "      <td>[cytosol,cytosol,cytosol,cytosol]</td>\n",
       "      <td>BETAGALACTOSID-RXN</td>\n",
       "      <td>beta-lactose,WATER</td>\n",
       "      <td>beta-GALACTOSE,beta-glucose</td>\n",
       "      <td>1</td>\n",
       "      <td>0</td>\n",
       "    </tr>\n",
       "    <tr>\n",
       "      <th>10</th>\n",
       "      <td>[lacZ,lacZ,lacZ,lacZ]</td>\n",
       "      <td>[cytosol,cytosol,cytosol,cytosol]</td>\n",
       "      <td>BETAGALACTOSID-RXN-alpha</td>\n",
       "      <td>alpha-lactose,WATER</td>\n",
       "      <td>alpha-GALACTOSE,alpha-glucose</td>\n",
       "      <td>1</td>\n",
       "      <td>0</td>\n",
       "    </tr>\n",
       "    <tr>\n",
       "      <th>11</th>\n",
       "      <td>[lacZ,lacZ,lacZ,lacZ]</td>\n",
       "      <td>[cytosol,cytosol,cytosol,cytosol]</td>\n",
       "      <td>RXN0-5363</td>\n",
       "      <td>alpha-lactose</td>\n",
       "      <td>alpha-ALLOLACTOSE</td>\n",
       "      <td>1</td>\n",
       "      <td>1</td>\n",
       "    </tr>\n",
       "    <tr>\n",
       "      <th>12</th>\n",
       "      <td>[lacZ,lacZ,lacZ,lacZ]</td>\n",
       "      <td>[cytosol,cytosol,cytosol,cytosol]</td>\n",
       "      <td>RXN0-5363-beta</td>\n",
       "      <td>beta-lactose</td>\n",
       "      <td>beta-ALLOLACTOSE</td>\n",
       "      <td>1</td>\n",
       "      <td>1</td>\n",
       "    </tr>\n",
       "    <tr>\n",
       "      <th>13</th>\n",
       "      <td>[lacZ,lacZ,lacZ,lacZ]</td>\n",
       "      <td>[cytosol,cytosol,cytosol,cytosol]</td>\n",
       "      <td>ALLOLACTOSE-DEG-alpha</td>\n",
       "      <td>alpha-ALLOLACTOSE,WATER</td>\n",
       "      <td>alpha-GALACTOSE,alpha-glucose</td>\n",
       "      <td>1</td>\n",
       "      <td>0</td>\n",
       "    </tr>\n",
       "    <tr>\n",
       "      <th>14</th>\n",
       "      <td>[lacZ,lacZ,lacZ,lacZ]</td>\n",
       "      <td>[cytosol,cytosol,cytosol,cytosol]</td>\n",
       "      <td>ALLOLACTOSE-DEG-beta</td>\n",
       "      <td>beta-ALLOLACTOSE,WATER</td>\n",
       "      <td>beta-GALACTOSE,beta-glucose</td>\n",
       "      <td>1</td>\n",
       "      <td>0</td>\n",
       "    </tr>\n",
       "    <tr>\n",
       "      <th>15</th>\n",
       "      <td>[lacZ,lacZ,lacZ,lacZ]</td>\n",
       "      <td>[cytosol,cytosol,cytosol,cytosol]</td>\n",
       "      <td>RXN-17726</td>\n",
       "      <td>CPD-3561,WATER</td>\n",
       "      <td>beta-GALACTOSE,Fructofuranose</td>\n",
       "      <td>1</td>\n",
       "      <td>0</td>\n",
       "    </tr>\n",
       "    <tr>\n",
       "      <th>16</th>\n",
       "      <td>[lacZ,lacZ,lacZ,lacZ]</td>\n",
       "      <td>[cytosol,cytosol,cytosol,cytosol]</td>\n",
       "      <td>RXN0-7219</td>\n",
       "      <td>CPD-3785,WATER</td>\n",
       "      <td>beta-GALACTOSE,D-ARABINOSE</td>\n",
       "      <td>1</td>\n",
       "      <td>0</td>\n",
       "    </tr>\n",
       "    <tr>\n",
       "      <th>17</th>\n",
       "      <td>[lacA,lacA,lacA]</td>\n",
       "      <td>[cytosol,cytosol,cytosol]</td>\n",
       "      <td>GALACTOACETYLTRAN-RXN-galactose</td>\n",
       "      <td>beta-GALACTOSE,ACETYL-COA</td>\n",
       "      <td>6-Acetyl-beta-D-Galactose,CO-A</td>\n",
       "      <td>1</td>\n",
       "      <td>0</td>\n",
       "    </tr>\n",
       "  </tbody>\n",
       "</table>\n",
       "</div>"
      ],
      "text/plain": [
       "          GENE OR COMPLEX                    ENZYME LOCATION  \\\n",
       "0             spontaneous        [cytosol,periplasmic space]   \n",
       "1             spontaneous        [cytosol,periplasmic space]   \n",
       "2             spontaneous        [cytosol,periplasmic space]   \n",
       "3                    lacY                     inner membrane   \n",
       "4                    lacY                     inner membrane   \n",
       "5                    lacY                     inner membrane   \n",
       "6                    lacY                     inner membrane   \n",
       "7                    lacY                     inner membrane   \n",
       "8                    lacY                     inner membrane   \n",
       "9   [lacZ,lacZ,lacZ,lacZ]  [cytosol,cytosol,cytosol,cytosol]   \n",
       "10  [lacZ,lacZ,lacZ,lacZ]  [cytosol,cytosol,cytosol,cytosol]   \n",
       "11  [lacZ,lacZ,lacZ,lacZ]  [cytosol,cytosol,cytosol,cytosol]   \n",
       "12  [lacZ,lacZ,lacZ,lacZ]  [cytosol,cytosol,cytosol,cytosol]   \n",
       "13  [lacZ,lacZ,lacZ,lacZ]  [cytosol,cytosol,cytosol,cytosol]   \n",
       "14  [lacZ,lacZ,lacZ,lacZ]  [cytosol,cytosol,cytosol,cytosol]   \n",
       "15  [lacZ,lacZ,lacZ,lacZ]  [cytosol,cytosol,cytosol,cytosol]   \n",
       "16  [lacZ,lacZ,lacZ,lacZ]  [cytosol,cytosol,cytosol,cytosol]   \n",
       "17       [lacA,lacA,lacA]          [cytosol,cytosol,cytosol]   \n",
       "\n",
       "                           REACTION                    SUBSTRATES  \\\n",
       "0              LACTOSE-MUTAROTATION                 alpha-lactose   \n",
       "1            GALACTOSE-MUTAROTATION               alpha-GALACTOSE   \n",
       "2              GLUCOSE-MUTAROTATION                 alpha-glucose   \n",
       "3                      TRANS-RXN-24  PER-PROTON,PER-alpha-lactose   \n",
       "4                 TRANS-RXN-24-beta   PER-PROTON,PER-beta-lactose   \n",
       "5                      TRANS-RXN-94      PER-PROTON,PER-MELIBIOSE   \n",
       "6                         RXN0-7215       PER-PROTON,PER-CPD-3561   \n",
       "7                         RXN0-7217       PER-PROTON,PER-CPD-3785   \n",
       "8                         RXN-17755       PER-PROTON,PER-CPD-3801   \n",
       "9                BETAGALACTOSID-RXN            beta-lactose,WATER   \n",
       "10         BETAGALACTOSID-RXN-alpha           alpha-lactose,WATER   \n",
       "11                        RXN0-5363                 alpha-lactose   \n",
       "12                   RXN0-5363-beta                  beta-lactose   \n",
       "13            ALLOLACTOSE-DEG-alpha       alpha-ALLOLACTOSE,WATER   \n",
       "14             ALLOLACTOSE-DEG-beta        beta-ALLOLACTOSE,WATER   \n",
       "15                        RXN-17726                CPD-3561,WATER   \n",
       "16                        RXN0-7219                CPD-3785,WATER   \n",
       "17  GALACTOACETYLTRAN-RXN-galactose     beta-GALACTOSE,ACETYL-COA   \n",
       "\n",
       "                          PRODUCTS  FWD_RATE  RVS_RATE  \n",
       "0                     beta-lactose         1         1  \n",
       "1                   beta-GALACTOSE         1         1  \n",
       "2                     beta-glucose         1         1  \n",
       "3             PROTON,alpha-lactose         1         0  \n",
       "4              PROTON,beta-lactose         1         0  \n",
       "5                 PROTON,MELIBIOSE         1         0  \n",
       "6                  PROTON,CPD-3561         1         0  \n",
       "7                  PROTON,CPD-3785         1         0  \n",
       "8                  PROTON,CPD-3801         1         0  \n",
       "9      beta-GALACTOSE,beta-glucose         1         0  \n",
       "10   alpha-GALACTOSE,alpha-glucose         1         0  \n",
       "11               alpha-ALLOLACTOSE         1         1  \n",
       "12                beta-ALLOLACTOSE         1         1  \n",
       "13   alpha-GALACTOSE,alpha-glucose         1         0  \n",
       "14     beta-GALACTOSE,beta-glucose         1         0  \n",
       "15   beta-GALACTOSE,Fructofuranose         1         0  \n",
       "16      beta-GALACTOSE,D-ARABINOSE         1         0  \n",
       "17  6-Acetyl-beta-D-Galactose,CO-A         1         0  "
      ]
     },
     "execution_count": 13,
     "metadata": {},
     "output_type": "execute_result"
    }
   ],
   "source": [
    "%time network = atlas.read_network('network-lactose-metabolism-complex.tsv')\n",
    "%time utils.metabolicNetwork.expand_network(network, './lactose-metabolism-cytoscape-v3.txt')\n",
    "network"
   ]
  },
  {
   "cell_type": "markdown",
   "metadata": {},
   "source": [
    "<img src=\"lactose-metabolism-cytoscape-v3.png\" alt=\"drawing\" width=\"750\"/>"
   ]
  },
  {
   "cell_type": "code",
   "execution_count": 47,
   "metadata": {
    "scrolled": false
   },
   "outputs": [
    {
     "name": "stdout",
     "output_type": "stream",
     "text": [
      "CPU times: user 10.9 s, sys: 31.8 ms, total: 10.9 s\n",
      "Wall time: 10.9 s\n"
     ]
    }
   ],
   "source": [
    "# %time model = atlas.construct_model_from_metabolic_network(network, verbose = False) # use the dataframe to build the model\n",
    "%time model = atlas.construct_model_from_metabolic_network('network-lactose-metabolism-complex.tsv', verbose = False) # read a file to build the model"
   ]
  },
  {
   "cell_type": "markdown",
   "metadata": {},
   "source": [
    "We could inspect the model accessing its properties:"
   ]
  },
  {
   "cell_type": "code",
   "execution_count": 15,
   "metadata": {},
   "outputs": [
    {
     "data": {
      "text/plain": [
       "Monomer('met', ['name', 'loc', 'prot'], {'name': ['ACETYL_COA', 'CO_A', 'CPD_3561', 'CPD_3785', 'CPD_3801', 'D_ARABINOSE', 'Fructofuranose', 'MELIBIOSE', 'PROTON', 'WATER', '_6_Acetyl_beta_D_Galactose', 'alpha_ALLOLACTOSE', 'alpha_GALACTOSE', 'alpha_glucose', 'alpha_lactose', 'beta_ALLOLACTOSE', 'beta_GALACTOSE', 'beta_glucose', 'beta_lactose'], 'loc': ['cyt', 'cytosk', 'ex', 'mem', 'per', 'wall', 'bnuc', 'cproj', 'imem', 'omem']})"
      ]
     },
     "execution_count": 15,
     "metadata": {},
     "output_type": "execute_result"
    }
   ],
   "source": [
    "# model.monomers\n",
    "model.monomers[0] # for simplicity of the output"
   ]
  },
  {
   "cell_type": "code",
   "execution_count": 48,
   "metadata": {},
   "outputs": [
    {
     "data": {
      "text/plain": [
       "Rule('LACTOSE_MUTAROTATION_CYT', met(name='alpha_lactose', loc='cyt', prot=None) | met(name='beta_lactose', loc='cyt', prot=None), fwd_LACTOSE_MUTAROTATION_CYT, rvs_LACTOSE_MUTAROTATION_CYT)"
      ]
     },
     "execution_count": 48,
     "metadata": {},
     "output_type": "execute_result"
    }
   ],
   "source": [
    "# model.rules\n",
    "model.rules[0] # for simplicity of the output"
   ]
  },
  {
   "cell_type": "code",
   "execution_count": 17,
   "metadata": {},
   "outputs": [
    {
     "data": {
      "text/plain": [
       "Initial(met(name='ACETYL_COA', loc='cyt', prot=None), t0_met_ACETYL_COA_cyt)"
      ]
     },
     "execution_count": 17,
     "metadata": {},
     "output_type": "execute_result"
    }
   ],
   "source": [
    "# model.initials\n",
    "model.initials[0] # for simplicity of the output"
   ]
  },
  {
   "cell_type": "code",
   "execution_count": 18,
   "metadata": {},
   "outputs": [
    {
     "name": "stdout",
     "output_type": "stream",
     "text": [
      "Parameter('t0_met_ACETYL_COA_cyt', 0.0)\n"
     ]
    }
   ],
   "source": [
    "# model.parameters\n",
    "print(model.parameters[0]) # for simplicity of the output"
   ]
  },
  {
   "cell_type": "code",
   "execution_count": 19,
   "metadata": {},
   "outputs": [
    {
     "name": "stdout",
     "output_type": "stream",
     "text": [
      "Observable('obs_met_ACETYL_COA_cyt', met(name='ACETYL_COA', loc='cyt', prot=None))\n"
     ]
    }
   ],
   "source": [
    "# model.observables\n",
    "print(model.observables[0]) # for simplicity of the output"
   ]
  },
  {
   "cell_type": "code",
   "execution_count": 20,
   "metadata": {},
   "outputs": [
    {
     "name": "stdout",
     "output_type": "stream",
     "text": [
      "Every rule may be applied.\n",
      "Every monomer and complex of monomers may occur in the model.\n"
     ]
    }
   ],
   "source": [
    "utils.analyseConnectivity(model, '/opt/git-repositories/KaSim.Kappa-Dev/KaSa')"
   ]
  },
  {
   "cell_type": "markdown",
   "metadata": {},
   "source": [
    "To simulate, we need to set the initial condition:"
   ]
  },
  {
   "cell_type": "code",
   "execution_count": 21,
   "metadata": {},
   "outputs": [],
   "source": [
    "# # initial condition\n",
    "# # for metabolites\n",
    "# simulation.set_initial.met(model, 'beta_lactose', 'per', 100)\n",
    "# simulation.set_initial.met(model, 'PROTON', 'per', 100) # required for lactose transport\n",
    "# simulation.set_initial.met(model, 'WATER', 'cyt', 100) # required for lactose hydrolysis\n",
    "\n",
    "# # for proteins\n",
    "# simulation.set_initial.prot(model, 'lacY', 'imem', 1)\n",
    "\n",
    "# # and for complexes\n",
    "# simulation.set_initial.cplx(model, 'lacAx3', 'cyt', 1) # the code name for complexes is their monomers times its stoichiometry\n",
    "# simulation.set_initial.cplx(model, 'lacZx4', 'cyt', 1)"
   ]
  },
  {
   "cell_type": "code",
   "execution_count": 22,
   "metadata": {},
   "outputs": [],
   "source": [
    "# # simulation\n",
    "# bng = '/opt/git-repositories/bionetgen.RuleWorld/bng2/'\n",
    "# kasim = '/opt/git-repositories/KaSim4.Kappa-Dev/'\n",
    "\n",
    "# %time data0 = simulation.scipy(model, start = 0, finish = 2, points = 200)\n",
    "# %time data1 = simulation.bngODE(model, start = 0, finish = 2, points = 200, path = bng)\n",
    "# %time data2 = simulation.bngSSA(model, start = 0, finish = 2, points = 200, n_runs = 20, path = bng)\n",
    "# %time data3 = simulation.kasim(model, start = 0, finish = 2, points = 200, n_runs = 20, path = kasim)"
   ]
  },
  {
   "cell_type": "markdown",
   "metadata": {},
   "source": [
    "Finally, we plot the simulation results. The result of the ```simulation.ode()``` function is a pandas dataframe. In the case of stochastic simulations (SSA, KaSim, NFsim, Stochkit), the function returns a dictionary with a list of dataframe for each simulations (```sims``` key), and dataframe with the average (```avrg``` key) and a dataframe with the standard deviation (```stdv``` key) of those simulations. Currently, we included three kind of plots, although the user could access the dataframes and plot diretly with methods in the seaborn package (https://seaborn.pydata.org/), in the pandas package (https://pandas.pydata.org/pandas-docs/stable/reference/api/pandas.DataFrame.plot.html), or with matplotlib (https://matplotlib.org/)."
   ]
  },
  {
   "cell_type": "code",
   "execution_count": 23,
   "metadata": {},
   "outputs": [],
   "source": [
    "# import seaborn\n",
    "# import matplotlib.pyplot as plt\n",
    "\n",
    "# palette = seaborn.color_palette('colorblind')\n",
    "\n",
    "# for kind in ['scatter', 'plot']:\n",
    "#     # first plot, periplasmic concentration\n",
    "#     fig, ax = plt.subplots(1, 2, figsize = (4*2, 3*1), dpi = 100)\n",
    "#     simulation.plot.metabolite(data2['avrg'], 'alpha-lactose', 'per', ax = ax[0], **{'kind' : kind}, \n",
    "#                                plt_kws = {'s' : 2, 'color' : palette[0], 'label' : r'$\\alpha$-lactose', 'alpha' : .5})\n",
    "\n",
    "#     simulation.plot.metabolite(data2['avrg'], 'beta-lactose', 'per', ax = ax[0], **{'kind' : kind}, \n",
    "#                                plt_kws = {'s' : 2, 'color' : palette[1], 'label' : r'$\\beta$-lactose', 'alpha' : .5})\n",
    "\n",
    "#     # second plot, cytoplasmic concentration\n",
    "#     simulation.plot.metabolite(data2['avrg'], 'alpha-GALACTOSE', 'cyt', ax = ax[1], **{'kind' : kind}, \n",
    "#                                plt_kws = {'s' : 2, 'color' : palette[2], 'label' : r'$\\alpha$-galactose', 'alpha' : .5})\n",
    "\n",
    "#     simulation.plot.metabolite(data2['avrg'], 'beta-GALACTOSE', 'cyt', ax = ax[1], **{'kind' : kind}, \n",
    "#                                plt_kws = {'s' : 2, 'color' : palette[3], 'label' : r'$\\beta$-galactose', 'alpha' : .5})\n",
    "\n",
    "#     ax[0].set_ylim(top = 100)\n",
    "#     ax[1].set_ylim(top = 100)\n",
    "\n",
    "#     seaborn.despine()"
   ]
  },
  {
   "cell_type": "code",
   "execution_count": 24,
   "metadata": {},
   "outputs": [],
   "source": [
    "# import seaborn\n",
    "# import matplotlib.pyplot as plt\n",
    "\n",
    "# palette = seaborn.color_palette('colorblind')\n",
    "\n",
    "# # first plot, periplasmic concentration\n",
    "# fig, ax = plt.subplots(1, 2, figsize = (4*2, 3*1), dpi = 100)\n",
    "# simulation.plot.metabolite(data2, 'alpha-lactose', 'per', ax = ax[0], **{'kind' : 'fill_between', 'weight' : .5}, \n",
    "#     plt_kws = {'s' : 2, 'color' : palette[0], 'label' : r'$\\alpha$-lactose', 'alpha' : .5})\n",
    "\n",
    "# simulation.plot.metabolite(data2, 'beta-lactose', 'per', ax = ax[0], **{'kind' : 'fill_between', 'weight' : .5}, \n",
    "#     plt_kws = {'s' : 2, 'color' : palette[1], 'label' : r'$\\beta$-lactose', 'alpha' : .5})\n",
    "\n",
    "# simulation.plot.metabolite(data2, 'alpha-GALACTOSE', 'cyt', ax = ax[1], **{'kind' : 'fill_between', 'weight' : .5}, \n",
    "#     plt_kws = {'s' : 2, 'color' : palette[2], 'label' : r'$\\alpha$-galactose', 'alpha' : .5})\n",
    "\n",
    "# simulation.plot.metabolite(data2, 'beta-GALACTOSE', 'cyt', ax = ax[1], **{'kind' : 'fill_between', 'weight' : .5}, \n",
    "#     plt_kws = {'s' : 2, 'color' : palette[3], 'label' : r'$\\beta$-galactose', 'alpha' : .5})\n",
    "\n",
    "# ax[0].set_ylim(top = 100)\n",
    "# ax[1].set_ylim(top = 100)\n",
    "\n",
    "# seaborn.despine()"
   ]
  },
  {
   "cell_type": "markdown",
   "metadata": {},
   "source": [
    "As expected, the degradation of lactose into glucose and galactose is complete because most reactions are irreversible, while mutarotation allows equilibrium of anomers. However, we must note that we considered the enzymatic reactions are performed by its complex (e.g. four monomers of LacZ catalyze one reaction), although biochemical information informs the monomers are catalytically active only when the complex is assembled (e.g. one LacZ tetramer catalyzes four reactions). This will be considered next, when we will model protein-protein interactions.\n",
    "\n",
    "<!---\n",
    "%Although system parameters could be found in databases or calibrated (e.g. with \\textit{Pleione}, \\citealp{Santibanez2019Pleione:}), the results show that modeling of RBMs for metabolic networks can be done in an automatized manner %and is a valid methodology to obtain genome-scale kinetic models of metabolism for deterministic and stochastic simulation.\n",
    "--->"
   ]
  },
  {
   "cell_type": "markdown",
   "metadata": {},
   "source": [
    "## Modeling protein-protein interactions"
   ]
  },
  {
   "cell_type": "code",
   "execution_count": 25,
   "metadata": {},
   "outputs": [
    {
     "data": {
      "text/html": [
       "<div>\n",
       "<style scoped>\n",
       "    .dataframe tbody tr th:only-of-type {\n",
       "        vertical-align: middle;\n",
       "    }\n",
       "\n",
       "    .dataframe tbody tr th {\n",
       "        vertical-align: top;\n",
       "    }\n",
       "\n",
       "    .dataframe thead th {\n",
       "        text-align: right;\n",
       "    }\n",
       "</style>\n",
       "<table border=\"1\" class=\"dataframe\">\n",
       "  <thead>\n",
       "    <tr style=\"text-align: right;\">\n",
       "      <th></th>\n",
       "      <th>SOURCE</th>\n",
       "      <th>TARGET</th>\n",
       "      <th>FWD_RATE</th>\n",
       "      <th>RVS_RATE</th>\n",
       "      <th>LOCATION</th>\n",
       "    </tr>\n",
       "  </thead>\n",
       "  <tbody>\n",
       "    <tr>\n",
       "      <th>0</th>\n",
       "      <td>lacZ</td>\n",
       "      <td>lacZ</td>\n",
       "      <td>1.0</td>\n",
       "      <td>0.0</td>\n",
       "      <td>cytosol</td>\n",
       "    </tr>\n",
       "    <tr>\n",
       "      <th>1</th>\n",
       "      <td>[lacZ,lacZ]</td>\n",
       "      <td>[lacZ,lacZ]</td>\n",
       "      <td>1.0</td>\n",
       "      <td>0.0</td>\n",
       "      <td>cytosol</td>\n",
       "    </tr>\n",
       "    <tr>\n",
       "      <th>2</th>\n",
       "      <td>lacA</td>\n",
       "      <td>lacA</td>\n",
       "      <td>1.0</td>\n",
       "      <td>0.0</td>\n",
       "      <td>cytosol</td>\n",
       "    </tr>\n",
       "    <tr>\n",
       "      <th>3</th>\n",
       "      <td>lacA</td>\n",
       "      <td>[lacA,lacA]</td>\n",
       "      <td>1.0</td>\n",
       "      <td>0.0</td>\n",
       "      <td>cytosol</td>\n",
       "    </tr>\n",
       "  </tbody>\n",
       "</table>\n",
       "</div>"
      ],
      "text/plain": [
       "        SOURCE       TARGET  FWD_RATE  RVS_RATE LOCATION\n",
       "0         lacZ         lacZ       1.0       0.0  cytosol\n",
       "1  [lacZ,lacZ]  [lacZ,lacZ]       1.0       0.0  cytosol\n",
       "2         lacA         lacA       1.0       0.0  cytosol\n",
       "3         lacA  [lacA,lacA]       1.0       0.0  cytosol"
      ]
     },
     "execution_count": 25,
     "metadata": {},
     "output_type": "execute_result"
    }
   ],
   "source": [
    "atlas.read_network('network-lactose-operon-protprot.tsv')"
   ]
  },
  {
   "cell_type": "code",
   "execution_count": 26,
   "metadata": {},
   "outputs": [
    {
     "name": "stdout",
     "output_type": "stream",
     "text": [
      "CPU times: user 1.66 s, sys: 15.5 ms, total: 1.68 s\n",
      "Wall time: 1.68 s\n"
     ]
    },
    {
     "data": {
      "text/plain": [
       "<Model 'atlas_rbm.construct_model_from_interaction_network' (monomers: 1, rules: 4, parameters: 68, expressions: 0, compartments: 0) at 0x7f3bc94abc70>"
      ]
     },
     "execution_count": 26,
     "metadata": {},
     "output_type": "execute_result"
    }
   ],
   "source": [
    "%time model2 = atlas.construct_model_from_interaction_network('network-lactose-operon-protprot.tsv')\n",
    "model2"
   ]
  },
  {
   "cell_type": "markdown",
   "metadata": {},
   "source": [
    "We created a second model, and next, we need to combine both models into one:"
   ]
  },
  {
   "cell_type": "code",
   "execution_count": 27,
   "metadata": {},
   "outputs": [
    {
     "name": "stdout",
     "output_type": "stream",
     "text": [
      "CPU times: user 11.6 s, sys: 21.5 ms, total: 11.6 s\n",
      "Wall time: 11.6 s\n"
     ]
    },
    {
     "data": {
      "text/plain": [
       "<Model 'atlas_rbm.atlas' (monomers: 2, rules: 25, parameters: 320, expressions: 0, compartments: 0) at 0x7f3c2c705af0>"
      ]
     },
     "execution_count": 27,
     "metadata": {},
     "output_type": "execute_result"
    }
   ],
   "source": [
    "%time combined = atlas.combine_models([model, model2]) # you will note that model2 and combined refer to the same object\n",
    "combined"
   ]
  },
  {
   "cell_type": "code",
   "execution_count": 28,
   "metadata": {},
   "outputs": [
    {
     "name": "stdout",
     "output_type": "stream",
     "text": [
      "Every rule may be applied.\n",
      "Every monomer and complex of monomers may occur in the model.\n"
     ]
    }
   ],
   "source": [
    "utils.analyzeConnectivity(combined)"
   ]
  },
  {
   "cell_type": "code",
   "execution_count": 29,
   "metadata": {},
   "outputs": [],
   "source": [
    "# # initial condition\n",
    "# # for metabolites (set again doesn't hurt)\n",
    "# simulation.set_initial.met(combined, 'beta_lactose', 'per', 100)\n",
    "# simulation.set_initial.met(combined, 'PROTON', 'per', 100) # required for lactose transport\n",
    "# simulation.set_initial.met(combined, 'WATER', 'cyt', 100) # required for lactose hydrolysis\n",
    "\n",
    "# # for proteins\n",
    "# simulation.set_initial.prot(combined, 'lacY', 'imem', 1)\n",
    "# simulation.set_initial.prot(combined, 'lacZ', 'cyt', 12)\n",
    "# simulation.set_initial.prot(combined, 'lacA', 'cyt', 12)\n",
    "\n",
    "# # and for complexes. We set to zero to simulate complex assembly as a requisite for metabolic activity\n",
    "# simulation.set_initial.cplx(combined, 'lacAx3', 'cyt', 0) # the code name for complexes is their monomer names times its stoichiometry\n",
    "# simulation.set_initial.cplx(combined, 'lacZx4', 'cyt', 0)\n",
    "\n",
    "# # simulation\n",
    "# bng = '/opt/git-repositories/bionetgen.RuleWorld/bng2/'\n",
    "# kasim = '/opt/git-repositories/KaSim4.Kappa-Dev/'\n",
    "\n",
    "# %time data0 = simulation.scipy(combined, start = 0, finish = 2, points = 200)\n",
    "# %time data1 = simulation.bngODE(combined, start = 0, finish = 2, points = 200, path = bng)\n",
    "# %time data2 = simulation.bngSSA(combined, start = 0, finish = 2, points = 200, n_runs = 20, path = bng)\n",
    "# %time data3 = simulation.kasim(combined, start = 0, finish = 2, points = 200, n_runs = 20, path = kasim)"
   ]
  },
  {
   "cell_type": "code",
   "execution_count": 30,
   "metadata": {},
   "outputs": [],
   "source": [
    "# import seaborn\n",
    "# import matplotlib.pyplot as plt\n",
    "\n",
    "# palette = seaborn.color_palette('colorblind')\n",
    "\n",
    "# # first plot, periplasmic concentration\n",
    "# fig, ax = plt.subplots(1, 2, figsize = (4*2, 3*1), dpi = 100)\n",
    "# simulation.plot.protein(data2, 'lacA', 'cyt', ax = ax[0], **{'kind' : 'fill_between', 'weight' : .5}, \n",
    "#     plt_kws = {'s' : 2, 'color' : palette[0], 'label' : 'lacA monomer', 'alpha' : .5})\n",
    "\n",
    "# simulation.plot.protein(data2, 'lacZ', 'cyt', ax = ax[0], **{'kind' : 'fill_between', 'weight' : .5}, \n",
    "#     plt_kws = {'s' : 2, 'color' : palette[1], 'label' : 'lacZ monomer', 'alpha' : .5})\n",
    "\n",
    "# simulation.plot.cplx(data2, 'lacAx3', 'cyt', ax = ax[1], **{'kind' : 'fill_between', 'weight' : .5}, \n",
    "#     plt_kws = {'s' : 2, 'color' : palette[2], 'label' : 'lacA trimer', 'alpha' : .5})\n",
    "\n",
    "# simulation.plot.cplx(data2, 'lacZx4', 'cyt', ax = ax[1], **{'kind' : 'fill_between', 'weight' : .5}, \n",
    "#     plt_kws = {'s' : 2, 'color' : palette[3], 'label' : 'lacZ tetramer', 'alpha' : .5})\n",
    "\n",
    "# ax[0].set_ylim(top = 12)\n",
    "# ax[1].set_ylim(top = 4)\n",
    "\n",
    "# seaborn.despine()"
   ]
  },
  {
   "cell_type": "code",
   "execution_count": 31,
   "metadata": {},
   "outputs": [],
   "source": [
    "# import seaborn\n",
    "# import matplotlib.pyplot as plt\n",
    "\n",
    "# palette = seaborn.color_palette('colorblind')\n",
    "\n",
    "# # first plot, periplasmic concentration\n",
    "# fig, ax = plt.subplots(1, 2, figsize = (4*2, 3*1), dpi = 100)\n",
    "# simulation.plot.metabolite(data2, 'alpha_lactose', 'per', ax = ax[0], **{'kind' : 'fill_between', 'weight' : .5}, \n",
    "#     plt_kws = {'s' : 2, 'color' : palette[0], 'label' : r'$\\alpha$-lactose', 'alpha' : .5})\n",
    "\n",
    "# simulation.plot.metabolite(data2, 'beta_lactose', 'per', ax = ax[0], **{'kind' : 'fill_between', 'weight' : .5}, \n",
    "#     plt_kws = {'s' : 2, 'color' : palette[1], 'label' : r'$\\beta$-lactose', 'alpha' : .5})\n",
    "\n",
    "# simulation.plot.metabolite(data2, 'alpha_GALACTOSE', 'cyt', ax = ax[1], **{'kind' : 'fill_between', 'weight' : .5}, \n",
    "#     plt_kws = {'s' : 2, 'color' : palette[2], 'label' : r'$\\alpha$-galactose', 'alpha' : .5})\n",
    "\n",
    "# simulation.plot.metabolite(data2, 'beta_GALACTOSE', 'cyt', ax = ax[1], **{'kind' : 'fill_between', 'weight' : .5}, \n",
    "#     plt_kws = {'s' : 2, 'color' : palette[3], 'label' : r'$\\beta$-galactose', 'alpha' : .5})\n",
    "\n",
    "# ax[0].set_ylim(top = 100)\n",
    "# ax[1].set_ylim(top = 100)\n",
    "\n",
    "# seaborn.despine()"
   ]
  },
  {
   "cell_type": "markdown",
   "metadata": {},
   "source": [
    "## Correcting rules: $\\beta$-galactosidase and galactoside O-acetyltransferase activity per monomer, not per complex."
   ]
  },
  {
   "cell_type": "markdown",
   "metadata": {},
   "source": []
  },
  {
   "cell_type": "code",
   "execution_count": 32,
   "metadata": {},
   "outputs": [
    {
     "name": "stdout",
     "output_type": "stream",
     "text": [
      "CPU times: user 9.63 s, sys: 19 ms, total: 9.65 s\n",
      "Wall time: 9.66 s\n"
     ]
    }
   ],
   "source": [
    "# %time model = atlas.construct_model_from_metabolic_network(network, verbose = False)\n",
    "%time model = atlas.construct_model_from_metabolic_network('network-lactose-metabolism-genes.tsv', verbose = False)"
   ]
  },
  {
   "cell_type": "markdown",
   "metadata": {},
   "source": []
  },
  {
   "cell_type": "code",
   "execution_count": 33,
   "metadata": {},
   "outputs": [
    {
     "data": {
      "text/plain": [
       "Rule('BETAGALACTOSID_RXN', prot(name='lacZ', loc='cyt') + met(name='beta_lactose', loc='cyt', prot=None) + met(name='WATER', loc='cyt', prot=None) | prot(name='lacZ', loc='cyt') + met(name='beta_GALACTOSE', loc='cyt', prot=None) + met(name='beta_glucose', loc='cyt', prot=None), fwd_BETAGALACTOSID_RXN, rvs_BETAGALACTOSID_RXN)"
      ]
     },
     "execution_count": 33,
     "metadata": {},
     "output_type": "execute_result"
    }
   ],
   "source": [
    "model.rules[12]"
   ]
  },
  {
   "cell_type": "code",
   "execution_count": 34,
   "metadata": {},
   "outputs": [],
   "source": [
    "model = atlas.replace_rule(model, 'BETAGALACTOSID_RXN', \"Rule('BETAGALACTOSID_RXN', prot(name='lacZ', loc='cyt', up = ANY, dw = ANY) + met(name='beta_lactose', loc='cyt', prot=None) + met(name='WATER', loc='cyt', prot=None) | prot(name='lacZ', loc='cyt', up = ANY, dw = ANY) + met(name='beta_GALACTOSE', loc='cyt', prot=None) + met(name='beta_glucose', loc='cyt', prot=None), fwd_BETAGALACTOSID_RXN, rvs_BETAGALACTOSID_RXN)\")"
   ]
  },
  {
   "cell_type": "code",
   "execution_count": 35,
   "metadata": {},
   "outputs": [
    {
     "data": {
      "text/plain": [
       "Rule('BETAGALACTOSID_RXN', prot(name='lacZ', loc='cyt', up=ANY, dw=ANY) + met(name='beta_lactose', loc='cyt', prot=None) + met(name='WATER', loc='cyt', prot=None) | prot(name='lacZ', loc='cyt', up=ANY, dw=ANY) + met(name='beta_GALACTOSE', loc='cyt', prot=None) + met(name='beta_glucose', loc='cyt', prot=None), fwd_BETAGALACTOSID_RXN, rvs_BETAGALACTOSID_RXN)"
      ]
     },
     "execution_count": 35,
     "metadata": {},
     "output_type": "execute_result"
    }
   ],
   "source": [
    "model.rules[-1] # the new rule appears at the end of the \"rules\" list"
   ]
  },
  {
   "cell_type": "code",
   "execution_count": 36,
   "metadata": {},
   "outputs": [
    {
     "name": "stdout",
     "output_type": "stream",
     "text": [
      "CPU times: user 9.76 s, sys: 31.6 ms, total: 9.79 s\n",
      "Wall time: 9.79 s\n"
     ]
    }
   ],
   "source": [
    "# %time model = atlas.construct_model_from_metabolic_network(network, verbose = False)\n",
    "%time model = atlas.construct_model_from_metabolic_network('network-lactose-metabolism-genes.tsv', verbose = False)"
   ]
  },
  {
   "cell_type": "code",
   "execution_count": 37,
   "metadata": {},
   "outputs": [
    {
     "data": {
      "text/plain": [
       "[Rule('BETAGALACTOSID_RXN', prot(name='lacZ', loc='cyt') + met(name='beta_lactose', loc='cyt', prot=None) + met(name='WATER', loc='cyt', prot=None) | prot(name='lacZ', loc='cyt') + met(name='beta_GALACTOSE', loc='cyt', prot=None) + met(name='beta_glucose', loc='cyt', prot=None), fwd_BETAGALACTOSID_RXN, rvs_BETAGALACTOSID_RXN),\n",
       " Rule('BETAGALACTOSID_RXN_alpha', prot(name='lacZ', loc='cyt') + met(name='alpha_lactose', loc='cyt', prot=None) + met(name='WATER', loc='cyt', prot=None) | prot(name='lacZ', loc='cyt') + met(name='alpha_GALACTOSE', loc='cyt', prot=None) + met(name='alpha_glucose', loc='cyt', prot=None), fwd_BETAGALACTOSID_RXN_alpha, rvs_BETAGALACTOSID_RXN_alpha),\n",
       " Rule('RXN0_5363', prot(name='lacZ', loc='cyt') + met(name='alpha_lactose', loc='cyt', prot=None) | prot(name='lacZ', loc='cyt') + met(name='alpha_ALLOLACTOSE', loc='cyt', prot=None), fwd_RXN0_5363, rvs_RXN0_5363),\n",
       " Rule('RXN0_5363_beta', prot(name='lacZ', loc='cyt') + met(name='beta_lactose', loc='cyt', prot=None) | prot(name='lacZ', loc='cyt') + met(name='beta_ALLOLACTOSE', loc='cyt', prot=None), fwd_RXN0_5363_beta, rvs_RXN0_5363_beta),\n",
       " Rule('ALLOLACTOSE_DEG_alpha', prot(name='lacZ', loc='cyt') + met(name='alpha_ALLOLACTOSE', loc='cyt', prot=None) + met(name='WATER', loc='cyt', prot=None) | prot(name='lacZ', loc='cyt') + met(name='alpha_GALACTOSE', loc='cyt', prot=None) + met(name='alpha_glucose', loc='cyt', prot=None), fwd_ALLOLACTOSE_DEG_alpha, rvs_ALLOLACTOSE_DEG_alpha),\n",
       " Rule('ALLOLACTOSE_DEG_beta', prot(name='lacZ', loc='cyt') + met(name='beta_ALLOLACTOSE', loc='cyt', prot=None) + met(name='WATER', loc='cyt', prot=None) | prot(name='lacZ', loc='cyt') + met(name='beta_GALACTOSE', loc='cyt', prot=None) + met(name='beta_glucose', loc='cyt', prot=None), fwd_ALLOLACTOSE_DEG_beta, rvs_ALLOLACTOSE_DEG_beta),\n",
       " Rule('RXN_17726', prot(name='lacZ', loc='cyt') + met(name='CPD_3561', loc='cyt', prot=None) + met(name='WATER', loc='cyt', prot=None) | prot(name='lacZ', loc='cyt') + met(name='beta_GALACTOSE', loc='cyt', prot=None) + met(name='Fructofuranose', loc='cyt', prot=None), fwd_RXN_17726, rvs_RXN_17726),\n",
       " Rule('RXN0_7219', prot(name='lacZ', loc='cyt') + met(name='CPD_3785', loc='cyt', prot=None) + met(name='WATER', loc='cyt', prot=None) | prot(name='lacZ', loc='cyt') + met(name='beta_GALACTOSE', loc='cyt', prot=None) + met(name='D_ARABINOSE', loc='cyt', prot=None), fwd_RXN0_7219, rvs_RXN0_7219)]"
      ]
     },
     "execution_count": 37,
     "metadata": {},
     "output_type": "execute_result"
    }
   ],
   "source": [
    "model.rules[12:20]"
   ]
  },
  {
   "cell_type": "code",
   "execution_count": 38,
   "metadata": {},
   "outputs": [],
   "source": [
    "model = atlas.modify_rules(\n",
    "    model, \n",
    "    oldString = \"prot(name='lacZ', loc='cyt')\",\n",
    "    newString = \"prot(name='lacZ', loc='cyt', up = ANY, dw = ANY)\",\n",
    "    names = [\n",
    "        'BETAGALACTOSID_RXN',\n",
    "        'BETAGALACTOSID_RXN_alpha', \n",
    "        'RXN0_5363', \n",
    "        'RXN0_5363_beta', \n",
    "        'ALLOLACTOSE_DEG_alpha', \n",
    "        'ALLOLACTOSE_DEG_beta', \n",
    "        'RXN_17726', \n",
    "        'RXN0_7219'])"
   ]
  },
  {
   "cell_type": "code",
   "execution_count": 39,
   "metadata": {},
   "outputs": [
    {
     "data": {
      "text/plain": [
       "[Rule('BETAGALACTOSID_RXN', prot(name='lacZ', loc='cyt', up=ANY, dw=ANY) + met(name='beta_lactose', loc='cyt', prot=None) + met(name='WATER', loc='cyt', prot=None) | prot(name='lacZ', loc='cyt', up=ANY, dw=ANY) + met(name='beta_GALACTOSE', loc='cyt', prot=None) + met(name='beta_glucose', loc='cyt', prot=None), fwd_BETAGALACTOSID_RXN, rvs_BETAGALACTOSID_RXN),\n",
       " Rule('BETAGALACTOSID_RXN_alpha', prot(name='lacZ', loc='cyt', up=ANY, dw=ANY) + met(name='alpha_lactose', loc='cyt', prot=None) + met(name='WATER', loc='cyt', prot=None) | prot(name='lacZ', loc='cyt', up=ANY, dw=ANY) + met(name='alpha_GALACTOSE', loc='cyt', prot=None) + met(name='alpha_glucose', loc='cyt', prot=None), fwd_BETAGALACTOSID_RXN_alpha, rvs_BETAGALACTOSID_RXN_alpha),\n",
       " Rule('RXN0_5363', prot(name='lacZ', loc='cyt', up=ANY, dw=ANY) + met(name='alpha_lactose', loc='cyt', prot=None) | prot(name='lacZ', loc='cyt', up=ANY, dw=ANY) + met(name='alpha_ALLOLACTOSE', loc='cyt', prot=None), fwd_RXN0_5363, rvs_RXN0_5363),\n",
       " Rule('RXN0_5363_beta', prot(name='lacZ', loc='cyt', up=ANY, dw=ANY) + met(name='beta_lactose', loc='cyt', prot=None) | prot(name='lacZ', loc='cyt', up=ANY, dw=ANY) + met(name='beta_ALLOLACTOSE', loc='cyt', prot=None), fwd_RXN0_5363_beta, rvs_RXN0_5363_beta),\n",
       " Rule('ALLOLACTOSE_DEG_alpha', prot(name='lacZ', loc='cyt', up=ANY, dw=ANY) + met(name='alpha_ALLOLACTOSE', loc='cyt', prot=None) + met(name='WATER', loc='cyt', prot=None) | prot(name='lacZ', loc='cyt', up=ANY, dw=ANY) + met(name='alpha_GALACTOSE', loc='cyt', prot=None) + met(name='alpha_glucose', loc='cyt', prot=None), fwd_ALLOLACTOSE_DEG_alpha, rvs_ALLOLACTOSE_DEG_alpha),\n",
       " Rule('ALLOLACTOSE_DEG_beta', prot(name='lacZ', loc='cyt', up=ANY, dw=ANY) + met(name='beta_ALLOLACTOSE', loc='cyt', prot=None) + met(name='WATER', loc='cyt', prot=None) | prot(name='lacZ', loc='cyt', up=ANY, dw=ANY) + met(name='beta_GALACTOSE', loc='cyt', prot=None) + met(name='beta_glucose', loc='cyt', prot=None), fwd_ALLOLACTOSE_DEG_beta, rvs_ALLOLACTOSE_DEG_beta),\n",
       " Rule('RXN_17726', prot(name='lacZ', loc='cyt', up=ANY, dw=ANY) + met(name='CPD_3561', loc='cyt', prot=None) + met(name='WATER', loc='cyt', prot=None) | prot(name='lacZ', loc='cyt', up=ANY, dw=ANY) + met(name='beta_GALACTOSE', loc='cyt', prot=None) + met(name='Fructofuranose', loc='cyt', prot=None), fwd_RXN_17726, rvs_RXN_17726),\n",
       " Rule('RXN0_7219', prot(name='lacZ', loc='cyt', up=ANY, dw=ANY) + met(name='CPD_3785', loc='cyt', prot=None) + met(name='WATER', loc='cyt', prot=None) | prot(name='lacZ', loc='cyt', up=ANY, dw=ANY) + met(name='beta_GALACTOSE', loc='cyt', prot=None) + met(name='D_ARABINOSE', loc='cyt', prot=None), fwd_RXN0_7219, rvs_RXN0_7219)]"
      ]
     },
     "execution_count": 39,
     "metadata": {},
     "output_type": "execute_result"
    }
   ],
   "source": [
    "model.rules[13:21] # the new rules appear at the end of the list"
   ]
  },
  {
   "cell_type": "code",
   "execution_count": 40,
   "metadata": {},
   "outputs": [
    {
     "name": "stdout",
     "output_type": "stream",
     "text": [
      "CPU times: user 1.34 s, sys: 0 ns, total: 1.34 s\n",
      "Wall time: 1.34 s\n"
     ]
    }
   ],
   "source": [
    "# %time model = atlas.construct_model_from_metabolic_network(network, verbose = False)\n",
    "%time model_ppi = atlas.construct_model_from_interaction_network('network-lactose-operon-protprot.tsv', verbose = False)"
   ]
  },
  {
   "cell_type": "code",
   "execution_count": 41,
   "metadata": {},
   "outputs": [
    {
     "data": {
      "text/plain": [
       "[Rule('PhysicalInteractionRule_1', prot(name='lacZ', loc='cyt', dna=None, met=None, prot=None, rna=None, up=None, dw=None) + prot(name='lacZ', loc='cyt', dna=None, met=None, prot=None, rna=None, up=None, dw=None) | prot(name='lacZ', loc='cyt', dna=None, met=None, prot=None, rna=None, up=None, dw=1) % prot(name='lacZ', loc='cyt', dna=None, met=None, prot=None, rna=None, up=1, dw=None), fwd_PhysicalInteractionRule_1, rvs_PhysicalInteractionRule_1),\n",
       " Rule('PhysicalInteractionRule_2', prot(name='lacZ', loc='cyt', dna=None, met=None, prot=None, rna=None, up=None, dw=2) % prot(name='lacZ', loc='cyt', dna=None, met=None, prot=None, rna=None, up=2, dw=None) + prot(name='lacZ', loc='cyt', dna=None, met=None, prot=None, rna=None, up=None, dw=1) % prot(name='lacZ', loc='cyt', dna=None, met=None, prot=None, rna=None, up=1, dw=None) | prot(name='lacZ', loc='cyt', dna=None, met=None, prot=None, rna=None, up=None, dw=1) % prot(name='lacZ', loc='cyt', dna=None, met=None, prot=None, rna=None, up=1, dw=2) % prot(name='lacZ', loc='cyt', dna=None, met=None, prot=None, rna=None, up=2, dw=3) % prot(name='lacZ', loc='cyt', dna=None, met=None, prot=None, rna=None, up=3, dw=None), fwd_PhysicalInteractionRule_2, rvs_PhysicalInteractionRule_2),\n",
       " Rule('PhysicalInteractionRule_3', prot(name='lacA', loc='cyt', dna=None, met=None, prot=None, rna=None, up=None, dw=None) + prot(name='lacA', loc='cyt', dna=None, met=None, prot=None, rna=None, up=None, dw=None) | prot(name='lacA', loc='cyt', dna=None, met=None, prot=None, rna=None, up=None, dw=1) % prot(name='lacA', loc='cyt', dna=None, met=None, prot=None, rna=None, up=1, dw=None), fwd_PhysicalInteractionRule_3, rvs_PhysicalInteractionRule_3),\n",
       " Rule('PhysicalInteractionRule_4', prot(name='lacA', loc='cyt', dna=None, met=None, prot=None, rna=None, up=None, dw=None) + prot(name='lacA', loc='cyt', dna=None, met=None, prot=None, rna=None, up=None, dw=1) % prot(name='lacA', loc='cyt', dna=None, met=None, prot=None, rna=None, up=1, dw=None) | prot(name='lacA', loc='cyt', dna=None, met=None, prot=None, rna=None, up=None, dw=1) % prot(name='lacA', loc='cyt', dna=None, met=None, prot=None, rna=None, up=1, dw=2) % prot(name='lacA', loc='cyt', dna=None, met=None, prot=None, rna=None, up=2, dw=None), fwd_PhysicalInteractionRule_4, rvs_PhysicalInteractionRule_4)]"
      ]
     },
     "execution_count": 41,
     "metadata": {},
     "output_type": "execute_result"
    }
   ],
   "source": [
    "model_ppi.rules[:]"
   ]
  },
  {
   "cell_type": "code",
   "execution_count": 42,
   "metadata": {},
   "outputs": [],
   "source": [
    "model_ppi = atlas.replace_rule(model_ppi, 'PhysicalInteractionRule_2', \n",
    "                                \"Rule('PhysicalInteractionRule_2', \\\n",
    "                                    prot(name='lacZ', loc='cyt', dna=None, met=None, prot=None, rna=None, up=None, dw=2) % \\\n",
    "                                    prot(name='lacZ', loc='cyt', dna=None, met=None, prot=None, rna=None, up=2, dw=None) + \\\n",
    "                                    prot(name='lacZ', loc='cyt', dna=None, met=None, prot=None, rna=None, up=None, dw=1) % \\\n",
    "                                    prot(name='lacZ', loc='cyt', dna=None, met=None, prot=None, rna=None, up=1, dw=None) | \\\n",
    "                                    prot(name='lacZ', loc='cyt', dna=None, met=None, prot=None, rna=None, up=4, dw=1) % \\\n",
    "                                    prot(name='lacZ', loc='cyt', dna=None, met=None, prot=None, rna=None, up=1, dw=2) % \\\n",
    "                                    prot(name='lacZ', loc='cyt', dna=None, met=None, prot=None, rna=None, up=2, dw=3) % \\\n",
    "                                    prot(name='lacZ', loc='cyt', dna=None, met=None, prot=None, rna=None, up=3, dw=4), \\\n",
    "                                    fwd_PhysicalInteractionRule_2, rvs_PhysicalInteractionRule_2)\")"
   ]
  },
  {
   "cell_type": "code",
   "execution_count": 43,
   "metadata": {},
   "outputs": [],
   "source": [
    "model_ppi = atlas.replace_rule(model_ppi, 'PhysicalInteractionRule_4',\n",
    "                                \"Rule('PhysicalInteractionRule_4', \\\n",
    "                                    prot(name='lacA', loc='cyt', dna=None, met=None, prot=None, rna=None, up=None, dw=None) + \\\n",
    "                                    prot(name='lacA', loc='cyt', dna=None, met=None, prot=None, rna=None, up=None, dw=1) % \\\n",
    "                                    prot(name='lacA', loc='cyt', dna=None, met=None, prot=None, rna=None, up=1, dw=None) | \\\n",
    "                                    prot(name='lacA', loc='cyt', dna=None, met=None, prot=None, rna=None, up=3, dw=1) % \\\n",
    "                                    prot(name='lacA', loc='cyt', dna=None, met=None, prot=None, rna=None, up=1, dw=2) % \\\n",
    "                                    prot(name='lacA', loc='cyt', dna=None, met=None, prot=None, rna=None, up=2, dw=3), \\\n",
    "                                    fwd_PhysicalInteractionRule_4, rvs_PhysicalInteractionRule_4)\")"
   ]
  },
  {
   "cell_type": "code",
   "execution_count": 44,
   "metadata": {},
   "outputs": [
    {
     "data": {
      "text/plain": [
       "<Model 'atlas_rbm.atlas' (monomers: 2, rules: 25, parameters: 320, expressions: 0, compartments: 0) at 0x7f3bc91b9070>"
      ]
     },
     "execution_count": 44,
     "metadata": {},
     "output_type": "execute_result"
    }
   ],
   "source": [
    "combined = atlas.combine_models([model, model_ppi])\n",
    "combined"
   ]
  },
  {
   "cell_type": "code",
   "execution_count": 45,
   "metadata": {},
   "outputs": [],
   "source": [
    "# # initial condition\n",
    "# # for metabolites (set again doesn't hurt)\n",
    "# simulation.set_initial.met(combined, 'beta_lactose', 'per', 100)\n",
    "# simulation.set_initial.met(combined, 'PROTON', 'per', 100) # required for lactose transport\n",
    "# simulation.set_initial.met(combined, 'WATER', 'cyt', 100) # required for lactose hydrolysis\n",
    "\n",
    "# # for proteins\n",
    "# simulation.set_initial.prot(combined, 'lacY', 'imem', 1)\n",
    "# simulation.set_initial.prot(combined, 'lacZ', 'cyt', 12)\n",
    "# simulation.set_initial.prot(combined, 'lacA', 'cyt', 12)\n",
    "\n",
    "# # and for complexes. We set to zero to simulate complex assembly as a requisite for metabolic activity\n",
    "# simulation.set_initial.cplx(combined, 'lacAx3', 'cyt', 0) # the code name for complexes is their monomer names times its stoichiometry\n",
    "# simulation.set_initial.cplx(combined, 'lacZx4', 'cyt', 0)\n",
    "\n",
    "# # simulation\n",
    "# bng = '/opt/git-repositories/bionetgen.RuleWorld/bng2/'\n",
    "# kasim = '/opt/git-repositories/KaSim4.Kappa-Dev/'\n",
    "\n",
    "# %time data0 = simulation.scipy(combined, start = 0, finish = 2, points = 200)\n",
    "# %time data1 = simulation.bngODE(combined, start = 0, finish = 2, points = 200, path = bng)\n",
    "# %time data2 = simulation.bngSSA(combined, start = 0, finish = 2, points = 200, n_runs = 20, path = bng)\n",
    "# %time data3 = simulation.kasim(combined, start = 0, finish = 2, points = 200, n_runs = 20, path = kasim)"
   ]
  },
  {
   "cell_type": "code",
   "execution_count": 46,
   "metadata": {},
   "outputs": [],
   "source": [
    "# import seaborn\n",
    "# import matplotlib.pyplot as plt\n",
    "\n",
    "# palette = seaborn.color_palette('colorblind')\n",
    "\n",
    "# # first plot, periplasmic concentration\n",
    "# fig, ax = plt.subplots(1, 2, figsize = (4*2, 3*1), dpi = 100)\n",
    "# simulation.plot.metabolite(data2, 'alpha_lactose', 'per', ax = ax[0], **{'kind' : 'fill_between', 'weight' : .5}, \n",
    "#     plt_kws = {'s' : 2, 'color' : palette[0], 'label' : r'$\\alpha$-lactose', 'alpha' : .5})\n",
    "\n",
    "# simulation.plot.metabolite(data2, 'beta_lactose', 'per', ax = ax[0], **{'kind' : 'fill_between', 'weight' : .5}, \n",
    "#     plt_kws = {'s' : 2, 'color' : palette[1], 'label' : r'$\\beta$-lactose', 'alpha' : .5})\n",
    "\n",
    "# simulation.plot.metabolite(data2, 'alpha_GALACTOSE', 'cyt', ax = ax[1], **{'kind' : 'fill_between', 'weight' : .5}, \n",
    "#     plt_kws = {'s' : 2, 'color' : palette[2], 'label' : r'$\\alpha$-galactose', 'alpha' : .5})\n",
    "\n",
    "# simulation.plot.metabolite(data2, 'beta_GALACTOSE', 'cyt', ax = ax[1], **{'kind' : 'fill_between', 'weight' : .5}, \n",
    "#     plt_kws = {'s' : 2, 'color' : palette[3], 'label' : r'$\\beta$-galactose', 'alpha' : .5})\n",
    "\n",
    "# ax[0].set_ylim(top = 100)\n",
    "# ax[1].set_ylim(top = 100)\n",
    "\n",
    "# seaborn.despine()"
   ]
  },
  {
   "cell_type": "markdown",
   "metadata": {},
   "source": [
    "## Modeling DNA transcription and RNA translation: Coupling gene expression to metabolism."
   ]
  },
  {
   "cell_type": "code",
   "execution_count": null,
   "metadata": {},
   "outputs": [],
   "source": []
  }
 ],
 "metadata": {
  "kernelspec": {
   "display_name": "Python 3",
   "language": "python",
   "name": "python3"
  },
  "language_info": {
   "codemirror_mode": {
    "name": "ipython",
    "version": 3
   },
   "file_extension": ".py",
   "mimetype": "text/x-python",
   "name": "python",
   "nbconvert_exporter": "python",
   "pygments_lexer": "ipython3",
   "version": "3.8.2"
  }
 },
 "nbformat": 4,
 "nbformat_minor": 2
}
