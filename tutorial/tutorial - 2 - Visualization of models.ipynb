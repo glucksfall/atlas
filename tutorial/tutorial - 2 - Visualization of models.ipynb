{
 "cells": [
  {
   "cell_type": "code",
   "execution_count": 1,
   "metadata": {},
   "outputs": [
    {
     "data": {
      "text/html": [
       "<style>.container { width: 95% !important; }</style>"
      ],
      "text/plain": [
       "<IPython.core.display.HTML object>"
      ]
     },
     "metadata": {},
     "output_type": "display_data"
    }
   ],
   "source": [
    "# expand cells to the 95% of the display width\n",
    "from IPython.core.display import display, HTML\n",
    "display(HTML(\"<style>.container { width: 95% !important; }</style>\"))"
   ]
  },
  {
   "cell_type": "markdown",
   "metadata": {},
   "source": [
    "# Tutorial: Visualization of models employing *pyViPR*"
   ]
  },
  {
   "cell_type": "markdown",
   "metadata": {},
   "source": [
    "Authors: Rodrigo Santibáñez[1,2], Daniel Garrido[2], and Alberto Martín[1]\n",
    "\n",
    "Date: August 2020\n",
    "\n",
    "Affiliations:\n",
    "1. Centro de Genómica y Bioinformática, Facultad de Ciencias, Universidad Mayor, Santiago, 8580745, Chile.\n",
    "2. Department of Chemical and Bioprocess Engineering, School of Engineering, Pontificia Universidad Católica de Chile, Santiago, 7820436, Chile\n",
    "\n",
    "Notes: This tutorial was created for the manuscript \"*Atlas*: Automatic modeling of regulation of bacterial gene expression and metabolism using rule-based languages\", first submitted for peer-review to Bioinformatics on May, 2020."
   ]
  },
  {
   "cell_type": "markdown",
   "metadata": {},
   "source": [
    "## Prerequisites"
   ]
  },
  {
   "cell_type": "markdown",
   "metadata": {},
   "source": [
    "0. The tutorial was prepared and executed on Ubuntu 20.04, PathwayTools version 24, and docker engine version 19.03.8.<br/><br/>\n",
    "  \n",
    "2. (Highly recommended) Install Docker. Please follow instructions for a supported Operating System https://docs.docker.com/engine/install/:<br/>\n",
    "   On Ubuntu, install it with ```apt-get install docker.io```.<br/>\n",
    "   On Win10, install Docker Desktop with WSL2 support https://docs.docker.com/docker-for-windows/wsl/.<br/>\n",
    "   On MacOS, install Docker Desktop https://docs.docker.com/docker-for-mac/install/.<br/><br/>\n",
    "   The Docker ```networkbiolab/pleiades```installs the python packages, the jupyter server, and the stochastic simulators.<br/><br/>\n",
    "\n",
    "3. (Recommended) Jupyter notebook. We recommend the use of Anaconda3 https://www.anaconda.com/products/individual because of the easier installation of the stochastic simulators from https://anaconda.org/alubbock.<br/><br/>"
   ]
  },
  {
   "cell_type": "markdown",
   "metadata": {},
   "source": [
    "## Preamble: load *pyViPR*"
   ]
  },
  {
   "cell_type": "code",
   "execution_count": 2,
   "metadata": {},
   "outputs": [],
   "source": [
    "import pyvipr.pysb_viz as viz"
   ]
  },
  {
   "cell_type": "markdown",
   "metadata": {},
   "source": [
    "## Preamble: load model"
   ]
  },
  {
   "cell_type": "code",
   "execution_count": 3,
   "metadata": {},
   "outputs": [],
   "source": [
    "from tutorial_1A import model # we modeled before on tutorial 1A"
   ]
  },
  {
   "cell_type": "code",
   "execution_count": 4,
   "metadata": {
    "scrolled": true
   },
   "outputs": [
    {
     "data": {
      "application/vnd.jupyter.widget-view+json": {
       "model_id": "13bc04e7c00d42519fe602d927a3b9bc",
       "version_major": 2,
       "version_minor": 0
      },
      "text/plain": [
       "Viz(data=<Model 'tutorial_1A' (monomers: 3, rules: 18, parameters: 62, expressions: 0, compartments: 0) at 0x7…"
      ]
     },
     "metadata": {},
     "output_type": "display_data"
    }
   ],
   "source": [
    "viz.sp_view(model)"
   ]
  },
  {
   "cell_type": "code",
   "execution_count": 5,
   "metadata": {},
   "outputs": [
    {
     "name": "stdout",
     "output_type": "stream",
     "text": [
      "Fail\n"
     ]
    }
   ],
   "source": [
    "try:\n",
    "    viz.sp_comp_view(model) # will fail because the model has no compartments\n",
    "except:\n",
    "    print('Fail')"
   ]
  },
  {
   "cell_type": "code",
   "execution_count": 6,
   "metadata": {
    "scrolled": true
   },
   "outputs": [
    {
     "data": {
      "application/vnd.jupyter.widget-view+json": {
       "model_id": "0926a2547902472da4b7cec72c4bab68",
       "version_major": 2,
       "version_minor": 0
      },
      "text/plain": [
       "Viz(data=<Model 'tutorial_1A' (monomers: 3, rules: 18, parameters: 62, expressions: 0, compartments: 0) at 0x7…"
      ]
     },
     "metadata": {},
     "output_type": "display_data"
    }
   ],
   "source": [
    "viz.sp_comm_louvain_view(model)"
   ]
  },
  {
   "cell_type": "code",
   "execution_count": 7,
   "metadata": {},
   "outputs": [
    {
     "data": {
      "application/vnd.jupyter.widget-view+json": {
       "model_id": "e9fd84d246aa481dab514c8a9e018f07",
       "version_major": 2,
       "version_minor": 0
      },
      "text/plain": [
       "Viz(data=<Model 'tutorial_1A' (monomers: 3, rules: 18, parameters: 62, expressions: 0, compartments: 0) at 0x7…"
      ]
     },
     "metadata": {},
     "output_type": "display_data"
    }
   ],
   "source": [
    "viz.sp_rxns_bidirectional_view(model)"
   ]
  },
  {
   "cell_type": "code",
   "execution_count": 8,
   "metadata": {},
   "outputs": [
    {
     "data": {
      "application/vnd.jupyter.widget-view+json": {
       "model_id": "9027ea80d9b8467f96cd9d61341afe6d",
       "version_major": 2,
       "version_minor": 0
      },
      "text/plain": [
       "Viz(data=<Model 'tutorial_1A' (monomers: 3, rules: 18, parameters: 62, expressions: 0, compartments: 0) at 0x7…"
      ]
     },
     "metadata": {},
     "output_type": "display_data"
    }
   ],
   "source": [
    "viz.sp_rxns_view(model)"
   ]
  },
  {
   "cell_type": "code",
   "execution_count": 9,
   "metadata": {},
   "outputs": [
    {
     "data": {
      "application/vnd.jupyter.widget-view+json": {
       "model_id": "dc7c82ee781641ce9bc7d58c0bdfd060",
       "version_major": 2,
       "version_minor": 0
      },
      "text/plain": [
       "Viz(data=<Model 'tutorial_1A' (monomers: 3, rules: 18, parameters: 62, expressions: 0, compartments: 0) at 0x7…"
      ]
     },
     "metadata": {},
     "output_type": "display_data"
    }
   ],
   "source": [
    "viz.sp_rules_view(model)"
   ]
  },
  {
   "cell_type": "code",
   "execution_count": 10,
   "metadata": {},
   "outputs": [
    {
     "data": {
      "application/vnd.jupyter.widget-view+json": {
       "model_id": "a3d7c6b739184d338339b4ac6f8a231f",
       "version_major": 2,
       "version_minor": 0
      },
      "text/plain": [
       "Viz(data=<Model 'tutorial_1A' (monomers: 3, rules: 18, parameters: 62, expressions: 0, compartments: 0) at 0x7…"
      ]
     },
     "metadata": {},
     "output_type": "display_data"
    }
   ],
   "source": [
    "viz.sp_rules_fxns_view(model)"
   ]
  },
  {
   "cell_type": "code",
   "execution_count": 11,
   "metadata": {},
   "outputs": [
    {
     "name": "stdout",
     "output_type": "stream",
     "text": [
      "Fail\n"
     ]
    }
   ],
   "source": [
    "try:\n",
    "    viz.sp_rules_mod_view(model) # fails because some reason\n",
    "except:\n",
    "    print('Fail')"
   ]
  },
  {
   "cell_type": "code",
   "execution_count": 12,
   "metadata": {},
   "outputs": [
    {
     "data": {
      "application/vnd.jupyter.widget-view+json": {
       "model_id": "47989a7c81684dae8b01966489a37fae",
       "version_major": 2,
       "version_minor": 0
      },
      "text/plain": [
       "Viz(data=<Model 'tutorial_1A' (monomers: 3, rules: 18, parameters: 62, expressions: 0, compartments: 0) at 0x7…"
      ]
     },
     "metadata": {},
     "output_type": "display_data"
    }
   ],
   "source": [
    "viz.projected_species_from_bireactions_view(model)"
   ]
  },
  {
   "cell_type": "code",
   "execution_count": 13,
   "metadata": {},
   "outputs": [
    {
     "data": {
      "application/vnd.jupyter.widget-view+json": {
       "model_id": "2185c06bd27c488191aa64afb7e68bac",
       "version_major": 2,
       "version_minor": 0
      },
      "text/plain": [
       "Viz(data=<Model 'tutorial_1A' (monomers: 3, rules: 18, parameters: 62, expressions: 0, compartments: 0) at 0x7…"
      ]
     },
     "metadata": {},
     "output_type": "display_data"
    }
   ],
   "source": [
    "viz.projected_bireactions_view(model)"
   ]
  },
  {
   "cell_type": "code",
   "execution_count": 14,
   "metadata": {},
   "outputs": [
    {
     "data": {
      "application/vnd.jupyter.widget-view+json": {
       "model_id": "e414f7f71a724b9dac7dbf711ed9f12d",
       "version_major": 2,
       "version_minor": 0
      },
      "text/plain": [
       "Viz(data=<Model 'tutorial_1A' (monomers: 3, rules: 18, parameters: 62, expressions: 0, compartments: 0) at 0x7…"
      ]
     },
     "metadata": {},
     "output_type": "display_data"
    }
   ],
   "source": [
    "viz.projected_rules_view(model)"
   ]
  },
  {
   "cell_type": "code",
   "execution_count": 15,
   "metadata": {},
   "outputs": [
    {
     "data": {
      "application/vnd.jupyter.widget-view+json": {
       "model_id": "c961c6ff0a6f49c2b01da8796047090a",
       "version_major": 2,
       "version_minor": 0
      },
      "text/plain": [
       "Viz(data=<Model 'tutorial_1A' (monomers: 3, rules: 18, parameters: 62, expressions: 0, compartments: 0) at 0x7…"
      ]
     },
     "metadata": {},
     "output_type": "display_data"
    }
   ],
   "source": [
    "# documentation define the function as projected_species_rules_view(model)\n",
    "viz.projected_species_from_rules_view(model)"
   ]
  },
  {
   "cell_type": "code",
   "execution_count": 16,
   "metadata": {},
   "outputs": [
    {
     "data": {
      "application/vnd.jupyter.widget-view+json": {
       "model_id": "cb183d25a589417c9446d533553ea470",
       "version_major": 2,
       "version_minor": 0
      },
      "text/plain": [
       "Viz(data={'data': {'name': 'tutorial_1A'}, 'elements': {'nodes': [{'data': {'label': 'cytacetyl_coamet', 'back…"
      ]
     },
     "metadata": {},
     "output_type": "display_data"
    }
   ],
   "source": [
    "# a tuple of source-target indexes, the concrete pattern, or the reaction index from model.rules\n",
    "# viz.highlight_nodes_view(model, reactions = [(0,1)])\n",
    "# viz.highlight_nodes_view(model, reactions = [(model.species[0],model.species[1])])\n",
    "# viz.highlight_nodes_view(model, reactions = [0])\n",
    "\n",
    "# index or the concrete pattern of a species\n",
    "# viz.highlight_nodes_view(model, species = [0])\n",
    "viz.highlight_nodes_view(model, species = [model.species[0]])"
   ]
  },
  {
   "cell_type": "code",
   "execution_count": 17,
   "metadata": {},
   "outputs": [
    {
     "data": {
      "application/vnd.jupyter.widget-view+json": {
       "model_id": "bdcdfce845c3423eb5154733ad64c5d0",
       "version_major": 2,
       "version_minor": 0
      },
      "text/plain": [
       "Viz(data={'data': {'name': 'tutorial_1A', 'style': 'atom'}, 'elements': {'nodes': [{'data': {'parent': 9, 'lab…"
      ]
     },
     "metadata": {},
     "output_type": "display_data"
    }
   ],
   "source": [
    "# https://pyvipr.readthedocs.io/en/latest/modules/pysb_viz.html#pyvipr.pysb_viz.views.atom_rules_view\n",
    "viz.atom_rules_view(model, visualize_args = {'type' : 'conventional', 'ruleNames' : 1})"
   ]
  },
  {
   "cell_type": "code",
   "execution_count": 18,
   "metadata": {},
   "outputs": [],
   "source": [
    "import numpy as np\n",
    "from pysb.simulator import ScipyOdeSimulator\n",
    "\n",
    "tspan = np.linspace(0, 1, 100)\n",
    "sim = ScipyOdeSimulator(model, tspan, compiler='python').run()"
   ]
  },
  {
   "cell_type": "code",
   "execution_count": 19,
   "metadata": {
    "scrolled": false
   },
   "outputs": [
    {
     "data": {
      "application/vnd.jupyter.widget-view+json": {
       "model_id": "8297d39c6c2a4c19b186425b79269a2c",
       "version_major": 2,
       "version_minor": 0
      },
      "text/plain": [
       "Viz(data=<pysb.simulator.base.SimulationResult object at 0x7f2b62053ca0>, layout_name='klay', process='consump…"
      ]
     },
     "metadata": {},
     "output_type": "display_data"
    }
   ],
   "source": [
    "viz.sp_comm_dyn_view(sim, random_state=1)"
   ]
  },
  {
   "cell_type": "code",
   "execution_count": 20,
   "metadata": {
    "scrolled": false
   },
   "outputs": [
    {
     "name": "stdout",
     "output_type": "stream",
     "text": [
      "Fail\n"
     ]
    }
   ],
   "source": [
    "try:\n",
    "    viz.sp_comp_dyn_view(sim) # will fail because the model has no compartments\n",
    "except:\n",
    "    print('Fail')"
   ]
  },
  {
   "cell_type": "code",
   "execution_count": 21,
   "metadata": {},
   "outputs": [
    {
     "data": {
      "application/vnd.jupyter.widget-view+json": {
       "model_id": "8a1c8d4a51a54fc0a25df56719543e74",
       "version_major": 2,
       "version_minor": 0
      },
      "text/plain": [
       "Viz(data=<pysb.simulator.base.SimulationResult object at 0x7f2b62053ca0>, layout_name='cose-bilkent', process=…"
      ]
     },
     "metadata": {},
     "output_type": "display_data"
    }
   ],
   "source": [
    "viz.sp_dyn_view(sim)"
   ]
  }
 ],
 "metadata": {
  "kernelspec": {
   "display_name": "Python 3",
   "language": "python",
   "name": "python3"
  },
  "language_info": {
   "codemirror_mode": {
    "name": "ipython",
    "version": 3
   },
   "file_extension": ".py",
   "mimetype": "text/x-python",
   "name": "python",
   "nbconvert_exporter": "python",
   "pygments_lexer": "ipython3",
   "version": "3.8.5"
  }
 },
 "nbformat": 4,
 "nbformat_minor": 2
}
