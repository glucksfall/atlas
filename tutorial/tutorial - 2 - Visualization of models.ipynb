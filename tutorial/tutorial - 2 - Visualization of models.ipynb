{
 "cells": [
  {
   "cell_type": "code",
   "execution_count": 1,
   "metadata": {},
   "outputs": [
    {
     "data": {
      "text/html": [
       "<style>.container { width: 95% !important; }</style>"
      ],
      "text/plain": [
       "<IPython.core.display.HTML object>"
      ]
     },
     "metadata": {},
     "output_type": "display_data"
    }
   ],
   "source": [
    "# expand cells to the 95% of the display width\n",
    "from IPython.core.display import display, HTML\n",
    "display(HTML(\"<style>.container { width: 95% !important; }</style>\"))"
   ]
  },
  {
   "cell_type": "markdown",
   "metadata": {},
   "source": [
    "# Tutorial: Visualization of models employing *pyViPR*"
   ]
  },
  {
   "cell_type": "markdown",
   "metadata": {},
   "source": [
    "Authors: Rodrigo Santibáñez[1,2], Daniel Garrido[2], and Alberto Martín[1]\n",
    "\n",
    "Date: August 2020\n",
    "\n",
    "Affiliations:\n",
    "1. Centro de Genómica y Bioinformática, Facultad de Ciencias, Universidad Mayor, Santiago, 8580745, Chile.\n",
    "2. Department of Chemical and Bioprocess Engineering, School of Engineering, Pontificia Universidad Católica de Chile, Santiago, 7820436, Chile\n",
    "\n",
    "Notes: This tutorial was created for the manuscript \"*Atlas*: Automatic modeling of regulation of bacterial gene expression and metabolism using rule-based languages\", first submitted for peer-review to Bioinformatics on May, 2020."
   ]
  },
  {
   "cell_type": "markdown",
   "metadata": {},
   "source": [
    "## Prerequisites"
   ]
  },
  {
   "cell_type": "markdown",
   "metadata": {},
   "source": [
    "0. The tutorial was prepared and executed on Ubuntu 20.04, PathwayTools version 24, and docker engine version 19.03.8.<br/><br/>\n",
    "  \n",
    "2. (Highly recommended) Install Docker. Please follow instructions for a supported Operating System https://docs.docker.com/engine/install/:<br/>\n",
    "   On Ubuntu, install it with ```apt-get install docker.io```.<br/>\n",
    "   On Win10, install Docker Desktop with WSL2 support https://docs.docker.com/docker-for-windows/wsl/.<br/>\n",
    "   On MacOS, install Docker Desktop https://docs.docker.com/docker-for-mac/install/.<br/><br/>\n",
    "   The Docker ```networkbiolab/pleiades```installs the python packages, the jupyter server, and the stochastic simulators.<br/><br/>\n",
    "\n",
    "3. (Recommended) Jupyter notebook. We recommend the use of Anaconda3 https://www.anaconda.com/products/individual because of the easier installation of the stochastic simulators from https://anaconda.org/alubbock.<br/><br/>"
   ]
  },
  {
   "cell_type": "markdown",
   "metadata": {},
   "source": [
    "## Preamble: load *pyViPR*"
   ]
  },
  {
   "cell_type": "code",
   "execution_count": 2,
   "metadata": {},
   "outputs": [],
   "source": [
    "import pyvipr.pysb_viz as viz"
   ]
  },
  {
   "cell_type": "markdown",
   "metadata": {},
   "source": [
    "## Preamble: load model"
   ]
  },
  {
   "cell_type": "code",
   "execution_count": 3,
   "metadata": {},
   "outputs": [],
   "source": [
    "from tutorial_1A import model # we modeled before on tutorial 1A"
   ]
  },
  {
   "cell_type": "code",
   "execution_count": 4,
   "metadata": {
    "scrolled": false
   },
   "outputs": [
    {
     "data": {
      "application/vnd.jupyter.widget-view+json": {
       "model_id": "56d5711d992f4e92aab7ef6e78b9bf0e",
       "version_major": 2,
       "version_minor": 0
      },
      "text/plain": [
       "Viz(data=<Model 'tutorial_1A' (monomers: 3, rules: 18, parameters: 62, expressions: 0, compartments: 0) at 0x7…"
      ]
     },
     "metadata": {},
     "output_type": "display_data"
    }
   ],
   "source": [
    "viz.sp_view(model)"
   ]
  },
  {
   "cell_type": "code",
   "execution_count": 5,
   "metadata": {},
   "outputs": [
    {
     "name": "stdout",
     "output_type": "stream",
     "text": [
      "Fail\n"
     ]
    }
   ],
   "source": [
    "try:\n",
    "    viz.sp_comp_view(model) # will fail because the model has no compartments\n",
    "except:\n",
    "    print('Fail')"
   ]
  },
  {
   "cell_type": "code",
   "execution_count": 6,
   "metadata": {
    "scrolled": true
   },
   "outputs": [
    {
     "data": {
      "application/vnd.jupyter.widget-view+json": {
       "model_id": "321a0d790642480e822b40e806f72ee6",
       "version_major": 2,
       "version_minor": 0
      },
      "text/plain": [
       "Viz(data=<Model 'tutorial_1A' (monomers: 3, rules: 18, parameters: 62, expressions: 0, compartments: 0) at 0x7…"
      ]
     },
     "metadata": {},
     "output_type": "display_data"
    }
   ],
   "source": [
    "viz.sp_comm_louvain_view(model)"
   ]
  },
  {
   "cell_type": "code",
   "execution_count": 7,
   "metadata": {},
   "outputs": [
    {
     "data": {
      "application/vnd.jupyter.widget-view+json": {
       "model_id": "baffcb04fd744193bc38bcb8300b7645",
       "version_major": 2,
       "version_minor": 0
      },
      "text/plain": [
       "Viz(data=<Model 'tutorial_1A' (monomers: 3, rules: 18, parameters: 62, expressions: 0, compartments: 0) at 0x7…"
      ]
     },
     "metadata": {},
     "output_type": "display_data"
    }
   ],
   "source": [
    "viz.sp_rxns_bidirectional_view(model)"
   ]
  },
  {
   "cell_type": "code",
   "execution_count": 8,
   "metadata": {},
   "outputs": [
    {
     "data": {
      "application/vnd.jupyter.widget-view+json": {
       "model_id": "73b951149e6a4b9c92b8c368bcbb72dc",
       "version_major": 2,
       "version_minor": 0
      },
      "text/plain": [
       "Viz(data=<Model 'tutorial_1A' (monomers: 3, rules: 18, parameters: 62, expressions: 0, compartments: 0) at 0x7…"
      ]
     },
     "metadata": {},
     "output_type": "display_data"
    }
   ],
   "source": [
    "viz.sp_rxns_view(model)"
   ]
  },
  {
   "cell_type": "code",
   "execution_count": 9,
   "metadata": {},
   "outputs": [
    {
     "data": {
      "application/vnd.jupyter.widget-view+json": {
       "model_id": "a6c4571a95a24ad7b3cf8513d7b95ee7",
       "version_major": 2,
       "version_minor": 0
      },
      "text/plain": [
       "Viz(data=<Model 'tutorial_1A' (monomers: 3, rules: 18, parameters: 62, expressions: 0, compartments: 0) at 0x7…"
      ]
     },
     "metadata": {},
     "output_type": "display_data"
    }
   ],
   "source": [
    "viz.sp_rules_view(model)"
   ]
  },
  {
   "cell_type": "code",
   "execution_count": 10,
   "metadata": {},
   "outputs": [
    {
     "data": {
      "application/vnd.jupyter.widget-view+json": {
       "model_id": "40fd41bde2ba4e0a9d24465a7a53f54d",
       "version_major": 2,
       "version_minor": 0
      },
      "text/plain": [
       "Viz(data=<Model 'tutorial_1A' (monomers: 3, rules: 18, parameters: 62, expressions: 0, compartments: 0) at 0x7…"
      ]
     },
     "metadata": {},
     "output_type": "display_data"
    }
   ],
   "source": [
    "viz.sp_rules_fxns_view(model)"
   ]
  },
  {
   "cell_type": "code",
   "execution_count": 11,
   "metadata": {},
   "outputs": [
    {
     "name": "stdout",
     "output_type": "stream",
     "text": [
      "Fail\n"
     ]
    }
   ],
   "source": [
    "try:\n",
    "    viz.sp_rules_mod_view(model) # fails because some reason\n",
    "except:\n",
    "    print('Fail')"
   ]
  },
  {
   "cell_type": "code",
   "execution_count": 12,
   "metadata": {},
   "outputs": [
    {
     "data": {
      "application/vnd.jupyter.widget-view+json": {
       "model_id": "a3106f4b66264f6e97ff2fb5a00169b0",
       "version_major": 2,
       "version_minor": 0
      },
      "text/plain": [
       "Viz(data=<Model 'tutorial_1A' (monomers: 3, rules: 18, parameters: 62, expressions: 0, compartments: 0) at 0x7…"
      ]
     },
     "metadata": {},
     "output_type": "display_data"
    }
   ],
   "source": [
    "viz.projected_species_from_bireactions_view(model)"
   ]
  },
  {
   "cell_type": "code",
   "execution_count": 13,
   "metadata": {},
   "outputs": [
    {
     "data": {
      "application/vnd.jupyter.widget-view+json": {
       "model_id": "54f618486ee54c68a8fc5eb3d7674e4b",
       "version_major": 2,
       "version_minor": 0
      },
      "text/plain": [
       "Viz(data=<Model 'tutorial_1A' (monomers: 3, rules: 18, parameters: 62, expressions: 0, compartments: 0) at 0x7…"
      ]
     },
     "metadata": {},
     "output_type": "display_data"
    }
   ],
   "source": [
    "viz.projected_bireactions_view(model)"
   ]
  },
  {
   "cell_type": "code",
   "execution_count": 14,
   "metadata": {},
   "outputs": [
    {
     "data": {
      "application/vnd.jupyter.widget-view+json": {
       "model_id": "1d0aa17f05b048638b7e093f5ecf2a92",
       "version_major": 2,
       "version_minor": 0
      },
      "text/plain": [
       "Viz(data=<Model 'tutorial_1A' (monomers: 3, rules: 18, parameters: 62, expressions: 0, compartments: 0) at 0x7…"
      ]
     },
     "metadata": {},
     "output_type": "display_data"
    }
   ],
   "source": [
    "viz.projected_rules_view(model)"
   ]
  },
  {
   "cell_type": "code",
   "execution_count": 15,
   "metadata": {},
   "outputs": [
    {
     "data": {
      "application/vnd.jupyter.widget-view+json": {
       "model_id": "6478d5b88b2a4398b01f1cba031ccad6",
       "version_major": 2,
       "version_minor": 0
      },
      "text/plain": [
       "Viz(data=<Model 'tutorial_1A' (monomers: 3, rules: 18, parameters: 62, expressions: 0, compartments: 0) at 0x7…"
      ]
     },
     "metadata": {},
     "output_type": "display_data"
    }
   ],
   "source": [
    "# documentation define the function as projected_species_rules_view(model)\n",
    "viz.projected_species_from_rules_view(model)"
   ]
  },
  {
   "cell_type": "code",
   "execution_count": 16,
   "metadata": {},
   "outputs": [
    {
     "data": {
      "application/vnd.jupyter.widget-view+json": {
       "model_id": "b269fc1e9e4a4da58dd4d30a2e9af6bc",
       "version_major": 2,
       "version_minor": 0
      },
      "text/plain": [
       "Viz(data={'data': {'name': 'tutorial_1A'}, 'elements': {'nodes': [{'data': {'label': 'cytacetyl_coamet', 'back…"
      ]
     },
     "metadata": {},
     "output_type": "display_data"
    }
   ],
   "source": [
    "# a tuple of source-target indexes, the concrete pattern, or the reaction index from model.rules\n",
    "# viz.highlight_nodes_view(model, reactions = [(0,1)])\n",
    "# viz.highlight_nodes_view(model, reactions = [(model.species[0],model.species[1])])\n",
    "# viz.highlight_nodes_view(model, reactions = [0])\n",
    "\n",
    "# index or the concrete pattern of a species\n",
    "# viz.highlight_nodes_view(model, species = [0])\n",
    "viz.highlight_nodes_view(model, species = [model.species[0]])"
   ]
  },
  {
   "cell_type": "code",
   "execution_count": 17,
   "metadata": {},
   "outputs": [
    {
     "data": {
      "application/vnd.jupyter.widget-view+json": {
       "model_id": "250c701f9baa45768d51fac129dae97c",
       "version_major": 2,
       "version_minor": 0
      },
      "text/plain": [
       "Viz(data={'data': {'name': 'tutorial_1A', 'style': 'atom'}, 'elements': {'nodes': [{'data': {'parent': 9, 'lab…"
      ]
     },
     "metadata": {},
     "output_type": "display_data"
    }
   ],
   "source": [
    "# https://pyvipr.readthedocs.io/en/latest/modules/pysb_viz.html#pyvipr.pysb_viz.views.atom_rules_view\n",
    "viz.atom_rules_view(model, visualize_args = {'type' : 'conventional', 'ruleNames' : 1})"
   ]
  },
  {
   "cell_type": "code",
   "execution_count": 18,
   "metadata": {},
   "outputs": [],
   "source": [
    "import numpy as np\n",
    "from pysb.simulator import ScipyOdeSimulator\n",
    "\n",
    "tspan = np.linspace(0, 1, 100)\n",
    "sim = ScipyOdeSimulator(model, tspan, compiler='python').run()"
   ]
  },
  {
   "cell_type": "code",
   "execution_count": 19,
   "metadata": {
    "scrolled": false
   },
   "outputs": [
    {
     "data": {
      "application/vnd.jupyter.widget-view+json": {
       "model_id": "98cf7897a8d34d599c88f4d237729f0c",
       "version_major": 2,
       "version_minor": 0
      },
      "text/plain": [
       "Viz(data=<pysb.simulator.base.SimulationResult object at 0x7f3c75ffe4f0>, layout_name='klay', process='consump…"
      ]
     },
     "metadata": {},
     "output_type": "display_data"
    }
   ],
   "source": [
    "viz.sp_comm_dyn_view(sim, random_state=1)"
   ]
  },
  {
   "cell_type": "code",
   "execution_count": 20,
   "metadata": {
    "scrolled": false
   },
   "outputs": [
    {
     "name": "stdout",
     "output_type": "stream",
     "text": [
      "Fail\n"
     ]
    }
   ],
   "source": [
    "try:\n",
    "    viz.sp_comp_dyn_view(sim) # will fail because the model has no compartments\n",
    "except:\n",
    "    print('Fail')"
   ]
  },
  {
   "cell_type": "code",
   "execution_count": 21,
   "metadata": {},
   "outputs": [
    {
     "data": {
      "application/vnd.jupyter.widget-view+json": {
       "model_id": "8e7d3c95e8e74afca00b2c85c4ae924c",
       "version_major": 2,
       "version_minor": 0
      },
      "text/plain": [
       "Viz(data=<pysb.simulator.base.SimulationResult object at 0x7f3c75ffe4f0>, layout_name='cose-bilkent', process=…"
      ]
     },
     "metadata": {},
     "output_type": "display_data"
    }
   ],
   "source": [
    "viz.sp_dyn_view(sim)"
   ]
  }
 ],
 "metadata": {
  "kernelspec": {
   "display_name": "Python 3",
   "language": "python",
   "name": "python3"
  },
  "language_info": {
   "codemirror_mode": {
    "name": "ipython",
    "version": 3
   },
   "file_extension": ".py",
   "mimetype": "text/x-python",
   "name": "python",
   "nbconvert_exporter": "python",
   "pygments_lexer": "ipython3",
   "version": "3.8.5"
  }
 },
 "nbformat": 4,
 "nbformat_minor": 2
}
