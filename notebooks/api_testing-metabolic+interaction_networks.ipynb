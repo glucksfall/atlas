{
 "cells": [
  {
   "cell_type": "code",
   "execution_count": 1,
   "metadata": {},
   "outputs": [
    {
     "data": {
      "text/html": [
       "<style>.container { width: 95% !important; }</style>"
      ],
      "text/plain": [
       "<IPython.core.display.HTML object>"
      ]
     },
     "metadata": {},
     "output_type": "display_data"
    }
   ],
   "source": [
    "from IPython.core.display import display, HTML\n",
    "display(HTML(\"<style>.container { width: 95% !important; }</style>\"))"
   ]
  },
  {
   "cell_type": "code",
   "execution_count": 2,
   "metadata": {},
   "outputs": [],
   "source": [
    "# testing code source\n",
    "import sys\n",
    "sys.path.append(\"..\")"
   ]
  },
  {
   "cell_type": "code",
   "execution_count": 3,
   "metadata": {},
   "outputs": [],
   "source": [
    "import atlas_rbm.atlas as atlas\n",
    "import atlas_rbm.export as export\n",
    "import atlas_rbm.simulation as simulation"
   ]
  },
  {
   "cell_type": "code",
   "execution_count": 4,
   "metadata": {
    "scrolled": false
   },
   "outputs": [],
   "source": [
    "model1 = atlas.construct_model_from_metabolic_network('../docs/networks/metabolic_network3.tsv', verbose = False)\n",
    "model2 = atlas.construct_model_from_interaction_network('../docs/networks/ppi_network3.tsv', verbose = False)"
   ]
  },
  {
   "cell_type": "code",
   "execution_count": 5,
   "metadata": {},
   "outputs": [
    {
     "data": {
      "text/plain": [
       "<Model 'atlas_rbm.construct_model_from_interaction_network' (monomers: 2, rules: 22, parameters: 113, expressions: 0, compartments: 0) at 0x7f7ac9f75160>"
      ]
     },
     "execution_count": 5,
     "metadata": {},
     "output_type": "execute_result"
    }
   ],
   "source": [
    "atlas.combine_models(model1, model2)"
   ]
  },
  {
   "cell_type": "code",
   "execution_count": 6,
   "metadata": {
    "scrolled": false
   },
   "outputs": [
    {
     "data": {
      "text/plain": [
       "<Model 'atlas_rbm.construct_model_from_interaction_network' (monomers: 2, rules: 22, parameters: 113, expressions: 0, compartments: 0) at 0x7f7ac9f75160>"
      ]
     },
     "execution_count": 6,
     "metadata": {},
     "output_type": "execute_result"
    }
   ],
   "source": [
    "# model initial condition\n",
    "simulation.set_initial.met(model2, 'beta_lactose', 'per', 100)\n",
    "simulation.set_initial.met(model2, 'PROTON', 'per', 100)\n",
    "simulation.set_initial.met(model2, 'WATER', 'cyt', 100)\n",
    "\n",
    "simulation.set_initial.prot(model2, 'lacZ', 'cyt', 4)\n",
    "simulation.set_initial.prot(model2, 'lacA', 'cyt', 3)\n",
    "simulation.set_initial.prot(model2, 'lacY', 'mem', 1)"
   ]
  },
  {
   "cell_type": "code",
   "execution_count": 7,
   "metadata": {},
   "outputs": [],
   "source": [
    "bng = '/opt/git-repositories/bionetgen.RuleWorld/bng2/'\n",
    "kasim = '/opt/git-repositories/KaSim4.Kappa-Dev/'\n",
    "export.to_bngl(model2, 'test.bngl', bng)\n",
    "export.to_kappa(model2, 'test.kappa')"
   ]
  },
  {
   "cell_type": "code",
   "execution_count": 8,
   "metadata": {},
   "outputs": [],
   "source": [
    "data1 = simulation.ode(model2, start = 0, finish = 10, points = 200, path = bng)\n",
    "data2 = simulation.ssa(model2, start = 0, finish = 10, points = 200, n_runs = 20, path = bng)\n",
    "data3 = simulation.kasim(model2, start = 0, finish = 10, points = 200, n_runs = 20, path = kasim)"
   ]
  },
  {
   "cell_type": "code",
   "execution_count": 9,
   "metadata": {
    "scrolled": false
   },
   "outputs": [
    {
     "data": {
      "image/png": "[encoded data removed]",
      "text/plain": [
       "<Figure size 400x300 with 1 Axes>"
      ]
     },
     "metadata": {
      "needs_background": "light"
     },
     "output_type": "display_data"
    }
   ],
   "source": [
    "import seaborn\n",
    "import matplotlib.pyplot as plt\n",
    "\n",
    "fig, ax = plt.subplots(1, 1, figsize = (4*1, 3*1), dpi = 100)\n",
    "simulation.plot.metabolite(data2['sims'][1], 'alpha_lactose', 'cyt', **{'kind' : 'scatter'}, plt_kws = {'s' : 1, 'label' : r'$\\alpha$-lactose, SSA'})\n",
    "simulation.plot.metabolite(data2['sims'][1], 'beta_lactose', 'cyt', **{'kind' : 'scatter'}, plt_kws = {'s' : 1, 'label' : r'$\\beta$-lactose, SSA'})\n",
    "simulation.plot.metabolite(data1, 'alpha_lactose', 'cyt', plt_kws = {'label' : None})\n",
    "simulation.plot.metabolite(data1, 'beta_lactose', 'cyt', plt_kws = {'label' : 'ODE'})\n",
    "\n",
    "plt.xlim(0, 2.5)\n",
    "seaborn.despine()"
   ]
  },
  {
   "cell_type": "code",
   "execution_count": null,
   "metadata": {},
   "outputs": [],
   "source": []
  }
 ],
 "metadata": {
  "kernelspec": {
   "display_name": "Python 3",
   "language": "python",
   "name": "python3"
  },
  "language_info": {
   "codemirror_mode": {
    "name": "ipython",
    "version": 3
   },
   "file_extension": ".py",
   "mimetype": "text/x-python",
   "name": "python",
   "nbconvert_exporter": "python",
   "pygments_lexer": "ipython3",
   "version": "3.6.9"
  }
 },
 "nbformat": 4,
 "nbformat_minor": 2
}
