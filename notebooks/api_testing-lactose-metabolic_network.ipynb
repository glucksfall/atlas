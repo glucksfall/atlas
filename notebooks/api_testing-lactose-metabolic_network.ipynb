{
 "cells": [
  {
   "cell_type": "code",
   "execution_count": 1,
   "metadata": {},
   "outputs": [
    {
     "data": {
      "text/html": [
       "<style>.container { width: 95% !important; }</style>"
      ],
      "text/plain": [
       "<IPython.core.display.HTML object>"
      ]
     },
     "metadata": {},
     "output_type": "display_data"
    }
   ],
   "source": [
    "from IPython.core.display import display, HTML\n",
    "display(HTML(\"<style>.container { width: 95% !important; }</style>\"))"
   ]
  },
  {
   "cell_type": "code",
   "execution_count": 2,
   "metadata": {},
   "outputs": [],
   "source": [
    "# testing code source\n",
    "import sys\n",
    "sys.path.append(\"..\")"
   ]
  },
  {
   "cell_type": "code",
   "execution_count": 3,
   "metadata": {},
   "outputs": [],
   "source": [
    "import atlas_rbm.atlas as atlas\n",
    "import atlas_rbm.export as export\n",
    "import atlas_rbm.simulation as simulation"
   ]
  },
  {
   "cell_type": "code",
   "execution_count": 4,
   "metadata": {},
   "outputs": [],
   "source": [
    "network = '../docs/networks/metabolic_network3.tsv'\n",
    "data = atlas.read_network(network)"
   ]
  },
  {
   "cell_type": "code",
   "execution_count": 5,
   "metadata": {
    "scrolled": false
   },
   "outputs": [],
   "source": [
    "model = atlas.construct_model_from_metabolic_network(network, verbose = False)"
   ]
  },
  {
   "cell_type": "code",
   "execution_count": 6,
   "metadata": {
    "scrolled": false
   },
   "outputs": [],
   "source": [
    "# model initial condition\n",
    "simulation.set_initial.met(model, 'beta_lactose', 'per', 100)\n",
    "simulation.set_initial.met(model, 'PROTON', 'per', 100)\n",
    "simulation.set_initial.met(model, 'WATER', 'cyt', 100)\n",
    "\n",
    "if 'network1' in network:\n",
    "    simulation.set_initial.cplx(model, 'BETAGALACTOSID_CPLX', 'cyt', 1)\n",
    "    simulation.set_initial.cplx(model, 'GALACTOACETYLTRAN_CPLX', 'cyt', 1)\n",
    "    simulation.set_initial.cplx(model, 'LACY_MONOMER', 'mem', 1)\n",
    "\n",
    "if 'network2' in network:\n",
    "    simulation.set_initial.prot(model, 'lacZ', 'cyt', 1)\n",
    "    simulation.set_initial.prot(model, 'lacA', 'cyt', 1)\n",
    "    simulation.set_initial.prot(model, 'lacY', 'mem', 1)\n",
    "\n",
    "if 'network3' in network:\n",
    "    simulation.set_initial.prot(model, 'lacY', 'mem', 1)\n",
    "    simulation.set_initial.pattern(model, \n",
    "        \"prot(name='lacZ', loc='cyt', dna = None, met = None, prot = None, rna = None, up = None, dw = 1) % \" + \\\n",
    "        \"prot(name='lacZ', loc='cyt', dna = None, met = None, prot = None, rna = None, up = 1, dw = 2) % \" + \\\n",
    "        \"prot(name='lacZ', loc='cyt', dna = None, met = None, prot = None, rna = None, up = 2, dw = 3) % \" + \\\n",
    "        \"prot(name='lacZ', loc='cyt', dna = None, met = None, prot = None, rna = None, up = 3, dw = None)\", \n",
    "        'galactosidase', 1)\n",
    "    simulation.set_initial.pattern(model, \n",
    "        \"prot(name='lacA', loc='cyt', dna = None, met = None, prot = None, rna = None, up = None, dw = 1) % \" + \\\n",
    "        \"prot(name='lacA', loc='cyt', dna = None, met = None, prot = None, rna = None, up = 1, dw = 2) % \" + \\\n",
    "        \"prot(name='lacA', loc='cyt', dna = None, met = None, prot = None, rna = None, up = 2, dw = None)\",\n",
    "        'acetyltransferase', 1)"
   ]
  },
  {
   "cell_type": "code",
   "execution_count": 7,
   "metadata": {},
   "outputs": [],
   "source": [
    "bng = '/opt/git-repositories/bionetgen.RuleWorld/bng2/'\n",
    "kasim = '/opt/git-repositories/KaSim4.Kappa-Dev/'\n",
    "export.to_bngl(model, 'test.bngl', bng)\n",
    "export.to_kappa(model, 'test.kappa')"
   ]
  },
  {
   "cell_type": "code",
   "execution_count": 8,
   "metadata": {},
   "outputs": [],
   "source": [
    "data1 = simulation.ode(model, path = bng)\n",
    "data2 = simulation.ssa(model, start = 0, finish = 2, points = 200, n_runs = 20, path = bng)\n",
    "data3 = simulation.kasim(model, start = 0, finish = 2, points = 200, n_runs = 20, path = kasim)"
   ]
  },
  {
   "cell_type": "code",
   "execution_count": 9,
   "metadata": {},
   "outputs": [
    {
     "data": {
      "image/png": "[encoded data removed]",
      "text/plain": [
       "<Figure size 400x300 with 1 Axes>"
      ]
     },
     "metadata": {
      "needs_background": "light"
     },
     "output_type": "display_data"
    }
   ],
   "source": [
    "import seaborn\n",
    "import matplotlib.pyplot as plt\n",
    "\n",
    "palette = seaborn.color_palette('colorblind')\n",
    "\n",
    "fig, ax = plt.subplots(1, 1, figsize = (4*1, 3*1), dpi = 100)\n",
    "simulation.plot.metabolite(data2['avrg'], 'alpha_lactose', 'cyt', **{'kind' : 'scatter'}, plt_kws = {'s' : 2, 'color' : palette[0], 'label' : r'$\\alpha$-lactose'})\n",
    "simulation.plot.metabolite(data2['avrg'], 'beta_lactose', 'cyt', **{'kind' : 'scatter'}, plt_kws = {'s' : 2, 'color' : palette[1], 'label' : r'$\\beta$-lactose'})\n",
    "simulation.plot.metabolite(data2['avrg'], 'alpha_GALACTOSE', 'cyt', **{'kind' : 'scatter'}, plt_kws = {'s' : 2, 'color' : palette[2], 'label' : r'$\\alpha$-galactose'})\n",
    "simulation.plot.metabolite(data2['avrg'], 'beta_GALACTOSE', 'cyt', **{'kind' : 'scatter'}, plt_kws = {'s' : 2, 'color' : palette[3], 'label' : r'$\\beta$-galactose'})\n",
    "\n",
    "seaborn.despine()"
   ]
  },
  {
   "cell_type": "code",
   "execution_count": null,
   "metadata": {},
   "outputs": [],
   "source": []
  }
 ],
 "metadata": {
  "kernelspec": {
   "display_name": "Python 3",
   "language": "python",
   "name": "python3"
  },
  "language_info": {
   "codemirror_mode": {
    "name": "ipython",
    "version": 3
   },
   "file_extension": ".py",
   "mimetype": "text/x-python",
   "name": "python",
   "nbconvert_exporter": "python",
   "pygments_lexer": "ipython3",
   "version": "3.6.9"
  }
 },
 "nbformat": 4,
 "nbformat_minor": 2
}
