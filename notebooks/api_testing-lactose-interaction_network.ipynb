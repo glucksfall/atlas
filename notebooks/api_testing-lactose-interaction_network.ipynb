{
 "cells": [
  {
   "cell_type": "code",
   "execution_count": 1,
   "metadata": {},
   "outputs": [
    {
     "data": {
      "text/html": [
       "<style>.container { width: 95% !important; }</style>"
      ],
      "text/plain": [
       "<IPython.core.display.HTML object>"
      ]
     },
     "metadata": {},
     "output_type": "display_data"
    }
   ],
   "source": [
    "from IPython.core.display import display, HTML\n",
    "display(HTML(\"<style>.container { width: 95% !important; }</style>\"))"
   ]
  },
  {
   "cell_type": "code",
   "execution_count": 2,
   "metadata": {},
   "outputs": [],
   "source": [
    "# testing code source\n",
    "import sys\n",
    "sys.path.append(\"..\")"
   ]
  },
  {
   "cell_type": "code",
   "execution_count": 3,
   "metadata": {},
   "outputs": [],
   "source": [
    "import atlas_rbm.atlas as atlas\n",
    "import atlas_rbm.export as export\n",
    "import atlas_rbm.simulation as simulation"
   ]
  },
  {
   "cell_type": "code",
   "execution_count": 4,
   "metadata": {},
   "outputs": [],
   "source": [
    "network = '../docs/networks/ppi_network3.tsv'\n",
    "data = atlas.read_network(network)"
   ]
  },
  {
   "cell_type": "code",
   "execution_count": 5,
   "metadata": {
    "scrolled": false
   },
   "outputs": [],
   "source": [
    "model = atlas.construct_model_from_interaction_network(network, verbose = False)"
   ]
  },
  {
   "cell_type": "code",
   "execution_count": 6,
   "metadata": {
    "scrolled": false
   },
   "outputs": [],
   "source": [
    "# model initial condition\n",
    "if 'network3' in network:\n",
    "    simulation.set_initial.prot(model, 'lacZ', 'cyt', 12)\n",
    "    simulation.set_initial.prot(model, 'lacA', 'cyt', 12)\n",
    "    simulation.set_initial.prot(model, 'lacY', 'mem', 1)\n",
    "    \n",
    "    simulation.set_observable(model, alias = 'lacZ_tetramer',\n",
    "                              pattern = \"prot(name = 'lacZ', up = None, dw = 1) % \"+\\\n",
    "                              \"prot(name = 'lacZ', up = 1, dw = 2) % \"+\\\n",
    "                              \"prot(name = 'lacZ', up = 2, dw = 3) % \"+\\\n",
    "                              \"prot(name = 'lacZ', up = 3, dw = None)\")\n",
    "    simulation.set_observable(model, alias = 'lacA_trimer',\n",
    "                              pattern = \"prot(name = 'lacA', up = None, dw = 1) % \"+\\\n",
    "                              \"prot(name = 'lacA', up = 1, dw = 2) % \"+\\\n",
    "                              \"prot(name = 'lacA', up = 2, dw = None)\")"
   ]
  },
  {
   "cell_type": "code",
   "execution_count": 7,
   "metadata": {},
   "outputs": [],
   "source": [
    "bng = '/opt/git-repositories/bionetgen.RuleWorld/bng2/'\n",
    "kasim = '/opt/git-repositories/KaSim4.Kappa-Dev/'\n",
    "export.to_bngl(model, 'test.bngl', bng)\n",
    "export.to_kappa(model, 'test.kappa')"
   ]
  },
  {
   "cell_type": "code",
   "execution_count": 8,
   "metadata": {},
   "outputs": [],
   "source": [
    "data1 = simulation.ode(model, start = 0, finish = 5, points = 200, path = bng)\n",
    "data2 = simulation.ssa(model, start = 0, finish = 5, points = 200, n_runs = 20, path = bng)\n",
    "data3 = simulation.kasim(model, start = 0, finish = 5, points = 200, n_runs = 20, path = kasim)"
   ]
  },
  {
   "cell_type": "code",
   "execution_count": 9,
   "metadata": {},
   "outputs": [
    {
     "data": {
      "image/png": "[encoded data removed]",
      "text/plain": [
       "<Figure size 400x300 with 1 Axes>"
      ]
     },
     "metadata": {
      "needs_background": "light"
     },
     "output_type": "display_data"
    }
   ],
   "source": [
    "import seaborn\n",
    "import matplotlib.pyplot as plt\n",
    "\n",
    "palette = seaborn.color_palette('colorblind')\n",
    "\n",
    "fig, ax = plt.subplots(1, 1, figsize = (4*1, 3*1), dpi = 100)\n",
    "simulation.plot.protein(data1, 'lacZ', 'cyt', plt_kws = {'color' : palette[1], 'label' : 'free lacZ'})\n",
    "simulation.plot.protein(data2['sims'][0], 'lacZ', 'cyt', **{'kind' : 'scatter'}, plt_kws = {'s' : 2, 'color' : palette[1]})\n",
    "simulation.plot.pattern(data2['avrg'], 'lacZ_tetramer', plt_kws = {'color' : palette[0], 'label' : 'lacZ tetramer'})\n",
    "\n",
    "seaborn.despine()"
   ]
  },
  {
   "cell_type": "code",
   "execution_count": 10,
   "metadata": {},
   "outputs": [
    {
     "data": {
      "image/png": "[encoded data removed]",
      "text/plain": [
       "<Figure size 400x300 with 1 Axes>"
      ]
     },
     "metadata": {
      "needs_background": "light"
     },
     "output_type": "display_data"
    }
   ],
   "source": [
    "fig, ax = plt.subplots(1, 1, figsize = (4*1, 3*1), dpi = 100)\n",
    "simulation.plot.protein(data1, 'lacA', 'cyt', plt_kws = {'color' : palette[1], 'label' : 'free lacA'})\n",
    "simulation.plot.protein(data2['sims'][0], 'lacA', 'cyt', **{'kind' : 'scatter'}, plt_kws = {'s' : 2, 'color' : palette[1]})\n",
    "simulation.plot.pattern(data2['avrg'], 'lacA_trimer', plt_kws = {'color' : palette[0], 'label' : 'lacA trimer'})\n",
    "\n",
    "seaborn.despine()"
   ]
  },
  {
   "cell_type": "code",
   "execution_count": null,
   "metadata": {},
   "outputs": [],
   "source": []
  }
 ],
 "metadata": {
  "kernelspec": {
   "display_name": "Python 3",
   "language": "python",
   "name": "python3"
  },
  "language_info": {
   "codemirror_mode": {
    "name": "ipython",
    "version": 3
   },
   "file_extension": ".py",
   "mimetype": "text/x-python",
   "name": "python",
   "nbconvert_exporter": "python",
   "pygments_lexer": "ipython3",
   "version": "3.6.9"
  }
 },
 "nbformat": 4,
 "nbformat_minor": 2
}
