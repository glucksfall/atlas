{
 "cells": [
  {
   "cell_type": "code",
   "execution_count": 1,
   "metadata": {},
   "outputs": [
    {
     "data": {
      "text/html": [
       "<style>.container { width: 95% !important; }</style>"
      ],
      "text/plain": [
       "<IPython.core.display.HTML object>"
      ]
     },
     "metadata": {},
     "output_type": "display_data"
    }
   ],
   "source": [
    "from IPython.core.display import display, HTML\n",
    "display(HTML(\"<style>.container { width: 95% !important; }</style>\"))"
   ]
  },
  {
   "cell_type": "code",
   "execution_count": 2,
   "metadata": {},
   "outputs": [],
   "source": [
    "# testing code source\n",
    "import sys\n",
    "sys.path.append(\"..\")"
   ]
  },
  {
   "cell_type": "code",
   "execution_count": 3,
   "metadata": {},
   "outputs": [],
   "source": [
    "import atlas_rbm.atlas as atlas\n",
    "import atlas_rbm.export as export\n",
    "import atlas_rbm.simulation as simulation"
   ]
  },
  {
   "cell_type": "code",
   "execution_count": 4,
   "metadata": {
    "scrolled": false
   },
   "outputs": [],
   "source": [
    "model1 = atlas.construct_model_from_metabolic_network('../docs/networks/metabolic_network4_arabinose.tsv', verbose = False)\n",
    "model2 = atlas.construct_model_from_interaction_network('../docs/networks/ProtProt+ProtMet_network1.tsv', verbose = False)"
   ]
  },
  {
   "cell_type": "code",
   "execution_count": 5,
   "metadata": {
    "scrolled": false
   },
   "outputs": [
    {
     "data": {
      "text/plain": [
       "<Model 'atlas_rbm.construct_model_from_interaction_network' (monomers: 2, rules: 36, parameters: 154, expressions: 0, compartments: 0) at 0x7f295bb17f28>"
      ]
     },
     "execution_count": 5,
     "metadata": {},
     "output_type": "execute_result"
    }
   ],
   "source": [
    "atlas.combine_models(model1, model2, verbose = False)"
   ]
  },
  {
   "cell_type": "code",
   "execution_count": 6,
   "metadata": {
    "scrolled": false
   },
   "outputs": [
    {
     "data": {
      "text/plain": [
       "<Model 'atlas_rbm.construct_model_from_interaction_network' (monomers: 2, rules: 36, parameters: 154, expressions: 0, compartments: 0) at 0x7f295bb17f28>"
      ]
     },
     "execution_count": 6,
     "metadata": {},
     "output_type": "execute_result"
    }
   ],
   "source": [
    "# model initial condition\n",
    "simulation.set_initial.met(model2, 'ATP', 'cyt', 100)\n",
    "simulation.set_initial.met(model2, 'PROTON', 'per', 100)\n",
    "simulation.set_initial.met(model2, 'WATER', 'cyt', 100)\n",
    "simulation.set_initial.met(model2, 'alpha_L_arabinopyranose', 'per', 100)\n",
    "\n",
    "simulation.set_initial.prot(model2, 'araA', 'cyt', 1)\n",
    "simulation.set_initial.prot(model2, 'araB', 'cyt', 1)\n",
    "simulation.set_initial.prot(model2, 'araC', 'cyt', 1)\n",
    "simulation.set_initial.prot(model2, 'araD', 'cyt', 1)\n",
    "simulation.set_initial.prot(model2, 'araE', 'cyt', 1)\n",
    "simulation.set_initial.prot(model2, 'araF', 'cyt', 1)\n",
    "simulation.set_initial.prot(model2, 'araG', 'cyt', 2)\n",
    "simulation.set_initial.prot(model2, 'araH', 'cyt', 2)"
   ]
  },
  {
   "cell_type": "code",
   "execution_count": 7,
   "metadata": {},
   "outputs": [],
   "source": [
    "bng = '/opt/git-repositories/bionetgen.RuleWorld/bng2/'\n",
    "kasim = '/opt/git-repositories/KaSim4.Kappa-Dev/'\n",
    "# export.to_bngl(model2, 'test.bngl', bng)\n",
    "export.to_kappa(model2, 'test.kappa')"
   ]
  },
  {
   "cell_type": "code",
   "execution_count": 14,
   "metadata": {},
   "outputs": [],
   "source": [
    "# data1 = simulation.ode(model2, start = 0, finish = 10, points = 200, path = bng)\n",
    "# data2 = simulation.ssa(model2, start = 0, finish = 10, points = 200, n_runs = 20, path = bng)\n",
    "data3 = simulation.kasim(model2, start = 0, finish = 50, points = 1000, n_runs = 20, path = kasim)"
   ]
  },
  {
   "cell_type": "code",
   "execution_count": 15,
   "metadata": {
    "scrolled": false
   },
   "outputs": [
    {
     "data": {
      "image/png": "[encoded data removed]",
      "text/plain": [
       "<Figure size 400x300 with 1 Axes>"
      ]
     },
     "metadata": {
      "needs_background": "light"
     },
     "output_type": "display_data"
    }
   ],
   "source": [
    "import seaborn\n",
    "import matplotlib.pyplot as plt\n",
    "\n",
    "fig, ax = plt.subplots(1, 1, figsize = (4*1, 3*1), dpi = 100)\n",
    "simulation.plot.metabolite(data3['avrg'], 'ATP', 'cyt', **{'kind' : 'plot'}, plt_kws = {'s' : 1, 'label' : r'ATP'})\n",
    "simulation.plot.metabolite(data3['avrg'], 'PROTON', 'cyt', **{'kind' : 'plot'}, plt_kws = {'s' : 1, 'label' : r'H$^+$'})\n",
    "simulation.plot.metabolite(data3['avrg'], 'XYLULOSE-5-PHOSPHATE', 'cyt', **{'kind' : 'plot'}, plt_kws = {'s' : 1, 'label' : r'Xyl-5P'})\n",
    "\n",
    "seaborn.despine()"
   ]
  },
  {
   "cell_type": "code",
   "execution_count": 16,
   "metadata": {},
   "outputs": [
    {
     "data": {
      "image/png": "[encoded data removed]",
      "text/plain": [
       "<Figure size 400x300 with 1 Axes>"
      ]
     },
     "metadata": {
      "needs_background": "light"
     },
     "output_type": "display_data"
    }
   ],
   "source": [
    "fig, ax = plt.subplots(1, 1, figsize = (4*1, 3*1), dpi = 100)\n",
    "simulation.plot.metabolite(data3['avrg'], 'ATP', 'cyt', **{'kind' : 'plot'}, plt_kws = {'s' : 1, 'label' : r'ATP'})\n",
    "simulation.plot.metabolite(data3['avrg'], 'PROTON', 'cyt', **{'kind' : 'plot'}, plt_kws = {'s' : 1, 'label' : r'H$^+$'})\n",
    "simulation.plot.metabolite(data3['avrg'], 'alpha_L_arabinopyranose', 'per', **{'kind' : 'plot'}, plt_kws = {'s' : 1, 'label' : r'Xyl-5P'})\n",
    "\n",
    "seaborn.despine()"
   ]
  },
  {
   "cell_type": "code",
   "execution_count": null,
   "metadata": {},
   "outputs": [],
   "source": []
  }
 ],
 "metadata": {
  "kernelspec": {
   "display_name": "Python 3",
   "language": "python",
   "name": "python3"
  },
  "language_info": {
   "codemirror_mode": {
    "name": "ipython",
    "version": 3
   },
   "file_extension": ".py",
   "mimetype": "text/x-python",
   "name": "python",
   "nbconvert_exporter": "python",
   "pygments_lexer": "ipython3",
   "version": "3.6.9"
  }
 },
 "nbformat": 4,
 "nbformat_minor": 2
}
