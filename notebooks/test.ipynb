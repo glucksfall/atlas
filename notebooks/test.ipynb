{
 "cells": [
  {
   "cell_type": "code",
   "execution_count": 1,
   "metadata": {},
   "outputs": [],
   "source": [
    "from pysb import *\n",
    "from pysb.core import *\n",
    "from pysb.examples.earm_1_0 import model"
   ]
  },
  {
   "cell_type": "code",
   "execution_count": 2,
   "metadata": {},
   "outputs": [],
   "source": [
    "from pysb.util import alias_model_components\n",
    "alias_model_components(model)"
   ]
  },
  {
   "cell_type": "code",
   "execution_count": 3,
   "metadata": {},
   "outputs": [],
   "source": [
    "new_monomers = []\n",
    "for monomer in model.monomers:\n",
    "    new_monomers.append(str(monomer))"
   ]
  },
  {
   "cell_type": "code",
   "execution_count": 4,
   "metadata": {},
   "outputs": [
    {
     "data": {
      "text/plain": [
       "Initial(L(b=1) % pR(b=1), dav)"
      ]
     },
     "execution_count": 4,
     "metadata": {},
     "output_type": "execute_result"
    }
   ],
   "source": [
    "Initial(L(b=1) % pR(b=1), Parameter('dav', 1))"
   ]
  },
  {
   "cell_type": "code",
   "execution_count": 5,
   "metadata": {},
   "outputs": [],
   "source": [
    "new_monomers.append(\"Monomer('met', ['name', 'loc', 'prot'], {'name': ['ACETYL_COA', 'CO_A', 'CPD_3561', 'CPD_3785', 'CPD_3801', 'D_ARABINOSE', 'Fructofuranose', 'MELIBIOSE', 'PROTON', 'WATER', '_6_Acetyl_beta_D_Galactose', 'alpha_ALLOLACTOSE', 'alpha_GALACTOSE', 'alpha_glucose', 'alpha_lactose', 'beta_ALLOLACTOSE', 'beta_GALACTOSE', 'beta_glucose', 'beta_lactose'], 'loc': ['cyt', 'per', 'ex']})\")"
   ]
  },
  {
   "cell_type": "code",
   "execution_count": 6,
   "metadata": {},
   "outputs": [
    {
     "data": {
      "text/plain": [
       "<Model 'pysb.examples.earm_1_0' (monomers: 36, rules: 42, parameters: 89, expressions: 0, compartments: 0) at 0x7eff8fd07a90>"
      ]
     },
     "execution_count": 6,
     "metadata": {},
     "output_type": "execute_result"
    }
   ],
   "source": [
    "model"
   ]
  },
  {
   "cell_type": "code",
   "execution_count": 7,
   "metadata": {},
   "outputs": [
    {
     "data": {
      "text/plain": [
       "37"
      ]
     },
     "execution_count": 7,
     "metadata": {},
     "output_type": "execute_result"
    }
   ],
   "source": [
    "len(new_monomers)"
   ]
  },
  {
   "cell_type": "code",
   "execution_count": 8,
   "metadata": {},
   "outputs": [
    {
     "name": "stderr",
     "output_type": "stream",
     "text": [
      "/usr/local/lib/python3.6/dist-packages/ipykernel_launcher.py:1: SymbolExistsWarning: 'L' already defined\n",
      "  \"\"\"Entry point for launching an IPython kernel.\n",
      "/usr/local/lib/python3.6/dist-packages/ipykernel_launcher.py:1: SymbolExistsWarning: 'pR' already defined\n",
      "  \"\"\"Entry point for launching an IPython kernel.\n",
      "/usr/local/lib/python3.6/dist-packages/ipykernel_launcher.py:1: SymbolExistsWarning: 'DISC' already defined\n",
      "  \"\"\"Entry point for launching an IPython kernel.\n",
      "/usr/local/lib/python3.6/dist-packages/ipykernel_launcher.py:1: SymbolExistsWarning: 'flip' already defined\n",
      "  \"\"\"Entry point for launching an IPython kernel.\n",
      "/usr/local/lib/python3.6/dist-packages/ipykernel_launcher.py:1: SymbolExistsWarning: 'pC8' already defined\n",
      "  \"\"\"Entry point for launching an IPython kernel.\n",
      "/usr/local/lib/python3.6/dist-packages/ipykernel_launcher.py:1: SymbolExistsWarning: 'C8' already defined\n",
      "  \"\"\"Entry point for launching an IPython kernel.\n",
      "/usr/local/lib/python3.6/dist-packages/ipykernel_launcher.py:1: SymbolExistsWarning: 'BAR' already defined\n",
      "  \"\"\"Entry point for launching an IPython kernel.\n",
      "/usr/local/lib/python3.6/dist-packages/ipykernel_launcher.py:1: SymbolExistsWarning: 'pC3' already defined\n",
      "  \"\"\"Entry point for launching an IPython kernel.\n",
      "/usr/local/lib/python3.6/dist-packages/ipykernel_launcher.py:1: SymbolExistsWarning: 'C3' already defined\n",
      "  \"\"\"Entry point for launching an IPython kernel.\n",
      "/usr/local/lib/python3.6/dist-packages/ipykernel_launcher.py:1: SymbolExistsWarning: 'pC6' already defined\n",
      "  \"\"\"Entry point for launching an IPython kernel.\n",
      "/usr/local/lib/python3.6/dist-packages/ipykernel_launcher.py:1: SymbolExistsWarning: 'C6' already defined\n",
      "  \"\"\"Entry point for launching an IPython kernel.\n",
      "/usr/local/lib/python3.6/dist-packages/ipykernel_launcher.py:1: SymbolExistsWarning: 'XIAP' already defined\n",
      "  \"\"\"Entry point for launching an IPython kernel.\n",
      "/usr/local/lib/python3.6/dist-packages/ipykernel_launcher.py:1: SymbolExistsWarning: 'C3_U' already defined\n",
      "  \"\"\"Entry point for launching an IPython kernel.\n",
      "/usr/local/lib/python3.6/dist-packages/ipykernel_launcher.py:1: SymbolExistsWarning: 'PARP' already defined\n",
      "  \"\"\"Entry point for launching an IPython kernel.\n",
      "/usr/local/lib/python3.6/dist-packages/ipykernel_launcher.py:1: SymbolExistsWarning: 'CPARP' already defined\n",
      "  \"\"\"Entry point for launching an IPython kernel.\n",
      "/usr/local/lib/python3.6/dist-packages/ipykernel_launcher.py:1: SymbolExistsWarning: 'Bid' already defined\n",
      "  \"\"\"Entry point for launching an IPython kernel.\n",
      "/usr/local/lib/python3.6/dist-packages/ipykernel_launcher.py:1: SymbolExistsWarning: 'tBid' already defined\n",
      "  \"\"\"Entry point for launching an IPython kernel.\n",
      "/usr/local/lib/python3.6/dist-packages/ipykernel_launcher.py:1: SymbolExistsWarning: 'Bcl2c' already defined\n",
      "  \"\"\"Entry point for launching an IPython kernel.\n",
      "/usr/local/lib/python3.6/dist-packages/ipykernel_launcher.py:1: SymbolExistsWarning: 'Bax' already defined\n",
      "  \"\"\"Entry point for launching an IPython kernel.\n",
      "/usr/local/lib/python3.6/dist-packages/ipykernel_launcher.py:1: SymbolExistsWarning: 'aBax' already defined\n",
      "  \"\"\"Entry point for launching an IPython kernel.\n",
      "/usr/local/lib/python3.6/dist-packages/ipykernel_launcher.py:1: SymbolExistsWarning: 'MBax' already defined\n",
      "  \"\"\"Entry point for launching an IPython kernel.\n",
      "/usr/local/lib/python3.6/dist-packages/ipykernel_launcher.py:1: SymbolExistsWarning: 'Bcl2' already defined\n",
      "  \"\"\"Entry point for launching an IPython kernel.\n",
      "/usr/local/lib/python3.6/dist-packages/ipykernel_launcher.py:1: SymbolExistsWarning: 'Bax2' already defined\n",
      "  \"\"\"Entry point for launching an IPython kernel.\n",
      "/usr/local/lib/python3.6/dist-packages/ipykernel_launcher.py:1: SymbolExistsWarning: 'Bax4' already defined\n",
      "  \"\"\"Entry point for launching an IPython kernel.\n",
      "/usr/local/lib/python3.6/dist-packages/ipykernel_launcher.py:1: SymbolExistsWarning: 'Mito' already defined\n",
      "  \"\"\"Entry point for launching an IPython kernel.\n",
      "/usr/local/lib/python3.6/dist-packages/ipykernel_launcher.py:1: SymbolExistsWarning: 'AMito' already defined\n",
      "  \"\"\"Entry point for launching an IPython kernel.\n",
      "/usr/local/lib/python3.6/dist-packages/ipykernel_launcher.py:1: SymbolExistsWarning: 'mCytoC' already defined\n",
      "  \"\"\"Entry point for launching an IPython kernel.\n",
      "/usr/local/lib/python3.6/dist-packages/ipykernel_launcher.py:1: SymbolExistsWarning: 'ACytoC' already defined\n",
      "  \"\"\"Entry point for launching an IPython kernel.\n",
      "/usr/local/lib/python3.6/dist-packages/ipykernel_launcher.py:1: SymbolExistsWarning: 'mSmac' already defined\n",
      "  \"\"\"Entry point for launching an IPython kernel.\n",
      "/usr/local/lib/python3.6/dist-packages/ipykernel_launcher.py:1: SymbolExistsWarning: 'ASmac' already defined\n",
      "  \"\"\"Entry point for launching an IPython kernel.\n",
      "/usr/local/lib/python3.6/dist-packages/ipykernel_launcher.py:1: SymbolExistsWarning: 'cCytoC' already defined\n",
      "  \"\"\"Entry point for launching an IPython kernel.\n",
      "/usr/local/lib/python3.6/dist-packages/ipykernel_launcher.py:1: SymbolExistsWarning: 'Apaf' already defined\n",
      "  \"\"\"Entry point for launching an IPython kernel.\n",
      "/usr/local/lib/python3.6/dist-packages/ipykernel_launcher.py:1: SymbolExistsWarning: 'aApaf' already defined\n",
      "  \"\"\"Entry point for launching an IPython kernel.\n",
      "/usr/local/lib/python3.6/dist-packages/ipykernel_launcher.py:1: SymbolExistsWarning: 'pC9' already defined\n",
      "  \"\"\"Entry point for launching an IPython kernel.\n",
      "/usr/local/lib/python3.6/dist-packages/ipykernel_launcher.py:1: SymbolExistsWarning: 'Apop' already defined\n",
      "  \"\"\"Entry point for launching an IPython kernel.\n",
      "/usr/local/lib/python3.6/dist-packages/ipykernel_launcher.py:1: SymbolExistsWarning: 'cSmac' already defined\n",
      "  \"\"\"Entry point for launching an IPython kernel.\n"
     ]
    }
   ],
   "source": [
    "model.monomers = ComponentSet()\n",
    "for monomer in new_monomers:\n",
    "    exec(monomer)"
   ]
  },
  {
   "cell_type": "code",
   "execution_count": 10,
   "metadata": {},
   "outputs": [
    {
     "data": {
      "text/plain": [
       "ComponentSet([\n",
       " Monomer('L', ['b']),\n",
       " Monomer('pR', ['b']),\n",
       " Monomer('DISC', ['b']),\n",
       " Monomer('flip', ['b']),\n",
       " Monomer('pC8', ['b']),\n",
       " Monomer('C8', ['b']),\n",
       " Monomer('BAR', ['b']),\n",
       " Monomer('pC3', ['b']),\n",
       " Monomer('C3', ['b']),\n",
       " Monomer('pC6', ['b']),\n",
       " Monomer('C6', ['b']),\n",
       " Monomer('XIAP', ['b']),\n",
       " Monomer('C3_U', ['b']),\n",
       " Monomer('PARP', ['b']),\n",
       " Monomer('CPARP', ['b']),\n",
       " Monomer('Bid', ['b']),\n",
       " Monomer('tBid', ['b']),\n",
       " Monomer('Bcl2c', ['b']),\n",
       " Monomer('Bax', ['b']),\n",
       " Monomer('aBax', ['b']),\n",
       " Monomer('MBax', ['b']),\n",
       " Monomer('Bcl2', ['b']),\n",
       " Monomer('Bax2', ['b']),\n",
       " Monomer('Bax4', ['b']),\n",
       " Monomer('Mito', ['b']),\n",
       " Monomer('AMito', ['b']),\n",
       " Monomer('mCytoC', ['b']),\n",
       " Monomer('ACytoC', ['b']),\n",
       " Monomer('mSmac', ['b']),\n",
       " Monomer('ASmac', ['b']),\n",
       " Monomer('cCytoC', ['b']),\n",
       " Monomer('Apaf', ['b']),\n",
       " Monomer('aApaf', ['b']),\n",
       " Monomer('pC9', ['b']),\n",
       " Monomer('Apop', ['b']),\n",
       " Monomer('cSmac', ['b']),\n",
       " Monomer('met', ['name', 'loc', 'prot'], {'name': ['ACETYL_COA', 'CO_A', 'CPD_3561', 'CPD_3785', 'CPD_3801', 'D_ARABINOSE', 'Fructofuranose', 'MELIBIOSE', 'PROTON', 'WATER', '_6_Acetyl_beta_D_Galactose', 'alpha_ALLOLACTOSE', 'alpha_GALACTOSE', 'alpha_glucose', 'alpha_lactose', 'beta_ALLOLACTOSE', 'beta_GALACTOSE', 'beta_glucose', 'beta_lactose'], 'loc': ['cyt', 'per', 'ex']}),\n",
       " ])"
      ]
     },
     "execution_count": 10,
     "metadata": {},
     "output_type": "execute_result"
    }
   ],
   "source": [
    "model.monomers"
   ]
  },
  {
   "cell_type": "code",
   "execution_count": null,
   "metadata": {},
   "outputs": [],
   "source": []
  }
 ],
 "metadata": {
  "kernelspec": {
   "display_name": "Python 3",
   "language": "python",
   "name": "python3"
  },
  "language_info": {
   "codemirror_mode": {
    "name": "ipython",
    "version": 3
   },
   "file_extension": ".py",
   "mimetype": "text/x-python",
   "name": "python",
   "nbconvert_exporter": "python",
   "pygments_lexer": "ipython3",
   "version": "3.6.9"
  }
 },
 "nbformat": 4,
 "nbformat_minor": 2
}
