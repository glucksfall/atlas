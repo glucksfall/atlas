{
 "cells": [
  {
   "cell_type": "code",
   "execution_count": 1,
   "metadata": {},
   "outputs": [
    {
     "data": {
      "text/html": [
       "<style>.container { width: 95% !important; }</style>"
      ],
      "text/plain": [
       "<IPython.core.display.HTML object>"
      ]
     },
     "metadata": {},
     "output_type": "display_data"
    }
   ],
   "source": [
    "from IPython.core.display import display, HTML\n",
    "display(HTML(\"<style>.container { width: 95% !important; }</style>\"))"
   ]
  },
  {
   "cell_type": "code",
   "execution_count": 2,
   "metadata": {},
   "outputs": [],
   "source": [
    "from pysb import *\n",
    "from pysb.export import export\n",
    "from pysb.bng import generate_network, generate_equations\n",
    "from pysb.pathfinder import set_path\n",
    "from pysb.simulator import ScipyOdeSimulator, BngSimulator\n",
    "from pylab import linspace, plot, xlabel, ylabel, show\n",
    "\n",
    "import seaborn\n",
    "import matplotlib.pyplot as plt\n",
    "\n",
    "palette = seaborn.color_palette('colorblind')\n",
    "\n",
    "set_path('bng', '/opt/git-repositories/bionetgen.RuleWorld/bng2/')"
   ]
  },
  {
   "cell_type": "code",
   "execution_count": 3,
   "metadata": {},
   "outputs": [],
   "source": [
    "import os\n",
    "import re\n",
    "import numpy\n",
    "import pandas"
   ]
  },
  {
   "cell_type": "code",
   "execution_count": 4,
   "metadata": {},
   "outputs": [
    {
     "data": {
      "text/plain": [
       "<Model '_interactive_' (monomers: 0, rules: 0, parameters: 0, expressions: 0, compartments: 0) at 0x7fe7f6454eb8>"
      ]
     },
     "execution_count": 4,
     "metadata": {},
     "output_type": "execute_result"
    }
   ],
   "source": [
    "Model()"
   ]
  },
  {
   "cell_type": "code",
   "execution_count": 20,
   "metadata": {},
   "outputs": [],
   "source": [
    "with open('../lactose/networks/metabolism_v2.txt', 'r') as infile:\n",
    "    data = pandas.read_csv(infile, delimiter = '\\t', header = None, comment = '#')\n",
    "# data"
   ]
  },
  {
   "cell_type": "code",
   "execution_count": 6,
   "metadata": {},
   "outputs": [],
   "source": [
    "def monomers_from_metabolic_network(data, verbose = False):    \n",
    "    tmp = list(data.iloc[:, 2].values) + list(data.iloc[:, 3].values)\n",
    "    tmp = [ ' '.join(x.replace('PER-', '').split(', ')) for x in tmp]\n",
    "    tmp = ' '.join(tmp).split(' ')\n",
    "    # print(tmp)\n",
    "\n",
    "    metabolites = list(set(tmp)) # unique elements\n",
    "    for index, met in enumerate(metabolites):\n",
    "        if met[0].isdigit():\n",
    "            metabolites[index] = '_' + met\n",
    "\n",
    "    code = \"Monomer('met',\\n        ['name', 'loc', 'prot'],\\n\" \\\n",
    "          \"        { 'name' :\\n            [ \" + \\\n",
    "          ', '.join([ '\\'' + x.replace('-', '_') + '\\'' for x in sorted(metabolites)]) + \" ], \\n\" \\\n",
    "          \"          'loc' : ['cyt', 'per', 'ex']})\"\n",
    "\n",
    "    if verbose:\n",
    "        print(code)\n",
    "    code = code.replace('\\n', '')\n",
    "    exec(code)\n",
    "    \n",
    "    tmp = list(data.iloc[:, 0].values)\n",
    "    tmp = [ ' '.join(x.replace('PER-', '').split(', ')) for x in tmp]\n",
    "    tmp = ' '.join(tmp).split(' ')\n",
    "\n",
    "    complexes = []\n",
    "    p_monomers = []\n",
    "    proteins = list(set(tmp)) # unique elements\n",
    "    for index, protein in enumerate(proteins):\n",
    "        if protein[0].isdigit():\n",
    "            protein[index] = '_' + protein\n",
    "        if 'CPLX' in protein:\n",
    "            complexes.append(protein)\n",
    "        else:\n",
    "            if 'spontaneous' != protein:\n",
    "                p_monomers.append(protein)\n",
    "\n",
    "    code = \"Monomer('prot',\\n        ['name', 'loc', 'prot'],\\n\" \\\n",
    "          \"        { 'name' :\\n            [ \" + \\\n",
    "          ', '.join([ '\\'' + x.replace('-', '_') + '\\'' for x in sorted(p_monomers)]) + \" ], \\n\" \\\n",
    "          \"          'loc' : ['cyt', 'mem', 'per', 'ex']})\"\n",
    "\n",
    "    if verbose:\n",
    "        print(code)\n",
    "    code = code.replace('\\n', '')\n",
    "    exec(code)\n",
    "\n",
    "    code = \"Monomer('cplx',\\n        ['name', 'loc', 'prot'],\\n\" \\\n",
    "          \"        { 'name' :\\n            [ \" + \\\n",
    "          ', '.join([ '\\'' + x.replace('-', '_') + '\\'' for x in sorted(complexes)]) + \" ], \\n\" \\\n",
    "          \"          'loc' : ['cyt', 'mem', 'per', 'ex']})\"\n",
    "\n",
    "    if verbose:\n",
    "        print(code)\n",
    "    code = code.replace('\\n', '')\n",
    "    exec(code)\n",
    "    \n",
    "    return metabolites, p_monomers, complexes"
   ]
  },
  {
   "cell_type": "code",
   "execution_count": 7,
   "metadata": {},
   "outputs": [
    {
     "name": "stdout",
     "output_type": "stream",
     "text": [
      "Monomer('met',\n",
      "        ['name', 'loc', 'prot'],\n",
      "        { 'name' :\n",
      "            [ 'ACETYL_COA', 'CO_A', 'CPD_3561', 'CPD_3785', 'CPD_3801', 'D_ARABINOSE', 'Fructofuranose', 'MELIBIOSE', 'PROTON', 'WATER', '_6_Acetyl_beta_D_Galactose', 'alpha_ALLOLACTOSE', 'alpha_GALACTOSE', 'alpha_glucose', 'alpha_lactose', 'beta_ALLOLACTOSE', 'beta_GALACTOSE', 'beta_glucose', 'beta_lactose' ], \n",
      "          'loc' : ['cyt', 'per', 'ex']})\n",
      "Monomer('prot',\n",
      "        ['name', 'loc', 'prot'],\n",
      "        { 'name' :\n",
      "            [ 'LACY_MONOMER' ], \n",
      "          'loc' : ['cyt', 'mem', 'per', 'ex']})\n",
      "Monomer('cplx',\n",
      "        ['name', 'loc', 'prot'],\n",
      "        { 'name' :\n",
      "            [ 'BETAGALACTOSID_CPLX', 'GALACTOACETYLTRAN_CPLX' ], \n",
      "          'loc' : ['cyt', 'mem', 'per', 'ex']})\n"
     ]
    }
   ],
   "source": [
    "metabolites, p_monomers, complexes = monomers_from_metabolic_network(data, verbose = True)"
   ]
  },
  {
   "cell_type": "code",
   "execution_count": 8,
   "metadata": {},
   "outputs": [],
   "source": [
    "def model_from_metabolism(data, verbose = False):\n",
    "    for rxn in data.values:\n",
    "        # first, determine enzyme composition\n",
    "        if 'CPLX' in rxn[0]: # the enzyme is a complex alias\n",
    "            enzyme = 'cplx(name = \\'{:s}\\', loc = \\'cyt\\')'.format(rxn[0].replace('-', '_'))\n",
    "\n",
    "        elif rxn[0].startswith('['): # an enzymatic complex described by its monomers\n",
    "            monomers = rxn[0][1:-1].split(', ')\n",
    "            enzyme = []\n",
    "\n",
    "            ## create link indexes\n",
    "            dw = [None] * len(monomers)\n",
    "            start_link = 1\n",
    "            for index in range(len(monomers)-1):\n",
    "                dw[index] = start_link\n",
    "                start_link += 1\n",
    "            up = dw[-1:] + dw[:-1]\n",
    "\n",
    "            for index, monomer in enumerate(monomers):\n",
    "                enzyme.append('prot(name = \\'{:s}\\', loc = \\'cyt\\', up = {:s}, dw = {:s})'.format(monomer, str(up[index]), str(dw[index])))\n",
    "            enzyme = ' %\\n    '.join(enzyme)\n",
    "\n",
    "        else: # the enzyme is a monomer\n",
    "            enzyme = 'prot(name = \\'{:s}\\', loc = \\'cyt\\')'.format(rxn[0].replace('-', '_'))\n",
    "\n",
    "        # second, correct reaction names starting with a digit\n",
    "        name = rxn[1].replace('-', '_')\n",
    "        if name[0].isdigit():\n",
    "            name = '_' + name\n",
    "            \n",
    "        # third, correct metabolite names with dashes and create a list\n",
    "        substrates = rxn[2].replace('-', '_').split(', ')\n",
    "        products = rxn[3].replace('-', '_').split(', ')\n",
    "\n",
    "        # fourth, write LHS and RHS\n",
    "        LHS = []\n",
    "        RHS = []\n",
    "\n",
    "        for subs in substrates:\n",
    "            if subs[0].isdigit():\n",
    "                subs = '_' + subs\n",
    "\n",
    "            if 'PER' in subs:\n",
    "                LHS.append('met(name = \\'{:s}\\', loc = \\'per\\', prot = None)'.format(subs.replace('PER_', '')))\n",
    "            else:\n",
    "                LHS.append('met(name = \\'{:s}\\', loc = \\'cyt\\', prot = None)'.format(subs))\n",
    "\n",
    "        for prod in products:\n",
    "            if prod[0].isdigit():\n",
    "                prod = '_' + prod\n",
    "\n",
    "            if 'PER' in prod: # inverse transport reaction\n",
    "                RHS.append('met(name = \\'{:s}\\', loc = \\'per\\', prot = None)'.format(prod.replace('PER_', '')))\n",
    "            else:\n",
    "                RHS.append('met(name = \\'{:s}\\', loc = \\'cyt\\', prot = None)'.format(prod))\n",
    "\n",
    "        # fifth, match number of agents at both sides of the Rule\n",
    "        if len(substrates) < len(products):\n",
    "            for index in range(len(substrates), len(products)):\n",
    "                LHS.append('None')\n",
    "        elif len(products) < len(substrates):\n",
    "            for index in range(len(products), len(substrates)):\n",
    "                RHS.append('None')\n",
    "\n",
    "        # pretty print Rule\n",
    "        LHS = ' +\\n    '.join(LHS)\n",
    "        RHS = ' +\\n    '.join(RHS)\n",
    "\n",
    "        if rxn[0] == 'spontaneous':\n",
    "            code = 'Rule(\\'{:s}\\',\\n' \\\n",
    "                   '    {:s} |\\n'\\\n",
    "                   '    {:s}, \\n' \\\n",
    "                   '    Parameter(\\'fwd_{:s}\\', {:f}), \\n' \\\n",
    "                   '    Parameter(\\'rvs_{:s}\\', {:f}))' \\\n",
    "                   .format(name, LHS, RHS, name, float(rxn[4]), name, float(rxn[5]))\n",
    "\n",
    "        else: # need an enzyme\n",
    "            code = 'Rule(\\'{:s}\\',\\n' \\\n",
    "                   '    {:s} +\\n    {:s} | \\n' \\\n",
    "                   '    {:s} +\\n    {:s}, \\n' \\\n",
    "                   '    Parameter(\\'fwd_{:s}\\', {:f}), \\n' \\\n",
    "                   '    Parameter(\\'rvs_{:s}\\', {:f}))' \\\n",
    "                   .format(name, enzyme, LHS, enzyme, RHS, name, float(rxn[4]), name, float(rxn[5])).replace('-', '_')\n",
    "\n",
    "        if verbose:\n",
    "            print(code)\n",
    "            \n",
    "        # finally, execute code\n",
    "        code = code.replace('\\n', '')\n",
    "        try:\n",
    "            exec(code)\n",
    "        except:\n",
    "            continue\n",
    "\n",
    "    #     with open('reactions.py', 'a+') as outfile:\n",
    "    #         outfile.write(Rule)\n",
    "    #         outfile.write('\\n\\n')"
   ]
  },
  {
   "cell_type": "code",
   "execution_count": 9,
   "metadata": {
    "scrolled": false
   },
   "outputs": [
    {
     "name": "stdout",
     "output_type": "stream",
     "text": [
      "Rule('LACTOSE_MUTAROTATION',\n",
      "    met(name = 'alpha_lactose', loc = 'cyt', prot = None) |\n",
      "    met(name = 'beta_lactose', loc = 'cyt', prot = None), \n",
      "    Parameter('fwd_LACTOSE_MUTAROTATION', 1.000000), \n",
      "    Parameter('rvs_LACTOSE_MUTAROTATION', 1.000000))\n",
      "Rule('GALACTOSE_MUTAROTATION',\n",
      "    met(name = 'alpha_GALACTOSE', loc = 'cyt', prot = None) |\n",
      "    met(name = 'beta_GALACTOSE', loc = 'cyt', prot = None), \n",
      "    Parameter('fwd_GALACTOSE_MUTAROTATION', 1.000000), \n",
      "    Parameter('rvs_GALACTOSE_MUTAROTATION', 1.000000))\n",
      "Rule('GLUCOSE_MUTAROTATION',\n",
      "    met(name = 'alpha_glucose', loc = 'cyt', prot = None) |\n",
      "    met(name = 'beta_glucose', loc = 'cyt', prot = None), \n",
      "    Parameter('fwd_GLUCOSE_MUTAROTATION', 1.000000), \n",
      "    Parameter('rvs_GLUCOSE_MUTAROTATION', 1.000000))\n",
      "Rule('TRANS_RXN_24',\n",
      "    prot(name = 'LACY_MONOMER', loc = 'cyt') +\n",
      "    met(name = 'PROTON', loc = 'per', prot = None) +\n",
      "    met(name = 'alpha_lactose', loc = 'per', prot = None) | \n",
      "    prot(name = 'LACY_MONOMER', loc = 'cyt') +\n",
      "    met(name = 'PROTON', loc = 'cyt', prot = None) +\n",
      "    met(name = 'alpha_lactose', loc = 'cyt', prot = None), \n",
      "    Parameter('fwd_TRANS_RXN_24', 1.000000), \n",
      "    Parameter('rvs_TRANS_RXN_24', 0.000000))\n",
      "Rule('TRANS_RXN_24_beta',\n",
      "    prot(name = 'LACY_MONOMER', loc = 'cyt') +\n",
      "    met(name = 'PROTON', loc = 'per', prot = None) +\n",
      "    met(name = 'beta_lactose', loc = 'per', prot = None) | \n",
      "    prot(name = 'LACY_MONOMER', loc = 'cyt') +\n",
      "    met(name = 'PROTON', loc = 'cyt', prot = None) +\n",
      "    met(name = 'beta_lactose', loc = 'cyt', prot = None), \n",
      "    Parameter('fwd_TRANS_RXN_24_beta', 1.000000), \n",
      "    Parameter('rvs_TRANS_RXN_24_beta', 0.000000))\n",
      "Rule('TRANS_RXN_94',\n",
      "    prot(name = 'LACY_MONOMER', loc = 'cyt') +\n",
      "    met(name = 'PROTON', loc = 'per', prot = None) +\n",
      "    met(name = 'MELIBIOSE', loc = 'per', prot = None) | \n",
      "    prot(name = 'LACY_MONOMER', loc = 'cyt') +\n",
      "    met(name = 'PROTON', loc = 'cyt', prot = None) +\n",
      "    met(name = 'MELIBIOSE', loc = 'cyt', prot = None), \n",
      "    Parameter('fwd_TRANS_RXN_94', 1.000000), \n",
      "    Parameter('rvs_TRANS_RXN_94', 1.000000))\n",
      "Rule('RXN0_7215',\n",
      "    prot(name = 'LACY_MONOMER', loc = 'cyt') +\n",
      "    met(name = 'PROTON', loc = 'per', prot = None) +\n",
      "    met(name = 'CPD_3561', loc = 'per', prot = None) | \n",
      "    prot(name = 'LACY_MONOMER', loc = 'cyt') +\n",
      "    met(name = 'PROTON', loc = 'cyt', prot = None) +\n",
      "    met(name = 'CPD_3561', loc = 'cyt', prot = None), \n",
      "    Parameter('fwd_RXN0_7215', 1.000000), \n",
      "    Parameter('rvs_RXN0_7215', 1.000000))\n",
      "Rule('RXN0_7217',\n",
      "    prot(name = 'LACY_MONOMER', loc = 'cyt') +\n",
      "    met(name = 'PROTON', loc = 'per', prot = None) +\n",
      "    met(name = 'CPD_3785', loc = 'per', prot = None) | \n",
      "    prot(name = 'LACY_MONOMER', loc = 'cyt') +\n",
      "    met(name = 'PROTON', loc = 'cyt', prot = None) +\n",
      "    met(name = 'CPD_3785', loc = 'cyt', prot = None), \n",
      "    Parameter('fwd_RXN0_7217', 1.000000), \n",
      "    Parameter('rvs_RXN0_7217', 1.000000))\n",
      "Rule('RXN_17755',\n",
      "    prot(name = 'LACY_MONOMER', loc = 'cyt') +\n",
      "    met(name = 'PROTON', loc = 'per', prot = None) +\n",
      "    met(name = 'CPD_3801', loc = 'per', prot = None) | \n",
      "    prot(name = 'LACY_MONOMER', loc = 'cyt') +\n",
      "    met(name = 'PROTON', loc = 'cyt', prot = None) +\n",
      "    met(name = 'CPD_3801', loc = 'cyt', prot = None), \n",
      "    Parameter('fwd_RXN_17755', 1.000000), \n",
      "    Parameter('rvs_RXN_17755', 1.000000))\n",
      "Rule('BETAGALACTOSID_RXN',\n",
      "    cplx(name = 'BETAGALACTOSID_CPLX', loc = 'cyt') +\n",
      "    met(name = 'beta_lactose', loc = 'cyt', prot = None) +\n",
      "    met(name = 'WATER', loc = 'cyt', prot = None) | \n",
      "    cplx(name = 'BETAGALACTOSID_CPLX', loc = 'cyt') +\n",
      "    met(name = 'beta_GALACTOSE', loc = 'cyt', prot = None) +\n",
      "    met(name = 'beta_glucose', loc = 'cyt', prot = None), \n",
      "    Parameter('fwd_BETAGALACTOSID_RXN', 1.000000), \n",
      "    Parameter('rvs_BETAGALACTOSID_RXN', 0.000000))\n",
      "Rule('BETAGALACTOSID_RXN_alpha',\n",
      "    cplx(name = 'BETAGALACTOSID_CPLX', loc = 'cyt') +\n",
      "    met(name = 'alpha_lactose', loc = 'cyt', prot = None) +\n",
      "    met(name = 'WATER', loc = 'cyt', prot = None) | \n",
      "    cplx(name = 'BETAGALACTOSID_CPLX', loc = 'cyt') +\n",
      "    met(name = 'alpha_GALACTOSE', loc = 'cyt', prot = None) +\n",
      "    met(name = 'alpha_glucose', loc = 'cyt', prot = None), \n",
      "    Parameter('fwd_BETAGALACTOSID_RXN_alpha', 1.000000), \n",
      "    Parameter('rvs_BETAGALACTOSID_RXN_alpha', 0.000000))\n",
      "Rule('RXN0_5363',\n",
      "    cplx(name = 'BETAGALACTOSID_CPLX', loc = 'cyt') +\n",
      "    met(name = 'alpha_lactose', loc = 'cyt', prot = None) | \n",
      "    cplx(name = 'BETAGALACTOSID_CPLX', loc = 'cyt') +\n",
      "    met(name = 'alpha_ALLOLACTOSE', loc = 'cyt', prot = None), \n",
      "    Parameter('fwd_RXN0_5363', 1.000000), \n",
      "    Parameter('rvs_RXN0_5363', 1.000000))\n",
      "Rule('RXN0_5363_beta',\n",
      "    cplx(name = 'BETAGALACTOSID_CPLX', loc = 'cyt') +\n",
      "    met(name = 'beta_lactose', loc = 'cyt', prot = None) | \n",
      "    cplx(name = 'BETAGALACTOSID_CPLX', loc = 'cyt') +\n",
      "    met(name = 'beta_ALLOLACTOSE', loc = 'cyt', prot = None), \n",
      "    Parameter('fwd_RXN0_5363_beta', 1.000000), \n",
      "    Parameter('rvs_RXN0_5363_beta', 1.000000))\n",
      "Rule('ALLOLACTOSE_DEG_alpha',\n",
      "    cplx(name = 'BETAGALACTOSID_CPLX', loc = 'cyt') +\n",
      "    met(name = 'alpha_ALLOLACTOSE', loc = 'cyt', prot = None) +\n",
      "    None | \n",
      "    cplx(name = 'BETAGALACTOSID_CPLX', loc = 'cyt') +\n",
      "    met(name = 'alpha_GALACTOSE', loc = 'cyt', prot = None) +\n",
      "    met(name = 'alpha_glucose', loc = 'cyt', prot = None), \n",
      "    Parameter('fwd_ALLOLACTOSE_DEG_alpha', 1.000000), \n",
      "    Parameter('rvs_ALLOLACTOSE_DEG_alpha', 0.000000))\n",
      "Rule('ALLOLACTOSE_DEG_beta',\n",
      "    cplx(name = 'BETAGALACTOSID_CPLX', loc = 'cyt') +\n",
      "    met(name = 'beta_ALLOLACTOSE', loc = 'cyt', prot = None) +\n",
      "    None | \n",
      "    cplx(name = 'BETAGALACTOSID_CPLX', loc = 'cyt') +\n",
      "    met(name = 'beta_GALACTOSE', loc = 'cyt', prot = None) +\n",
      "    met(name = 'beta_glucose', loc = 'cyt', prot = None), \n",
      "    Parameter('fwd_ALLOLACTOSE_DEG_beta', 1.000000), \n",
      "    Parameter('rvs_ALLOLACTOSE_DEG_beta', 0.000000))\n",
      "Rule('RXN_17726',\n",
      "    cplx(name = 'BETAGALACTOSID_CPLX', loc = 'cyt') +\n",
      "    met(name = 'CPD_3561', loc = 'cyt', prot = None) +\n",
      "    met(name = 'WATER', loc = 'cyt', prot = None) | \n",
      "    cplx(name = 'BETAGALACTOSID_CPLX', loc = 'cyt') +\n",
      "    met(name = 'beta_GALACTOSE', loc = 'cyt', prot = None) +\n",
      "    met(name = 'Fructofuranose', loc = 'cyt', prot = None), \n",
      "    Parameter('fwd_RXN_17726', 1.000000), \n",
      "    Parameter('rvs_RXN_17726', 1.000000))\n",
      "Rule('RXN0_7219',\n",
      "    cplx(name = 'BETAGALACTOSID_CPLX', loc = 'cyt') +\n",
      "    met(name = 'CPD_3785', loc = 'cyt', prot = None) +\n",
      "    met(name = 'WATER', loc = 'cyt', prot = None) | \n",
      "    cplx(name = 'BETAGALACTOSID_CPLX', loc = 'cyt') +\n",
      "    met(name = 'beta_GALACTOSE', loc = 'cyt', prot = None) +\n",
      "    met(name = 'D_ARABINOSE', loc = 'cyt', prot = None), \n",
      "    Parameter('fwd_RXN0_7219', 1.000000), \n",
      "    Parameter('rvs_RXN0_7219', 1.000000))\n",
      "Rule('GALACTOACETYLTRAN_RXN_galactose',\n",
      "    cplx(name = 'GALACTOACETYLTRAN_CPLX', loc = 'cyt') +\n",
      "    met(name = 'beta_GALACTOSE', loc = 'cyt', prot = None) +\n",
      "    met(name = 'ACETYL_COA', loc = 'cyt', prot = None) | \n",
      "    cplx(name = 'GALACTOACETYLTRAN_CPLX', loc = 'cyt') +\n",
      "    met(name = '_6_Acetyl_beta_D_Galactose', loc = 'cyt', prot = None) +\n",
      "    met(name = 'CO_A', loc = 'cyt', prot = None), \n",
      "    Parameter('fwd_GALACTOACETYLTRAN_RXN_galactose', 1.000000), \n",
      "    Parameter('rvs_GALACTOACETYLTRAN_RXN_galactose', 1.000000))\n"
     ]
    }
   ],
   "source": [
    "model_from_metabolism(data, verbose = True)"
   ]
  },
  {
   "cell_type": "code",
   "execution_count": 10,
   "metadata": {},
   "outputs": [],
   "source": [
    "def observables_from_metabolic_network():\n",
    "    for name in sorted(metabolites):\n",
    "        name = name.replace('-','_')\n",
    "        for loc in ['cyt', 'per', 'ex']:\n",
    "            code = 'Observable(\\'obs_{:s}_{:s}\\', met(name = \\'{:s}\\', loc = \\'{:s}\\', prot = None))'.format(name, loc, name, loc)\n",
    "            code = code.replace('\\t', '')\n",
    "            exec(code)\n",
    "    \n",
    "    for name in sorted(metabolites):\n",
    "        name = name.replace('-','_')\n",
    "        for loc in ['cyt', 'per', 'ex']:\n",
    "            code = 'Initial(met(name = \\'{:s}\\', loc = \\'{:s}\\', prot = None), Parameter(\\'t0_{:s}_{:s}\\', 0))'.format(name, loc, name, loc)\n",
    "            code = code.replace('\\t', '')\n",
    "            exec(code)\n",
    "            \n",
    "    for name in sorted(p_monomers):\n",
    "        name = name.replace('-','_')\n",
    "        for loc in ['cyt', 'mem', 'per', 'ex']:\n",
    "            code = 'Initial(prot(name = \\'{:s}\\', loc = \\'{:s}\\', prot = None), Parameter(\\'t0_{:s}_{:s}\\', 0))'.format(name, loc, name, loc)\n",
    "            code = code.replace('\\t', '')\n",
    "            exec(code)\n",
    "            \n",
    "    for name in sorted(complexes):\n",
    "        name = name.replace('-','_')\n",
    "        for loc in ['cyt', 'mem', 'per', 'ex']:\n",
    "            code = 'Initial(cplx(name = \\'{:s}\\', loc = \\'{:s}\\', prot = None), Parameter(\\'t0_{:s}_{:s}\\', 0))'.format(name, loc, name, loc)\n",
    "            code = code.replace('\\t', '')\n",
    "            exec(code)"
   ]
  },
  {
   "cell_type": "code",
   "execution_count": 11,
   "metadata": {
    "scrolled": false
   },
   "outputs": [],
   "source": [
    "observables_from_metabolic_network()"
   ]
  },
  {
   "cell_type": "code",
   "execution_count": 12,
   "metadata": {},
   "outputs": [
    {
     "data": {
      "text/plain": [
       "['LACY_MONOMER']"
      ]
     },
     "execution_count": 12,
     "metadata": {},
     "output_type": "execute_result"
    }
   ],
   "source": [
    "model.monomers._elements[1].site_states['name']"
   ]
  },
  {
   "cell_type": "code",
   "execution_count": 13,
   "metadata": {},
   "outputs": [
    {
     "data": {
      "text/plain": [
       "[Observable('obs_ACETYL_COA_cyt', met(name='ACETYL_COA', loc='cyt', prot=None)),\n",
       " Observable('obs_ACETYL_COA_per', met(name='ACETYL_COA', loc='per', prot=None)),\n",
       " Observable('obs_ACETYL_COA_ex', met(name='ACETYL_COA', loc='ex', prot=None)),\n",
       " Observable('obs_CO_A_cyt', met(name='CO_A', loc='cyt', prot=None)),\n",
       " Observable('obs_CO_A_per', met(name='CO_A', loc='per', prot=None)),\n",
       " Observable('obs_CO_A_ex', met(name='CO_A', loc='ex', prot=None)),\n",
       " Observable('obs_CPD_3561_cyt', met(name='CPD_3561', loc='cyt', prot=None)),\n",
       " Observable('obs_CPD_3561_per', met(name='CPD_3561', loc='per', prot=None)),\n",
       " Observable('obs_CPD_3561_ex', met(name='CPD_3561', loc='ex', prot=None)),\n",
       " Observable('obs_CPD_3785_cyt', met(name='CPD_3785', loc='cyt', prot=None)),\n",
       " Observable('obs_CPD_3785_per', met(name='CPD_3785', loc='per', prot=None)),\n",
       " Observable('obs_CPD_3785_ex', met(name='CPD_3785', loc='ex', prot=None)),\n",
       " Observable('obs_CPD_3801_cyt', met(name='CPD_3801', loc='cyt', prot=None)),\n",
       " Observable('obs_CPD_3801_per', met(name='CPD_3801', loc='per', prot=None)),\n",
       " Observable('obs_CPD_3801_ex', met(name='CPD_3801', loc='ex', prot=None)),\n",
       " Observable('obs_D_ARABINOSE_cyt', met(name='D_ARABINOSE', loc='cyt', prot=None)),\n",
       " Observable('obs_D_ARABINOSE_per', met(name='D_ARABINOSE', loc='per', prot=None)),\n",
       " Observable('obs_D_ARABINOSE_ex', met(name='D_ARABINOSE', loc='ex', prot=None)),\n",
       " Observable('obs_Fructofuranose_cyt', met(name='Fructofuranose', loc='cyt', prot=None)),\n",
       " Observable('obs_Fructofuranose_per', met(name='Fructofuranose', loc='per', prot=None)),\n",
       " Observable('obs_Fructofuranose_ex', met(name='Fructofuranose', loc='ex', prot=None)),\n",
       " Observable('obs_MELIBIOSE_cyt', met(name='MELIBIOSE', loc='cyt', prot=None)),\n",
       " Observable('obs_MELIBIOSE_per', met(name='MELIBIOSE', loc='per', prot=None)),\n",
       " Observable('obs_MELIBIOSE_ex', met(name='MELIBIOSE', loc='ex', prot=None)),\n",
       " Observable('obs_PROTON_cyt', met(name='PROTON', loc='cyt', prot=None)),\n",
       " Observable('obs_PROTON_per', met(name='PROTON', loc='per', prot=None)),\n",
       " Observable('obs_PROTON_ex', met(name='PROTON', loc='ex', prot=None)),\n",
       " Observable('obs_WATER_cyt', met(name='WATER', loc='cyt', prot=None)),\n",
       " Observable('obs_WATER_per', met(name='WATER', loc='per', prot=None)),\n",
       " Observable('obs_WATER_ex', met(name='WATER', loc='ex', prot=None)),\n",
       " Observable('obs__6_Acetyl_beta_D_Galactose_cyt', met(name='_6_Acetyl_beta_D_Galactose', loc='cyt', prot=None)),\n",
       " Observable('obs__6_Acetyl_beta_D_Galactose_per', met(name='_6_Acetyl_beta_D_Galactose', loc='per', prot=None)),\n",
       " Observable('obs__6_Acetyl_beta_D_Galactose_ex', met(name='_6_Acetyl_beta_D_Galactose', loc='ex', prot=None)),\n",
       " Observable('obs_alpha_ALLOLACTOSE_cyt', met(name='alpha_ALLOLACTOSE', loc='cyt', prot=None)),\n",
       " Observable('obs_alpha_ALLOLACTOSE_per', met(name='alpha_ALLOLACTOSE', loc='per', prot=None)),\n",
       " Observable('obs_alpha_ALLOLACTOSE_ex', met(name='alpha_ALLOLACTOSE', loc='ex', prot=None)),\n",
       " Observable('obs_alpha_GALACTOSE_cyt', met(name='alpha_GALACTOSE', loc='cyt', prot=None)),\n",
       " Observable('obs_alpha_GALACTOSE_per', met(name='alpha_GALACTOSE', loc='per', prot=None)),\n",
       " Observable('obs_alpha_GALACTOSE_ex', met(name='alpha_GALACTOSE', loc='ex', prot=None)),\n",
       " Observable('obs_alpha_glucose_cyt', met(name='alpha_glucose', loc='cyt', prot=None)),\n",
       " Observable('obs_alpha_glucose_per', met(name='alpha_glucose', loc='per', prot=None)),\n",
       " Observable('obs_alpha_glucose_ex', met(name='alpha_glucose', loc='ex', prot=None)),\n",
       " Observable('obs_alpha_lactose_cyt', met(name='alpha_lactose', loc='cyt', prot=None)),\n",
       " Observable('obs_alpha_lactose_per', met(name='alpha_lactose', loc='per', prot=None)),\n",
       " Observable('obs_alpha_lactose_ex', met(name='alpha_lactose', loc='ex', prot=None)),\n",
       " Observable('obs_beta_ALLOLACTOSE_cyt', met(name='beta_ALLOLACTOSE', loc='cyt', prot=None)),\n",
       " Observable('obs_beta_ALLOLACTOSE_per', met(name='beta_ALLOLACTOSE', loc='per', prot=None)),\n",
       " Observable('obs_beta_ALLOLACTOSE_ex', met(name='beta_ALLOLACTOSE', loc='ex', prot=None)),\n",
       " Observable('obs_beta_GALACTOSE_cyt', met(name='beta_GALACTOSE', loc='cyt', prot=None)),\n",
       " Observable('obs_beta_GALACTOSE_per', met(name='beta_GALACTOSE', loc='per', prot=None)),\n",
       " Observable('obs_beta_GALACTOSE_ex', met(name='beta_GALACTOSE', loc='ex', prot=None)),\n",
       " Observable('obs_beta_glucose_cyt', met(name='beta_glucose', loc='cyt', prot=None)),\n",
       " Observable('obs_beta_glucose_per', met(name='beta_glucose', loc='per', prot=None)),\n",
       " Observable('obs_beta_glucose_ex', met(name='beta_glucose', loc='ex', prot=None)),\n",
       " Observable('obs_beta_lactose_cyt', met(name='beta_lactose', loc='cyt', prot=None)),\n",
       " Observable('obs_beta_lactose_per', met(name='beta_lactose', loc='per', prot=None)),\n",
       " Observable('obs_beta_lactose_ex', met(name='beta_lactose', loc='ex', prot=None))]"
      ]
     },
     "execution_count": 13,
     "metadata": {},
     "output_type": "execute_result"
    }
   ],
   "source": [
    "model.observables._elements"
   ]
  },
  {
   "cell_type": "code",
   "execution_count": 14,
   "metadata": {},
   "outputs": [],
   "source": [
    "def set_initial(name, loc, new_value):\n",
    "    for i in model.parameters._elements:\n",
    "        if 't0_' + name + '_' + loc in i.name:\n",
    "            i.value = new_value"
   ]
  },
  {
   "cell_type": "code",
   "execution_count": 15,
   "metadata": {},
   "outputs": [],
   "source": [
    "set_initial('beta_lactose', 'per', 100)\n",
    "set_initial('PROTON', 'per', 100)\n",
    "set_initial('WATER', 'cyt', 100)\n",
    "\n",
    "set_initial('BETAGALACTOSID_CPLX', 'cyt', 1)\n",
    "set_initial('GALACTOACETYLTRAN_CPLX', 'cyt', 1)\n",
    "set_initial('LACY_MONOMER', 'cyt', 1)"
   ]
  },
  {
   "cell_type": "code",
   "execution_count": 16,
   "metadata": {},
   "outputs": [],
   "source": [
    "generate_network(model)\n",
    "generate_equations(model)"
   ]
  },
  {
   "cell_type": "code",
   "execution_count": 17,
   "metadata": {},
   "outputs": [],
   "source": [
    "with open('test.kappa', 'w') as outfile:\n",
    "    outfile.write(export(model, 'kappa'))"
   ]
  },
  {
   "cell_type": "code",
   "execution_count": 18,
   "metadata": {},
   "outputs": [],
   "source": [
    "if True:\n",
    "    runs = 20\n",
    "    # data1 = ScipyOdeSimulator(model, linspace(0, 100, 200)).run().dataframe\n",
    "    data1 = BngSimulator(model, linspace(0, 5, 501)).run(method = 'ode').dataframe\n",
    "    data2 = BngSimulator(model, linspace(0, 5, 501)).run(method = 'ssa', n_runs = runs).dataframe\n",
    "\n",
    "    data = []\n",
    "    for i in range(0,runs):\n",
    "        data.append(data2.xs(i))\n",
    "\n",
    "    avrg = 0\n",
    "    for i in range(0,runs):\n",
    "        avrg += data[i]\n",
    "    avrg = avrg / runs\n",
    "\n",
    "    stdv = 0\n",
    "    for i in range(0,runs):\n",
    "        stdv = (data[i] - avrg)**2\n",
    "    stdv = (stdv / (runs-1))**0.5\n",
    "\n",
    "    data2 = data[0]"
   ]
  },
  {
   "cell_type": "code",
   "execution_count": 19,
   "metadata": {},
   "outputs": [
    {
     "data": {
      "image/png": "[encoded data removed]",
      "text/plain": [
       "<Figure size 800x300 with 2 Axes>"
      ]
     },
     "metadata": {
      "needs_background": "light"
     },
     "output_type": "display_data"
    }
   ],
   "source": [
    "if True:\n",
    "    fig, ax = plt.subplots(1, 2, figsize = (4*2, 3*1), dpi = 100)\n",
    "    ax[0].plot(data1.index, data1['obs_alpha_lactose_cyt'], label = r'$\\alpha$-lactose')\n",
    "#     ax[0].scatter(data2.index, data2['obs_alpha_lactose_cyt'], label = None, s = 1)\n",
    "    ax[0].plot(data1.index, data1['obs_beta_lactose_cyt'], label = r'$\\beta$-lactose')\n",
    "#     ax[0].scatter(data2.index, data2['obs_beta_lactose_cyt'], label = None, s = 1)\n",
    "\n",
    "    ax[1].plot(data1.index, data1['obs_alpha_lactose_per'], label = r'$\\alpha$-lactose')\n",
    "#     ax[1].scatter(data2.index, data2['obs_alpha_lactose_per'], label = None, s = 1)\n",
    "    ax[1].plot(data1.index, data1['obs_beta_lactose_per'], label = r'$\\beta$-lactose')\n",
    "#     ax[1].scatter(data2.index, data2['obs_beta_lactose_per'], label = None, s = 1)\n",
    "\n",
    "    ax[0].legend(frameon = False)\n",
    "    ax[1].legend(frameon = False)\n",
    "\n",
    "    seaborn.despine()\n",
    "    # plt.savefig('model_complete_fig0.png', format = 'png', bbox_inches = 'tight', dpi = 300)\n",
    "    plt.show()"
   ]
  },
  {
   "cell_type": "code",
   "execution_count": null,
   "metadata": {},
   "outputs": [],
   "source": []
  }
 ],
 "metadata": {
  "kernelspec": {
   "display_name": "Python 3",
   "language": "python",
   "name": "python3"
  },
  "language_info": {
   "codemirror_mode": {
    "name": "ipython",
    "version": 3
   },
   "file_extension": ".py",
   "mimetype": "text/x-python",
   "name": "python",
   "nbconvert_exporter": "python",
   "pygments_lexer": "ipython3",
   "version": "3.6.9"
  }
 },
 "nbformat": 4,
 "nbformat_minor": 2
}
