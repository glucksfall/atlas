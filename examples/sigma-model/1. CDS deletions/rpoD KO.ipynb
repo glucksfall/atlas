{
 "cells": [
  {
   "cell_type": "code",
   "execution_count": 1,
   "metadata": {},
   "outputs": [
    {
     "data": {
      "text/html": [
       "<style>.container { width: 95% !important; }</style>"
      ],
      "text/plain": [
       "<IPython.core.display.HTML object>"
      ]
     },
     "metadata": {},
     "output_type": "display_data"
    }
   ],
   "source": [
    "# expand cells to the 95% of the display width\n",
    "from IPython.core.display import display, HTML\n",
    "display(HTML(\"<style>.container { width: 95% !important; }</style>\"))"
   ]
  },
  {
   "cell_type": "markdown",
   "metadata": {},
   "source": [
    "# Automatic rule-based modeling of the *Escherichia coli* Gene Regulatory Network of the RNA Polymerase and Sigma Factors"
   ]
  },
  {
   "cell_type": "markdown",
   "metadata": {},
   "source": [
    "Authors: Rodrigo Santibáñez[1,2], Daniel Garrido[2], and Alberto Martín[1]\n",
    "\n",
    "Date: September 2020\n",
    "\n",
    "Affiliations:\n",
    "1. Centro de Genómica y Bioinformática, Facultad de Ciencias, Universidad Mayor, Santiago, 8580745, Chile.\n",
    "2. Department of Chemical and Bioprocess Engineering, School of Engineering, Pontificia Universidad Católica de Chile, Santiago, 7820436, Chile\n",
    "\n",
    "Notes: This tutorial was created for the manuscript \"*Atlas*: Automatic modeling of regulation of bacterial gene expression and metabolism using rule-based languages\", first submitted for peer-review to Bioinformatics on May, 2020."
   ]
  },
  {
   "cell_type": "markdown",
   "metadata": {},
   "source": [
    "## Prerequisites"
   ]
  },
  {
   "cell_type": "markdown",
   "metadata": {},
   "source": [
    "0. The tutorial was prepared and executed on Ubuntu 20.04, PathwayTools version 24, and docker engine version 19.03.8.<br/><br/>\n",
    "\n",
    "1. PathwayTools must be installed and running to obtain data from the EcoCyc database. Please, run ```pathway-tools -lisp -python-local-only``` before to obtain any data.<br/>\n",
    "   (Optional) The PathwayTools software could be executed in the background, with help of ```nohup pathway-tools -lisp -python-local-only > /dev/null 2> /dev/null &```.<br/>\n",
    "   Please follow instructions at http://pathwaytools.org/ to obtain a licensed copy of the software from https://biocyc.org/download-bundle.shtml. However, data could be manually formatted using a text-based editor or a spreadsheet software.\n",
    "   \n",
    "   Note: If you ran into the ```pathway-tools/aic-export/pathway-tools/ptools/22.5/exe/aclssl.so: undefined symbol: CRYPTO_set_locking_callback``` error, please follow instructions here: https://github.com/glucksfall/atlas/tree/master/PTools. Instructions will guide you to install a docker image that is able to run pathway tools, but does not include it, so you still need to obtain the software with a valid license.<br/><br/>\n",
    "   \n",
    "2. (Highly recommended) Install Docker. Please follow instructions for a supported Operating System https://docs.docker.com/engine/install/:<br/>\n",
    "   On Ubuntu, install it with ```apt-get install docker.io```.<br/>\n",
    "   On Win10, install Docker Desktop with WSL2 support https://docs.docker.com/docker-for-windows/wsl/.<br/>\n",
    "   On MacOS, install Docker Desktop https://docs.docker.com/docker-for-mac/install/.<br/><br/>\n",
    "   The Docker ```networkbiolab/pleiades```installs the python packages, the jupyter server, and the stochastic simulators.<br/><br/>\n",
    "\n",
    "3. (Recommended) Jupyter notebook. We recommend the use of Anaconda3 https://www.anaconda.com/products/individual because of the easier installation of the stochastic simulators from https://anaconda.org/alubbock.<br/><br/>\n",
    "\n",
    "4. (Optional) A stochastic simulator, supported by the pySB python package ([BNG2](https://github.com/RuleWorld/bionetgen), [NFsim](https://github.com/ruleworld/nfsim/tree/9178d44455f6e27a81f398074eeaafb2a1a4b4bd), [KaSim](https://github.com/Kappa-Dev/KappaTools) or [Stochkit](https://github.com/StochSS/StochKit)). pySB requires BNG2 to simulate models with NFsim.<br/><br/>\n",
    "\n",
    "5. (Optional) Cytoscape to visualize metabolic networks and others."
   ]
  },
  {
   "cell_type": "markdown",
   "metadata": {},
   "source": [
    "## Preamble: load *Atlas*"
   ]
  },
  {
   "cell_type": "code",
   "execution_count": 2,
   "metadata": {},
   "outputs": [],
   "source": [
    "# testing source code\n",
    "import sys\n",
    "sys.path.append(\"../../..\")\n",
    "\n",
    "import atlas_rbm.atlas as atlas\n",
    "import atlas_rbm.utils as utils\n",
    "import atlas_rbm.export as export\n",
    "import atlas_rbm.simulation as simulation"
   ]
  },
  {
   "cell_type": "markdown",
   "metadata": {},
   "source": [
    "## Modeling"
   ]
  },
  {
   "cell_type": "code",
   "execution_count": 3,
   "metadata": {},
   "outputs": [
    {
     "name": "stdout",
     "output_type": "stream",
     "text": [
      "CPU times: user 844 ms, sys: 32.3 ms, total: 877 ms\n",
      "Wall time: 875 ms\n"
     ]
    },
    {
     "data": {
      "text/plain": [
       "<Model 'atlas_rbm.construct_model_from_interaction_network' (monomers: 1, rules: 10, parameters: 40, expressions: 0, compartments: 0) at 0x7f83b025f3d0>"
      ]
     },
     "execution_count": 3,
     "metadata": {},
     "output_type": "execute_result"
    }
   ],
   "source": [
    "%time model1 = atlas.construct_model_from_interaction_network('../input_networks/network-ProtProt.txt')\n",
    "model1"
   ]
  },
  {
   "cell_type": "code",
   "execution_count": 4,
   "metadata": {},
   "outputs": [
    {
     "name": "stdout",
     "output_type": "stream",
     "text": [
      "CPU times: user 2.08 s, sys: 17.6 ms, total: 2.1 s\n",
      "Wall time: 2.09 s\n"
     ]
    },
    {
     "data": {
      "text/plain": [
       "<Model 'atlas_rbm.construct_model_from_sigma_specificity_network' (monomers: 4, rules: 112, parameters: 177, expressions: 0, compartments: 0) at 0x7f834d76caf0>"
      ]
     },
     "execution_count": 4,
     "metadata": {},
     "output_type": "execute_result"
    }
   ],
   "source": [
    "%time model2 = atlas.construct_model_from_sigma_specificity_network(promoters = '../input_networks/network-sigma-specificity.txt', architecture = 'rpoD-network-operon-arq.txt')\n",
    "model2"
   ]
  },
  {
   "cell_type": "code",
   "execution_count": 5,
   "metadata": {},
   "outputs": [
    {
     "name": "stdout",
     "output_type": "stream",
     "text": [
      "CPU times: user 2.48 s, sys: 29.2 ms, total: 2.51 s\n",
      "Wall time: 2.5 s\n"
     ]
    },
    {
     "data": {
      "text/plain": [
       "<Model 'atlas_rbm.atlas' (monomers: 4, rules: 122, parameters: 208, expressions: 0, compartments: 0) at 0x7f83b02644f0>"
      ]
     },
     "execution_count": 5,
     "metadata": {},
     "output_type": "execute_result"
    }
   ],
   "source": [
    "%time combined = atlas.combine_models([model1, model2])\n",
    "combined"
   ]
  },
  {
   "cell_type": "markdown",
   "metadata": {},
   "source": [
    "To simulate, we need to set the initial condition:"
   ]
  },
  {
   "cell_type": "code",
   "execution_count": 6,
   "metadata": {},
   "outputs": [
    {
     "name": "stdout",
     "output_type": "stream",
     "text": [
      "Initial t0_dna_rpoD_cyt not found. Creating Initial t0_dna_rpoD_cyt...\n"
     ]
    },
    {
     "ename": "TypeError",
     "evalue": "unsupported format string passed to type.__format__",
     "output_type": "error",
     "traceback": [
      "\u001b[0;31m---------------------------------------------------------------------------\u001b[0m",
      "\u001b[0;31mTypeError\u001b[0m                                 Traceback (most recent call last)",
      "\u001b[0;32m<ipython-input-6-5862998e8421>\u001b[0m in \u001b[0;36m<module>\u001b[0;34m\u001b[0m\n\u001b[1;32m     15\u001b[0m \u001b[0msimulation\u001b[0m\u001b[0;34m.\u001b[0m\u001b[0mset_initial\u001b[0m\u001b[0;34m.\u001b[0m\u001b[0mdna\u001b[0m\u001b[0;34m(\u001b[0m\u001b[0mcombined\u001b[0m\u001b[0;34m,\u001b[0m \u001b[0;34m'rpoA'\u001b[0m\u001b[0;34m,\u001b[0m \u001b[0;36m1\u001b[0m\u001b[0;34m)\u001b[0m\u001b[0;34m\u001b[0m\u001b[0;34m\u001b[0m\u001b[0m\n\u001b[1;32m     16\u001b[0m \u001b[0msimulation\u001b[0m\u001b[0;34m.\u001b[0m\u001b[0mset_initial\u001b[0m\u001b[0;34m.\u001b[0m\u001b[0mdna\u001b[0m\u001b[0;34m(\u001b[0m\u001b[0mcombined\u001b[0m\u001b[0;34m,\u001b[0m \u001b[0;34m'rpoBrpoC'\u001b[0m\u001b[0;34m,\u001b[0m \u001b[0;36m1\u001b[0m\u001b[0;34m)\u001b[0m\u001b[0;34m\u001b[0m\u001b[0;34m\u001b[0m\u001b[0m\n\u001b[0;32m---> 17\u001b[0;31m \u001b[0msimulation\u001b[0m\u001b[0;34m.\u001b[0m\u001b[0mset_initial\u001b[0m\u001b[0;34m.\u001b[0m\u001b[0mdna\u001b[0m\u001b[0;34m(\u001b[0m\u001b[0mcombined\u001b[0m\u001b[0;34m,\u001b[0m \u001b[0;34m'rpoD'\u001b[0m\u001b[0;34m,\u001b[0m \u001b[0;36m1\u001b[0m\u001b[0;34m)\u001b[0m\u001b[0;34m\u001b[0m\u001b[0;34m\u001b[0m\u001b[0m\n\u001b[0m\u001b[1;32m     18\u001b[0m \u001b[0msimulation\u001b[0m\u001b[0;34m.\u001b[0m\u001b[0mset_initial\u001b[0m\u001b[0;34m.\u001b[0m\u001b[0mdna\u001b[0m\u001b[0;34m(\u001b[0m\u001b[0mcombined\u001b[0m\u001b[0;34m,\u001b[0m \u001b[0;34m'rpoE'\u001b[0m\u001b[0;34m,\u001b[0m \u001b[0;36m1\u001b[0m\u001b[0;34m)\u001b[0m\u001b[0;34m\u001b[0m\u001b[0;34m\u001b[0m\u001b[0m\n\u001b[1;32m     19\u001b[0m \u001b[0msimulation\u001b[0m\u001b[0;34m.\u001b[0m\u001b[0mset_initial\u001b[0m\u001b[0;34m.\u001b[0m\u001b[0mdna\u001b[0m\u001b[0;34m(\u001b[0m\u001b[0mcombined\u001b[0m\u001b[0;34m,\u001b[0m \u001b[0;34m'rpoH'\u001b[0m\u001b[0;34m,\u001b[0m \u001b[0;36m1\u001b[0m\u001b[0;34m)\u001b[0m\u001b[0;34m\u001b[0m\u001b[0;34m\u001b[0m\u001b[0m\n",
      "\u001b[0;32m/opt/repositories/git-reps/atlas.glucksfall/atlas_rbm/simulation.py\u001b[0m in \u001b[0;36mdna\u001b[0;34m(model, name, new_value)\u001b[0m\n\u001b[1;32m     63\u001b[0m                 \u001b[0;32mif\u001b[0m \u001b[0mnotFound\u001b[0m\u001b[0;34m:\u001b[0m\u001b[0;34m\u001b[0m\u001b[0;34m\u001b[0m\u001b[0m\n\u001b[1;32m     64\u001b[0m                         \u001b[0malias_model_components\u001b[0m\u001b[0;34m(\u001b[0m\u001b[0mmodel\u001b[0m\u001b[0;34m)\u001b[0m\u001b[0;34m\u001b[0m\u001b[0;34m\u001b[0m\u001b[0m\n\u001b[0;32m---> 65\u001b[0;31m \t\t\texec('Initial(dna(name = \\'{:s}\\', type = \\'{:s}\\', loc = \\'cyt\\', dna = None, met = None, prot = None, rna = None, up = None, dw = None), ' \\\n\u001b[0m\u001b[1;32m     66\u001b[0m \t\t\t\t'Parameter(\\'t0_dna_{:s}\\', {:f}))'.format(name, type, name, new_value))\n\u001b[1;32m     67\u001b[0m \t\t\texec('Observable(\\'obs_dna_{:s}_{:s}\\', ' \\\n",
      "\u001b[0;31mTypeError\u001b[0m: unsupported format string passed to type.__format__"
     ]
    }
   ],
   "source": [
    "# initial condition\n",
    "# proteins\n",
    "simulation.set_initial.prot(combined, 'rpoA', 'cyt', 56) # 2 copies per edge in the GRN\n",
    "simulation.set_initial.prot(combined, 'rpoB', 'cyt', 28)\n",
    "simulation.set_initial.prot(combined, 'rpoC', 'cyt', 28)\n",
    "simulation.set_initial.prot(combined, 'rpoD', 'cyt', 9)\n",
    "simulation.set_initial.prot(combined, 'rpoE', 'cyt', 4)\n",
    "simulation.set_initial.prot(combined, 'rpoH', 'cyt', 2)\n",
    "simulation.set_initial.prot(combined, 'rpoN', 'cyt', 3)\n",
    "simulation.set_initial.prot(combined, 'rpoS', 'cyt', 7)\n",
    "simulation.set_initial.prot(combined, 'fliA', 'cyt', 3)\n",
    "simulation.set_initial.prot(combined, 'fecI', 'cyt', 0)\n",
    "\n",
    "# genes\n",
    "simulation.set_initial.dna(combined, 'rpoA', 1)\n",
    "simulation.set_initial.dna(combined, 'rpoBrpoC', 1)\n",
    "simulation.set_initial.dna(combined, 'rpoD', 1)\n",
    "simulation.set_initial.dna(combined, 'rpoE', 1)\n",
    "simulation.set_initial.dna(combined, 'rpoH', 1)\n",
    "simulation.set_initial.dna(combined, 'rpoN', 1)\n",
    "simulation.set_initial.dna(combined, 'rpoS', 1)\n",
    "simulation.set_initial.dna(combined, 'fliA', 1)\n",
    "simulation.set_initial.dna(combined, 'fecI', 1)"
   ]
  },
  {
   "cell_type": "code",
   "execution_count": null,
   "metadata": {},
   "outputs": [],
   "source": [
    "# simulation\n",
    "bng = '/opt/git-repositories/bionetgen.RuleWorld/bng2/'\n",
    "kasim = '/opt/git-repositories/KaSim4.Kappa-Dev/'\n",
    "\n",
    "# %time data1 = simulation.scipy(combined, start = 0, finish = 10, points = 500)\n",
    "%time data2 = simulation.kasim(combined, start = 0, finish = 100, points = 100, n_runs = 100, path = kasim)"
   ]
  },
  {
   "cell_type": "markdown",
   "metadata": {},
   "source": [
    "Finally, we plot the simulation results. The result of the ```simulation.ode()``` function is a pandas dataframe. In the case of stochastic simulations (SSA, KaSim, NFsim, Stochkit), the function returns a dictionary with a list of dataframe for each simulations (```sims``` key), and dataframe with the average (```avrg``` key) and a dataframe with the standard deviation (```stdv``` key) of those simulations. Currently, we included three kind of plots, although the user could access the dataframes and plot diretly with methods in the seaborn package (https://seaborn.pydata.org/), in the pandas package (https://pandas.pydata.org/pandas-docs/stable/reference/api/pandas.DataFrame.plot.html), or with matplotlib (https://matplotlib.org/)."
   ]
  },
  {
   "cell_type": "code",
   "execution_count": null,
   "metadata": {},
   "outputs": [],
   "source": [
    "import seaborn\n",
    "import matplotlib.pyplot as plt\n",
    "\n",
    "for key in [\n",
    "#     'figure.titlesize',\n",
    "    'font.size',\n",
    "#     'legend.fontsize',\n",
    "#     'legend.title_fontsize',\n",
    "    'font.size', \n",
    "#     'xtick.labelsize',\n",
    "    'xtick.major.size',\n",
    "    'xtick.minor.size',\n",
    "#     'ytick.labelsize',\n",
    "    'ytick.major.size',\n",
    "    'ytick.minor.size']:\n",
    "    plt.rcParams[key] = plt.rcParams[key] * 1.1\n",
    "\n",
    "palette = seaborn.color_palette('colorblind')"
   ]
  },
  {
   "cell_type": "code",
   "execution_count": null,
   "metadata": {},
   "outputs": [],
   "source": [
    "kind = 'fill_between'\n",
    "fig, ax = plt.subplots(1, 2, figsize = (4*2, 3*1), dpi = 200)\n",
    "\n",
    "# first plot\n",
    "simulation.plot.rna(data2['avrg'], 'rpoA_CDS', ax = ax[0], plt_kws = {'label' : r'rpoA mRNA'})\n",
    "simulation.plot.rna(data2['avrg'], 'rpoB_CDS', ax = ax[0], plt_kws = {'label' : r'rpoB mRNA'})\n",
    "simulation.plot.rna(data2['avrg'], 'rpoC_CDS', ax = ax[0], plt_kws = {'label' : r'rpoC mRNA'})\n",
    "simulation.plot.rna(data2['avrg'], 'rpoD_CDS', ax = ax[0], plt_kws = {'label' : r'rpoD mRNA'})\n",
    "simulation.plot.rna(data2['avrg'], 'rpoE_CDS', ax = ax[0], plt_kws = {'label' : r'rpoE mRNA'})\n",
    "\n",
    "# second plot\n",
    "simulation.plot.rna(data2['avrg'], 'rpoH_CDS', ax = ax[1], plt_kws = {'label' : r'rpoH mRNA'})\n",
    "simulation.plot.rna(data2['avrg'], 'rpoN_CDS', ax = ax[1], plt_kws = {'label' : r'rpoN mRNA'})\n",
    "simulation.plot.rna(data2['avrg'], 'rpoS_CDS', ax = ax[1], plt_kws = {'label' : r'rpoS mRNA'})\n",
    "simulation.plot.rna(data2['avrg'], 'fecI_CDS', ax = ax[1], plt_kws = {'label' : r'fecI mRNA'})\n",
    "simulation.plot.rna(data2['avrg'], 'fliA_CDS', ax = ax[1], plt_kws = {'label' : r'fliA mRNA'})\n",
    "\n",
    "ax[0].set_xlabel('Time [A.U.]')\n",
    "ax[0].set_ylabel('Concentration [A.U.]')\n",
    "ax[0].set_title('Cytoplasm')\n",
    "ax[0].set_ylim(top = 50, bottom = 0)\n",
    "\n",
    "ax[1].set_xlabel('Time [A.U.]')\n",
    "ax[1].set_title('Cytoplasm')\n",
    "ax[1].set_ylim(top = 50, bottom = 0)\n",
    "\n",
    "ax[0].legend(frameon = False)\n",
    "ax[1].legend(frameon = False)\n",
    "\n",
    "seaborn.despine()\n",
    "plt.savefig('figure_rpoD_avrg.pdf', format = 'pdf', bbox_inches = 'tight', dpi = 300)\n",
    "plt.savefig('figure_rpoD_avrg.png', format = 'png', bbox_inches = 'tight', dpi = 300)\n",
    "plt.savefig('figure_rpoD_avrg.jpg', format = 'jpg', bbox_inches = 'tight', dpi = 300)\n",
    "\n",
    "plt.show()"
   ]
  },
  {
   "cell_type": "code",
   "execution_count": null,
   "metadata": {},
   "outputs": [],
   "source": [
    "kind = 'fill_between'\n",
    "fig, ax = plt.subplots(1, 2, figsize = (4*2, 3*1), dpi = 200)\n",
    "\n",
    "# first plot\n",
    "simulation.plot.rna(\n",
    "    data2, 'rpoA_CDS', ax = ax[0], **{'kind' : kind, 'weight' : 0.5}, \n",
    "    plt_kws = {'s' : 2, 'color' : palette[0], 'alpha' : .5, 'label' : r'rpoA mRNA'})\n",
    "simulation.plot.rna(\n",
    "    data2, 'rpoB_CDS', ax = ax[0], **{'kind' : kind, 'weight' : 0.5}, \n",
    "    plt_kws = {'s' : 2, 'color' : palette[1], 'alpha' : .5, 'label' : r'rpoB mRNA'})\n",
    "simulation.plot.rna(\n",
    "    data2, 'rpoC_CDS', ax = ax[0], **{'kind' : kind, 'weight' : 0.5}, \n",
    "    plt_kws = {'s' : 2, 'color' : palette[2], 'alpha' : .5, 'label' : r'rpoC mRNA'})\n",
    "simulation.plot.rna(\n",
    "    data2, 'rpoD_CDS', ax = ax[0], **{'kind' : kind, 'weight' : 0.5}, \n",
    "    plt_kws = {'s' : 2, 'color' : palette[3], 'alpha' : .5, 'label' : r'rpoD mRNA'})\n",
    "simulation.plot.rna(\n",
    "    data2, 'rpoE_CDS', ax = ax[0], **{'kind' : kind, 'weight' : 0.5}, \n",
    "    plt_kws = {'s' : 2, 'color' : palette[4], 'alpha' : .5, 'label' : r'rpoE mRNA'})\n",
    "\n",
    "# second plot\n",
    "simulation.plot.rna(\n",
    "    data2, 'rpoH_CDS', ax = ax[1], **{'kind' : kind, 'weight' : 0.5}, \n",
    "    plt_kws = {'s' : 2, 'color' : palette[0], 'alpha' : .5, 'label' : r'rpoH mRNA'})\n",
    "simulation.plot.rna(\n",
    "    data2, 'rpoN_CDS', ax = ax[1], **{'kind' : kind, 'weight' : 0.5}, \n",
    "    plt_kws = {'s' : 2, 'color' : palette[1], 'alpha' : .5, 'label' : r'rpoN mRNA'})\n",
    "simulation.plot.rna(\n",
    "    data2, 'rpoS_CDS', ax = ax[1], **{'kind' : kind, 'weight' : 0.5}, \n",
    "    plt_kws = {'s' : 2, 'color' : palette[2], 'alpha' : .5, 'label' : r'rpoS mRNA'})\n",
    "simulation.plot.rna(\n",
    "    data2, 'fecI_CDS', ax = ax[1], **{'kind' : kind, 'weight' : 0.5}, \n",
    "    plt_kws = {'s' : 2, 'color' : palette[3], 'alpha' : .5, 'label' : r'fecI mRNA'})\n",
    "simulation.plot.rna(\n",
    "    data2, 'fliA_CDS', ax = ax[1], **{'kind' : kind, 'weight' : 0.5}, \n",
    "    plt_kws = {'s' : 2, 'color' : palette[4], 'alpha' : .5, 'label' : r'fliA mRNA'})\n",
    "\n",
    "ax[0].set_xlabel('Time [A.U.]')\n",
    "ax[0].set_ylabel('Concentration [A.U.]')\n",
    "ax[0].set_ylim(top = 50, bottom = 0)\n",
    "\n",
    "ax[1].set_xlabel('Time [A.U.]')\n",
    "ax[1].set_ylim(top = 50, bottom = 0)\n",
    "\n",
    "ax[0].legend(frameon = False, loc = 'upper left')\n",
    "ax[1].legend(frameon = False, loc = 'upper left')\n",
    "\n",
    "seaborn.despine()\n",
    "plt.savefig('figure_rpoD.pdf', format = 'pdf', bbox_inches = 'tight', dpi = 300)\n",
    "plt.savefig('figure_rpoD.png', format = 'png', bbox_inches = 'tight', dpi = 300)\n",
    "plt.savefig('figure_rpoD.jpg', format = 'jpg', bbox_inches = 'tight', dpi = 300)\n",
    "\n",
    "plt.show()"
   ]
  },
  {
   "cell_type": "code",
   "execution_count": null,
   "metadata": {},
   "outputs": [],
   "source": [
    "export.to_kappa(combined, 'rpoD.kappa')"
   ]
  }
 ],
 "metadata": {
  "kernelspec": {
   "display_name": "Python 3",
   "language": "python",
   "name": "python3"
  },
  "language_info": {
   "codemirror_mode": {
    "name": "ipython",
    "version": 3
   },
   "file_extension": ".py",
   "mimetype": "text/x-python",
   "name": "python",
   "nbconvert_exporter": "python",
   "pygments_lexer": "ipython3",
   "version": "3.8.2"
  }
 },
 "nbformat": 4,
 "nbformat_minor": 2
}
