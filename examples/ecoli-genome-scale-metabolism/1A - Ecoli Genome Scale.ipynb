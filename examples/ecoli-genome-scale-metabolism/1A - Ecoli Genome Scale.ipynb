{
 "cells": [
  {
   "cell_type": "code",
   "execution_count": 1,
   "metadata": {},
   "outputs": [],
   "source": [
    "# testing source code\n",
    "# required if atlas was cloned from GitHub and this notebook is executed from the tutorial directory.\n",
    "import sys\n",
    "sys.path.append(\"../..\")\n",
    "\n",
    "import atlas_rbm.atlas as atlas\n",
    "import atlas_rbm.utils as utils\n",
    "import atlas_rbm.export as export\n",
    "import atlas_rbm.simulation as simulation"
   ]
  },
  {
   "cell_type": "code",
   "execution_count": 2,
   "metadata": {},
   "outputs": [
    {
     "name": "stdout",
     "output_type": "stream",
     "text": [
      "Doing nothing since PathwayTools is running.\n"
     ]
    }
   ],
   "source": [
    "utils.execPToolsDocker('ptools-v24')"
   ]
  },
  {
   "cell_type": "code",
   "execution_count": 3,
   "metadata": {},
   "outputs": [
    {
     "name": "stdout",
     "output_type": "stream",
     "text": [
      "CPU times: user 3.1 s, sys: 2.95 s, total: 6.06 s\n",
      "Wall time: 1min 51s\n",
      "CPU times: user 8.62 ms, sys: 182 µs, total: 8.81 ms\n",
      "Wall time: 8.44 ms\n",
      "It was found duplicated reaction names in the network.\n",
      "Please check the conflicting_reactions.txt and correct them if necessary.\n",
      "CPU times: user 7.87 s, sys: 0 ns, total: 7.87 s\n",
      "Wall time: 7.87 s\n"
     ]
    },
    {
     "data": {
      "text/plain": [
       "3"
      ]
     },
     "execution_count": 3,
     "metadata": {},
     "output_type": "execute_result"
    }
   ],
   "source": [
    "import pythoncyc\n",
    "%time network = utils.metabolicNetwork.FromEnzymeList('ECOLI', pythoncyc.select_organism('ECOLI').all_transporters())\n",
    "%time utils.metabolicNetwork.expand_network(network, 'ecocyc-v24-tps-cytoscape.txt')\n",
    "network.to_csv('ecoli-tps-v24.txt', sep = '\\t', index = False)\n",
    "%time atlas.construct_model_from_metabolic_network('ecoli-tps-v24.txt', noInitials = True, noObservables = True)\n",
    "len(network[network['ENZYME LOCATION'].str.match('unknown')]) # how many reactions are not mapped to a gene product"
   ]
  },
  {
   "cell_type": "code",
   "execution_count": 4,
   "metadata": {},
   "outputs": [
    {
     "name": "stdout",
     "output_type": "stream",
     "text": [
      "Unable to retrieve data for CPLX0-7889. Please, review the information at https://biocyc.org/ECOLI/NEW-IMAGE?object=CPLX0-7889 and post an issue at https://github.com/networkbiolab/atlas if you believe it is a software error.\n",
      "CPU times: user 9.75 s, sys: 9.27 s, total: 19 s\n",
      "Wall time: 3min\n",
      "CPU times: user 15.1 ms, sys: 3.32 ms, total: 18.4 ms\n",
      "Wall time: 18.1 ms\n",
      "It was found duplicated reaction names in the network.\n",
      "Please check the conflicting_reactions.txt and correct them if necessary.\n",
      "CPU times: user 27 s, sys: 0 ns, total: 27 s\n",
      "Wall time: 27 s\n"
     ]
    },
    {
     "data": {
      "text/plain": [
       "<Model 'atlas_rbm.construct_model_from_metabolic_network' (monomers: 3, rules: 1759, parameters: 3518, expressions: 0, compartments: 0) at 0x7f4c9b0bd820>"
      ]
     },
     "execution_count": 4,
     "metadata": {},
     "output_type": "execute_result"
    }
   ],
   "source": [
    "import pythoncyc\n",
    "%time network = utils.metabolicNetwork.FromEnzymeList('ECOLI', pythoncyc.select_organism('ECOLI').all_enzymes())\n",
    "%time utils.metabolicNetwork.expand_network(network, 'ecocyc-v24-enz-cytoscape.txt')\n",
    "network.to_csv('ecoli-enz-v24.txt', sep = '\\t', index = False)\n",
    "%time atlas.construct_model_from_metabolic_network('ecoli-enz-v24.txt', noInitials = True, noObservables = True)"
   ]
  },
  {
   "cell_type": "code",
   "execution_count": 11,
   "metadata": {},
   "outputs": [],
   "source": [
    "import pandas\n",
    "network = pandas.concat([utils.read_network('ecoli-enz-v24.txt'), \\\n",
    "                        utils.read_network('ecoli-tps-v24.txt')])\n",
    "network.reset_index(drop = True, inplace = True)"
   ]
  },
  {
   "cell_type": "code",
   "execution_count": 19,
   "metadata": {},
   "outputs": [
    {
     "name": "stdout",
     "output_type": "stream",
     "text": [
      "It was found duplicated reaction names in the network.\n",
      "Please check the conflicting_reactions.txt and correct them if necessary.\n",
      "CPU times: user 44.1 s, sys: 254 ms, total: 44.4 s\n",
      "Wall time: 44.4 s\n"
     ]
    }
   ],
   "source": [
    "%time model = atlas.construct_model_from_metabolic_network(network, noInitials = True)"
   ]
  },
  {
   "cell_type": "code",
   "execution_count": 20,
   "metadata": {},
   "outputs": [
    {
     "name": "stdout",
     "output_type": "stream",
     "text": [
      "2193\n",
      "0\n",
      "3\n",
      "2072\n"
     ]
    }
   ],
   "source": [
    "print(len(model.rules))\n",
    "print(len(model.initials))\n",
    "print(len(model.monomers))\n",
    "print(len(model.observables))"
   ]
  }
 ],
 "metadata": {
  "kernelspec": {
   "display_name": "Python 3",
   "language": "python",
   "name": "python3"
  },
  "language_info": {
   "codemirror_mode": {
    "name": "ipython",
    "version": 3
   },
   "file_extension": ".py",
   "mimetype": "text/x-python",
   "name": "python",
   "nbconvert_exporter": "python",
   "pygments_lexer": "ipython3",
   "version": "3.8.2"
  }
 },
 "nbformat": 4,
 "nbformat_minor": 4
}
