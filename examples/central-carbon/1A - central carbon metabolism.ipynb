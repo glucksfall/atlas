{
 "cells": [
  {
   "cell_type": "code",
   "execution_count": 1,
   "metadata": {},
   "outputs": [
    {
     "data": {
      "text/html": [
       "<style>.container { width: 95% !important; }</style>"
      ],
      "text/plain": [
       "<IPython.core.display.HTML object>"
      ]
     },
     "metadata": {},
     "output_type": "display_data"
    }
   ],
   "source": [
    "# expand cells to the 95% of the display width\n",
    "from IPython.core.display import display, HTML\n",
    "display(HTML(\"<style>.container { width: 95% !important; }</style>\"))"
   ]
  },
  {
   "cell_type": "markdown",
   "metadata": {},
   "source": [
    "# Automatic rule-based modeling of the *Escherichia coli* Central Carbon metabolism"
   ]
  },
  {
   "cell_type": "markdown",
   "metadata": {},
   "source": [
    "## Preamble: load *Atlas*"
   ]
  },
  {
   "cell_type": "code",
   "execution_count": 2,
   "metadata": {},
   "outputs": [],
   "source": [
    "# testing source code\n",
    "import sys\n",
    "sys.path.append(\"../..\") # If installed from GitHub and this notebooks is executed from the example/subfolder directory.\n",
    "\n",
    "import atlas_rbm.atlas as atlas\n",
    "import atlas_rbm.utils as utils\n",
    "import atlas_rbm.export as export\n",
    "import atlas_rbm.simulation as simulation"
   ]
  },
  {
   "cell_type": "markdown",
   "metadata": {},
   "source": [
    "## Modeling metabolism"
   ]
  },
  {
   "cell_type": "code",
   "execution_count": 3,
   "metadata": {},
   "outputs": [
    {
     "name": "stdout",
     "output_type": "stream",
     "text": [
      "Docker ptools-v24 is running (ID f40097fa5be2af6d16736e1196b517332ef6891b9e66126724993dd31fed76af)\n",
      "PathwayTools is running. Available PGDB are: META, ECOLI\n"
     ]
    }
   ],
   "source": [
    "utils.execPToolsDocker('ptools-v24')"
   ]
  },
  {
   "cell_type": "code",
   "execution_count": 4,
   "metadata": {},
   "outputs": [
    {
     "data": {
      "text/plain": [
       "200"
      ]
     },
     "execution_count": 4,
     "metadata": {},
     "output_type": "execute_result"
    }
   ],
   "source": [
    "genes = ['aceA', 'aceB', 'aceE', 'aceF', 'acnA', 'acnB', 'add', 'adk', 'amn', 'ansA', \n",
    "    'ansB', 'aphA', 'apt', 'argD', 'aroA', 'aroB', 'aroC', 'aroD', 'aroE', 'aroF', \n",
    "    'aroG', 'aroH', 'aroK', 'aroL', 'asd', 'asnA', 'asnB', 'aspA', 'aspC', 'carA', \n",
    "    'carB', 'cdd', 'cmk', 'codA', 'crr', 'dapA', 'dapB', 'dapD', 'dapE', 'dapF', \n",
    "    'dcd', 'deoA', 'deoB', 'deoD', 'dmlA', 'dut', 'eno', 'fbaA', 'fbaB', 'fbp', \n",
    "    'fumA', 'fumB', 'fumC', 'fumD', 'fumE', 'gapA', 'glpX', 'gltA', 'glyA', 'gmk', \n",
    "    'gnd', 'gpmA', 'gpmM', 'gpt', 'gsk', 'guaA', 'guaB', 'guaD', 'hisA', 'hisB', \n",
    "    'hisC', 'hisD', 'hisF', 'hisG', 'hisH', 'hisI', 'hpt', 'iaaA', 'icd', 'ilvA', \n",
    "    'ilvB', 'ilvC', 'ilvD', 'ilvE', 'ilvH', 'ilvI', 'ilvM', 'ilvN', 'leuA', 'leuB', \n",
    "    'leuC', 'leuD', 'lpd', 'lysA', 'lysC', 'maeA', 'maeB', 'malY', 'mazG', 'mdh', \n",
    "    'metA', 'metB', 'metC', 'metE', 'metH', 'metL', 'mqo', 'nadD', 'nadE', 'nadR', \n",
    "    'ndk', 'nrdD', 'nudI', 'nupC', 'nupG', 'pck', 'pfkA', 'pfkB', 'pgi', 'pgk', \n",
    "    'pheA', 'phoA', 'pncA', 'pncB', 'ppnN', 'ppnP', 'ppsA', 'prs', 'ptsG', 'purA', \n",
    "    'purB', 'purC', 'purD', 'purE', 'purF', 'purH', 'purK', 'purL', 'purM', 'purN', \n",
    "    'purT', 'pykA', 'pykF', 'pyrC', 'pyrD', 'pyrE', 'pyrF', 'pyrG', 'pyrH', 'rihA', \n",
    "    'rihB', 'rihC', 'rpe', 'rpiA', 'rpiB', 'rutA', 'rutB', 'rutD', 'rutE', 'rutG', \n",
    "    'serA', 'serB', 'serC', 'sucA', 'sucB', 'sucC', 'sucD', 'talA', 'talB', 'tdk', \n",
    "    'thrA', 'thrB', 'thrC', 'thyA', 'tktA', 'tktB', 'tmk', 'tpiA', 'trpA', 'trpB', \n",
    "    'trpC', 'trpD', 'trpE', 'tyrA', 'tyrB', 'udk', 'udp', 'umpG', 'umpH', 'upp', \n",
    "    'ushA', 'xapA', 'xdhA', 'xdhB', 'xdhC', 'ybhA', 'ydfG', 'yggF', 'yrfG', 'zwf']\n",
    "len(genes)"
   ]
  },
  {
   "cell_type": "code",
   "execution_count": 5,
   "metadata": {},
   "outputs": [
    {
     "name": "stdout",
     "output_type": "stream",
     "text": [
      "CPU times: user 2.44 s, sys: 2.3 s, total: 4.74 s\n",
      "Wall time: 1min 7s\n"
     ]
    }
   ],
   "source": [
    "%time precalculated = utils.returnCommonNames('ECOLI')"
   ]
  },
  {
   "cell_type": "code",
   "execution_count": 6,
   "metadata": {
    "scrolled": false
   },
   "outputs": [
    {
     "name": "stdout",
     "output_type": "stream",
     "text": [
      "CPU times: user 2.29 s, sys: 2.03 s, total: 4.32 s\n",
      "Wall time: 1min 14s\n"
     ]
    }
   ],
   "source": [
    "%time network = utils.metabolicNetwork.FromGeneList('ECOLI', genes, precalculated = precalculated, fmt = 'genes')\n",
    "network.to_csv('network-central-carbon-metabolism.txt', sep = '\\t', index = False)"
   ]
  },
  {
   "cell_type": "code",
   "execution_count": 7,
   "metadata": {},
   "outputs": [
    {
     "name": "stdout",
     "output_type": "stream",
     "text": [
      "It was found duplicated reaction names in the network.\n",
      "Please check the conflicting_reactions.txt and correct them if necessary.\n",
      "CPU times: user 53.8 s, sys: 91.2 ms, total: 53.8 s\n",
      "Wall time: 53.9 s\n"
     ]
    },
    {
     "data": {
      "text/plain": [
       "<Model 'atlas_rbm.construct_model_from_metabolic_network' (monomers: 2, rules: 332, parameters: 1184, expressions: 0, compartments: 0) at 0x7f8c21093940>"
      ]
     },
     "execution_count": 7,
     "metadata": {},
     "output_type": "execute_result"
    }
   ],
   "source": [
    "%time model = atlas.construct_model_from_metabolic_network(network, verbose = False)\n",
    "model"
   ]
  },
  {
   "cell_type": "code",
   "execution_count": 8,
   "metadata": {},
   "outputs": [
    {
     "name": "stdout",
     "output_type": "stream",
     "text": [
      "332\n",
      "520\n",
      "2\n",
      "354\n"
     ]
    }
   ],
   "source": [
    "print(len(model.rules))\n",
    "print(len(model.initials))\n",
    "print(len(model.monomers))\n",
    "print(len(model.observables))"
   ]
  },
  {
   "cell_type": "code",
   "execution_count": 9,
   "metadata": {},
   "outputs": [
    {
     "name": "stdout",
     "output_type": "stream",
     "text": [
      "CPU times: user 7.91 ms, sys: 0 ns, total: 7.91 ms\n",
      "Wall time: 7.67 ms\n"
     ]
    }
   ],
   "source": [
    "%time utils.metabolicNetwork.expand_network(network, 'cytoscape-central-carbon-metabolism.txt')"
   ]
  },
  {
   "cell_type": "markdown",
   "metadata": {},
   "source": [
    "<a id='figS1'></a><img src=\"central-carbon-metabolism.png\" alt=\"drawing\" width=\"1000\"/>"
   ]
  }
 ],
 "metadata": {
  "kernelspec": {
   "display_name": "Python 3",
   "language": "python",
   "name": "python3"
  },
  "language_info": {
   "codemirror_mode": {
    "name": "ipython",
    "version": 3
   },
   "file_extension": ".py",
   "mimetype": "text/x-python",
   "name": "python",
   "nbconvert_exporter": "python",
   "pygments_lexer": "ipython3",
   "version": "3.8.2"
  }
 },
 "nbformat": 4,
 "nbformat_minor": 2
}
