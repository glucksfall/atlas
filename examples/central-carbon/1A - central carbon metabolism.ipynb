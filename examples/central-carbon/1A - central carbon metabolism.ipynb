{
 "cells": [
  {
   "cell_type": "code",
   "execution_count": 1,
   "metadata": {},
   "outputs": [
    {
     "data": {
      "text/html": [
       "<style>.container { width: 95% !important; }</style>"
      ],
      "text/plain": [
       "<IPython.core.display.HTML object>"
      ]
     },
     "metadata": {},
     "output_type": "display_data"
    }
   ],
   "source": [
    "# expand cells to the 95% of the display width\n",
    "from IPython.core.display import display, HTML\n",
    "display(HTML(\"<style>.container { width: 95% !important; }</style>\"))"
   ]
  },
  {
   "cell_type": "markdown",
   "metadata": {},
   "source": [
    "# Automatic rule-based modeling of the *Escherichia coli* Central Carbon metabolism"
   ]
  },
  {
   "cell_type": "markdown",
   "metadata": {},
   "source": [
    "## Preamble: load *Atlas*"
   ]
  },
  {
   "cell_type": "code",
   "execution_count": 2,
   "metadata": {},
   "outputs": [],
   "source": [
    "# testing source code\n",
    "import sys\n",
    "sys.path.append(\"../..\") # If installed from GitHub and this notebooks is executed from the example/subfolder directory.\n",
    "\n",
    "import atlas_rbm.atlas as atlas\n",
    "import atlas_rbm.utils as utils\n",
    "import atlas_rbm.export as export\n",
    "import atlas_rbm.simulation as simulation"
   ]
  },
  {
   "cell_type": "markdown",
   "metadata": {},
   "source": [
    "## Modeling metabolism"
   ]
  },
  {
   "cell_type": "code",
   "execution_count": 3,
   "metadata": {},
   "outputs": [
    {
     "name": "stdout",
     "output_type": "stream",
     "text": [
      "Doing nothing since PathwayTools is running.\n"
     ]
    }
   ],
   "source": [
    "utils.execPToolsDocker('ptools-v22')"
   ]
  },
  {
   "cell_type": "code",
   "execution_count": 4,
   "metadata": {},
   "outputs": [],
   "source": [
    "genes = ['aceA', 'aceB', 'aceE', 'aceF', 'acnA', 'acnB', 'add', 'adk', 'amn', 'ansA', \n",
    "    'ansB', 'aphA', 'apt', 'argD', 'aroA', 'aroB', 'aroC', 'aroD', 'aroE', 'aroF', \n",
    "    'aroG', 'aroH', 'aroK', 'aroL', 'asd', 'asnA', 'asnB', 'aspA', 'aspC', 'carA', \n",
    "    'carB', 'cdd', 'cmk', 'codA', 'crr', 'dapA', 'dapB', 'dapD', 'dapE', 'dapF', \n",
    "    'dcd', 'deoA', 'deoB', 'deoD', 'dmlA', 'dut', 'eno', 'fbaA', 'fbaB', 'fbp', \n",
    "    'fumA', 'fumB', 'fumC', 'fumD', 'fumE', 'gapA', 'glpX', 'gltA', 'glyA', 'gmk', \n",
    "    'gnd', 'gpmA', 'gpmM', 'gpt', 'gsk', 'guaA', 'guaB', 'guaD', 'hisA', 'hisB', \n",
    "    'hisC', 'hisD', 'hisF', 'hisG', 'hisH', 'hisI', 'hpt', 'iaaA', 'icd', 'ilvA', \n",
    "    'ilvB', 'ilvC', 'ilvD', 'ilvE', 'ilvH', 'ilvI', 'ilvM', 'ilvN', 'leuA', 'leuB', \n",
    "    'leuC', 'leuD', 'lpd', 'lysA', 'lysC', 'maeA', 'maeB', 'malY', 'mazG', 'mdh', \n",
    "    'metA', 'metB', 'metC', 'metE', 'metH', 'metL', 'mqo', 'nadD', 'nadE', 'nadR', \n",
    "    'ndk', 'nrdD', 'nudI', 'nupC', 'nupG', 'pck', 'pfkA', 'pfkB', 'pgi', 'pgk', \n",
    "    'pheA', 'phoA', 'pncA', 'pncB', 'ppnN', 'ppnP', 'ppsA', 'prs', 'ptsG', 'purA', \n",
    "    'purB', 'purC', 'purD', 'purE', 'purF', 'purH', 'purK', 'purL', 'purM', 'purN', \n",
    "    'purT', 'pykA', 'pykF', 'pyrC', 'pyrD', 'pyrE', 'pyrF', 'pyrG', 'pyrH', 'rihA', \n",
    "    'rihB', 'rihC', 'rpe', 'rpiA', 'rpiB', 'rutA', 'rutB', 'rutD', 'rutE', 'rutG', \n",
    "    'serA', 'serB', 'serC', 'sucA', 'sucB', 'sucC', 'sucD', 'talA', 'talB', 'tdk', \n",
    "    'thrA', 'thrB', 'thrC', 'thyA', 'tktA', 'tktB', 'tmk', 'tpiA', 'trpA', 'trpB', \n",
    "    'trpC', 'trpD', 'trpE', 'tyrA', 'tyrB', 'udk', 'udp', 'umpG', 'umpH', 'upp', \n",
    "    'ushA', 'xapA', 'xdhA', 'xdhB', 'xdhC', 'ybhA', 'ydfG', 'yggF', 'yrfG', 'zwf']"
   ]
  },
  {
   "cell_type": "code",
   "execution_count": 5,
   "metadata": {},
   "outputs": [
    {
     "name": "stdout",
     "output_type": "stream",
     "text": [
      "CPU times: user 2.57 s, sys: 2.28 s, total: 4.85 s\n",
      "Wall time: 50.6 s\n"
     ]
    }
   ],
   "source": [
    "%time precalculated = utils.returnCommonNames('ECOLI')"
   ]
  },
  {
   "cell_type": "code",
   "execution_count": 6,
   "metadata": {
    "scrolled": false
   },
   "outputs": [
    {
     "name": "stdout",
     "output_type": "stream",
     "text": [
      "CPU times: user 2.6 s, sys: 2.1 s, total: 4.7 s\n",
      "Wall time: 42.7 s\n"
     ]
    },
    {
     "data": {
      "text/html": [
       "<div>\n",
       "<style scoped>\n",
       "    .dataframe tbody tr th:only-of-type {\n",
       "        vertical-align: middle;\n",
       "    }\n",
       "\n",
       "    .dataframe tbody tr th {\n",
       "        vertical-align: top;\n",
       "    }\n",
       "\n",
       "    .dataframe thead th {\n",
       "        text-align: right;\n",
       "    }\n",
       "</style>\n",
       "<table border=\"1\" class=\"dataframe\">\n",
       "  <thead>\n",
       "    <tr style=\"text-align: right;\">\n",
       "      <th></th>\n",
       "      <th>GENE OR COMPLEX</th>\n",
       "      <th>ENZYME LOCATION</th>\n",
       "      <th>REACTION</th>\n",
       "      <th>SUBSTRATES</th>\n",
       "      <th>PRODUCTS</th>\n",
       "      <th>FWD_RATE</th>\n",
       "      <th>RVS_RATE</th>\n",
       "    </tr>\n",
       "  </thead>\n",
       "  <tbody>\n",
       "    <tr>\n",
       "      <th>0</th>\n",
       "      <td>aceA</td>\n",
       "      <td>unknown</td>\n",
       "      <td>ISOCIT-CLEAV-RXN</td>\n",
       "      <td>THREO-DS-ISO-CITRATE</td>\n",
       "      <td>GLYOX,SUC</td>\n",
       "      <td>1.0</td>\n",
       "      <td>1.0</td>\n",
       "    </tr>\n",
       "    <tr>\n",
       "      <th>1</th>\n",
       "      <td>aceB</td>\n",
       "      <td>cytosol</td>\n",
       "      <td>MALSYN-RXN</td>\n",
       "      <td>ACETYL-COA,WATER,GLYOX</td>\n",
       "      <td>PROTON,MAL,CO-A</td>\n",
       "      <td>1.0</td>\n",
       "      <td>0.0</td>\n",
       "    </tr>\n",
       "    <tr>\n",
       "      <th>2</th>\n",
       "      <td>aceE</td>\n",
       "      <td>cytosol</td>\n",
       "      <td>RXN0-1134</td>\n",
       "      <td>PYRUVATE,Pyruvate-dehydrogenase-lipoate,PROTON</td>\n",
       "      <td>Pyruvate-dehydrogenase-acetylDHlipoyl,CARBON-D...</td>\n",
       "      <td>1.0</td>\n",
       "      <td>0.0</td>\n",
       "    </tr>\n",
       "    <tr>\n",
       "      <th>3</th>\n",
       "      <td>aceE</td>\n",
       "      <td>cytosol</td>\n",
       "      <td>PYRUVDEH-RXN</td>\n",
       "      <td>PYRUVATE,CO-A,NAD</td>\n",
       "      <td>ACETYL-COA,CARBON-DIOXIDE,NADH</td>\n",
       "      <td>1.0</td>\n",
       "      <td>0.0</td>\n",
       "    </tr>\n",
       "    <tr>\n",
       "      <th>4</th>\n",
       "      <td>aceF</td>\n",
       "      <td>unknown</td>\n",
       "      <td>RXN0-1133</td>\n",
       "      <td>ACETYL-COA,Pyruvate-dehydrogenase-dihydrolipoate</td>\n",
       "      <td>CO-A,Pyruvate-dehydrogenase-acetylDHlipoyl</td>\n",
       "      <td>0.0</td>\n",
       "      <td>1.0</td>\n",
       "    </tr>\n",
       "    <tr>\n",
       "      <th>...</th>\n",
       "      <td>...</td>\n",
       "      <td>...</td>\n",
       "      <td>...</td>\n",
       "      <td>...</td>\n",
       "      <td>...</td>\n",
       "      <td>...</td>\n",
       "      <td>...</td>\n",
       "    </tr>\n",
       "    <tr>\n",
       "      <th>453</th>\n",
       "      <td>ydfG</td>\n",
       "      <td>cytosol</td>\n",
       "      <td>RXN-8974</td>\n",
       "      <td>3-HYDROXY-PROPIONATE,NADP</td>\n",
       "      <td>MALONATE-S-ALD,NADPH,PROTON</td>\n",
       "      <td>0.0</td>\n",
       "      <td>1.0</td>\n",
       "    </tr>\n",
       "    <tr>\n",
       "      <th>454</th>\n",
       "      <td>yggF</td>\n",
       "      <td>cytosol</td>\n",
       "      <td>F16BDEPHOS-RXN</td>\n",
       "      <td>FRUCTOSE-16-DIPHOSPHATE,WATER</td>\n",
       "      <td>FRUCTOSE-6P,Pi</td>\n",
       "      <td>1.0</td>\n",
       "      <td>0.0</td>\n",
       "    </tr>\n",
       "    <tr>\n",
       "      <th>455</th>\n",
       "      <td>yrfG</td>\n",
       "      <td>cytosol</td>\n",
       "      <td>RXN-7607</td>\n",
       "      <td>IMP,WATER</td>\n",
       "      <td>INOSINE,Pi</td>\n",
       "      <td>1.0</td>\n",
       "      <td>0.0</td>\n",
       "    </tr>\n",
       "    <tr>\n",
       "      <th>456</th>\n",
       "      <td>yrfG</td>\n",
       "      <td>cytosol</td>\n",
       "      <td>RXN-7609</td>\n",
       "      <td>GMP,WATER</td>\n",
       "      <td>GUANOSINE,Pi</td>\n",
       "      <td>1.0</td>\n",
       "      <td>0.0</td>\n",
       "    </tr>\n",
       "    <tr>\n",
       "      <th>457</th>\n",
       "      <td>zwf</td>\n",
       "      <td>cytosol</td>\n",
       "      <td>GLU6PDEHYDROG-RXN</td>\n",
       "      <td>D-glucopyranose-6-phosphate,NADP</td>\n",
       "      <td>D-6-P-GLUCONO-DELTA-LACTONE,NADPH,PROTON</td>\n",
       "      <td>1.0</td>\n",
       "      <td>0.0</td>\n",
       "    </tr>\n",
       "  </tbody>\n",
       "</table>\n",
       "<p>458 rows × 7 columns</p>\n",
       "</div>"
      ],
      "text/plain": [
       "    GENE OR COMPLEX ENZYME LOCATION           REACTION  \\\n",
       "0              aceA         unknown   ISOCIT-CLEAV-RXN   \n",
       "1              aceB         cytosol         MALSYN-RXN   \n",
       "2              aceE         cytosol          RXN0-1134   \n",
       "3              aceE         cytosol       PYRUVDEH-RXN   \n",
       "4              aceF         unknown          RXN0-1133   \n",
       "..              ...             ...                ...   \n",
       "453            ydfG         cytosol           RXN-8974   \n",
       "454            yggF         cytosol     F16BDEPHOS-RXN   \n",
       "455            yrfG         cytosol           RXN-7607   \n",
       "456            yrfG         cytosol           RXN-7609   \n",
       "457             zwf         cytosol  GLU6PDEHYDROG-RXN   \n",
       "\n",
       "                                           SUBSTRATES  \\\n",
       "0                                THREO-DS-ISO-CITRATE   \n",
       "1                              ACETYL-COA,WATER,GLYOX   \n",
       "2      PYRUVATE,Pyruvate-dehydrogenase-lipoate,PROTON   \n",
       "3                                   PYRUVATE,CO-A,NAD   \n",
       "4    ACETYL-COA,Pyruvate-dehydrogenase-dihydrolipoate   \n",
       "..                                                ...   \n",
       "453                         3-HYDROXY-PROPIONATE,NADP   \n",
       "454                     FRUCTOSE-16-DIPHOSPHATE,WATER   \n",
       "455                                         IMP,WATER   \n",
       "456                                         GMP,WATER   \n",
       "457                  D-glucopyranose-6-phosphate,NADP   \n",
       "\n",
       "                                              PRODUCTS  FWD_RATE  RVS_RATE  \n",
       "0                                            GLYOX,SUC       1.0       1.0  \n",
       "1                                      PROTON,MAL,CO-A       1.0       0.0  \n",
       "2    Pyruvate-dehydrogenase-acetylDHlipoyl,CARBON-D...       1.0       0.0  \n",
       "3                       ACETYL-COA,CARBON-DIOXIDE,NADH       1.0       0.0  \n",
       "4           CO-A,Pyruvate-dehydrogenase-acetylDHlipoyl       0.0       1.0  \n",
       "..                                                 ...       ...       ...  \n",
       "453                        MALONATE-S-ALD,NADPH,PROTON       0.0       1.0  \n",
       "454                                     FRUCTOSE-6P,Pi       1.0       0.0  \n",
       "455                                         INOSINE,Pi       1.0       0.0  \n",
       "456                                       GUANOSINE,Pi       1.0       0.0  \n",
       "457           D-6-P-GLUCONO-DELTA-LACTONE,NADPH,PROTON       1.0       0.0  \n",
       "\n",
       "[458 rows x 7 columns]"
      ]
     },
     "execution_count": 6,
     "metadata": {},
     "output_type": "execute_result"
    }
   ],
   "source": [
    "%time network = utils.metabolicNetwork.FromGeneList('ECOLI', genes, precalculated = precalculated, fmt = 'genes')\n",
    "network"
   ]
  },
  {
   "cell_type": "code",
   "execution_count": 7,
   "metadata": {},
   "outputs": [
    {
     "name": "stdout",
     "output_type": "stream",
     "text": [
      "It was found duplicated reaction names in the network.\n",
      "Please check the conflicting_reactions.txt and correct them if necessary.\n",
      "CPU times: user 51.6 s, sys: 0 ns, total: 51.6 s\n",
      "Wall time: 51.7 s\n"
     ]
    },
    {
     "data": {
      "text/plain": [
       "<Model 'atlas_rbm.construct_model_from_metabolic_network' (monomers: 2, rules: 330, parameters: 1177, expressions: 0, compartments: 0) at 0x7f7422baf430>"
      ]
     },
     "execution_count": 7,
     "metadata": {},
     "output_type": "execute_result"
    }
   ],
   "source": [
    "%time model = atlas.construct_model_from_metabolic_network(network, verbose = False)\n",
    "model"
   ]
  },
  {
   "cell_type": "markdown",
   "metadata": {},
   "source": [
    "<a id='figS1'></a><img src=\"central-carbon-metabolism.png\" alt=\"drawing\" width=\"1000\"/>"
   ]
  },
  {
   "cell_type": "code",
   "execution_count": null,
   "metadata": {},
   "outputs": [],
   "source": []
  }
 ],
 "metadata": {
  "kernelspec": {
   "display_name": "Python 3",
   "language": "python",
   "name": "python3"
  },
  "language_info": {
   "codemirror_mode": {
    "name": "ipython",
    "version": 3
   },
   "file_extension": ".py",
   "mimetype": "text/x-python",
   "name": "python",
   "nbconvert_exporter": "python",
   "pygments_lexer": "ipython3",
   "version": "3.8.2"
  }
 },
 "nbformat": 4,
 "nbformat_minor": 2
}
