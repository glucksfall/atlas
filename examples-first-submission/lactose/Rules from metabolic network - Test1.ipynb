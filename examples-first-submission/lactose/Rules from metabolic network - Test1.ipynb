{
 "cells": [
  {
   "cell_type": "code",
   "execution_count": 19,
   "metadata": {},
   "outputs": [],
   "source": [
    "import numpy\n",
    "import pandas"
   ]
  },
  {
   "cell_type": "code",
   "execution_count": 29,
   "metadata": {},
   "outputs": [],
   "source": [
    "with open('./net_curated_lactose_operon.txt', 'r') as infile:\n",
    "    data = pandas.read_csv(infile, delimiter = '\\t', header = None)"
   ]
  },
  {
   "cell_type": "code",
   "execution_count": 63,
   "metadata": {},
   "outputs": [
    {
     "name": "stdout",
     "output_type": "stream",
     "text": [
      "Rule('LACTOSE_MUTAROTATION', alpha_lactose() >> beta_lactose(), Parameter('fwd_LACTOSE_MUTAROTATION', 1))\n",
      "\n",
      "Rule('GALACTOSE_MUTAROTATION', alpha_GALACTOSE() >> beta_GALACTOSE(), Parameter('fwd_GALACTOSE_MUTAROTATION', 1))\n",
      "\n",
      "Rule('GLUCOSE_MUTAROTATION', alpha_glucose() >> beta_glucose(), Parameter('fwd_GLUCOSE_MUTAROTATION', 1))\n",
      "\n",
      "Rule('TRANS_RXN_24', LACY_MONOMER + PER_PROTON() + PER_alpha_lactose() >> LACY_MONOMER + PROTON() + alpha_lactose(), Parameter('fwd_TRANS_RXN_24', 1))\n",
      "\n",
      "Rule('TRANS_RXN_24_beta', LACY_MONOMER + PER_PROTON() + PER_beta_lactose() >> LACY_MONOMER + PROTON() + beta_lactose(), Parameter('fwd_TRANS_RXN_24_beta', 1))\n",
      "\n",
      "Rule('TRANS_RXN_94', LACY_MONOMER + PER_PROTON() + PER_MELIBIOSE() >> LACY_MONOMER + PROTON() + MELIBIOSE(), Parameter('fwd_TRANS_RXN_94', 1))\n",
      "\n",
      "Rule('RXN0_7215', LACY_MONOMER + PER_PROTON() + PER_CPD_3561() >> LACY_MONOMER + PROTON() + CPD_3561(), Parameter('fwd_RXN0_7215', 1))\n",
      "\n",
      "Rule('RXN0_7217', LACY_MONOMER + PER_PROTON() + PER_CPD_3785() >> LACY_MONOMER + PROTON() + CPD_3785(), Parameter('fwd_RXN0_7217', 1))\n",
      "\n",
      "Rule('RXN_17755', LACY_MONOMER + PER_PROTON() + PER_CPD_3801() >> LACY_MONOMER + PROTON() + CPD_3801(), Parameter('fwd_RXN_17755', 1))\n",
      "\n",
      "Rule('BETAGALACTOSID_RXN', BETAGALACTOSID_CPLX + beta_lactose() + WATER() >> BETAGALACTOSID_CPLX + beta_GALACTOSE() + beta_glucose(), Parameter('fwd_BETAGALACTOSID_RXN', 1))\n",
      "\n",
      "Rule('BETAGALACTOSID_RXN_alpha', BETAGALACTOSID_CPLX + alpha_lactose() + WATER() >> BETAGALACTOSID_CPLX + alpha_GALACTOSE() + alpha_glucose(), Parameter('fwd_BETAGALACTOSID_RXN_alpha', 1))\n",
      "\n",
      "Rule('RXN0_5363', BETAGALACTOSID_CPLX + alpha_lactose() >> BETAGALACTOSID_CPLX + alpha_ALLOLACTOSE(), Parameter('fwd_RXN0_5363', 1))\n",
      "\n",
      "Rule('RXN0_5363_beta', BETAGALACTOSID_CPLX + beta_lactose() >> BETAGALACTOSID_CPLX + beta_ALLOLACTOSE(), Parameter('fwd_RXN0_5363_beta', 1))\n",
      "\n",
      "Rule('ALLOLACTOSE_DEG_alpha', BETAGALACTOSID_CPLX + alpha_ALLOLACTOSE() >> BETAGALACTOSID_CPLX + alpha_GALACTOSE() + alpha_glucose(), Parameter('fwd_ALLOLACTOSE_DEG_alpha', 1))\n",
      "\n",
      "Rule('ALLOLACTOSE_DEG_beta', BETAGALACTOSID_CPLX + beta_ALLOLACTOSE() >> BETAGALACTOSID_CPLX + beta_GALACTOSE() + beta_glucose(), Parameter('fwd_ALLOLACTOSE_DEG_beta', 1))\n",
      "\n",
      "Rule('RXN_17726', BETAGALACTOSID_CPLX + CPD_3561() + WATER() >> BETAGALACTOSID_CPLX + GALACTOSE() + Fructofuranose(), Parameter('fwd_RXN_17726', 1))\n",
      "\n",
      "Rule('RXN0_7219', BETAGALACTOSID_CPLX + CPD_3785() + WATER() >> BETAGALACTOSID_CPLX + GALACTOSE() + D_ARABINOSE(), Parameter('fwd_RXN0_7219', 1))\n",
      "\n",
      "Rule('GALACTOACETYLTRAN_RXN_galactose', GALACTOACETYLTRAN_CPLX + beta_galactose() + ACETYL_COA() >> GALACTOACETYLTRAN_CPLX + 6_Acetyl_beta_D_Galactose() + CO_A(), Parameter('fwd_GALACTOACETYLTRAN_RXN_galactose', 1))\n",
      "\n"
     ]
    }
   ],
   "source": [
    "for rxn in range(0, data.shape[0]):\n",
    "#     print(data.iloc[rxn, 0])\n",
    "#     print(data.iloc[rxn, 1])\n",
    "#     print(data.iloc[rxn, 2])\n",
    "#     print(data.iloc[rxn, 3])\n",
    "#     print()\n",
    "    \n",
    "    if data.iloc[rxn, 0] == 'spontaneous':\n",
    "        print('Rule(\\'{:s}\\', {:s} >> {:s}, Parameter(\\'rate_{:s}\\', 1))' \\\n",
    "                .format(data.iloc[rxn, 1], \n",
    "                ' + '.join([ x + '()' for x in data.iloc[rxn, 2].split(', ')]), \n",
    "                ' + '.join([ x + '()' for x in data.iloc[rxn, 3].split(', ')]),\n",
    "                data.iloc[rxn, 1]).replace('-', '_'))\n",
    "    else:\n",
    "        print('Rule(\\'{:s}\\', {:s} + {:s} >> {:s} + {:s}, Parameter(\\'rate_{:s}\\', 1))' \\\n",
    "                .format(data.iloc[rxn, 1], \n",
    "                data.iloc[rxn, 0],\n",
    "                ' + '.join([ x + '()' for x in data.iloc[rxn, 2].split(', ')]), \n",
    "                data.iloc[rxn, 0],\n",
    "                ' + '.join([ x + '()' for x in data.iloc[rxn, 3].split(', ')]),\n",
    "                data.iloc[rxn, 1]).replace('-', '_'))\n",
    "    print()"
   ]
  },
  {
   "cell_type": "code",
   "execution_count": 62,
   "metadata": {},
   "outputs": [
    {
     "data": {
      "text/plain": [
       "'6-Acetyl-beta-D-Galactose() + CO-A()'"
      ]
     },
     "execution_count": 62,
     "metadata": {},
     "output_type": "execute_result"
    }
   ],
   "source": [
    "' + '.join([ x + '()' for x in data.iloc[rxn, 3].split(', ')])"
   ]
  },
  {
   "cell_type": "code",
   "execution_count": null,
   "metadata": {},
   "outputs": [],
   "source": []
  }
 ],
 "metadata": {
  "kernelspec": {
   "display_name": "Python 3",
   "language": "python",
   "name": "python3"
  },
  "language_info": {
   "codemirror_mode": {
    "name": "ipython",
    "version": 3
   },
   "file_extension": ".py",
   "mimetype": "text/x-python",
   "name": "python",
   "nbconvert_exporter": "python",
   "pygments_lexer": "ipython3",
   "version": "3.6.5"
  }
 },
 "nbformat": 4,
 "nbformat_minor": 2
}
