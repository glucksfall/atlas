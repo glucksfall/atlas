{
 "cells": [
  {
   "cell_type": "code",
   "execution_count": 1,
   "metadata": {},
   "outputs": [],
   "source": [
    "import pandas"
   ]
  },
  {
   "cell_type": "code",
   "execution_count": 2,
   "metadata": {},
   "outputs": [],
   "source": [
    "with open('./architecture_final.txt', 'r') as infile:\n",
    "    data = pandas.read_csv(infile, delimiter = '\\t')"
   ]
  },
  {
   "cell_type": "code",
   "execution_count": 3,
   "metadata": {},
   "outputs": [
    {
     "data": {
      "text/html": [
       "<div>\n",
       "<style scoped>\n",
       "    .dataframe tbody tr th:only-of-type {\n",
       "        vertical-align: middle;\n",
       "    }\n",
       "\n",
       "    .dataframe tbody tr th {\n",
       "        vertical-align: top;\n",
       "    }\n",
       "\n",
       "    .dataframe thead th {\n",
       "        text-align: right;\n",
       "    }\n",
       "</style>\n",
       "<table border=\"1\" class=\"dataframe\">\n",
       "  <thead>\n",
       "    <tr style=\"text-align: right;\">\n",
       "      <th></th>\n",
       "      <th>SOURCE</th>\n",
       "      <th>TARGET</th>\n",
       "    </tr>\n",
       "  </thead>\n",
       "  <tbody>\n",
       "    <tr>\n",
       "      <th>0</th>\n",
       "      <td>lacZ-pro4</td>\n",
       "      <td>lacZ-pro3</td>\n",
       "    </tr>\n",
       "    <tr>\n",
       "      <th>1</th>\n",
       "      <td>lacZ-pro3</td>\n",
       "      <td>lacZ-pro2</td>\n",
       "    </tr>\n",
       "    <tr>\n",
       "      <th>2</th>\n",
       "      <td>lacZ-pro2</td>\n",
       "      <td>lacZ-pro1</td>\n",
       "    </tr>\n",
       "    <tr>\n",
       "      <th>3</th>\n",
       "      <td>lacZ-pro1</td>\n",
       "      <td>lacZ-rbs</td>\n",
       "    </tr>\n",
       "    <tr>\n",
       "      <th>4</th>\n",
       "      <td>lacZ-rbs</td>\n",
       "      <td>lacZ-cds</td>\n",
       "    </tr>\n",
       "    <tr>\n",
       "      <th>5</th>\n",
       "      <td>lacZ-cds</td>\n",
       "      <td>lacY-pro1</td>\n",
       "    </tr>\n",
       "    <tr>\n",
       "      <th>6</th>\n",
       "      <td>lacY-pro1</td>\n",
       "      <td>lacY-rbs</td>\n",
       "    </tr>\n",
       "    <tr>\n",
       "      <th>7</th>\n",
       "      <td>lacY-rbs</td>\n",
       "      <td>lacY-cds</td>\n",
       "    </tr>\n",
       "    <tr>\n",
       "      <th>8</th>\n",
       "      <td>lacY-cds</td>\n",
       "      <td>lacA-rbs</td>\n",
       "    </tr>\n",
       "    <tr>\n",
       "      <th>9</th>\n",
       "      <td>lacA-rbs</td>\n",
       "      <td>lacA-cds</td>\n",
       "    </tr>\n",
       "    <tr>\n",
       "      <th>10</th>\n",
       "      <td>lacA-cds</td>\n",
       "      <td>lacA-ter1</td>\n",
       "    </tr>\n",
       "    <tr>\n",
       "      <th>11</th>\n",
       "      <td>lacA-ter1</td>\n",
       "      <td>lacA-ter2</td>\n",
       "    </tr>\n",
       "  </tbody>\n",
       "</table>\n",
       "</div>"
      ],
      "text/plain": [
       "       SOURCE     TARGET\n",
       "0   lacZ-pro4  lacZ-pro3\n",
       "1   lacZ-pro3  lacZ-pro2\n",
       "2   lacZ-pro2  lacZ-pro1\n",
       "3   lacZ-pro1   lacZ-rbs\n",
       "4    lacZ-rbs   lacZ-cds\n",
       "5    lacZ-cds  lacY-pro1\n",
       "6   lacY-pro1   lacY-rbs\n",
       "7    lacY-rbs   lacY-cds\n",
       "8    lacY-cds   lacA-rbs\n",
       "9    lacA-rbs   lacA-cds\n",
       "10   lacA-cds  lacA-ter1\n",
       "11  lacA-ter1  lacA-ter2"
      ]
     },
     "execution_count": 3,
     "metadata": {},
     "output_type": "execute_result"
    }
   ],
   "source": [
    "data"
   ]
  },
  {
   "cell_type": "code",
   "execution_count": 4,
   "metadata": {},
   "outputs": [],
   "source": [
    "architecture = list(data.SOURCE) + [data.TARGET.iloc[-1]]"
   ]
  },
  {
   "cell_type": "code",
   "execution_count": 5,
   "metadata": {},
   "outputs": [
    {
     "name": "stdout",
     "output_type": "stream",
     "text": [
      "Rule('docking_lacZ_pro4', cplx(name = 'RNAP', dna = None) + dna(name = 'lacZ', type = 'pro4', prot = None) | cplx(name = 'RNAP', dna = 1) % dna(name = 'lacZ', type = 'pro4', prot = 1), Parameter('fwd_docking_lacZ_pro4', 0), Parameter('rvs_docking_lacZ_pro4', 0))\n",
      "Rule('docking_lacZ_pro3', cplx(name = 'RNAP', dna = None) + dna(name = 'lacZ', type = 'pro3', prot = None) | cplx(name = 'RNAP', dna = 1) % dna(name = 'lacZ', type = 'pro3', prot = 1), Parameter('fwd_docking_lacZ_pro3', 0), Parameter('rvs_docking_lacZ_pro3', 0))\n",
      "Rule('docking_lacZ_pro2', cplx(name = 'RNAP', dna = None) + dna(name = 'lacZ', type = 'pro2', prot = None) | cplx(name = 'RNAP', dna = 1) % dna(name = 'lacZ', type = 'pro2', prot = 1), Parameter('fwd_docking_lacZ_pro2', 0), Parameter('rvs_docking_lacZ_pro2', 0))\n",
      "Rule('docking_lacZ_pro1', cplx(name = 'RNAP', dna = None) + dna(name = 'lacZ', type = 'pro1', prot = None) | cplx(name = 'RNAP', dna = 1) % dna(name = 'lacZ', type = 'pro1', prot = 1), Parameter('fwd_docking_lacZ_pro1', 0), Parameter('rvs_docking_lacZ_pro1', 0))\n",
      "Rule('docking_lacY_pro1', cplx(name = 'RNAP', dna = None) + dna(name = 'lacY', type = 'pro1', prot = None) | cplx(name = 'RNAP', dna = 1) % dna(name = 'lacY', type = 'pro1', prot = 1), Parameter('fwd_docking_lacY_pro1', 0), Parameter('rvs_docking_lacY_pro1', 0))\n",
      "Rule('falloff_lacA_ter1', cplx(name = 'RNAP', dna = 1) % dna(name = 'lacA', type = 'ter1', prot = 1) >> cplx(name = 'RNAP', dna = None) + dna(name = 'lacA', type = 'ter1', prot = None), Parameter('fwd_falloff_lacA_ter1', 0))\n",
      "Rule('falloff_lacA_ter2', cplx(name = 'RNAP', dna = 1) % dna(name = 'lacA', type = 'ter2', prot = 1) >> cplx(name = 'RNAP', dna = None) + dna(name = 'lacA', type = 'ter2', prot = None), Parameter('fwd_falloff_lacA_ter2', 0))\n"
     ]
    }
   ],
   "source": [
    "for dna_part in architecture:\n",
    "\n",
    "    if 'pro' in dna_part: # docking rules\n",
    "        name = dna_part.split('-')[0]\n",
    "        type = dna_part.split('-')[1]\n",
    "            \n",
    "        Rule = 'Rule(\\'docking_{:s}\\', cplx(name = \\'RNAP\\', dna = None) + dna(name = \\'{:s}\\', type = \\'{:s}\\', prot = None) ' \\\n",
    "                '| cplx(name = \\'RNAP\\', dna = 1) % dna(name = \\'{:s}\\', type = \\'{:s}\\', prot = 1), ' \\\n",
    "                'Parameter(\\'fwd_docking_{:s}\\', 0), Parameter(\\'rvs_docking_{:s}\\', 0))' \\\n",
    "                .format(dna_part, name, type, name, type, dna_part, dna_part)\n",
    "        \n",
    "        print(Rule.replace('-', '_'))\n",
    "        \n",
    "    elif 'ter' in dna_part: # falloff rules\n",
    "        name = dna_part.split('-')[0]\n",
    "        type = dna_part.split('-')[1]\n",
    "            \n",
    "        Rule = 'Rule(\\'falloff_{:s}\\', cplx(name = \\'RNAP\\', dna = 1) % dna(name = \\'{:s}\\', type = \\'{:s}\\', prot = 1) ' \\\n",
    "                '>> cplx(name = \\'RNAP\\', dna = None) + dna(name = \\'{:s}\\', type = \\'{:s}\\', prot = None), ' \\\n",
    "                'Parameter(\\'fwd_falloff_{:s}\\', 0))' \\\n",
    "                .format(dna_part, name, type, name, type, dna_part)\n",
    "        \n",
    "        print(Rule.replace('-', '_'))"
   ]
  },
  {
   "cell_type": "code",
   "execution_count": 6,
   "metadata": {},
   "outputs": [
    {
     "name": "stdout",
     "output_type": "stream",
     "text": [
      "Rule('sliding_lacZ_pro4', cplx(name = 'RNAP', dna = 1) % dna(name = 'lacZ', type = 'pro4', prot = 1) + None + dna(name = 'lacZ', type = 'pro3', prot = None) >> cplx(name = 'RNAP', dna = 1) % dna(name = 'lacZ', type = 'pro3', prot = 1) + rna(name = 'lacZ', type = 'pro3', prot = None) + dna(name = 'lacZ', type = 'pro4', prot = None), Parameter('fwd_sliding_lacZ_pro4', 0))\n",
      "Rule('sliding_lacZ_pro3', cplx(name = 'RNAP', dna = 1) % dna(name = 'lacZ', type = 'pro3', prot = 1) + None + dna(name = 'lacZ', type = 'pro2', prot = None) >> cplx(name = 'RNAP', dna = 1) % dna(name = 'lacZ', type = 'pro2', prot = 1) + rna(name = 'lacZ', type = 'pro2', prot = None) + dna(name = 'lacZ', type = 'pro3', prot = None), Parameter('fwd_sliding_lacZ_pro3', 0))\n",
      "Rule('sliding_lacZ_pro2', cplx(name = 'RNAP', dna = 1) % dna(name = 'lacZ', type = 'pro2', prot = 1) + None + dna(name = 'lacZ', type = 'pro1', prot = None) >> cplx(name = 'RNAP', dna = 1) % dna(name = 'lacZ', type = 'pro1', prot = 1) + rna(name = 'lacZ', type = 'pro1', prot = None) + dna(name = 'lacZ', type = 'pro2', prot = None), Parameter('fwd_sliding_lacZ_pro2', 0))\n",
      "Rule('sliding_lacZ_pro1', cplx(name = 'RNAP', dna = 1) % dna(name = 'lacZ', type = 'pro1', prot = 1) + None + dna(name = 'lacZ', type = 'rbs', prot = None) >> cplx(name = 'RNAP', dna = 1) % dna(name = 'lacZ', type = 'rbs', prot = 1) + rna(name = 'lacZ', type = 'rbs', prot = None) + dna(name = 'lacZ', type = 'pro1', prot = None), Parameter('fwd_sliding_lacZ_pro1', 0))\n",
      "Rule('sliding_lacZ_rbs', cplx(name = 'RNAP', dna = 1) % dna(name = 'lacZ', type = 'rbs', prot = 1) + None + dna(name = 'lacZ', type = 'cds', prot = None) >> cplx(name = 'RNAP', dna = 1) % dna(name = 'lacZ', type = 'cds', prot = 1) + rna(name = 'lacZ', type = 'cds', prot = None) + dna(name = 'lacZ', type = 'rbs', prot = None), Parameter('fwd_sliding_lacZ_rbs', 0))\n",
      "Rule('sliding_lacZ_cds', cplx(name = 'RNAP', dna = 1) % dna(name = 'lacZ', type = 'cds', prot = 1) + None + dna(name = 'lacY', type = 'pro1', prot = None) >> cplx(name = 'RNAP', dna = 1) % dna(name = 'lacY', type = 'pro1', prot = 1) + rna(name = 'lacY', type = 'pro1', prot = None) + dna(name = 'lacZ', type = 'cds', prot = None), Parameter('fwd_sliding_lacZ_cds', 0))\n",
      "Rule('sliding_lacY_pro1', cplx(name = 'RNAP', dna = 1) % dna(name = 'lacY', type = 'pro1', prot = 1) + None + dna(name = 'lacY', type = 'rbs', prot = None) >> cplx(name = 'RNAP', dna = 1) % dna(name = 'lacY', type = 'rbs', prot = 1) + rna(name = 'lacY', type = 'rbs', prot = None) + dna(name = 'lacY', type = 'pro1', prot = None), Parameter('fwd_sliding_lacY_pro1', 0))\n",
      "Rule('sliding_lacY_rbs', cplx(name = 'RNAP', dna = 1) % dna(name = 'lacY', type = 'rbs', prot = 1) + None + dna(name = 'lacY', type = 'cds', prot = None) >> cplx(name = 'RNAP', dna = 1) % dna(name = 'lacY', type = 'cds', prot = 1) + rna(name = 'lacY', type = 'cds', prot = None) + dna(name = 'lacY', type = 'rbs', prot = None), Parameter('fwd_sliding_lacY_rbs', 0))\n",
      "Rule('sliding_lacY_cds', cplx(name = 'RNAP', dna = 1) % dna(name = 'lacY', type = 'cds', prot = 1) + None + dna(name = 'lacA', type = 'rbs', prot = None) >> cplx(name = 'RNAP', dna = 1) % dna(name = 'lacA', type = 'rbs', prot = 1) + rna(name = 'lacA', type = 'rbs', prot = None) + dna(name = 'lacY', type = 'cds', prot = None), Parameter('fwd_sliding_lacY_cds', 0))\n",
      "Rule('sliding_lacA_rbs', cplx(name = 'RNAP', dna = 1) % dna(name = 'lacA', type = 'rbs', prot = 1) + None + dna(name = 'lacA', type = 'cds', prot = None) >> cplx(name = 'RNAP', dna = 1) % dna(name = 'lacA', type = 'cds', prot = 1) + rna(name = 'lacA', type = 'cds', prot = None) + dna(name = 'lacA', type = 'rbs', prot = None), Parameter('fwd_sliding_lacA_rbs', 0))\n",
      "Rule('sliding_lacA_cds', cplx(name = 'RNAP', dna = 1) % dna(name = 'lacA', type = 'cds', prot = 1) + None + dna(name = 'lacA', type = 'ter1', prot = None) >> cplx(name = 'RNAP', dna = 1) % dna(name = 'lacA', type = 'ter1', prot = 1) + rna(name = 'lacA', type = 'ter1', prot = None) + dna(name = 'lacA', type = 'cds', prot = None), Parameter('fwd_sliding_lacA_cds', 0))\n",
      "Rule('sliding_lacA_ter1', cplx(name = 'RNAP', dna = 1) % dna(name = 'lacA', type = 'ter1', prot = 1) + None + dna(name = 'lacA', type = 'ter2', prot = None) >> cplx(name = 'RNAP', dna = 1) % dna(name = 'lacA', type = 'ter2', prot = 1) + rna(name = 'lacA', type = 'ter2', prot = None) + dna(name = 'lacA', type = 'ter1', prot = None), Parameter('fwd_sliding_lacA_ter1', 0))\n"
     ]
    }
   ],
   "source": [
    "for dna_part1, dna_part2 in zip(data.SOURCE, data.TARGET):\n",
    "    name1 = dna_part1.split('-')[0]\n",
    "    type1 = dna_part1.split('-')[1]\n",
    "    name2 = dna_part2.split('-')[0]\n",
    "    type2 = dna_part2.split('-')[1]\n",
    "    \n",
    "#     if 'rbs' in name2 or 'cds' in\n",
    "    Rule = 'Rule(\\'sliding_{:s}\\', cplx(name = \\'RNAP\\', dna = 1) % dna(name = \\'{:s}\\', type = \\'{:s}\\', prot = 1) + None + dna(name = \\'{:s}\\', type = \\'{:s}\\', prot = None) ' \\\n",
    "            '>> cplx(name = \\'RNAP\\', dna = 1) % dna(name = \\'{:s}\\', type = \\'{:s}\\', prot = 1) + rna(name = \\'{:s}\\', type = \\'{:s}\\', prot = None) + dna(name = \\'{:s}\\', type = \\'{:s}\\', prot = None), ' \\\n",
    "                'Parameter(\\'fwd_sliding_{:s}\\', 0))' \\\n",
    "            .format(dna_part1, name1, type1, name2, type2, name2, type2, name2, type2, name1, type1, dna_part1)\n",
    "    \n",
    "    print(Rule.replace('-', '_'))\n",
    "#     print()"
   ]
  },
  {
   "cell_type": "code",
   "execution_count": 14,
   "metadata": {},
   "outputs": [
    {
     "name": "stdout",
     "output_type": "stream",
     "text": [
      "Rule('fr_lacA_ter2', cplx(name = 'Ribosome', rna = 1) % rna(name = 'lacA', type = 'ter2', prot = 1) >> cplx(name = 'Ribosome', rna = None) + rna(name = 'lacA', type = 'ter2', prot = None), Parameter('fwd_fr_lacA_ter2', 0))\n",
      "\n",
      "Rule('fr_lacA_ter2', cplx(name = 'Ribosome', rna = 1) % rna(name = 'lacA', type = 'ter2', prot = 1) >> cplx(name = 'Ribosome', rna = None) + rna(name = 'lacA', type = 'ter2', prot = None), Parameter('fwd_fr_lacA_ter2', 0))\n",
      "\n",
      "Rule('fr_lacA_ter2', cplx(name = 'Ribosome', rna = 1) % rna(name = 'lacA', type = 'ter2', prot = 1) >> cplx(name = 'Ribosome', rna = None) + rna(name = 'lacA', type = 'ter2', prot = None), Parameter('fwd_fr_lacA_ter2', 0))\n",
      "\n",
      "Rule('fr_lacA_ter2', cplx(name = 'Ribosome', rna = 1) % rna(name = 'lacA', type = 'ter2', prot = 1) >> cplx(name = 'Ribosome', rna = None) + rna(name = 'lacA', type = 'ter2', prot = None), Parameter('fwd_fr_lacA_ter2', 0))\n",
      "\n",
      "Rule('dr_lacZ_rbs', cplx(name = 'Ribosome', rna = None) + rna(name = 'lacZ', type = 'rbs', prot = None) | cplx(name = 'Ribosome', rna = 1) % rna(name = 'lacZ', type = 'rbs', prot = 1), Parameter('fwd_dr_lacZ_rbs', 0), Parameter('rvs_dr_lacZ_rbs', 0))\n",
      "\n",
      "Rule('dr_lacZ_rbs', cplx(name = 'Ribosome', rna = None) + rna(name = 'lacZ', type = 'rbs', prot = None) | cplx(name = 'Ribosome', rna = 1) % rna(name = 'lacZ', type = 'rbs', prot = 1), Parameter('fwd_dr_lacZ_rbs', 0), Parameter('rvs_dr_lacZ_rbs', 0))\n",
      "\n",
      "Rule('dr_lacZ_rbs', cplx(name = 'Ribosome', rna = None) + rna(name = 'lacZ', type = 'rbs', prot = None) | cplx(name = 'Ribosome', rna = 1) % rna(name = 'lacZ', type = 'rbs', prot = 1), Parameter('fwd_dr_lacZ_rbs', 0), Parameter('rvs_dr_lacZ_rbs', 0))\n",
      "\n",
      "Rule('dr_lacY_rbs', cplx(name = 'Ribosome', rna = None) + rna(name = 'lacY', type = 'rbs', prot = None) | cplx(name = 'Ribosome', rna = 1) % rna(name = 'lacY', type = 'rbs', prot = 1), Parameter('fwd_dr_lacY_rbs', 0), Parameter('rvs_dr_lacY_rbs', 0))\n",
      "\n",
      "Rule('dr_lacY_rbs', cplx(name = 'Ribosome', rna = None) + rna(name = 'lacY', type = 'rbs', prot = None) | cplx(name = 'Ribosome', rna = 1) % rna(name = 'lacY', type = 'rbs', prot = 1), Parameter('fwd_dr_lacY_rbs', 0), Parameter('rvs_dr_lacY_rbs', 0))\n",
      "\n",
      "Rule('dr_lacA_rbs', cplx(name = 'Ribosome', rna = None) + rna(name = 'lacA', type = 'rbs', prot = None) | cplx(name = 'Ribosome', rna = 1) % rna(name = 'lacA', type = 'rbs', prot = 1), Parameter('fwd_dr_lacA_rbs', 0), Parameter('rvs_dr_lacA_rbs', 0))\n",
      "\n",
      "Rule('dr_lacA_rbs', cplx(name = 'Ribosome', rna = None) + rna(name = 'lacA', type = 'rbs', prot = None) | cplx(name = 'Ribosome', rna = 1) % rna(name = 'lacA', type = 'rbs', prot = 1), Parameter('fwd_dr_lacA_rbs', 0), Parameter('rvs_dr_lacA_rbs', 0))\n",
      "\n",
      "Rule('fr_lacA_ter1', cplx(name = 'Ribosome', rna = 1) % rna(name = 'lacA', type = 'ter1', prot = 1) >> cplx(name = 'Ribosome', rna = None) + rna(name = 'lacA', type = 'ter1', prot = None), Parameter('fwd_fr_lacA_ter1', 0))\n",
      "\n",
      "Rule('fr_lacA_ter2', cplx(name = 'Ribosome', rna = 1) % rna(name = 'lacA', type = 'ter2', prot = 1) >> cplx(name = 'Ribosome', rna = None) + rna(name = 'lacA', type = 'ter2', prot = None), Parameter('fwd_fr_lacA_ter2', 0))\n",
      "\n"
     ]
    }
   ],
   "source": [
    "for dna_part in architecture:\n",
    "\n",
    "    if 'rbs' in dna_part: # docking rules\n",
    "        name = dna_part.split('-')[0]\n",
    "        type = dna_part.split('-')[1]\n",
    "            \n",
    "        Rule = 'Rule(\\'dr_{:s}\\', cplx(name = \\'Ribosome\\', rna = None) + rna(name = \\'{:s}\\', type = \\'{:s}\\', prot = None) ' \\\n",
    "                '| cplx(name = \\'Ribosome\\', rna = 1) % rna(name = \\'{:s}\\', type = \\'{:s}\\', prot = 1), ' \\\n",
    "                'Parameter(\\'fwd_dr_{:s}\\', 0), Parameter(\\'rvs_dr_{:s}\\', 0))' \\\n",
    "                .format(dna_part, name, type, name, type, dna_part, dna_part)\n",
    "        \n",
    "    elif 'ter' in dna_part: # falloff rules\n",
    "        name = dna_part.split('-')[0]\n",
    "        type = dna_part.split('-')[1]\n",
    "            \n",
    "        Rule = 'Rule(\\'fr_{:s}\\', cplx(name = \\'Ribosome\\', rna = 1) % rna(name = \\'{:s}\\', type = \\'{:s}\\', prot = 1) ' \\\n",
    "                '>> cplx(name = \\'Ribosome\\', rna = None) + rna(name = \\'{:s}\\', type = \\'{:s}\\', prot = None), ' \\\n",
    "                'Parameter(\\'fwd_fr_{:s}\\', 0))' \\\n",
    "                .format(dna_part, name, type, name, type, dna_part)\n",
    "        \n",
    "    print(Rule.replace('-', '_'))\n",
    "    print()"
   ]
  },
  {
   "cell_type": "code",
   "execution_count": 11,
   "metadata": {},
   "outputs": [
    {
     "name": "stdout",
     "output_type": "stream",
     "text": [
      "Rule('sr_lacZ_rbs', cplx(name = 'Ribosome', rna = 1) % rna(name = 'lacZ', type = 'rbs', prot = 1) + None + rna(name = 'lacZ', type = 'cds', prot = None) >> cplx(name = 'Ribosome', rna = 1) % rna(name = 'lacZ', type = 'cds', prot = 1) + prot(name = 'lacZ', dna = None, met = None, prot = None, rna = None, up = None, dw = None) + rna(name = 'lacZ', type = 'cds', prot = None), Parameter('fwd_sr_lacZ_rbs', 0))\n",
      "\n",
      "Rule('sr_lacZ_cds', cplx(name = 'Ribosome', rna = 1) % rna(name = 'lacZ', type = 'cds', prot = 1) + rna(name = 'lacY', type = 'pro1', prot = None) >> cplx(name = 'Ribosome', rna = 1) % rna(name = 'lacY', type = 'pro1', prot = 1) + rna(name = 'lacZ', type = 'cds', prot = None), Parameter('fwd_sr_lacZ_cds', 0))\n",
      "\n",
      "Rule('sr_lacY_pro1', cplx(name = 'Ribosome', rna = 1) % rna(name = 'lacY', type = 'pro1', prot = 1) + rna(name = 'lacY', type = 'rbs', prot = None) >> cplx(name = 'Ribosome', rna = 1) % rna(name = 'lacY', type = 'rbs', prot = 1) + rna(name = 'lacY', type = 'pro1', prot = None), Parameter('fwd_sr_lacY_pro1', 0))\n",
      "\n",
      "Rule('sr_lacY_rbs', cplx(name = 'Ribosome', rna = 1) % rna(name = 'lacY', type = 'rbs', prot = 1) + None + rna(name = 'lacY', type = 'cds', prot = None) >> cplx(name = 'Ribosome', rna = 1) % rna(name = 'lacY', type = 'cds', prot = 1) + prot(name = 'lacY', dna = None, met = None, prot = None, rna = None, up = None, dw = None) + rna(name = 'lacY', type = 'cds', prot = None), Parameter('fwd_sr_lacY_rbs', 0))\n",
      "\n",
      "Rule('sr_lacY_cds', cplx(name = 'Ribosome', rna = 1) % rna(name = 'lacY', type = 'cds', prot = 1) + rna(name = 'lacA', type = 'rbs', prot = None) >> cplx(name = 'Ribosome', rna = 1) % rna(name = 'lacA', type = 'rbs', prot = 1) + rna(name = 'lacY', type = 'cds', prot = None), Parameter('fwd_sr_lacY_cds', 0))\n",
      "\n",
      "Rule('sr_lacA_rbs', cplx(name = 'Ribosome', rna = 1) % rna(name = 'lacA', type = 'rbs', prot = 1) + None + rna(name = 'lacA', type = 'cds', prot = None) >> cplx(name = 'Ribosome', rna = 1) % rna(name = 'lacA', type = 'cds', prot = 1) + prot(name = 'lacA', dna = None, met = None, prot = None, rna = None, up = None, dw = None) + rna(name = 'lacA', type = 'cds', prot = None), Parameter('fwd_sr_lacA_rbs', 0))\n",
      "\n",
      "Rule('sr_lacA_cds', cplx(name = 'Ribosome', rna = 1) % rna(name = 'lacA', type = 'cds', prot = 1) + rna(name = 'lacA', type = 'ter1', prot = None) >> cplx(name = 'Ribosome', rna = 1) % rna(name = 'lacA', type = 'ter1', prot = 1) + rna(name = 'lacA', type = 'cds', prot = None), Parameter('fwd_sr_lacA_cds', 0))\n",
      "\n",
      "Rule('sr_lacA_ter1', cplx(name = 'Ribosome', rna = 1) % rna(name = 'lacA', type = 'ter1', prot = 1) + rna(name = 'lacA', type = 'ter2', prot = None) >> cplx(name = 'Ribosome', rna = 1) % rna(name = 'lacA', type = 'ter2', prot = 1) + rna(name = 'lacA', type = 'ter1', prot = None), Parameter('fwd_sr_lacA_ter1', 0))\n",
      "\n"
     ]
    }
   ],
   "source": [
    "forward = False\n",
    "for dna_part1, dna_part2 in zip(data.SOURCE, data.TARGET):\n",
    "    name1 = dna_part1.split('-')[0]\n",
    "    type1 = dna_part1.split('-')[1]\n",
    "    name2 = dna_part2.split('-')[0]\n",
    "    type2 = dna_part2.split('-')[1]\n",
    "\n",
    "    if 'rbs' in type1:\n",
    "        forward = True\n",
    "        \n",
    "    if forward:\n",
    "        if 'cds' in type2:\n",
    "            Rule = 'Rule(\\'sr_{:s}\\', cplx(name = \\'Ribosome\\', rna = 1) % rna(name = \\'{:s}\\', type = \\'{:s}\\', prot = 1) + None + rna(name = \\'{:s}\\', type = \\'{:s}\\', prot = None) ' \\\n",
    "                '>> cplx(name = \\'Ribosome\\', rna = 1) % rna(name = \\'{:s}\\', type = \\'{:s}\\', prot = 1) + prot(name = \\'{:s}\\', dna = None, met = None, prot = None, rna = None, up = None, dw = None) + rna(name = \\'{:s}\\', type = \\'{:s}\\', prot = None), ' \\\n",
    "                    'Parameter(\\'fwd_sr_{:s}\\', 0))' \\\n",
    "                .format(dna_part1, name1, type1, name2, type2, name2, type2, name2, name2, type2, dna_part1)\n",
    "\n",
    "        else: # just sliding\n",
    "            Rule = 'Rule(\\'sr_{:s}\\', cplx(name = \\'Ribosome\\', rna = 1) % rna(name = \\'{:s}\\', type = \\'{:s}\\', prot = 1) + rna(name = \\'{:s}\\', type = \\'{:s}\\', prot = None) ' \\\n",
    "                '>> cplx(name = \\'Ribosome\\', rna = 1) % rna(name = \\'{:s}\\', type = \\'{:s}\\', prot = 1) + rna(name = \\'{:s}\\', type = \\'{:s}\\', prot = None), ' \\\n",
    "                    'Parameter(\\'fwd_sr_{:s}\\', 0))' \\\n",
    "                .format(dna_part1, name1, type1, name2, type2, name2, type2, name1, type1, dna_part1)\n",
    "            \n",
    "        print(Rule.replace('-', '_'))\n",
    "        print()"
   ]
  },
  {
   "cell_type": "code",
   "execution_count": null,
   "metadata": {},
   "outputs": [],
   "source": []
  }
 ],
 "metadata": {
  "kernelspec": {
   "display_name": "Python 3",
   "language": "python",
   "name": "python3"
  },
  "language_info": {
   "codemirror_mode": {
    "name": "ipython",
    "version": 3
   },
   "file_extension": ".py",
   "mimetype": "text/x-python",
   "name": "python",
   "nbconvert_exporter": "python",
   "pygments_lexer": "ipython3",
   "version": "3.6.9"
  }
 },
 "nbformat": 4,
 "nbformat_minor": 2
}
