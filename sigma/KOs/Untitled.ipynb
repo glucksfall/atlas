{
 "cells": [
  {
   "cell_type": "code",
   "execution_count": 1,
   "metadata": {},
   "outputs": [
    {
     "data": {
      "text/html": [
       "<style>.container { width: 95% !important; }</style>"
      ],
      "text/plain": [
       "<IPython.core.display.HTML object>"
      ]
     },
     "metadata": {},
     "output_type": "display_data"
    }
   ],
   "source": [
    "from IPython.core.display import display, HTML\n",
    "display(HTML(\"<style>.container { width: 95% !important; }</style>\"))"
   ]
  },
  {
   "cell_type": "code",
   "execution_count": 2,
   "metadata": {},
   "outputs": [],
   "source": [
    "import glob\n",
    "import pandas\n",
    "import scipy.stats"
   ]
  },
  {
   "cell_type": "code",
   "execution_count": 3,
   "metadata": {},
   "outputs": [
    {
     "data": {
      "text/plain": [
       "['results_fecI_KO.txt',\n",
       " 'results_fliA_KO.txt',\n",
       " 'results_rpoD_KO.txt',\n",
       " 'results_rpoE_KO.txt',\n",
       " 'results_rpoH_KO.txt',\n",
       " 'results_rpoN_KO.txt',\n",
       " 'results_rpoS_KO.txt']"
      ]
     },
     "execution_count": 3,
     "metadata": {},
     "output_type": "execute_result"
    }
   ],
   "source": [
    "lst = sorted(glob.glob('results*'))\n",
    "lst"
   ]
  },
  {
   "cell_type": "code",
   "execution_count": 4,
   "metadata": {},
   "outputs": [],
   "source": [
    "results = []\n",
    "for index, file in enumerate(lst):\n",
    "    with open(file, 'r') as infile:\n",
    "        data = pandas.read_csv(infile, delimiter = '\\t', index_col = [0])\n",
    "    # data\n",
    "\n",
    "    tmp = []\n",
    "    for i in range(20):\n",
    "        tmp.append(data.loc[i,:].iloc[-2:-1,-11:-1])\n",
    "\n",
    "    results.append(pandas.concat(tmp))"
   ]
  },
  {
   "cell_type": "code",
   "execution_count": 5,
   "metadata": {},
   "outputs": [],
   "source": [
    "with open('../results_sigma_reference.txt', 'r') as infile:\n",
    "    data = pandas.read_csv(infile, delimiter = '\\t', index_col = [0])\n",
    "# data\n",
    "\n",
    "tmp = []\n",
    "for i in range(20):\n",
    "    tmp.append(data.loc[i,:].iloc[-2:-1,-11:-1])\n",
    "    \n",
    "ref = pandas.concat(tmp)"
   ]
  },
  {
   "cell_type": "code",
   "execution_count": 6,
   "metadata": {},
   "outputs": [],
   "source": [
    "test_less = []\n",
    "test_greater = []\n",
    "for index, result in enumerate(results):\n",
    "    tmp1 = []\n",
    "    tmp2 = []\n",
    "    for i in range(10):\n",
    "        tmp1.append(scipy.stats.mannwhitneyu(ref.iloc[:,i], result.iloc[:,i], alternative = 'less')[1])\n",
    "        tmp2.append(scipy.stats.mannwhitneyu(ref.iloc[:,i], result.iloc[:,i], alternative = 'greater')[1])\n",
    "    test_less.append(tmp1)\n",
    "    test_greater.append(tmp2)\n",
    "\n",
    "utest_less = pandas.DataFrame(test_less, columns = data.columns[-11:-1], index = lst)\n",
    "utest_greater = pandas.DataFrame(test_greater, columns = data.columns[-11:-1], index = lst)\n",
    "\n",
    "# utest_less\n",
    "\n",
    "utest_less[utest_less < 0.05].to_csv('utests_less.txt', sep = '\\t')\n",
    "utest_greater[utest_greater < 0.05].to_csv('utests_greater.txt', sep = '\\t')"
   ]
  },
  {
   "cell_type": "code",
   "execution_count": 9,
   "metadata": {},
   "outputs": [],
   "source": [
    "# test = []\n",
    "# for index, result in enumerate(results):\n",
    "#     tmp = []\n",
    "#     for i in range(10):\n",
    "#         tmp.append(scipy.stats.ttest_ind(result.iloc[:,i], ref.iloc[:,i])[1])\n",
    "#     test.append(tmp)"
   ]
  },
  {
   "cell_type": "code",
   "execution_count": 10,
   "metadata": {},
   "outputs": [],
   "source": [
    "# ttest = pandas.DataFrame(test, columns = data.columns[-11:-1], index = lst)\n",
    "# ttest"
   ]
  },
  {
   "cell_type": "code",
   "execution_count": 11,
   "metadata": {},
   "outputs": [],
   "source": [
    "# ttest[ttest < 0.05].to_csv('ttests.txt', sep = '\\t')"
   ]
  },
  {
   "cell_type": "code",
   "execution_count": null,
   "metadata": {},
   "outputs": [],
   "source": []
  }
 ],
 "metadata": {
  "kernelspec": {
   "display_name": "Python 3",
   "language": "python",
   "name": "python3"
  },
  "language_info": {
   "codemirror_mode": {
    "name": "ipython",
    "version": 3
   },
   "file_extension": ".py",
   "mimetype": "text/x-python",
   "name": "python",
   "nbconvert_exporter": "python",
   "pygments_lexer": "ipython3",
   "version": "3.6.9"
  }
 },
 "nbformat": 4,
 "nbformat_minor": 2
}
