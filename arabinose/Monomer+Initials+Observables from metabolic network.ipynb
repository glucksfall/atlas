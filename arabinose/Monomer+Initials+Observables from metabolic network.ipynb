{
 "cells": [
  {
   "cell_type": "code",
   "execution_count": 1,
   "metadata": {},
   "outputs": [],
   "source": [
    "import numpy\n",
    "import pandas"
   ]
  },
  {
   "cell_type": "code",
   "execution_count": 2,
   "metadata": {},
   "outputs": [],
   "source": [
    "with open('./metabolic_network_v3.txt', 'r') as infile:\n",
    "    data = pandas.read_csv(infile, delimiter = '\\t', header = None)"
   ]
  },
  {
   "cell_type": "code",
   "execution_count": 3,
   "metadata": {},
   "outputs": [],
   "source": [
    "tmp = list(data.iloc[:, 2].values) + list(data.iloc[:, 3].values)\n",
    "tmp = [ ' '.join(x.replace('PER-', '').split(', ')) for x in tmp]\n",
    "tmp = ' '.join(tmp).split(' ')\n",
    "# print(tmp)\n",
    "\n",
    "metabolites = list(set(tmp)) # unique elements\n",
    "for index, met in enumerate(metabolites):\n",
    "#     print(index, met)\n",
    "    if met[0].isdigit():\n",
    "        metabolites[index] = '_' + met\n",
    "\n",
    "# metabolites"
   ]
  },
  {
   "cell_type": "code",
   "execution_count": 4,
   "metadata": {},
   "outputs": [
    {
     "name": "stdout",
     "output_type": "stream",
     "text": [
      "Monomer('met', ['name', 'loc', 'prot'],\n",
      "        { 'name' : [ 'ADP', 'ATP', 'L_RIBULOSE', 'L_RIBULOSE_5_P', 'PROTON', 'Pi', 'WATER', 'XYLULOSE_5_PHOSPHATE', 'alpha_L_arabinofuranose', 'alpha_L_arabinopyranose', 'beta_L_arabinofuranose', 'beta_L_arabinopyranose' ], \n",
      "          'loc' : ['cyt', 'per', 'ex']})\n"
     ]
    }
   ],
   "source": [
    "# match: Monomer('met', ['name', 'loc'], { 'name' : ['alpha_lactose', 'beta_lactose', 'proton'], 'loc' : ['cyt', 'per']})\n",
    "\n",
    "print(\"Monomer('met', ['name', 'loc', 'prot'],\\n\" \\\n",
    "      \"        { 'name' : [ \" + \\\n",
    "      ', '.join([ '\\'' + x.replace('-', '_') + '\\'' for x in sorted(metabolites)]) + \" ], \\n\" \\\n",
    "      \"          'loc' : ['cyt', 'per', 'ex']})\")"
   ]
  },
  {
   "cell_type": "code",
   "execution_count": 5,
   "metadata": {
    "scrolled": false
   },
   "outputs": [
    {
     "name": "stdout",
     "output_type": "stream",
     "text": [
      "Observable('obs_ADP_cyt', met(name = 'ADP', loc = 'cyt', prot = None))\n",
      "Observable('obs_ADP_per', met(name = 'ADP', loc = 'per', prot = None))\n",
      "Observable('obs_ADP_ex', met(name = 'ADP', loc = 'ex', prot = None))\n",
      "Observable('obs_ATP_cyt', met(name = 'ATP', loc = 'cyt', prot = None))\n",
      "Observable('obs_ATP_per', met(name = 'ATP', loc = 'per', prot = None))\n",
      "Observable('obs_ATP_ex', met(name = 'ATP', loc = 'ex', prot = None))\n",
      "Observable('obs_L_RIBULOSE_cyt', met(name = 'L_RIBULOSE', loc = 'cyt', prot = None))\n",
      "Observable('obs_L_RIBULOSE_per', met(name = 'L_RIBULOSE', loc = 'per', prot = None))\n",
      "Observable('obs_L_RIBULOSE_ex', met(name = 'L_RIBULOSE', loc = 'ex', prot = None))\n",
      "Observable('obs_L_RIBULOSE_5_P_cyt', met(name = 'L_RIBULOSE_5_P', loc = 'cyt', prot = None))\n",
      "Observable('obs_L_RIBULOSE_5_P_per', met(name = 'L_RIBULOSE_5_P', loc = 'per', prot = None))\n",
      "Observable('obs_L_RIBULOSE_5_P_ex', met(name = 'L_RIBULOSE_5_P', loc = 'ex', prot = None))\n",
      "Observable('obs_PROTON_cyt', met(name = 'PROTON', loc = 'cyt', prot = None))\n",
      "Observable('obs_PROTON_per', met(name = 'PROTON', loc = 'per', prot = None))\n",
      "Observable('obs_PROTON_ex', met(name = 'PROTON', loc = 'ex', prot = None))\n",
      "Observable('obs_Pi_cyt', met(name = 'Pi', loc = 'cyt', prot = None))\n",
      "Observable('obs_Pi_per', met(name = 'Pi', loc = 'per', prot = None))\n",
      "Observable('obs_Pi_ex', met(name = 'Pi', loc = 'ex', prot = None))\n",
      "Observable('obs_WATER_cyt', met(name = 'WATER', loc = 'cyt', prot = None))\n",
      "Observable('obs_WATER_per', met(name = 'WATER', loc = 'per', prot = None))\n",
      "Observable('obs_WATER_ex', met(name = 'WATER', loc = 'ex', prot = None))\n",
      "Observable('obs_XYLULOSE_5_PHOSPHATE_cyt', met(name = 'XYLULOSE_5_PHOSPHATE', loc = 'cyt', prot = None))\n",
      "Observable('obs_XYLULOSE_5_PHOSPHATE_per', met(name = 'XYLULOSE_5_PHOSPHATE', loc = 'per', prot = None))\n",
      "Observable('obs_XYLULOSE_5_PHOSPHATE_ex', met(name = 'XYLULOSE_5_PHOSPHATE', loc = 'ex', prot = None))\n",
      "Observable('obs_alpha_L_arabinofuranose_cyt', met(name = 'alpha_L_arabinofuranose', loc = 'cyt', prot = None))\n",
      "Observable('obs_alpha_L_arabinofuranose_per', met(name = 'alpha_L_arabinofuranose', loc = 'per', prot = None))\n",
      "Observable('obs_alpha_L_arabinofuranose_ex', met(name = 'alpha_L_arabinofuranose', loc = 'ex', prot = None))\n",
      "Observable('obs_alpha_L_arabinopyranose_cyt', met(name = 'alpha_L_arabinopyranose', loc = 'cyt', prot = None))\n",
      "Observable('obs_alpha_L_arabinopyranose_per', met(name = 'alpha_L_arabinopyranose', loc = 'per', prot = None))\n",
      "Observable('obs_alpha_L_arabinopyranose_ex', met(name = 'alpha_L_arabinopyranose', loc = 'ex', prot = None))\n",
      "Observable('obs_beta_L_arabinofuranose_cyt', met(name = 'beta_L_arabinofuranose', loc = 'cyt', prot = None))\n",
      "Observable('obs_beta_L_arabinofuranose_per', met(name = 'beta_L_arabinofuranose', loc = 'per', prot = None))\n",
      "Observable('obs_beta_L_arabinofuranose_ex', met(name = 'beta_L_arabinofuranose', loc = 'ex', prot = None))\n",
      "Observable('obs_beta_L_arabinopyranose_cyt', met(name = 'beta_L_arabinopyranose', loc = 'cyt', prot = None))\n",
      "Observable('obs_beta_L_arabinopyranose_per', met(name = 'beta_L_arabinopyranose', loc = 'per', prot = None))\n",
      "Observable('obs_beta_L_arabinopyranose_ex', met(name = 'beta_L_arabinopyranose', loc = 'ex', prot = None))\n",
      "\n",
      "Initial(met(name = 'ADP', loc = 'cyt', prot = None), Parameter('t0_ADP_cyt', 0))\n",
      "Initial(met(name = 'ADP', loc = 'per', prot = None), Parameter('t0_ADP_per', 0))\n",
      "Initial(met(name = 'ADP', loc = 'ex', prot = None), Parameter('t0_ADP_ex', 0))\n",
      "Initial(met(name = 'ATP', loc = 'cyt', prot = None), Parameter('t0_ATP_cyt', 0))\n",
      "Initial(met(name = 'ATP', loc = 'per', prot = None), Parameter('t0_ATP_per', 0))\n",
      "Initial(met(name = 'ATP', loc = 'ex', prot = None), Parameter('t0_ATP_ex', 0))\n",
      "Initial(met(name = 'L_RIBULOSE', loc = 'cyt', prot = None), Parameter('t0_L_RIBULOSE_cyt', 0))\n",
      "Initial(met(name = 'L_RIBULOSE', loc = 'per', prot = None), Parameter('t0_L_RIBULOSE_per', 0))\n",
      "Initial(met(name = 'L_RIBULOSE', loc = 'ex', prot = None), Parameter('t0_L_RIBULOSE_ex', 0))\n",
      "Initial(met(name = 'L_RIBULOSE_5_P', loc = 'cyt', prot = None), Parameter('t0_L_RIBULOSE_5_P_cyt', 0))\n",
      "Initial(met(name = 'L_RIBULOSE_5_P', loc = 'per', prot = None), Parameter('t0_L_RIBULOSE_5_P_per', 0))\n",
      "Initial(met(name = 'L_RIBULOSE_5_P', loc = 'ex', prot = None), Parameter('t0_L_RIBULOSE_5_P_ex', 0))\n",
      "Initial(met(name = 'PROTON', loc = 'cyt', prot = None), Parameter('t0_PROTON_cyt', 0))\n",
      "Initial(met(name = 'PROTON', loc = 'per', prot = None), Parameter('t0_PROTON_per', 0))\n",
      "Initial(met(name = 'PROTON', loc = 'ex', prot = None), Parameter('t0_PROTON_ex', 0))\n",
      "Initial(met(name = 'Pi', loc = 'cyt', prot = None), Parameter('t0_Pi_cyt', 0))\n",
      "Initial(met(name = 'Pi', loc = 'per', prot = None), Parameter('t0_Pi_per', 0))\n",
      "Initial(met(name = 'Pi', loc = 'ex', prot = None), Parameter('t0_Pi_ex', 0))\n",
      "Initial(met(name = 'WATER', loc = 'cyt', prot = None), Parameter('t0_WATER_cyt', 0))\n",
      "Initial(met(name = 'WATER', loc = 'per', prot = None), Parameter('t0_WATER_per', 0))\n",
      "Initial(met(name = 'WATER', loc = 'ex', prot = None), Parameter('t0_WATER_ex', 0))\n",
      "Initial(met(name = 'XYLULOSE_5_PHOSPHATE', loc = 'cyt', prot = None), Parameter('t0_XYLULOSE_5_PHOSPHATE_cyt', 0))\n",
      "Initial(met(name = 'XYLULOSE_5_PHOSPHATE', loc = 'per', prot = None), Parameter('t0_XYLULOSE_5_PHOSPHATE_per', 0))\n",
      "Initial(met(name = 'XYLULOSE_5_PHOSPHATE', loc = 'ex', prot = None), Parameter('t0_XYLULOSE_5_PHOSPHATE_ex', 0))\n",
      "Initial(met(name = 'alpha_L_arabinofuranose', loc = 'cyt', prot = None), Parameter('t0_alpha_L_arabinofuranose_cyt', 0))\n",
      "Initial(met(name = 'alpha_L_arabinofuranose', loc = 'per', prot = None), Parameter('t0_alpha_L_arabinofuranose_per', 0))\n",
      "Initial(met(name = 'alpha_L_arabinofuranose', loc = 'ex', prot = None), Parameter('t0_alpha_L_arabinofuranose_ex', 0))\n",
      "Initial(met(name = 'alpha_L_arabinopyranose', loc = 'cyt', prot = None), Parameter('t0_alpha_L_arabinopyranose_cyt', 0))\n",
      "Initial(met(name = 'alpha_L_arabinopyranose', loc = 'per', prot = None), Parameter('t0_alpha_L_arabinopyranose_per', 0))\n",
      "Initial(met(name = 'alpha_L_arabinopyranose', loc = 'ex', prot = None), Parameter('t0_alpha_L_arabinopyranose_ex', 0))\n",
      "Initial(met(name = 'beta_L_arabinofuranose', loc = 'cyt', prot = None), Parameter('t0_beta_L_arabinofuranose_cyt', 0))\n",
      "Initial(met(name = 'beta_L_arabinofuranose', loc = 'per', prot = None), Parameter('t0_beta_L_arabinofuranose_per', 0))\n",
      "Initial(met(name = 'beta_L_arabinofuranose', loc = 'ex', prot = None), Parameter('t0_beta_L_arabinofuranose_ex', 0))\n",
      "Initial(met(name = 'beta_L_arabinopyranose', loc = 'cyt', prot = None), Parameter('t0_beta_L_arabinopyranose_cyt', 0))\n",
      "Initial(met(name = 'beta_L_arabinopyranose', loc = 'per', prot = None), Parameter('t0_beta_L_arabinopyranose_per', 0))\n",
      "Initial(met(name = 'beta_L_arabinopyranose', loc = 'ex', prot = None), Parameter('t0_beta_L_arabinopyranose_ex', 0))\n"
     ]
    }
   ],
   "source": [
    "for name in sorted(metabolites):\n",
    "    name = name.replace('-','_')\n",
    "    for loc in ['cyt', 'per', 'ex']:\n",
    "        print('Observable(\\'obs_{:s}_{:s}\\', met(name = \\'{:s}\\', loc = \\'{:s}\\', prot = None))'.format(name, loc, name, loc))\n",
    "\n",
    "print()\n",
    "for name in sorted(metabolites):\n",
    "    name = name.replace('-','_')\n",
    "    for loc in ['cyt', 'per', 'ex']:\n",
    "        print('Initial(met(name = \\'{:s}\\', loc = \\'{:s}\\', prot = None), Parameter(\\'t0_{:s}_{:s}\\', 0))'.format(name, loc, name, loc))"
   ]
  },
  {
   "cell_type": "code",
   "execution_count": 18,
   "metadata": {},
   "outputs": [
    {
     "name": "stdout",
     "output_type": "stream",
     "text": [
      "Monomer('prot', ['name', 'loc', 'dna', 'met', 'rna', 'up', 'dw'],\n",
      "        { 'name' : ['AraE', '[AraF, AraG, AraG, AraH, AraH]', 'AraA', 'AraB', 'AraD'], \n",
      "         'loc' : ['cyt', 'mem', 'per', 'ex'] })\n",
      "\n",
      "Initial(prot(name = 'AraE', loc = 'cyt', dna = None, met = None, rna = None, up = None, dw = None), Parameter('t0_AraE_cyt', 0))\n",
      "Initial(prot(name = '[AraF, AraG, AraG, AraH, AraH]', loc = 'cyt', dna = None, met = None, rna = None, up = None, dw = None), Parameter('t0_[AraF, AraG, AraG, AraH, AraH]_cyt', 0))\n",
      "Initial(prot(name = 'AraA', loc = 'cyt', dna = None, met = None, rna = None, up = None, dw = None), Parameter('t0_AraA_cyt', 0))\n",
      "Initial(prot(name = 'AraB', loc = 'cyt', dna = None, met = None, rna = None, up = None, dw = None), Parameter('t0_AraB_cyt', 0))\n",
      "Initial(prot(name = 'AraD', loc = 'cyt', dna = None, met = None, rna = None, up = None, dw = None), Parameter('t0_AraD_cyt', 0))\n",
      "Initial(prot(name = 'AraE', loc = 'mem', dna = None, met = None, rna = None, up = None, dw = None), Parameter('t0_AraE_mem', 0))\n",
      "Initial(prot(name = '[AraF, AraG, AraG, AraH, AraH]', loc = 'mem', dna = None, met = None, rna = None, up = None, dw = None), Parameter('t0_[AraF, AraG, AraG, AraH, AraH]_mem', 0))\n",
      "Initial(prot(name = 'AraA', loc = 'mem', dna = None, met = None, rna = None, up = None, dw = None), Parameter('t0_AraA_mem', 0))\n",
      "Initial(prot(name = 'AraB', loc = 'mem', dna = None, met = None, rna = None, up = None, dw = None), Parameter('t0_AraB_mem', 0))\n",
      "Initial(prot(name = 'AraD', loc = 'mem', dna = None, met = None, rna = None, up = None, dw = None), Parameter('t0_AraD_mem', 0))\n",
      "Initial(prot(name = 'AraE', loc = 'per', dna = None, met = None, rna = None, up = None, dw = None), Parameter('t0_AraE_per', 0))\n",
      "Initial(prot(name = '[AraF, AraG, AraG, AraH, AraH]', loc = 'per', dna = None, met = None, rna = None, up = None, dw = None), Parameter('t0_[AraF, AraG, AraG, AraH, AraH]_per', 0))\n",
      "Initial(prot(name = 'AraA', loc = 'per', dna = None, met = None, rna = None, up = None, dw = None), Parameter('t0_AraA_per', 0))\n",
      "Initial(prot(name = 'AraB', loc = 'per', dna = None, met = None, rna = None, up = None, dw = None), Parameter('t0_AraB_per', 0))\n",
      "Initial(prot(name = 'AraD', loc = 'per', dna = None, met = None, rna = None, up = None, dw = None), Parameter('t0_AraD_per', 0))\n",
      "Initial(prot(name = 'AraE', loc = 'ex', dna = None, met = None, rna = None, up = None, dw = None), Parameter('t0_AraE_ex', 0))\n",
      "Initial(prot(name = '[AraF, AraG, AraG, AraH, AraH]', loc = 'ex', dna = None, met = None, rna = None, up = None, dw = None), Parameter('t0_[AraF, AraG, AraG, AraH, AraH]_ex', 0))\n",
      "Initial(prot(name = 'AraA', loc = 'ex', dna = None, met = None, rna = None, up = None, dw = None), Parameter('t0_AraA_ex', 0))\n",
      "Initial(prot(name = 'AraB', loc = 'ex', dna = None, met = None, rna = None, up = None, dw = None), Parameter('t0_AraB_ex', 0))\n",
      "Initial(prot(name = 'AraD', loc = 'ex', dna = None, met = None, rna = None, up = None, dw = None), Parameter('t0_AraD_ex', 0))\n"
     ]
    }
   ],
   "source": [
    "complexes = pandas.unique(data.iloc[:, 0].values)\n",
    "\n",
    "prot = []\n",
    "cplx = []\n",
    "\n",
    "for complex in complexes:\n",
    "    complex = complex.replace('-','_')\n",
    "    if complex != 'spontaneous':\n",
    "        if 'CPLX' in complex:\n",
    "            cplx.append(complex)\n",
    "        else:\n",
    "            prot.append(complex)\n",
    "            \n",
    "print('Monomer(\\'prot\\', [\\'name\\', \\'loc\\', \\'dna\\', \\'met\\', \\'rna\\', \\'up\\', \\'dw\\'],\\n' \\\n",
    "      '        {{ \\'name\\' : [{:s}], \\n' \\\n",
    "      '         \\'loc\\' : [\\'cyt\\', \\'mem\\', \\'per\\', \\'ex\\'] }})' \\\n",
    "      .format(', '.join(['\\'' + x + '\\'' for x in prot])))\n",
    "print()\n",
    "\n",
    "# print('Monomer(\\'cplx\\', [\\'name\\', \\'loc\\', \\'dna\\', \\'prot\\', \\'rna\\'], \\n' \\\n",
    "#       '        { \\'name\\' : [{:s}], \\n' \\\n",
    "#       '          \\'loc\\' : [\\'cyt\\', \\'mem\\', \\'per\\', \\'ex\\'] }})' \\\n",
    "#       .format(', '.join(['\\'' + x + '\\'' for x in cplx])))\n",
    "# print()\n",
    "\n",
    "for loc in ['cyt', 'mem', 'per', 'ex']:\n",
    "    for name in cplx:\n",
    "        print('Initial(cplx(name = \\'{:s}\\', loc = \\'{:s}\\', dna = None, met = None, rna = None, up = None, dw = None), ' \\\n",
    "              'Parameter(\\'t0_{:s}_{:s}\\', 0))'.format(name, loc, name, loc))\n",
    "    for name in prot:\n",
    "        print('Initial(prot(name = \\'{:s}\\', loc = \\'{:s}\\', dna = None, met = None, rna = None, up = None, dw = None), ' \\\n",
    "              'Parameter(\\'t0_{:s}_{:s}\\', 0))'.format(name, loc, name, loc))"
   ]
  },
  {
   "cell_type": "code",
   "execution_count": null,
   "metadata": {},
   "outputs": [],
   "source": []
  }
 ],
 "metadata": {
  "kernelspec": {
   "display_name": "Python 3",
   "language": "python",
   "name": "python3"
  },
  "language_info": {
   "codemirror_mode": {
    "name": "ipython",
    "version": 3
   },
   "file_extension": ".py",
   "mimetype": "text/x-python",
   "name": "python",
   "nbconvert_exporter": "python",
   "pygments_lexer": "ipython3",
   "version": "3.6.9"
  }
 },
 "nbformat": 4,
 "nbformat_minor": 2
}
