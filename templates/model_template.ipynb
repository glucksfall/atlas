{
 "cells": [
  {
   "cell_type": "markdown",
   "metadata": {},
   "source": [
    "### Section 0: Import"
   ]
  },
  {
   "cell_type": "code",
   "execution_count": 1,
   "metadata": {},
   "outputs": [
    {
     "data": {
      "text/html": [
       "<style>.container { width: 95% !important; }</style>"
      ],
      "text/plain": [
       "<IPython.core.display.HTML object>"
      ]
     },
     "metadata": {},
     "output_type": "display_data"
    }
   ],
   "source": [
    "from pysb import *\n",
    "from pysb.export import export\n",
    "from pysb.simulator import BngSimulator, KappaSimulator\n",
    "\n",
    "import matplotlib.pyplot as plt\n",
    "from pylab import linspace\n",
    "\n",
    "import seaborn\n",
    "palette = seaborn.color_palette('colorblind')\n",
    "\n",
    "from pysb.pathfinder import set_path\n",
    "set_path('bng', '/opt/bionetgen.RuleWorld/bng2/') # path to bng2 folder (BNG2.pl executable)\n",
    "set_path('kasim', '/opt/KaSim4.Kappa-Dev/') # path to KaSim executable (v4 or newer)\n",
    "\n",
    "from IPython.core.display import display, HTML\n",
    "display(HTML(\"<style>.container { width: 95% !important; }</style>\"))"
   ]
  },
  {
   "cell_type": "markdown",
   "metadata": {},
   "source": [
    "### Section 1: Define Model"
   ]
  },
  {
   "cell_type": "code",
   "execution_count": 2,
   "metadata": {},
   "outputs": [
    {
     "data": {
      "text/plain": [
       "<Model '_interactive_' (monomers: 0, rules: 0, parameters: 0, expressions: 0, compartments: 0) at 0x7f7bef1f51d0>"
      ]
     },
     "execution_count": 2,
     "metadata": {},
     "output_type": "execute_result"
    }
   ],
   "source": [
    "Model()"
   ]
  },
  {
   "cell_type": "code",
   "execution_count": 3,
   "metadata": {},
   "outputs": [
    {
     "data": {
      "text/plain": [
       "Monomer('cplx', ['name', 'loc', 'dna', 'prot', 'rna'], {'name': ['RNAP', 'Ribosome'], 'loc': ['cyt', 'per', 'ex']})"
      ]
     },
     "execution_count": 3,
     "metadata": {},
     "output_type": "execute_result"
    }
   ],
   "source": [
    "# Define model components\n",
    "\n",
    "# paste inside brackets the common names for metabolites\n",
    "metabolites = []\n",
    "\n",
    "# paste inside brackets the common names for genes\n",
    "genes = []\n",
    "\n",
    "# paste inside brackets the DNA binding sites: BS- followed by genomic coordinates\n",
    "binding_sites = []\n",
    "\n",
    "Monomer('met', ['name', 'loc', 'prot'], \n",
    "    { 'name' : metabolites, \n",
    "      'loc' : ['cyt', 'per', 'ex']})\n",
    "\n",
    "Monomer('dna', ['name', 'type', 'prot', 'rna', 'up', 'dw'], \n",
    "    { 'name' : genes + binding_sites, \n",
    "      'type' : ['BS', 'pro1', 'pro2', 'pro3', 'pro4', 'rbs', 'cds', 'ter1', 'ter2']})\n",
    "\n",
    "Monomer('rna', ['name', 'type', 'dna', 'prot'], \n",
    "    { 'name' : genes + binding_sites, \n",
    "      'type' : ['BS', 'pro1', 'pro2', 'pro3', 'pro4', 'rbs', 'cds', 'ter1', 'ter2']})\n",
    "\n",
    "Monomer('prot', ['name', 'loc', 'dna', 'met', 'rna', 'up', 'dw'],\n",
    "    { 'name' : genes, # we name proteins with their gene common names (aka, first letter lowercase) \n",
    "      'loc' : ['cyt', 'per', 'ex']})"
   ]
  },
  {
   "cell_type": "code",
   "execution_count": 4,
   "metadata": {},
   "outputs": [
    {
     "data": {
      "text/plain": [
       "Initial(met(name='alpha_L_arabinopyranose', loc='per', prot=None), t0_alpha_L_arabinopyranose_per)"
      ]
     },
     "execution_count": 4,
     "metadata": {},
     "output_type": "execute_result"
    }
   ],
   "source": [
    "## paste here the result of \"Monomer+Initials+Observables from metabolic network\"\n",
    "# Define observables and initials for metabolites\n"
   ]
  },
  {
   "cell_type": "code",
   "execution_count": 5,
   "metadata": {},
   "outputs": [
    {
     "data": {
      "text/plain": [
       "Rule('RIBULPEPIM_RXN', prot(name='araD', loc='cyt') + met(name='L_RIBULOSE_5_P', loc='cyt', prot=None) | prot(name='araD', loc='cyt') + met(name='XYLULOSE_5_PHOSPHATE', loc='cyt', prot=None), fwd_RIBULPEPIM_RXN, rvs_RIBULPEPIM_RXN)"
      ]
     },
     "execution_count": 5,
     "metadata": {},
     "output_type": "execute_result"
    }
   ],
   "source": [
    "## paste here the results of \"Rules from metabolic network\"\n",
    "# section 1: metabolic rules\n"
   ]
  },
  {
   "cell_type": "code",
   "execution_count": 6,
   "metadata": {},
   "outputs": [
    {
     "data": {
      "text/plain": [
       "Rule('ProtProt_AssemblyRule_10', prot(name='araF', met=WILD, up=None, dw=None) + prot(name='araH', up=None, dw=1) % prot(name='araH', up=1, dw=2) % prot(name='araG', up=2, dw=3) % prot(name='araG', met=ANY, up=3, dw=None) | prot(name='araF', met=WILD, up=None, dw=1) % prot(name='araH', up=1, dw=2) % prot(name='araH', up=2, dw=3) % prot(name='araG', up=3, dw=4) % prot(name='araG', met=ANY, up=4, dw=None), fwd_ProtProt_AssemblyRule_10, rvs_ProtProt_AssemblyRule_10)"
      ]
     },
     "execution_count": 6,
     "metadata": {},
     "output_type": "execute_result"
    }
   ],
   "source": [
    "## paste here the results of \"Rules from protein-protein\"\n",
    "# section 2: protein-protein interactions\n"
   ]
  },
  {
   "cell_type": "code",
   "execution_count": 7,
   "metadata": {},
   "outputs": [
    {
     "data": {
      "text/plain": [
       "Rule('sr_araH_cds', cplx(name='Ribosome', rna=1) % rna(name='araH', type='cds', prot=1) + rna(name='araH', type='ter1', prot=None) >> cplx(name='Ribosome', rna=1) % rna(name='araH', type='ter1', prot=1) + rna(name='araH', type='cds', prot=None), fwd_sr_araH_cds)"
      ]
     },
     "execution_count": 7,
     "metadata": {},
     "output_type": "execute_result"
    }
   ],
   "source": [
    "## paste here the result of either \"Rules from SigmaFactors x Architecture\" or \"Rules from genome architecture\"\n",
    "## the later do not consider sigma specificity and requires the declaration of an ad-hoc agent for RNAP:\n",
    "## Initial(cplx(name = 'RNAP', loc = 'cyt', dna = None, prot = None, rna = None), Parameter('t0_RNAP', 10))\n",
    "# section 3a: rna synthesis\n",
    "\n",
    "# section 3b: protein synthesis\n"
   ]
  },
  {
   "cell_type": "code",
   "execution_count": 8,
   "metadata": {},
   "outputs": [
    {
     "data": {
      "text/plain": [
       "Observable('obs_ribosome', cplx(name='Ribosome', dna=None, rna=None))"
      ]
     },
     "execution_count": 8,
     "metadata": {},
     "output_type": "execute_result"
    }
   ],
   "source": [
    "## write dna parts. TODO automatization\n",
    "# section 3c: initialize dna and others\n",
    "Initial(\n",
    "    dna(name = 'araC', type = 'ter1', prot = None, rna = None, up = None, dw = 17) %\n",
    "    dna(name = 'araC', type = 'cds', prot = None, rna = None, up = 17, dw = 16) %\n",
    "    dna(name = 'araC', type = 'rbs', prot = None, rna = None, up = 16, dw = 15) %\n",
    "    dna(name = 'BS_267_283', type = 'BS', prot = None, rna = None, up = 15, dw = 1) %\n",
    "    dna(name = 'araC', type = 'pro1', prot = None, rna = None, up = 1, dw = 2) %\n",
    "    dna(name = 'BS_130_146', type = 'BS', prot = None, rna = None, up = 2, dw = 3) %\n",
    "    dna(name = 'BS_109_125', type = 'BS', prot = None, rna = None, up = 3, dw = 4) %\n",
    "    dna(name = 'BS_83_104', type = 'BS', prot = None, rna = None, up = 4, dw = 5) %    \n",
    "    dna(name = 'BS_56_72', type = 'BS', prot = None, rna = None, up = 5, dw = 6) %\n",
    "    dna(name = 'BS_35_51', type = 'BS', prot = None, rna = None, up = 6, dw = 7) %\n",
    "    dna(name = 'araB', type = 'pro1', prot = None, rna = None, up = 7, dw = 8) %\n",
    "    dna(name = 'araB', type = 'rbs', prot = None, rna = None, up = 8, dw = 9) %\n",
    "    dna(name = 'araB', type = 'cds', prot = None, rna = None, up = 9, dw = 10) %\n",
    "    dna(name = 'araA', type = 'rbs', prot = None, rna = None, up = 10, dw = 11) %\n",
    "    dna(name = 'araA', type = 'cds', prot = None, rna = None, up = 11, dw = 12) %\n",
    "    dna(name = 'araD', type = 'rbs', prot = None, rna = None, up = 12, dw = 13) %\n",
    "    dna(name = 'araD', type = 'cds', prot = None, rna = None, up = 13, dw = 14) %\n",
    "    dna(name = 'araD', type = 'ter1', prot = None, rna = None, up = 14, dw = None),\n",
    "    Parameter('t0_araBAD_araC_operons', 1))\n",
    "\n",
    "Initial(\n",
    "    dna(name = 'BS_158_174', type = 'BS', prot = None, rna = None, up = None, dw = 1) %\n",
    "    dna(name = 'BS_137_153', type = 'BS', prot = None, rna = None, up = 1, dw = 2) %\n",
    "    dna(name = 'BS_83_99', type = 'BS', prot = None, rna = None, up = 2, dw = 3) %\n",
    "    dna(name = 'BS_62_78', type = 'BS', prot = None, rna = None, up = 3, dw = 4) %\n",
    "    dna(name = 'araE', type = 'pro1', prot = None, rna = None, up = 4, dw = 5) %\n",
    "    dna(name = 'araE', type = 'rbs', prot = None, rna = None, up = 5, dw = 6) %\n",
    "    dna(name = 'araE', type = 'cds', prot = None, rna = None, up = 6, dw = 7) %\n",
    "    dna(name = 'araE', type = 'ter1', prot = None, rna = None, up = 7, dw = None), \n",
    "    Parameter('t0_araE_operon', 1))\n",
    "\n",
    "Initial(\n",
    "    dna(name = 'BS_57_73', type = 'BS', prot = None, rna = None, up = None, dw = 1) %\n",
    "    dna(name = 'BS_36_52', type = 'BS', prot = None, rna = None, up = 1, dw = 2) %\n",
    "    dna(name = 'araF', type = 'pro1', prot = None, rna = None, up = 2, dw = 3) %\n",
    "    dna(name = 'araF', type = 'rbs', prot = None, rna = None, up = 3, dw = 4) %\n",
    "    dna(name = 'araF', type = 'cds', prot = None, rna = None, up = 4, dw = 5) %\n",
    "    dna(name = 'araG', type = 'rbs', prot = None, rna = None, up = 5, dw = 6) %\n",
    "    dna(name = 'araG', type = 'cds', prot = None, rna = None, up = 6, dw = 7) %\n",
    "    dna(name = 'araH', type = 'rbs', prot = None, rna = None, up = 7, dw = 8) %\n",
    "    dna(name = 'araH', type = 'cds', prot = None, rna = None, up = 8, dw = 9) %\n",
    "    dna(name = 'araH', type = 'ter1', prot = None, rna = None, up = 9, dw = None), \n",
    "    Parameter('t0_araFGH_operon', 1))"
   ]
  },
  {
   "cell_type": "code",
   "execution_count": 9,
   "metadata": {},
   "outputs": [
    {
     "data": {
      "text/plain": [
       "Rule('TranscriptionFactorMet_AssemblyRule_20', prot(name='araC', dna=2, met=1, up=None, dw=None) % met(name='alpha_L_arabinopyranose', prot=1) % dna(name='BS_57_73', prot=2, up=WILD, dw=WILD) + prot(name='araC', dna=4, met=3, up=None, dw=None) % met(name='alpha_L_arabinopyranose', prot=3) % dna(name='BS_36_52', prot=4, up=WILD, dw=WILD) | prot(name='araC', dna=3, met=2, up=None, dw=1) % met(name='alpha_L_arabinopyranose', prot=2) % dna(name='BS_57_73', prot=3, up=WILD, dw=WILD) % prot(name='araC', dna=5, met=4, up=1, dw=None) % met(name='alpha_L_arabinopyranose', prot=4) % dna(name='BS_36_52', prot=5, up=WILD, dw=WILD), fwd_TranscriptionFactorMet_AssemblyRule_20, rvs_TranscriptionFactorMet_AssemblyRule_20)"
      ]
     },
     "execution_count": 9,
     "metadata": {},
     "output_type": "execute_result"
    }
   ],
   "source": [
    "## paste here the result of \"Rules from tf-tfbs\"\n",
    "# section 4: regulation of gene expression\n"
   ]
  },
  {
   "cell_type": "code",
   "execution_count": 10,
   "metadata": {},
   "outputs": [
    {
     "data": {
      "text/plain": [
       "Rule('ProtMet_RuleAssembly_6', prot(name='araC', loc='cyt', met=None, up=None, dw=None) + met(name='alpha_L_arabinopyranose', loc='cyt', prot=None) | prot(name='araC', loc='cyt', met=1, up=None, dw=None) % met(name='alpha_L_arabinopyranose', loc='cyt', prot=1), fwd_ProtMet_RuleAssembly_6, rvs_ProtMet_RuleAssembly_6)"
      ]
     },
     "execution_count": 10,
     "metadata": {},
     "output_type": "execute_result"
    }
   ],
   "source": [
    "## paste here the result of \"Rules from protein-small compounds\"\n",
    "# section 5: protein and small compounds interactions\n"
   ]
  },
  {
   "cell_type": "code",
   "execution_count": 11,
   "metadata": {},
   "outputs": [
    {
     "data": {
      "text/plain": [
       "Rule('araF_translocation', prot(name='araF', loc='cyt') >> prot(name='araF', loc='per'), translocation)"
      ]
     },
     "execution_count": 11,
     "metadata": {},
     "output_type": "execute_result"
    }
   ],
   "source": [
    "## write here ad-hoc rules.\n",
    "# section 6: ad-hoc rules\n",
    "Rule('araF_translocation',\n",
    "    prot(name = 'araF', loc = 'cyt') >>\n",
    "    prot(name = 'araF', loc = 'per'),\n",
    "    Parameter('translocation', 1))"
   ]
  },
  {
   "cell_type": "markdown",
   "metadata": {},
   "source": [
    "### Section 3: SImulation"
   ]
  },
  {
   "cell_type": "code",
   "execution_count": 12,
   "metadata": {},
   "outputs": [],
   "source": [
    "## save model to kappa and bngl\n",
    "with open('model_arabinose.kappa', 'w') as outfile:\n",
    "    outfile.write(export(model, 'kappa'))\n",
    "    \n",
    "with open('model_arabinose.bngl', 'w') as outfile:\n",
    "    outfile.write(export(model, 'bngl'))"
   ]
  },
  {
   "cell_type": "code",
   "execution_count": 14,
   "metadata": {},
   "outputs": [],
   "source": [
    "runs = 100\n",
    "data2 = BngSimulator(model, linspace(0, 200, 201)).run(method = 'nf', n_runs = runs).dataframe\n",
    "data2 = KappaSimulator(model, linspace(0, 1000, 201)).run(n_runs = runs).dataframe\n",
    "\n",
    "data = []\n",
    "for i in range(runs):\n",
    "    data.append(data2.xs(i))\n",
    "\n",
    "avrg = 0\n",
    "for i in range(runs):\n",
    "    avrg += data[i]\n",
    "avrg = avrg / runs\n",
    "\n",
    "stdv = []\n",
    "for i in range(runs):\n",
    "    stdv = (data[i] - avrg)**2\n",
    "stdv = (stdv / (runs-1))**0.5"
   ]
  },
  {
   "cell_type": "code",
   "execution_count": 15,
   "metadata": {},
   "outputs": [
    {
     "data": {
      "image/png": "[encoded data removed]",
      "text/plain": [
       "<Figure size 800x300 with 2 Axes>"
      ]
     },
     "metadata": {
      "needs_background": "light"
     },
     "output_type": "display_data"
    }
   ],
   "source": [
    "fig, ax = plt.subplots(1, 2, figsize = (4*2, 3*1), dpi = 100)\n",
    "\n",
    "label = r'$\\alpha$-L-arabinopyranose' # use $$ for latex rendering\n",
    "observable = 'obs_alpha_L_arabinopyranose_cyt'\n",
    "ax[0].fill_between(avrg.index, \n",
    "                   avrg[observable] + stdv[observable], \n",
    "                   avrg[observable] - stdv[observable], \n",
    "                   label = label, **{'color' : palette[2], 'alpha' : 0.5})\n",
    "\n",
    "label = r'xylulose 5-phosphate'\n",
    "observable = 'obs_XYLULOSE_5_PHOSPHATE_cyt'\n",
    "ax[1].fill_between(avrg.index, \n",
    "                   avrg[observable] + stdv[observable], \n",
    "                   avrg[observable] - stdv[observable], \n",
    "                   label = label, **{'color' : palette[2], 'alpha' : 0.5})\n",
    "\n",
    "ax[0].set_xlabel('Time [A.U.]')\n",
    "ax[0].set_ylabel('Concentration [A.U.]')\n",
    "ax[0].set_title('Cytolasm')\n",
    "ax[0].set_ylim(top = 200, bottom = 0)\n",
    "\n",
    "ax[1].set_xlabel('Time [A.U.]')\n",
    "ax[1].set_title('Cytoplasm')\n",
    "ax[1].set_ylim(top = 200, bottom = 0)\n",
    "\n",
    "ax[0].legend(frameon = False)\n",
    "ax[1].legend(frameon = False)\n",
    "\n",
    "seaborn.despine()\n",
    "plt.savefig('model.png', format = 'png', bbox_inches = 'tight', dpi = 300)\n",
    "plt.show()"
   ]
  }
 ],
 "metadata": {
  "kernelspec": {
   "display_name": "Python 3",
   "language": "python",
   "name": "python3"
  },
  "language_info": {
   "codemirror_mode": {
    "name": "ipython",
    "version": 3
   },
   "file_extension": ".py",
   "mimetype": "text/x-python",
   "name": "python",
   "nbconvert_exporter": "python",
   "pygments_lexer": "ipython3",
   "version": "3.6.9"
  }
 },
 "nbformat": 4,
 "nbformat_minor": 2
}
